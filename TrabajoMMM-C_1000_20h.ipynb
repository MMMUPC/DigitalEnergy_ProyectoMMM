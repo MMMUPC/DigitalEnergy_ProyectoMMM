{
 "cells": [
  {
   "cell_type": "markdown",
   "id": "a8fcd987",
   "metadata": {},
   "source": [
    "<img src=\"Figures/top_ML.png\" alt=\"Drawing\" style=\"width: 1000px;\"/>"
   ]
  },
  {
   "cell_type": "markdown",
   "id": "81e86598",
   "metadata": {},
   "source": [
    "# \"Digitalización de una carga doméstica\"\n",
    "\n",
    "## Postítulo \"Digital Energy\", Máster Smart Energy\n",
    "\n",
    "## Módulo: Digitalización de la Energía\n",
    "\n",
    "## Alumno: Max Antonio Missene Montecinos"
   ]
  },
  {
   "cell_type": "markdown",
   "id": "6aa4771d",
   "metadata": {},
   "source": [
    "### Objetivo:\n",
    "\n",
    "#### Monitoreo de una carga doméstica mediante un procesador de datos construido en base a un microcontrolador Arduino.\n",
    "\n",
    "### Pautas generales:\n",
    "\n",
    "1. Descripción de la carga seleccionada para nuestro Proyecto. Modelo, potencia nominal, uso habitual que hacéis de ella, etc.\n",
    "2. Descripción de vuestro montaje: Fotos del montaje con la carga, explicación breve del código para la realización de la medición.\n",
    "3. Análisis preliminar de consumo de la carga: Captura del a corriente instantánea, grabar datos de corriente en RMS y realizar alguna gráfica (Excel mismo) y comentar el consumo observado."
   ]
  },
  {
   "cell_type": "markdown",
   "id": "1aa8be0e",
   "metadata": {},
   "source": [
    "## Generales"
   ]
  },
  {
   "cell_type": "markdown",
   "id": "c429a698",
   "metadata": {},
   "source": [
    "#### El primer paso que se realizará en el desarrollo del presente trabajo, será importar las librerías y funciones de librerías que utilizaremos a lo largo del código."
   ]
  },
  {
   "cell_type": "code",
   "execution_count": 1,
   "id": "571ae1ca",
   "metadata": {},
   "outputs": [],
   "source": [
    "# Librerías usadas\n",
    "\n",
    "import pandas as pd\n",
    "import matplotlib.pyplot as plt\n",
    "import numpy as np\n",
    "import seaborn as sns\n",
    "import datetime\n",
    "from datetime import date, time, datetime, timedelta\n",
    "import warnings\n",
    "warnings.filterwarnings('ignore')"
   ]
  },
  {
   "cell_type": "markdown",
   "id": "98bc077b",
   "metadata": {},
   "source": [
    "#### A continuación, se procederá a importar la base de datos."
   ]
  },
  {
   "cell_type": "code",
   "execution_count": 2,
   "id": "c345e48d",
   "metadata": {},
   "outputs": [],
   "source": [
    "# Generar DataFrame (DF) a partir de base de datos de excel\n",
    "columns=['Fecha','Corriente','Potencia']\n",
    "BD_carga = pd.read_csv('Data/data_1000_C_20h.csv', names=columns)"
   ]
  },
  {
   "cell_type": "markdown",
   "id": "f6fea903",
   "metadata": {},
   "source": [
    "### 1. Entendimiento de los datos, estadística descriptiva y visualizaciones"
   ]
  },
  {
   "cell_type": "markdown",
   "id": "4360cea8",
   "metadata": {},
   "source": [
    "#### En primera instancia, se determinará el número de dimensiones que posee la base de datos."
   ]
  },
  {
   "cell_type": "code",
   "execution_count": 3,
   "id": "04285cb4",
   "metadata": {},
   "outputs": [
    {
     "data": {
      "text/plain": [
       "(248, 3)"
      ]
     },
     "execution_count": 3,
     "metadata": {},
     "output_type": "execute_result"
    }
   ],
   "source": [
    "# Se procederá a conocer las dimensiones del DF con la función \"shape\".\n",
    "BD_carga.shape"
   ]
  },
  {
   "cell_type": "markdown",
   "id": "bc050715",
   "metadata": {},
   "source": [
    "#### Es posible notar que el DataFrame contine 3 columnas y 248 filas. "
   ]
  },
  {
   "cell_type": "markdown",
   "id": "12595815",
   "metadata": {},
   "source": [
    "#### Así, se desplegaran las primeras filas del dataframe, para examinar de forma preliminar los datos."
   ]
  },
  {
   "cell_type": "code",
   "execution_count": 4,
   "id": "a96185ac",
   "metadata": {},
   "outputs": [
    {
     "data": {
      "text/html": [
       "<div>\n",
       "<style scoped>\n",
       "    .dataframe tbody tr th:only-of-type {\n",
       "        vertical-align: middle;\n",
       "    }\n",
       "\n",
       "    .dataframe tbody tr th {\n",
       "        vertical-align: top;\n",
       "    }\n",
       "\n",
       "    .dataframe thead th {\n",
       "        text-align: right;\n",
       "    }\n",
       "</style>\n",
       "<table border=\"1\" class=\"dataframe\">\n",
       "  <thead>\n",
       "    <tr style=\"text-align: right;\">\n",
       "      <th></th>\n",
       "      <th>Fecha</th>\n",
       "      <th>Corriente</th>\n",
       "      <th>Potencia</th>\n",
       "    </tr>\n",
       "  </thead>\n",
       "  <tbody>\n",
       "    <tr>\n",
       "      <th>0</th>\n",
       "      <td>2022-06-07 20:31:46.393620</td>\n",
       "      <td>0.22</td>\n",
       "      <td>50.49</td>\n",
       "    </tr>\n",
       "    <tr>\n",
       "      <th>1</th>\n",
       "      <td>2022-06-07 20:31:47.396596</td>\n",
       "      <td>0.21</td>\n",
       "      <td>47.28</td>\n",
       "    </tr>\n",
       "    <tr>\n",
       "      <th>2</th>\n",
       "      <td>2022-06-07 20:31:48.400759</td>\n",
       "      <td>0.22</td>\n",
       "      <td>49.72</td>\n",
       "    </tr>\n",
       "    <tr>\n",
       "      <th>3</th>\n",
       "      <td>2022-06-07 20:31:49.400014</td>\n",
       "      <td>0.22</td>\n",
       "      <td>51.09</td>\n",
       "    </tr>\n",
       "    <tr>\n",
       "      <th>4</th>\n",
       "      <td>2022-06-07 20:31:50.403693</td>\n",
       "      <td>0.21</td>\n",
       "      <td>48.74</td>\n",
       "    </tr>\n",
       "  </tbody>\n",
       "</table>\n",
       "</div>"
      ],
      "text/plain": [
       "                        Fecha  Corriente  Potencia\n",
       "0  2022-06-07 20:31:46.393620       0.22     50.49\n",
       "1  2022-06-07 20:31:47.396596       0.21     47.28\n",
       "2  2022-06-07 20:31:48.400759       0.22     49.72\n",
       "3  2022-06-07 20:31:49.400014       0.22     51.09\n",
       "4  2022-06-07 20:31:50.403693       0.21     48.74"
      ]
     },
     "execution_count": 4,
     "metadata": {},
     "output_type": "execute_result"
    }
   ],
   "source": [
    "# Desplegar primeras 5 filas del DF a partir de la función \"head\".\n",
    "BD_carga.head()"
   ]
  },
  {
   "cell_type": "markdown",
   "id": "46f013f8",
   "metadata": {},
   "source": [
    "#### De manera análoga, se desplegaran las primeras últimas filas del dataframe, para examinar de forma preliminar los datos."
   ]
  },
  {
   "cell_type": "code",
   "execution_count": 5,
   "id": "27cdd889",
   "metadata": {},
   "outputs": [
    {
     "data": {
      "text/html": [
       "<div>\n",
       "<style scoped>\n",
       "    .dataframe tbody tr th:only-of-type {\n",
       "        vertical-align: middle;\n",
       "    }\n",
       "\n",
       "    .dataframe tbody tr th {\n",
       "        vertical-align: top;\n",
       "    }\n",
       "\n",
       "    .dataframe thead th {\n",
       "        text-align: right;\n",
       "    }\n",
       "</style>\n",
       "<table border=\"1\" class=\"dataframe\">\n",
       "  <thead>\n",
       "    <tr style=\"text-align: right;\">\n",
       "      <th></th>\n",
       "      <th>Fecha</th>\n",
       "      <th>Corriente</th>\n",
       "      <th>Potencia</th>\n",
       "    </tr>\n",
       "  </thead>\n",
       "  <tbody>\n",
       "    <tr>\n",
       "      <th>243</th>\n",
       "      <td>2022-06-07 20:35:49.937707</td>\n",
       "      <td>0.22</td>\n",
       "      <td>49.46</td>\n",
       "    </tr>\n",
       "    <tr>\n",
       "      <th>244</th>\n",
       "      <td>2022-06-07 20:35:50.940709</td>\n",
       "      <td>0.21</td>\n",
       "      <td>48.24</td>\n",
       "    </tr>\n",
       "    <tr>\n",
       "      <th>245</th>\n",
       "      <td>2022-06-07 20:35:51.943865</td>\n",
       "      <td>0.22</td>\n",
       "      <td>50.15</td>\n",
       "    </tr>\n",
       "    <tr>\n",
       "      <th>246</th>\n",
       "      <td>2022-06-07 20:35:52.943749</td>\n",
       "      <td>0.22</td>\n",
       "      <td>50.07</td>\n",
       "    </tr>\n",
       "    <tr>\n",
       "      <th>247</th>\n",
       "      <td>2022-06-07 20:35:53.946841</td>\n",
       "      <td>0.22</td>\n",
       "      <td>49.55</td>\n",
       "    </tr>\n",
       "  </tbody>\n",
       "</table>\n",
       "</div>"
      ],
      "text/plain": [
       "                          Fecha  Corriente  Potencia\n",
       "243  2022-06-07 20:35:49.937707       0.22     49.46\n",
       "244  2022-06-07 20:35:50.940709       0.21     48.24\n",
       "245  2022-06-07 20:35:51.943865       0.22     50.15\n",
       "246  2022-06-07 20:35:52.943749       0.22     50.07\n",
       "247  2022-06-07 20:35:53.946841       0.22     49.55"
      ]
     },
     "execution_count": 5,
     "metadata": {},
     "output_type": "execute_result"
    }
   ],
   "source": [
    "# Desplegar última 5 filas del DF a partir de la función \"tail\".\n",
    "BD_carga.tail()"
   ]
  },
  {
   "cell_type": "code",
   "execution_count": 6,
   "id": "d3ce6dbc",
   "metadata": {},
   "outputs": [
    {
     "data": {
      "text/plain": [
       "Fecha         object\n",
       "Corriente    float64\n",
       "Potencia     float64\n",
       "dtype: object"
      ]
     },
     "execution_count": 6,
     "metadata": {},
     "output_type": "execute_result"
    }
   ],
   "source": [
    "# Desplegar última 5 filas del DF a partir de la función \"tail\".\n",
    "BD_carga.dtypes"
   ]
  },
  {
   "cell_type": "markdown",
   "id": "581ce836",
   "metadata": {},
   "source": [
    "#### Ya pudiendo mirar el contenido del dataframe de manera general, se realizará el cálculo de valores estadísticos de sus columnas."
   ]
  },
  {
   "cell_type": "code",
   "execution_count": 7,
   "id": "a702d86a",
   "metadata": {},
   "outputs": [
    {
     "data": {
      "text/plain": [
       "Fecha        datetime64[ns]\n",
       "Corriente           float64\n",
       "Potencia            float64\n",
       "dtype: object"
      ]
     },
     "execution_count": 7,
     "metadata": {},
     "output_type": "execute_result"
    }
   ],
   "source": [
    "# Desplegar última 5 filas del DF a partir de la función \"tail\".\n",
    "BD_carga['Fecha']=pd.to_datetime(BD_carga['Fecha'])\n",
    "BD_carga.dtypes\n"
   ]
  },
  {
   "cell_type": "code",
   "execution_count": 8,
   "id": "669189b6",
   "metadata": {},
   "outputs": [
    {
     "data": {
      "text/html": [
       "<div>\n",
       "<style scoped>\n",
       "    .dataframe tbody tr th:only-of-type {\n",
       "        vertical-align: middle;\n",
       "    }\n",
       "\n",
       "    .dataframe tbody tr th {\n",
       "        vertical-align: top;\n",
       "    }\n",
       "\n",
       "    .dataframe thead th {\n",
       "        text-align: right;\n",
       "    }\n",
       "</style>\n",
       "<table border=\"1\" class=\"dataframe\">\n",
       "  <thead>\n",
       "    <tr style=\"text-align: right;\">\n",
       "      <th></th>\n",
       "      <th>Corriente</th>\n",
       "      <th>Potencia</th>\n",
       "    </tr>\n",
       "  </thead>\n",
       "  <tbody>\n",
       "    <tr>\n",
       "      <th>count</th>\n",
       "      <td>248.000000</td>\n",
       "      <td>248.000000</td>\n",
       "    </tr>\n",
       "    <tr>\n",
       "      <th>mean</th>\n",
       "      <td>6.071815</td>\n",
       "      <td>1396.411008</td>\n",
       "    </tr>\n",
       "    <tr>\n",
       "      <th>std</th>\n",
       "      <td>1.276556</td>\n",
       "      <td>293.655071</td>\n",
       "    </tr>\n",
       "    <tr>\n",
       "      <th>min</th>\n",
       "      <td>0.210000</td>\n",
       "      <td>47.280000</td>\n",
       "    </tr>\n",
       "    <tr>\n",
       "      <th>25%</th>\n",
       "      <td>6.340000</td>\n",
       "      <td>1458.820000</td>\n",
       "    </tr>\n",
       "    <tr>\n",
       "      <th>50%</th>\n",
       "      <td>6.350000</td>\n",
       "      <td>1460.940000</td>\n",
       "    </tr>\n",
       "    <tr>\n",
       "      <th>75%</th>\n",
       "      <td>6.360000</td>\n",
       "      <td>1462.822500</td>\n",
       "    </tr>\n",
       "    <tr>\n",
       "      <th>max</th>\n",
       "      <td>6.530000</td>\n",
       "      <td>1501.270000</td>\n",
       "    </tr>\n",
       "  </tbody>\n",
       "</table>\n",
       "</div>"
      ],
      "text/plain": [
       "        Corriente     Potencia\n",
       "count  248.000000   248.000000\n",
       "mean     6.071815  1396.411008\n",
       "std      1.276556   293.655071\n",
       "min      0.210000    47.280000\n",
       "25%      6.340000  1458.820000\n",
       "50%      6.350000  1460.940000\n",
       "75%      6.360000  1462.822500\n",
       "max      6.530000  1501.270000"
      ]
     },
     "execution_count": 8,
     "metadata": {},
     "output_type": "execute_result"
    }
   ],
   "source": [
    "# Se aplica la función \"describe\" al dataframe, el cual calculará algunos parámetros estadísticos a cada columna.\n",
    "BD_carga.describe()"
   ]
  },
  {
   "cell_type": "code",
   "execution_count": 9,
   "id": "7451fe84",
   "metadata": {},
   "outputs": [
    {
     "data": {
      "text/plain": [
       "Fecha        0\n",
       "Corriente    0\n",
       "Potencia     0\n",
       "dtype: int64"
      ]
     },
     "execution_count": 9,
     "metadata": {},
     "output_type": "execute_result"
    }
   ],
   "source": [
    "BD_carga.isna().sum()"
   ]
  },
  {
   "cell_type": "code",
   "execution_count": 11,
   "id": "428d92ac",
   "metadata": {},
   "outputs": [],
   "source": [
    "BD_carga['Energy_kWh']=0.0\n",
    "BD_carga['time_dif']=0.0\n",
    "BD_carga['cum_energy_kwh']=0.0\n",
    "longitud=len(BD_carga['Energy_kWh'])\n",
    "\n",
    "for x in range(0, longitud):\n",
    " if BD_carga['Corriente'][x]<0.0:\n",
    "        BD_carga.at[x, 'Corriente']=0.0\n",
    " if BD_carga['Potencia'][x]<0.0:\n",
    "        BD_carga.at[x, 'Potencia']=0.0\n",
    "for x in range(1, longitud):\n",
    "    BD_carga.at[x, 'Energy_kWh']=BD_carga['Potencia'][x]*((BD_carga['Fecha'][x]-BD_carga['Fecha'][x-1]).total_seconds()/3600000)\n",
    "    BD_carga.at[x, 'time_dif']=(BD_carga['Fecha'][x]-BD_carga['Fecha'][x-1]).total_seconds()\n",
    "    BD_carga.at[x, 'cum_energy_kwh']=BD_carga['cum_energy_kwh'][x-1]+BD_carga['Energy_kWh'][x]\n",
    "    "
   ]
  },
  {
   "cell_type": "code",
   "execution_count": 12,
   "id": "97c9a673",
   "metadata": {},
   "outputs": [
    {
     "data": {
      "text/html": [
       "<div>\n",
       "<style scoped>\n",
       "    .dataframe tbody tr th:only-of-type {\n",
       "        vertical-align: middle;\n",
       "    }\n",
       "\n",
       "    .dataframe tbody tr th {\n",
       "        vertical-align: top;\n",
       "    }\n",
       "\n",
       "    .dataframe thead th {\n",
       "        text-align: right;\n",
       "    }\n",
       "</style>\n",
       "<table border=\"1\" class=\"dataframe\">\n",
       "  <thead>\n",
       "    <tr style=\"text-align: right;\">\n",
       "      <th></th>\n",
       "      <th>Fecha</th>\n",
       "      <th>Corriente</th>\n",
       "      <th>Potencia</th>\n",
       "      <th>Energy_kWh</th>\n",
       "      <th>time_dif</th>\n",
       "      <th>cum_energy_kwh</th>\n",
       "    </tr>\n",
       "  </thead>\n",
       "  <tbody>\n",
       "    <tr>\n",
       "      <th>0</th>\n",
       "      <td>2022-06-07 20:31:46.393620</td>\n",
       "      <td>0.22</td>\n",
       "      <td>50.49</td>\n",
       "      <td>0.000000</td>\n",
       "      <td>0.000000</td>\n",
       "      <td>0.000000</td>\n",
       "    </tr>\n",
       "    <tr>\n",
       "      <th>1</th>\n",
       "      <td>2022-06-07 20:31:47.396596</td>\n",
       "      <td>0.21</td>\n",
       "      <td>47.28</td>\n",
       "      <td>0.000013</td>\n",
       "      <td>1.002976</td>\n",
       "      <td>0.000013</td>\n",
       "    </tr>\n",
       "    <tr>\n",
       "      <th>2</th>\n",
       "      <td>2022-06-07 20:31:48.400759</td>\n",
       "      <td>0.22</td>\n",
       "      <td>49.72</td>\n",
       "      <td>0.000014</td>\n",
       "      <td>1.004163</td>\n",
       "      <td>0.000027</td>\n",
       "    </tr>\n",
       "    <tr>\n",
       "      <th>3</th>\n",
       "      <td>2022-06-07 20:31:49.400014</td>\n",
       "      <td>0.22</td>\n",
       "      <td>51.09</td>\n",
       "      <td>0.000014</td>\n",
       "      <td>0.999255</td>\n",
       "      <td>0.000041</td>\n",
       "    </tr>\n",
       "    <tr>\n",
       "      <th>4</th>\n",
       "      <td>2022-06-07 20:31:50.403693</td>\n",
       "      <td>0.21</td>\n",
       "      <td>48.74</td>\n",
       "      <td>0.000014</td>\n",
       "      <td>1.003679</td>\n",
       "      <td>0.000055</td>\n",
       "    </tr>\n",
       "  </tbody>\n",
       "</table>\n",
       "</div>"
      ],
      "text/plain": [
       "                       Fecha  Corriente  Potencia  Energy_kWh  time_dif  \\\n",
       "0 2022-06-07 20:31:46.393620       0.22     50.49    0.000000  0.000000   \n",
       "1 2022-06-07 20:31:47.396596       0.21     47.28    0.000013  1.002976   \n",
       "2 2022-06-07 20:31:48.400759       0.22     49.72    0.000014  1.004163   \n",
       "3 2022-06-07 20:31:49.400014       0.22     51.09    0.000014  0.999255   \n",
       "4 2022-06-07 20:31:50.403693       0.21     48.74    0.000014  1.003679   \n",
       "\n",
       "   cum_energy_kwh  \n",
       "0        0.000000  \n",
       "1        0.000013  \n",
       "2        0.000027  \n",
       "3        0.000041  \n",
       "4        0.000055  "
      ]
     },
     "execution_count": 12,
     "metadata": {},
     "output_type": "execute_result"
    }
   ],
   "source": [
    "BD_carga.head()"
   ]
  },
  {
   "cell_type": "code",
   "execution_count": 13,
   "id": "1d113be0",
   "metadata": {},
   "outputs": [
    {
     "data": {
      "text/html": [
       "<div>\n",
       "<style scoped>\n",
       "    .dataframe tbody tr th:only-of-type {\n",
       "        vertical-align: middle;\n",
       "    }\n",
       "\n",
       "    .dataframe tbody tr th {\n",
       "        vertical-align: top;\n",
       "    }\n",
       "\n",
       "    .dataframe thead th {\n",
       "        text-align: right;\n",
       "    }\n",
       "</style>\n",
       "<table border=\"1\" class=\"dataframe\">\n",
       "  <thead>\n",
       "    <tr style=\"text-align: right;\">\n",
       "      <th></th>\n",
       "      <th>Fecha</th>\n",
       "      <th>Corriente</th>\n",
       "      <th>Potencia</th>\n",
       "      <th>Energy_kWh</th>\n",
       "      <th>time_dif</th>\n",
       "      <th>cum_energy_kwh</th>\n",
       "    </tr>\n",
       "  </thead>\n",
       "  <tbody>\n",
       "    <tr>\n",
       "      <th>243</th>\n",
       "      <td>2022-06-07 20:35:49.937707</td>\n",
       "      <td>0.22</td>\n",
       "      <td>49.46</td>\n",
       "      <td>0.000014</td>\n",
       "      <td>0.999635</td>\n",
       "      <td>0.096343</td>\n",
       "    </tr>\n",
       "    <tr>\n",
       "      <th>244</th>\n",
       "      <td>2022-06-07 20:35:50.940709</td>\n",
       "      <td>0.21</td>\n",
       "      <td>48.24</td>\n",
       "      <td>0.000013</td>\n",
       "      <td>1.003002</td>\n",
       "      <td>0.096357</td>\n",
       "    </tr>\n",
       "    <tr>\n",
       "      <th>245</th>\n",
       "      <td>2022-06-07 20:35:51.943865</td>\n",
       "      <td>0.22</td>\n",
       "      <td>50.15</td>\n",
       "      <td>0.000014</td>\n",
       "      <td>1.003156</td>\n",
       "      <td>0.096371</td>\n",
       "    </tr>\n",
       "    <tr>\n",
       "      <th>246</th>\n",
       "      <td>2022-06-07 20:35:52.943749</td>\n",
       "      <td>0.22</td>\n",
       "      <td>50.07</td>\n",
       "      <td>0.000014</td>\n",
       "      <td>0.999884</td>\n",
       "      <td>0.096385</td>\n",
       "    </tr>\n",
       "    <tr>\n",
       "      <th>247</th>\n",
       "      <td>2022-06-07 20:35:53.946841</td>\n",
       "      <td>0.22</td>\n",
       "      <td>49.55</td>\n",
       "      <td>0.000014</td>\n",
       "      <td>1.003092</td>\n",
       "      <td>0.096398</td>\n",
       "    </tr>\n",
       "  </tbody>\n",
       "</table>\n",
       "</div>"
      ],
      "text/plain": [
       "                         Fecha  Corriente  Potencia  Energy_kWh  time_dif  \\\n",
       "243 2022-06-07 20:35:49.937707       0.22     49.46    0.000014  0.999635   \n",
       "244 2022-06-07 20:35:50.940709       0.21     48.24    0.000013  1.003002   \n",
       "245 2022-06-07 20:35:51.943865       0.22     50.15    0.000014  1.003156   \n",
       "246 2022-06-07 20:35:52.943749       0.22     50.07    0.000014  0.999884   \n",
       "247 2022-06-07 20:35:53.946841       0.22     49.55    0.000014  1.003092   \n",
       "\n",
       "     cum_energy_kwh  \n",
       "243        0.096343  \n",
       "244        0.096357  \n",
       "245        0.096371  \n",
       "246        0.096385  \n",
       "247        0.096398  "
      ]
     },
     "execution_count": 13,
     "metadata": {},
     "output_type": "execute_result"
    }
   ],
   "source": [
    "BD_carga.tail()"
   ]
  },
  {
   "cell_type": "code",
   "execution_count": 14,
   "id": "a13f9127",
   "metadata": {},
   "outputs": [
    {
     "data": {
      "text/plain": [
       "0.09639833886305554"
      ]
     },
     "execution_count": 14,
     "metadata": {},
     "output_type": "execute_result"
    }
   ],
   "source": [
    "BD_carga['Energy_kWh'].sum()"
   ]
  },
  {
   "cell_type": "code",
   "execution_count": 15,
   "id": "bbb946ae",
   "metadata": {},
   "outputs": [
    {
     "data": {
      "text/plain": [
       "0.0687647836111111"
      ]
     },
     "execution_count": 15,
     "metadata": {},
     "output_type": "execute_result"
    }
   ],
   "source": [
    "((BD_carga['time_dif'].sum())/60)/60"
   ]
  },
  {
   "cell_type": "code",
   "execution_count": 18,
   "id": "e1cea20e",
   "metadata": {},
   "outputs": [
    {
     "data": {
      "text/html": [
       "        <script type=\"text/javascript\">\n",
       "        window.PlotlyConfig = {MathJaxConfig: 'local'};\n",
       "        if (window.MathJax && window.MathJax.Hub && window.MathJax.Hub.Config) {window.MathJax.Hub.Config({SVG: {font: \"STIX-Web\"}});}\n",
       "        if (typeof require !== 'undefined') {\n",
       "        require.undef(\"plotly\");\n",
       "        requirejs.config({\n",
       "            paths: {\n",
       "                'plotly': ['https://cdn.plot.ly/plotly-2.12.1.min']\n",
       "            }\n",
       "        });\n",
       "        require(['plotly'], function(Plotly) {\n",
       "            window._Plotly = Plotly;\n",
       "        });\n",
       "        }\n",
       "        </script>\n",
       "        "
      ]
     },
     "metadata": {},
     "output_type": "display_data"
    }
   ],
   "source": [
    "# conda install -c plotly plotly\n",
    "import plotly.offline as py;\n",
    "from plotly import tools;\n",
    "import plotly.graph_objs as go;\n",
    "from ipywidgets import widgets;\n",
    "from ipywidgets import interact;\n",
    "import warnings\n",
    "warnings.filterwarnings('ignore')\n",
    "py.init_notebook_mode(connected= True)"
   ]
  },
  {
   "cell_type": "code",
   "execution_count": 20,
   "id": "8d0a8598",
   "metadata": {},
   "outputs": [
    {
     "data": {
      "application/vnd.plotly.v1+json": {
       "config": {
        "plotlyServerURL": "https://plot.ly"
       },
       "data": [
        {
         "name": "Power",
         "type": "scatter",
         "x": [
          "2022-06-07T20:31:46.393620",
          "2022-06-07T20:31:47.396596",
          "2022-06-07T20:31:48.400759",
          "2022-06-07T20:31:49.400014",
          "2022-06-07T20:31:50.403693",
          "2022-06-07T20:31:51.406635",
          "2022-06-07T20:31:52.406108",
          "2022-06-07T20:31:53.409527",
          "2022-06-07T20:31:54.412938",
          "2022-06-07T20:31:55.416141",
          "2022-06-07T20:31:56.415235",
          "2022-06-07T20:31:57.418945",
          "2022-06-07T20:31:58.422247",
          "2022-06-07T20:31:59.426068",
          "2022-06-07T20:32:00.424900",
          "2022-06-07T20:32:01.428792",
          "2022-06-07T20:32:02.431736",
          "2022-06-07T20:32:03.435168",
          "2022-06-07T20:32:04.434608",
          "2022-06-07T20:32:05.437898",
          "2022-06-07T20:32:06.441590",
          "2022-06-07T20:32:07.444968",
          "2022-06-07T20:32:08.445257",
          "2022-06-07T20:32:09.447645",
          "2022-06-07T20:32:10.451571",
          "2022-06-07T20:32:11.454937",
          "2022-06-07T20:32:12.454315",
          "2022-06-07T20:32:13.456964",
          "2022-06-07T20:32:14.460892",
          "2022-06-07T20:32:15.460844",
          "2022-06-07T20:32:16.464043",
          "2022-06-07T20:32:17.466963",
          "2022-06-07T20:32:18.470800",
          "2022-06-07T20:32:19.470183",
          "2022-06-07T20:32:20.473083",
          "2022-06-07T20:32:21.477723",
          "2022-06-07T20:32:22.480154",
          "2022-06-07T20:32:23.479972",
          "2022-06-07T20:32:24.482586",
          "2022-06-07T20:32:25.486383",
          "2022-06-07T20:32:26.485414",
          "2022-06-07T20:32:27.489657",
          "2022-06-07T20:32:28.492721",
          "2022-06-07T20:32:29.495596",
          "2022-06-07T20:32:30.495044",
          "2022-06-07T20:32:31.499529",
          "2022-06-07T20:32:32.502454",
          "2022-06-07T20:32:33.505794",
          "2022-06-07T20:32:34.505335",
          "2022-06-07T20:32:35.508452",
          "2022-06-07T20:32:36.512222",
          "2022-06-07T20:32:37.511655",
          "2022-06-07T20:32:38.514380",
          "2022-06-07T20:32:39.517908",
          "2022-06-07T20:32:40.517412",
          "2022-06-07T20:32:41.520881",
          "2022-06-07T20:32:42.524433",
          "2022-06-07T20:32:43.527225",
          "2022-06-07T20:32:44.526824",
          "2022-06-07T20:32:45.530243",
          "2022-06-07T20:32:46.533937",
          "2022-06-07T20:32:47.533587",
          "2022-06-07T20:32:48.537402",
          "2022-06-07T20:32:49.540197",
          "2022-06-07T20:32:50.543648",
          "2022-06-07T20:32:51.543063",
          "2022-06-07T20:32:52.546241",
          "2022-06-07T20:32:53.550221",
          "2022-06-07T20:32:54.549238",
          "2022-06-07T20:32:55.552505",
          "2022-06-07T20:32:56.557266",
          "2022-06-07T20:32:57.559428",
          "2022-06-07T20:32:58.559298",
          "2022-06-07T20:32:59.562168",
          "2022-06-07T20:33:00.565021",
          "2022-06-07T20:33:01.565074",
          "2022-06-07T20:33:02.568917",
          "2022-06-07T20:33:03.571535",
          "2022-06-07T20:33:04.575633",
          "2022-06-07T20:33:05.574901",
          "2022-06-07T20:33:06.578051",
          "2022-06-07T20:33:07.581044",
          "2022-06-07T20:33:08.580776",
          "2022-06-07T20:33:09.584753",
          "2022-06-07T20:33:10.587917",
          "2022-06-07T20:33:11.587298",
          "2022-06-07T20:33:12.590753",
          "2022-06-07T20:33:13.594025",
          "2022-06-07T20:33:14.598390",
          "2022-06-07T20:33:15.597693",
          "2022-06-07T20:33:16.600127",
          "2022-06-07T20:33:17.604031",
          "2022-06-07T20:33:18.603300",
          "2022-06-07T20:33:19.606533",
          "2022-06-07T20:33:20.610044",
          "2022-06-07T20:33:21.613482",
          "2022-06-07T20:33:22.612625",
          "2022-06-07T20:33:23.615625",
          "2022-06-07T20:33:24.619948",
          "2022-06-07T20:33:25.618639",
          "2022-06-07T20:33:26.622680",
          "2022-06-07T20:33:27.625783",
          "2022-06-07T20:33:28.625625",
          "2022-06-07T20:33:29.628983",
          "2022-06-07T20:33:30.632158",
          "2022-06-07T20:33:31.634984",
          "2022-06-07T20:33:32.635042",
          "2022-06-07T20:33:33.638185",
          "2022-06-07T20:33:34.641969",
          "2022-06-07T20:33:35.645151",
          "2022-06-07T20:33:36.644512",
          "2022-06-07T20:33:37.647629",
          "2022-06-07T20:33:38.651180",
          "2022-06-07T20:33:39.650910",
          "2022-06-07T20:33:40.654122",
          "2022-06-07T20:33:41.657294",
          "2022-06-07T20:33:42.656928",
          "2022-06-07T20:33:43.660960",
          "2022-06-07T20:33:44.663804",
          "2022-06-07T20:33:45.663149",
          "2022-06-07T20:33:46.666682",
          "2022-06-07T20:33:47.670170",
          "2022-06-07T20:33:48.672779",
          "2022-06-07T20:33:49.672733",
          "2022-06-07T20:33:50.677145",
          "2022-06-07T20:33:51.679663",
          "2022-06-07T20:33:52.678698",
          "2022-06-07T20:33:53.682986",
          "2022-06-07T20:33:54.685736",
          "2022-06-07T20:33:55.685763",
          "2022-06-07T20:33:56.688623",
          "2022-06-07T20:33:57.692527",
          "2022-06-07T20:33:58.692286",
          "2022-06-07T20:33:59.694544",
          "2022-06-07T20:34:00.697850",
          "2022-06-07T20:34:01.702039",
          "2022-06-07T20:34:02.701323",
          "2022-06-07T20:34:03.704037",
          "2022-06-07T20:34:04.707946",
          "2022-06-07T20:34:05.707629",
          "2022-06-07T20:34:06.710510",
          "2022-06-07T20:34:07.713656",
          "2022-06-07T20:34:08.712987",
          "2022-06-07T20:34:09.716547",
          "2022-06-07T20:34:10.720600",
          "2022-06-07T20:34:11.719711",
          "2022-06-07T20:34:12.723146",
          "2022-06-07T20:34:13.726607",
          "2022-06-07T20:34:14.729755",
          "2022-06-07T20:34:15.729236",
          "2022-06-07T20:34:16.732782",
          "2022-06-07T20:34:17.735900",
          "2022-06-07T20:34:18.735714",
          "2022-06-07T20:34:19.738703",
          "2022-06-07T20:34:20.742666",
          "2022-06-07T20:34:21.742076",
          "2022-06-07T20:34:22.745597",
          "2022-06-07T20:34:23.748000",
          "2022-06-07T20:34:24.747644",
          "2022-06-07T20:34:25.751316",
          "2022-06-07T20:34:26.755028",
          "2022-06-07T20:34:27.757566",
          "2022-06-07T20:34:28.757496",
          "2022-06-07T20:34:29.761344",
          "2022-06-07T20:34:30.764303",
          "2022-06-07T20:34:31.763944",
          "2022-06-07T20:34:32.767152",
          "2022-06-07T20:34:33.770601",
          "2022-06-07T20:34:34.769763",
          "2022-06-07T20:34:35.772876",
          "2022-06-07T20:34:36.777516",
          "2022-06-07T20:34:37.780712",
          "2022-06-07T20:34:38.779693",
          "2022-06-07T20:34:39.783470",
          "2022-06-07T20:34:40.786465",
          "2022-06-07T20:34:41.785991",
          "2022-06-07T20:34:42.788775",
          "2022-06-07T20:34:43.792634",
          "2022-06-07T20:34:44.792001",
          "2022-06-07T20:34:45.795788",
          "2022-06-07T20:34:46.798934",
          "2022-06-07T20:34:47.802413",
          "2022-06-07T20:34:48.801848",
          "2022-06-07T20:34:49.805247",
          "2022-06-07T20:34:50.809034",
          "2022-06-07T20:34:51.808439",
          "2022-06-07T20:34:52.811020",
          "2022-06-07T20:34:53.814857",
          "2022-06-07T20:34:54.814052",
          "2022-06-07T20:34:55.817600",
          "2022-06-07T20:34:56.821071",
          "2022-06-07T20:34:57.825027",
          "2022-06-07T20:34:58.824284",
          "2022-06-07T20:34:59.827171",
          "2022-06-07T20:35:00.830352",
          "2022-06-07T20:35:01.829939",
          "2022-06-07T20:35:02.833688",
          "2022-06-07T20:35:03.837220",
          "2022-06-07T20:35:04.840391",
          "2022-06-07T20:35:05.839948",
          "2022-06-07T20:35:06.843181",
          "2022-06-07T20:35:07.846634",
          "2022-06-07T20:35:08.845965",
          "2022-06-07T20:35:09.849248",
          "2022-06-07T20:35:10.853023",
          "2022-06-07T20:35:11.852376",
          "2022-06-07T20:35:12.855791",
          "2022-06-07T20:35:13.858783",
          "2022-06-07T20:35:14.862387",
          "2022-06-07T20:35:15.862218",
          "2022-06-07T20:35:16.864886",
          "2022-06-07T20:35:17.868762",
          "2022-06-07T20:35:18.872009",
          "2022-06-07T20:35:19.870912",
          "2022-06-07T20:35:20.874971",
          "2022-06-07T20:35:21.877583",
          "2022-06-07T20:35:22.877763",
          "2022-06-07T20:35:23.880648",
          "2022-06-07T20:35:24.884175",
          "2022-06-07T20:35:25.884056",
          "2022-06-07T20:35:26.887361",
          "2022-06-07T20:35:27.890088",
          "2022-06-07T20:35:28.890686",
          "2022-06-07T20:35:29.893070",
          "2022-06-07T20:35:30.897089",
          "2022-06-07T20:35:31.900512",
          "2022-06-07T20:35:32.899872",
          "2022-06-07T20:35:33.902481",
          "2022-06-07T20:35:34.906730",
          "2022-06-07T20:35:35.909619",
          "2022-06-07T20:35:36.908792",
          "2022-06-07T20:35:37.912749",
          "2022-06-07T20:35:38.916246",
          "2022-06-07T20:35:39.915605",
          "2022-06-07T20:35:40.919384",
          "2022-06-07T20:35:41.922310",
          "2022-06-07T20:35:42.925627",
          "2022-06-07T20:35:43.925298",
          "2022-06-07T20:35:44.928732",
          "2022-06-07T20:35:45.932487",
          "2022-06-07T20:35:46.931342",
          "2022-06-07T20:35:47.934093",
          "2022-06-07T20:35:48.938072",
          "2022-06-07T20:35:49.937707",
          "2022-06-07T20:35:50.940709",
          "2022-06-07T20:35:51.943865",
          "2022-06-07T20:35:52.943749",
          "2022-06-07T20:35:53.946841"
         ],
         "y": [
          50.49,
          47.28,
          49.72,
          51.09,
          48.74,
          648.81,
          1501.27,
          1500.58,
          1497.08,
          1485.7,
          1477.68,
          1479.89,
          1475.44,
          1472.13,
          1471.65,
          1472.02,
          1468.97,
          1462.55,
          1464.69,
          1463.69,
          1468.74,
          1464.43,
          1463.05,
          1459.63,
          1462.11,
          1459.68,
          1459.92,
          1461.75,
          1460.55,
          1459.4,
          1462.37,
          1462.47,
          1458.71,
          1458.17,
          1457.05,
          1457.83,
          1460.12,
          1459.98,
          1458.97,
          1461.26,
          1459.65,
          1459.65,
          1460.12,
          1459.23,
          1461.12,
          1461.74,
          1461.36,
          1461.54,
          1460.9,
          1463.33,
          1461.75,
          1460.3,
          1462.64,
          1461.39,
          1464.09,
          1460.12,
          1461.45,
          1461.31,
          1462.83,
          1462.66,
          1464.91,
          1460.43,
          1457.67,
          1455.36,
          1460.17,
          1456.76,
          1456.04,
          1458.82,
          1457.65,
          1460.44,
          1459.72,
          1453.88,
          1455.38,
          1464.47,
          1460.72,
          1463.96,
          1457.8,
          1456.76,
          1462.06,
          1460.87,
          1458.71,
          1459.26,
          1462.48,
          1459.47,
          1462.41,
          1459.34,
          1462.44,
          1461.84,
          1462.82,
          1462.42,
          1464.13,
          1462.4,
          1460.87,
          1465.38,
          1464.9,
          1464.78,
          1462.39,
          1462.65,
          1459.95,
          1464.63,
          1463.06,
          1460.06,
          1463.17,
          1462.23,
          1462.49,
          1463.51,
          1457.65,
          1458.62,
          1461.08,
          1464.41,
          1465.34,
          1469.15,
          1461.4,
          1462.56,
          1465.53,
          1461.51,
          1461.66,
          1463.51,
          1459.35,
          1460.98,
          1459.4,
          1458.59,
          1457.9,
          1457.61,
          1459.22,
          1458.36,
          1458.51,
          1458.55,
          1458.2,
          1454.84,
          1454.26,
          1457.6,
          1461.02,
          1458.55,
          1460.89,
          1461.5,
          1458.98,
          1459.73,
          1459.91,
          1460.61,
          1461.12,
          1457.46,
          1460.66,
          1465.22,
          1458.9,
          1457.91,
          1457.43,
          1456.14,
          1459.84,
          1457.67,
          1456.94,
          1461.8,
          1459.91,
          1456.09,
          1459.57,
          1458.82,
          1458.47,
          1459.29,
          1460.88,
          1464.92,
          1461.79,
          1464.16,
          1457.71,
          1462.02,
          1457.94,
          1458.48,
          1457.2,
          1458.01,
          1461.17,
          1461.25,
          1458.11,
          1458.64,
          1459.46,
          1458.92,
          1461.83,
          1459.53,
          1459.84,
          1460.39,
          1460.82,
          1458.29,
          1459.9,
          1458.4,
          1461.8,
          1463.71,
          1460.56,
          1463.48,
          1459.91,
          1459.45,
          1459.82,
          1460.15,
          1464.44,
          1461.8,
          1464.01,
          1462.21,
          1467.07,
          1461.69,
          1466.7,
          1468.04,
          1465.14,
          1461.5,
          1464.05,
          1462.72,
          1461.95,
          1460.82,
          1458.42,
          1458.04,
          1459.41,
          1461.52,
          1458.68,
          1457.6,
          1463.88,
          1461.91,
          1462.43,
          1463.56,
          1463.83,
          1458.77,
          1460.72,
          1460.53,
          1461.05,
          1463.61,
          1462.9,
          1462.8,
          1461.97,
          1462.99,
          1461.75,
          1459.12,
          1462.12,
          1465.58,
          1460.58,
          1461.77,
          1459.54,
          1463.89,
          1462.06,
          1462.73,
          1464.41,
          1465.2,
          1464.46,
          1465.18,
          1464.41,
          1462.91,
          1463.39,
          1462.46,
          140.88,
          49.46,
          48.24,
          50.15,
          50.07,
          49.55
         ]
        }
       ],
       "layout": {
        "template": {
         "data": {
          "bar": [
           {
            "error_x": {
             "color": "#2a3f5f"
            },
            "error_y": {
             "color": "#2a3f5f"
            },
            "marker": {
             "line": {
              "color": "#E5ECF6",
              "width": 0.5
             },
             "pattern": {
              "fillmode": "overlay",
              "size": 10,
              "solidity": 0.2
             }
            },
            "type": "bar"
           }
          ],
          "barpolar": [
           {
            "marker": {
             "line": {
              "color": "#E5ECF6",
              "width": 0.5
             },
             "pattern": {
              "fillmode": "overlay",
              "size": 10,
              "solidity": 0.2
             }
            },
            "type": "barpolar"
           }
          ],
          "carpet": [
           {
            "aaxis": {
             "endlinecolor": "#2a3f5f",
             "gridcolor": "white",
             "linecolor": "white",
             "minorgridcolor": "white",
             "startlinecolor": "#2a3f5f"
            },
            "baxis": {
             "endlinecolor": "#2a3f5f",
             "gridcolor": "white",
             "linecolor": "white",
             "minorgridcolor": "white",
             "startlinecolor": "#2a3f5f"
            },
            "type": "carpet"
           }
          ],
          "choropleth": [
           {
            "colorbar": {
             "outlinewidth": 0,
             "ticks": ""
            },
            "type": "choropleth"
           }
          ],
          "contour": [
           {
            "colorbar": {
             "outlinewidth": 0,
             "ticks": ""
            },
            "colorscale": [
             [
              0,
              "#0d0887"
             ],
             [
              0.1111111111111111,
              "#46039f"
             ],
             [
              0.2222222222222222,
              "#7201a8"
             ],
             [
              0.3333333333333333,
              "#9c179e"
             ],
             [
              0.4444444444444444,
              "#bd3786"
             ],
             [
              0.5555555555555556,
              "#d8576b"
             ],
             [
              0.6666666666666666,
              "#ed7953"
             ],
             [
              0.7777777777777778,
              "#fb9f3a"
             ],
             [
              0.8888888888888888,
              "#fdca26"
             ],
             [
              1,
              "#f0f921"
             ]
            ],
            "type": "contour"
           }
          ],
          "contourcarpet": [
           {
            "colorbar": {
             "outlinewidth": 0,
             "ticks": ""
            },
            "type": "contourcarpet"
           }
          ],
          "heatmap": [
           {
            "colorbar": {
             "outlinewidth": 0,
             "ticks": ""
            },
            "colorscale": [
             [
              0,
              "#0d0887"
             ],
             [
              0.1111111111111111,
              "#46039f"
             ],
             [
              0.2222222222222222,
              "#7201a8"
             ],
             [
              0.3333333333333333,
              "#9c179e"
             ],
             [
              0.4444444444444444,
              "#bd3786"
             ],
             [
              0.5555555555555556,
              "#d8576b"
             ],
             [
              0.6666666666666666,
              "#ed7953"
             ],
             [
              0.7777777777777778,
              "#fb9f3a"
             ],
             [
              0.8888888888888888,
              "#fdca26"
             ],
             [
              1,
              "#f0f921"
             ]
            ],
            "type": "heatmap"
           }
          ],
          "heatmapgl": [
           {
            "colorbar": {
             "outlinewidth": 0,
             "ticks": ""
            },
            "colorscale": [
             [
              0,
              "#0d0887"
             ],
             [
              0.1111111111111111,
              "#46039f"
             ],
             [
              0.2222222222222222,
              "#7201a8"
             ],
             [
              0.3333333333333333,
              "#9c179e"
             ],
             [
              0.4444444444444444,
              "#bd3786"
             ],
             [
              0.5555555555555556,
              "#d8576b"
             ],
             [
              0.6666666666666666,
              "#ed7953"
             ],
             [
              0.7777777777777778,
              "#fb9f3a"
             ],
             [
              0.8888888888888888,
              "#fdca26"
             ],
             [
              1,
              "#f0f921"
             ]
            ],
            "type": "heatmapgl"
           }
          ],
          "histogram": [
           {
            "marker": {
             "pattern": {
              "fillmode": "overlay",
              "size": 10,
              "solidity": 0.2
             }
            },
            "type": "histogram"
           }
          ],
          "histogram2d": [
           {
            "colorbar": {
             "outlinewidth": 0,
             "ticks": ""
            },
            "colorscale": [
             [
              0,
              "#0d0887"
             ],
             [
              0.1111111111111111,
              "#46039f"
             ],
             [
              0.2222222222222222,
              "#7201a8"
             ],
             [
              0.3333333333333333,
              "#9c179e"
             ],
             [
              0.4444444444444444,
              "#bd3786"
             ],
             [
              0.5555555555555556,
              "#d8576b"
             ],
             [
              0.6666666666666666,
              "#ed7953"
             ],
             [
              0.7777777777777778,
              "#fb9f3a"
             ],
             [
              0.8888888888888888,
              "#fdca26"
             ],
             [
              1,
              "#f0f921"
             ]
            ],
            "type": "histogram2d"
           }
          ],
          "histogram2dcontour": [
           {
            "colorbar": {
             "outlinewidth": 0,
             "ticks": ""
            },
            "colorscale": [
             [
              0,
              "#0d0887"
             ],
             [
              0.1111111111111111,
              "#46039f"
             ],
             [
              0.2222222222222222,
              "#7201a8"
             ],
             [
              0.3333333333333333,
              "#9c179e"
             ],
             [
              0.4444444444444444,
              "#bd3786"
             ],
             [
              0.5555555555555556,
              "#d8576b"
             ],
             [
              0.6666666666666666,
              "#ed7953"
             ],
             [
              0.7777777777777778,
              "#fb9f3a"
             ],
             [
              0.8888888888888888,
              "#fdca26"
             ],
             [
              1,
              "#f0f921"
             ]
            ],
            "type": "histogram2dcontour"
           }
          ],
          "mesh3d": [
           {
            "colorbar": {
             "outlinewidth": 0,
             "ticks": ""
            },
            "type": "mesh3d"
           }
          ],
          "parcoords": [
           {
            "line": {
             "colorbar": {
              "outlinewidth": 0,
              "ticks": ""
             }
            },
            "type": "parcoords"
           }
          ],
          "pie": [
           {
            "automargin": true,
            "type": "pie"
           }
          ],
          "scatter": [
           {
            "fillpattern": {
             "fillmode": "overlay",
             "size": 10,
             "solidity": 0.2
            },
            "type": "scatter"
           }
          ],
          "scatter3d": [
           {
            "line": {
             "colorbar": {
              "outlinewidth": 0,
              "ticks": ""
             }
            },
            "marker": {
             "colorbar": {
              "outlinewidth": 0,
              "ticks": ""
             }
            },
            "type": "scatter3d"
           }
          ],
          "scattercarpet": [
           {
            "marker": {
             "colorbar": {
              "outlinewidth": 0,
              "ticks": ""
             }
            },
            "type": "scattercarpet"
           }
          ],
          "scattergeo": [
           {
            "marker": {
             "colorbar": {
              "outlinewidth": 0,
              "ticks": ""
             }
            },
            "type": "scattergeo"
           }
          ],
          "scattergl": [
           {
            "marker": {
             "colorbar": {
              "outlinewidth": 0,
              "ticks": ""
             }
            },
            "type": "scattergl"
           }
          ],
          "scattermapbox": [
           {
            "marker": {
             "colorbar": {
              "outlinewidth": 0,
              "ticks": ""
             }
            },
            "type": "scattermapbox"
           }
          ],
          "scatterpolar": [
           {
            "marker": {
             "colorbar": {
              "outlinewidth": 0,
              "ticks": ""
             }
            },
            "type": "scatterpolar"
           }
          ],
          "scatterpolargl": [
           {
            "marker": {
             "colorbar": {
              "outlinewidth": 0,
              "ticks": ""
             }
            },
            "type": "scatterpolargl"
           }
          ],
          "scatterternary": [
           {
            "marker": {
             "colorbar": {
              "outlinewidth": 0,
              "ticks": ""
             }
            },
            "type": "scatterternary"
           }
          ],
          "surface": [
           {
            "colorbar": {
             "outlinewidth": 0,
             "ticks": ""
            },
            "colorscale": [
             [
              0,
              "#0d0887"
             ],
             [
              0.1111111111111111,
              "#46039f"
             ],
             [
              0.2222222222222222,
              "#7201a8"
             ],
             [
              0.3333333333333333,
              "#9c179e"
             ],
             [
              0.4444444444444444,
              "#bd3786"
             ],
             [
              0.5555555555555556,
              "#d8576b"
             ],
             [
              0.6666666666666666,
              "#ed7953"
             ],
             [
              0.7777777777777778,
              "#fb9f3a"
             ],
             [
              0.8888888888888888,
              "#fdca26"
             ],
             [
              1,
              "#f0f921"
             ]
            ],
            "type": "surface"
           }
          ],
          "table": [
           {
            "cells": {
             "fill": {
              "color": "#EBF0F8"
             },
             "line": {
              "color": "white"
             }
            },
            "header": {
             "fill": {
              "color": "#C8D4E3"
             },
             "line": {
              "color": "white"
             }
            },
            "type": "table"
           }
          ]
         },
         "layout": {
          "annotationdefaults": {
           "arrowcolor": "#2a3f5f",
           "arrowhead": 0,
           "arrowwidth": 1
          },
          "autotypenumbers": "strict",
          "coloraxis": {
           "colorbar": {
            "outlinewidth": 0,
            "ticks": ""
           }
          },
          "colorscale": {
           "diverging": [
            [
             0,
             "#8e0152"
            ],
            [
             0.1,
             "#c51b7d"
            ],
            [
             0.2,
             "#de77ae"
            ],
            [
             0.3,
             "#f1b6da"
            ],
            [
             0.4,
             "#fde0ef"
            ],
            [
             0.5,
             "#f7f7f7"
            ],
            [
             0.6,
             "#e6f5d0"
            ],
            [
             0.7,
             "#b8e186"
            ],
            [
             0.8,
             "#7fbc41"
            ],
            [
             0.9,
             "#4d9221"
            ],
            [
             1,
             "#276419"
            ]
           ],
           "sequential": [
            [
             0,
             "#0d0887"
            ],
            [
             0.1111111111111111,
             "#46039f"
            ],
            [
             0.2222222222222222,
             "#7201a8"
            ],
            [
             0.3333333333333333,
             "#9c179e"
            ],
            [
             0.4444444444444444,
             "#bd3786"
            ],
            [
             0.5555555555555556,
             "#d8576b"
            ],
            [
             0.6666666666666666,
             "#ed7953"
            ],
            [
             0.7777777777777778,
             "#fb9f3a"
            ],
            [
             0.8888888888888888,
             "#fdca26"
            ],
            [
             1,
             "#f0f921"
            ]
           ],
           "sequentialminus": [
            [
             0,
             "#0d0887"
            ],
            [
             0.1111111111111111,
             "#46039f"
            ],
            [
             0.2222222222222222,
             "#7201a8"
            ],
            [
             0.3333333333333333,
             "#9c179e"
            ],
            [
             0.4444444444444444,
             "#bd3786"
            ],
            [
             0.5555555555555556,
             "#d8576b"
            ],
            [
             0.6666666666666666,
             "#ed7953"
            ],
            [
             0.7777777777777778,
             "#fb9f3a"
            ],
            [
             0.8888888888888888,
             "#fdca26"
            ],
            [
             1,
             "#f0f921"
            ]
           ]
          },
          "colorway": [
           "#636efa",
           "#EF553B",
           "#00cc96",
           "#ab63fa",
           "#FFA15A",
           "#19d3f3",
           "#FF6692",
           "#B6E880",
           "#FF97FF",
           "#FECB52"
          ],
          "font": {
           "color": "#2a3f5f"
          },
          "geo": {
           "bgcolor": "white",
           "lakecolor": "white",
           "landcolor": "#E5ECF6",
           "showlakes": true,
           "showland": true,
           "subunitcolor": "white"
          },
          "hoverlabel": {
           "align": "left"
          },
          "hovermode": "closest",
          "mapbox": {
           "style": "light"
          },
          "paper_bgcolor": "white",
          "plot_bgcolor": "#E5ECF6",
          "polar": {
           "angularaxis": {
            "gridcolor": "white",
            "linecolor": "white",
            "ticks": ""
           },
           "bgcolor": "#E5ECF6",
           "radialaxis": {
            "gridcolor": "white",
            "linecolor": "white",
            "ticks": ""
           }
          },
          "scene": {
           "xaxis": {
            "backgroundcolor": "#E5ECF6",
            "gridcolor": "white",
            "gridwidth": 2,
            "linecolor": "white",
            "showbackground": true,
            "ticks": "",
            "zerolinecolor": "white"
           },
           "yaxis": {
            "backgroundcolor": "#E5ECF6",
            "gridcolor": "white",
            "gridwidth": 2,
            "linecolor": "white",
            "showbackground": true,
            "ticks": "",
            "zerolinecolor": "white"
           },
           "zaxis": {
            "backgroundcolor": "#E5ECF6",
            "gridcolor": "white",
            "gridwidth": 2,
            "linecolor": "white",
            "showbackground": true,
            "ticks": "",
            "zerolinecolor": "white"
           }
          },
          "shapedefaults": {
           "line": {
            "color": "#2a3f5f"
           }
          },
          "ternary": {
           "aaxis": {
            "gridcolor": "white",
            "linecolor": "white",
            "ticks": ""
           },
           "baxis": {
            "gridcolor": "white",
            "linecolor": "white",
            "ticks": ""
           },
           "bgcolor": "#E5ECF6",
           "caxis": {
            "gridcolor": "white",
            "linecolor": "white",
            "ticks": ""
           }
          },
          "title": {
           "x": 0.05
          },
          "xaxis": {
           "automargin": true,
           "gridcolor": "white",
           "linecolor": "white",
           "ticks": "",
           "title": {
            "standoff": 15
           },
           "zerolinecolor": "white",
           "zerolinewidth": 2
          },
          "yaxis": {
           "automargin": true,
           "gridcolor": "white",
           "linecolor": "white",
           "ticks": "",
           "title": {
            "standoff": 15
           },
           "zerolinecolor": "white",
           "zerolinewidth": 2
          }
         }
        },
        "title": {
         "text": "Potencia RMS Hervidor Eléctrico: 20h;AguaNormal;1000ml"
        },
        "xaxis": {
         "title": {
          "text": "Hora"
         }
        },
        "yaxis": {
         "title": {
          "text": "Potencia [W]"
         }
        }
       }
      },
      "text/html": [
       "<div>                            <div id=\"2a51d0c0-af42-41cd-aab7-cdaa4b32546f\" class=\"plotly-graph-div\" style=\"height:525px; width:100%;\"></div>            <script type=\"text/javascript\">                require([\"plotly\"], function(Plotly) {                    window.PLOTLYENV=window.PLOTLYENV || {};                                    if (document.getElementById(\"2a51d0c0-af42-41cd-aab7-cdaa4b32546f\")) {                    Plotly.newPlot(                        \"2a51d0c0-af42-41cd-aab7-cdaa4b32546f\",                        [{\"name\":\"Power\",\"x\":[\"2022-06-07T20:31:46.393620\",\"2022-06-07T20:31:47.396596\",\"2022-06-07T20:31:48.400759\",\"2022-06-07T20:31:49.400014\",\"2022-06-07T20:31:50.403693\",\"2022-06-07T20:31:51.406635\",\"2022-06-07T20:31:52.406108\",\"2022-06-07T20:31:53.409527\",\"2022-06-07T20:31:54.412938\",\"2022-06-07T20:31:55.416141\",\"2022-06-07T20:31:56.415235\",\"2022-06-07T20:31:57.418945\",\"2022-06-07T20:31:58.422247\",\"2022-06-07T20:31:59.426068\",\"2022-06-07T20:32:00.424900\",\"2022-06-07T20:32:01.428792\",\"2022-06-07T20:32:02.431736\",\"2022-06-07T20:32:03.435168\",\"2022-06-07T20:32:04.434608\",\"2022-06-07T20:32:05.437898\",\"2022-06-07T20:32:06.441590\",\"2022-06-07T20:32:07.444968\",\"2022-06-07T20:32:08.445257\",\"2022-06-07T20:32:09.447645\",\"2022-06-07T20:32:10.451571\",\"2022-06-07T20:32:11.454937\",\"2022-06-07T20:32:12.454315\",\"2022-06-07T20:32:13.456964\",\"2022-06-07T20:32:14.460892\",\"2022-06-07T20:32:15.460844\",\"2022-06-07T20:32:16.464043\",\"2022-06-07T20:32:17.466963\",\"2022-06-07T20:32:18.470800\",\"2022-06-07T20:32:19.470183\",\"2022-06-07T20:32:20.473083\",\"2022-06-07T20:32:21.477723\",\"2022-06-07T20:32:22.480154\",\"2022-06-07T20:32:23.479972\",\"2022-06-07T20:32:24.482586\",\"2022-06-07T20:32:25.486383\",\"2022-06-07T20:32:26.485414\",\"2022-06-07T20:32:27.489657\",\"2022-06-07T20:32:28.492721\",\"2022-06-07T20:32:29.495596\",\"2022-06-07T20:32:30.495044\",\"2022-06-07T20:32:31.499529\",\"2022-06-07T20:32:32.502454\",\"2022-06-07T20:32:33.505794\",\"2022-06-07T20:32:34.505335\",\"2022-06-07T20:32:35.508452\",\"2022-06-07T20:32:36.512222\",\"2022-06-07T20:32:37.511655\",\"2022-06-07T20:32:38.514380\",\"2022-06-07T20:32:39.517908\",\"2022-06-07T20:32:40.517412\",\"2022-06-07T20:32:41.520881\",\"2022-06-07T20:32:42.524433\",\"2022-06-07T20:32:43.527225\",\"2022-06-07T20:32:44.526824\",\"2022-06-07T20:32:45.530243\",\"2022-06-07T20:32:46.533937\",\"2022-06-07T20:32:47.533587\",\"2022-06-07T20:32:48.537402\",\"2022-06-07T20:32:49.540197\",\"2022-06-07T20:32:50.543648\",\"2022-06-07T20:32:51.543063\",\"2022-06-07T20:32:52.546241\",\"2022-06-07T20:32:53.550221\",\"2022-06-07T20:32:54.549238\",\"2022-06-07T20:32:55.552505\",\"2022-06-07T20:32:56.557266\",\"2022-06-07T20:32:57.559428\",\"2022-06-07T20:32:58.559298\",\"2022-06-07T20:32:59.562168\",\"2022-06-07T20:33:00.565021\",\"2022-06-07T20:33:01.565074\",\"2022-06-07T20:33:02.568917\",\"2022-06-07T20:33:03.571535\",\"2022-06-07T20:33:04.575633\",\"2022-06-07T20:33:05.574901\",\"2022-06-07T20:33:06.578051\",\"2022-06-07T20:33:07.581044\",\"2022-06-07T20:33:08.580776\",\"2022-06-07T20:33:09.584753\",\"2022-06-07T20:33:10.587917\",\"2022-06-07T20:33:11.587298\",\"2022-06-07T20:33:12.590753\",\"2022-06-07T20:33:13.594025\",\"2022-06-07T20:33:14.598390\",\"2022-06-07T20:33:15.597693\",\"2022-06-07T20:33:16.600127\",\"2022-06-07T20:33:17.604031\",\"2022-06-07T20:33:18.603300\",\"2022-06-07T20:33:19.606533\",\"2022-06-07T20:33:20.610044\",\"2022-06-07T20:33:21.613482\",\"2022-06-07T20:33:22.612625\",\"2022-06-07T20:33:23.615625\",\"2022-06-07T20:33:24.619948\",\"2022-06-07T20:33:25.618639\",\"2022-06-07T20:33:26.622680\",\"2022-06-07T20:33:27.625783\",\"2022-06-07T20:33:28.625625\",\"2022-06-07T20:33:29.628983\",\"2022-06-07T20:33:30.632158\",\"2022-06-07T20:33:31.634984\",\"2022-06-07T20:33:32.635042\",\"2022-06-07T20:33:33.638185\",\"2022-06-07T20:33:34.641969\",\"2022-06-07T20:33:35.645151\",\"2022-06-07T20:33:36.644512\",\"2022-06-07T20:33:37.647629\",\"2022-06-07T20:33:38.651180\",\"2022-06-07T20:33:39.650910\",\"2022-06-07T20:33:40.654122\",\"2022-06-07T20:33:41.657294\",\"2022-06-07T20:33:42.656928\",\"2022-06-07T20:33:43.660960\",\"2022-06-07T20:33:44.663804\",\"2022-06-07T20:33:45.663149\",\"2022-06-07T20:33:46.666682\",\"2022-06-07T20:33:47.670170\",\"2022-06-07T20:33:48.672779\",\"2022-06-07T20:33:49.672733\",\"2022-06-07T20:33:50.677145\",\"2022-06-07T20:33:51.679663\",\"2022-06-07T20:33:52.678698\",\"2022-06-07T20:33:53.682986\",\"2022-06-07T20:33:54.685736\",\"2022-06-07T20:33:55.685763\",\"2022-06-07T20:33:56.688623\",\"2022-06-07T20:33:57.692527\",\"2022-06-07T20:33:58.692286\",\"2022-06-07T20:33:59.694544\",\"2022-06-07T20:34:00.697850\",\"2022-06-07T20:34:01.702039\",\"2022-06-07T20:34:02.701323\",\"2022-06-07T20:34:03.704037\",\"2022-06-07T20:34:04.707946\",\"2022-06-07T20:34:05.707629\",\"2022-06-07T20:34:06.710510\",\"2022-06-07T20:34:07.713656\",\"2022-06-07T20:34:08.712987\",\"2022-06-07T20:34:09.716547\",\"2022-06-07T20:34:10.720600\",\"2022-06-07T20:34:11.719711\",\"2022-06-07T20:34:12.723146\",\"2022-06-07T20:34:13.726607\",\"2022-06-07T20:34:14.729755\",\"2022-06-07T20:34:15.729236\",\"2022-06-07T20:34:16.732782\",\"2022-06-07T20:34:17.735900\",\"2022-06-07T20:34:18.735714\",\"2022-06-07T20:34:19.738703\",\"2022-06-07T20:34:20.742666\",\"2022-06-07T20:34:21.742076\",\"2022-06-07T20:34:22.745597\",\"2022-06-07T20:34:23.748000\",\"2022-06-07T20:34:24.747644\",\"2022-06-07T20:34:25.751316\",\"2022-06-07T20:34:26.755028\",\"2022-06-07T20:34:27.757566\",\"2022-06-07T20:34:28.757496\",\"2022-06-07T20:34:29.761344\",\"2022-06-07T20:34:30.764303\",\"2022-06-07T20:34:31.763944\",\"2022-06-07T20:34:32.767152\",\"2022-06-07T20:34:33.770601\",\"2022-06-07T20:34:34.769763\",\"2022-06-07T20:34:35.772876\",\"2022-06-07T20:34:36.777516\",\"2022-06-07T20:34:37.780712\",\"2022-06-07T20:34:38.779693\",\"2022-06-07T20:34:39.783470\",\"2022-06-07T20:34:40.786465\",\"2022-06-07T20:34:41.785991\",\"2022-06-07T20:34:42.788775\",\"2022-06-07T20:34:43.792634\",\"2022-06-07T20:34:44.792001\",\"2022-06-07T20:34:45.795788\",\"2022-06-07T20:34:46.798934\",\"2022-06-07T20:34:47.802413\",\"2022-06-07T20:34:48.801848\",\"2022-06-07T20:34:49.805247\",\"2022-06-07T20:34:50.809034\",\"2022-06-07T20:34:51.808439\",\"2022-06-07T20:34:52.811020\",\"2022-06-07T20:34:53.814857\",\"2022-06-07T20:34:54.814052\",\"2022-06-07T20:34:55.817600\",\"2022-06-07T20:34:56.821071\",\"2022-06-07T20:34:57.825027\",\"2022-06-07T20:34:58.824284\",\"2022-06-07T20:34:59.827171\",\"2022-06-07T20:35:00.830352\",\"2022-06-07T20:35:01.829939\",\"2022-06-07T20:35:02.833688\",\"2022-06-07T20:35:03.837220\",\"2022-06-07T20:35:04.840391\",\"2022-06-07T20:35:05.839948\",\"2022-06-07T20:35:06.843181\",\"2022-06-07T20:35:07.846634\",\"2022-06-07T20:35:08.845965\",\"2022-06-07T20:35:09.849248\",\"2022-06-07T20:35:10.853023\",\"2022-06-07T20:35:11.852376\",\"2022-06-07T20:35:12.855791\",\"2022-06-07T20:35:13.858783\",\"2022-06-07T20:35:14.862387\",\"2022-06-07T20:35:15.862218\",\"2022-06-07T20:35:16.864886\",\"2022-06-07T20:35:17.868762\",\"2022-06-07T20:35:18.872009\",\"2022-06-07T20:35:19.870912\",\"2022-06-07T20:35:20.874971\",\"2022-06-07T20:35:21.877583\",\"2022-06-07T20:35:22.877763\",\"2022-06-07T20:35:23.880648\",\"2022-06-07T20:35:24.884175\",\"2022-06-07T20:35:25.884056\",\"2022-06-07T20:35:26.887361\",\"2022-06-07T20:35:27.890088\",\"2022-06-07T20:35:28.890686\",\"2022-06-07T20:35:29.893070\",\"2022-06-07T20:35:30.897089\",\"2022-06-07T20:35:31.900512\",\"2022-06-07T20:35:32.899872\",\"2022-06-07T20:35:33.902481\",\"2022-06-07T20:35:34.906730\",\"2022-06-07T20:35:35.909619\",\"2022-06-07T20:35:36.908792\",\"2022-06-07T20:35:37.912749\",\"2022-06-07T20:35:38.916246\",\"2022-06-07T20:35:39.915605\",\"2022-06-07T20:35:40.919384\",\"2022-06-07T20:35:41.922310\",\"2022-06-07T20:35:42.925627\",\"2022-06-07T20:35:43.925298\",\"2022-06-07T20:35:44.928732\",\"2022-06-07T20:35:45.932487\",\"2022-06-07T20:35:46.931342\",\"2022-06-07T20:35:47.934093\",\"2022-06-07T20:35:48.938072\",\"2022-06-07T20:35:49.937707\",\"2022-06-07T20:35:50.940709\",\"2022-06-07T20:35:51.943865\",\"2022-06-07T20:35:52.943749\",\"2022-06-07T20:35:53.946841\"],\"y\":[50.49,47.28,49.72,51.09,48.74,648.81,1501.27,1500.58,1497.08,1485.7,1477.68,1479.89,1475.44,1472.13,1471.65,1472.02,1468.97,1462.55,1464.69,1463.69,1468.74,1464.43,1463.05,1459.63,1462.11,1459.68,1459.92,1461.75,1460.55,1459.4,1462.37,1462.47,1458.71,1458.17,1457.05,1457.83,1460.12,1459.98,1458.97,1461.26,1459.65,1459.65,1460.12,1459.23,1461.12,1461.74,1461.36,1461.54,1460.9,1463.33,1461.75,1460.3,1462.64,1461.39,1464.09,1460.12,1461.45,1461.31,1462.83,1462.66,1464.91,1460.43,1457.67,1455.36,1460.17,1456.76,1456.04,1458.82,1457.65,1460.44,1459.72,1453.88,1455.38,1464.47,1460.72,1463.96,1457.8,1456.76,1462.06,1460.87,1458.71,1459.26,1462.48,1459.47,1462.41,1459.34,1462.44,1461.84,1462.82,1462.42,1464.13,1462.4,1460.87,1465.38,1464.9,1464.78,1462.39,1462.65,1459.95,1464.63,1463.06,1460.06,1463.17,1462.23,1462.49,1463.51,1457.65,1458.62,1461.08,1464.41,1465.34,1469.15,1461.4,1462.56,1465.53,1461.51,1461.66,1463.51,1459.35,1460.98,1459.4,1458.59,1457.9,1457.61,1459.22,1458.36,1458.51,1458.55,1458.2,1454.84,1454.26,1457.6,1461.02,1458.55,1460.89,1461.5,1458.98,1459.73,1459.91,1460.61,1461.12,1457.46,1460.66,1465.22,1458.9,1457.91,1457.43,1456.14,1459.84,1457.67,1456.94,1461.8,1459.91,1456.09,1459.57,1458.82,1458.47,1459.29,1460.88,1464.92,1461.79,1464.16,1457.71,1462.02,1457.94,1458.48,1457.2,1458.01,1461.17,1461.25,1458.11,1458.64,1459.46,1458.92,1461.83,1459.53,1459.84,1460.39,1460.82,1458.29,1459.9,1458.4,1461.8,1463.71,1460.56,1463.48,1459.91,1459.45,1459.82,1460.15,1464.44,1461.8,1464.01,1462.21,1467.07,1461.69,1466.7,1468.04,1465.14,1461.5,1464.05,1462.72,1461.95,1460.82,1458.42,1458.04,1459.41,1461.52,1458.68,1457.6,1463.88,1461.91,1462.43,1463.56,1463.83,1458.77,1460.72,1460.53,1461.05,1463.61,1462.9,1462.8,1461.97,1462.99,1461.75,1459.12,1462.12,1465.58,1460.58,1461.77,1459.54,1463.89,1462.06,1462.73,1464.41,1465.2,1464.46,1465.18,1464.41,1462.91,1463.39,1462.46,140.88,49.46,48.24,50.15,50.07,49.55],\"type\":\"scatter\"}],                        {\"title\":{\"text\":\"Potencia RMS Hervidor El\\u00e9ctrico: 20h;AguaNormal;1000ml\"},\"xaxis\":{\"title\":{\"text\":\"Hora\"}},\"yaxis\":{\"title\":{\"text\":\"Potencia [W]\"}},\"template\":{\"data\":{\"histogram2dcontour\":[{\"type\":\"histogram2dcontour\",\"colorbar\":{\"outlinewidth\":0,\"ticks\":\"\"},\"colorscale\":[[0.0,\"#0d0887\"],[0.1111111111111111,\"#46039f\"],[0.2222222222222222,\"#7201a8\"],[0.3333333333333333,\"#9c179e\"],[0.4444444444444444,\"#bd3786\"],[0.5555555555555556,\"#d8576b\"],[0.6666666666666666,\"#ed7953\"],[0.7777777777777778,\"#fb9f3a\"],[0.8888888888888888,\"#fdca26\"],[1.0,\"#f0f921\"]]}],\"choropleth\":[{\"type\":\"choropleth\",\"colorbar\":{\"outlinewidth\":0,\"ticks\":\"\"}}],\"histogram2d\":[{\"type\":\"histogram2d\",\"colorbar\":{\"outlinewidth\":0,\"ticks\":\"\"},\"colorscale\":[[0.0,\"#0d0887\"],[0.1111111111111111,\"#46039f\"],[0.2222222222222222,\"#7201a8\"],[0.3333333333333333,\"#9c179e\"],[0.4444444444444444,\"#bd3786\"],[0.5555555555555556,\"#d8576b\"],[0.6666666666666666,\"#ed7953\"],[0.7777777777777778,\"#fb9f3a\"],[0.8888888888888888,\"#fdca26\"],[1.0,\"#f0f921\"]]}],\"heatmap\":[{\"type\":\"heatmap\",\"colorbar\":{\"outlinewidth\":0,\"ticks\":\"\"},\"colorscale\":[[0.0,\"#0d0887\"],[0.1111111111111111,\"#46039f\"],[0.2222222222222222,\"#7201a8\"],[0.3333333333333333,\"#9c179e\"],[0.4444444444444444,\"#bd3786\"],[0.5555555555555556,\"#d8576b\"],[0.6666666666666666,\"#ed7953\"],[0.7777777777777778,\"#fb9f3a\"],[0.8888888888888888,\"#fdca26\"],[1.0,\"#f0f921\"]]}],\"heatmapgl\":[{\"type\":\"heatmapgl\",\"colorbar\":{\"outlinewidth\":0,\"ticks\":\"\"},\"colorscale\":[[0.0,\"#0d0887\"],[0.1111111111111111,\"#46039f\"],[0.2222222222222222,\"#7201a8\"],[0.3333333333333333,\"#9c179e\"],[0.4444444444444444,\"#bd3786\"],[0.5555555555555556,\"#d8576b\"],[0.6666666666666666,\"#ed7953\"],[0.7777777777777778,\"#fb9f3a\"],[0.8888888888888888,\"#fdca26\"],[1.0,\"#f0f921\"]]}],\"contourcarpet\":[{\"type\":\"contourcarpet\",\"colorbar\":{\"outlinewidth\":0,\"ticks\":\"\"}}],\"contour\":[{\"type\":\"contour\",\"colorbar\":{\"outlinewidth\":0,\"ticks\":\"\"},\"colorscale\":[[0.0,\"#0d0887\"],[0.1111111111111111,\"#46039f\"],[0.2222222222222222,\"#7201a8\"],[0.3333333333333333,\"#9c179e\"],[0.4444444444444444,\"#bd3786\"],[0.5555555555555556,\"#d8576b\"],[0.6666666666666666,\"#ed7953\"],[0.7777777777777778,\"#fb9f3a\"],[0.8888888888888888,\"#fdca26\"],[1.0,\"#f0f921\"]]}],\"surface\":[{\"type\":\"surface\",\"colorbar\":{\"outlinewidth\":0,\"ticks\":\"\"},\"colorscale\":[[0.0,\"#0d0887\"],[0.1111111111111111,\"#46039f\"],[0.2222222222222222,\"#7201a8\"],[0.3333333333333333,\"#9c179e\"],[0.4444444444444444,\"#bd3786\"],[0.5555555555555556,\"#d8576b\"],[0.6666666666666666,\"#ed7953\"],[0.7777777777777778,\"#fb9f3a\"],[0.8888888888888888,\"#fdca26\"],[1.0,\"#f0f921\"]]}],\"mesh3d\":[{\"type\":\"mesh3d\",\"colorbar\":{\"outlinewidth\":0,\"ticks\":\"\"}}],\"scatter\":[{\"fillpattern\":{\"fillmode\":\"overlay\",\"size\":10,\"solidity\":0.2},\"type\":\"scatter\"}],\"parcoords\":[{\"type\":\"parcoords\",\"line\":{\"colorbar\":{\"outlinewidth\":0,\"ticks\":\"\"}}}],\"scatterpolargl\":[{\"type\":\"scatterpolargl\",\"marker\":{\"colorbar\":{\"outlinewidth\":0,\"ticks\":\"\"}}}],\"bar\":[{\"error_x\":{\"color\":\"#2a3f5f\"},\"error_y\":{\"color\":\"#2a3f5f\"},\"marker\":{\"line\":{\"color\":\"#E5ECF6\",\"width\":0.5},\"pattern\":{\"fillmode\":\"overlay\",\"size\":10,\"solidity\":0.2}},\"type\":\"bar\"}],\"scattergeo\":[{\"type\":\"scattergeo\",\"marker\":{\"colorbar\":{\"outlinewidth\":0,\"ticks\":\"\"}}}],\"scatterpolar\":[{\"type\":\"scatterpolar\",\"marker\":{\"colorbar\":{\"outlinewidth\":0,\"ticks\":\"\"}}}],\"histogram\":[{\"marker\":{\"pattern\":{\"fillmode\":\"overlay\",\"size\":10,\"solidity\":0.2}},\"type\":\"histogram\"}],\"scattergl\":[{\"type\":\"scattergl\",\"marker\":{\"colorbar\":{\"outlinewidth\":0,\"ticks\":\"\"}}}],\"scatter3d\":[{\"type\":\"scatter3d\",\"line\":{\"colorbar\":{\"outlinewidth\":0,\"ticks\":\"\"}},\"marker\":{\"colorbar\":{\"outlinewidth\":0,\"ticks\":\"\"}}}],\"scattermapbox\":[{\"type\":\"scattermapbox\",\"marker\":{\"colorbar\":{\"outlinewidth\":0,\"ticks\":\"\"}}}],\"scatterternary\":[{\"type\":\"scatterternary\",\"marker\":{\"colorbar\":{\"outlinewidth\":0,\"ticks\":\"\"}}}],\"scattercarpet\":[{\"type\":\"scattercarpet\",\"marker\":{\"colorbar\":{\"outlinewidth\":0,\"ticks\":\"\"}}}],\"carpet\":[{\"aaxis\":{\"endlinecolor\":\"#2a3f5f\",\"gridcolor\":\"white\",\"linecolor\":\"white\",\"minorgridcolor\":\"white\",\"startlinecolor\":\"#2a3f5f\"},\"baxis\":{\"endlinecolor\":\"#2a3f5f\",\"gridcolor\":\"white\",\"linecolor\":\"white\",\"minorgridcolor\":\"white\",\"startlinecolor\":\"#2a3f5f\"},\"type\":\"carpet\"}],\"table\":[{\"cells\":{\"fill\":{\"color\":\"#EBF0F8\"},\"line\":{\"color\":\"white\"}},\"header\":{\"fill\":{\"color\":\"#C8D4E3\"},\"line\":{\"color\":\"white\"}},\"type\":\"table\"}],\"barpolar\":[{\"marker\":{\"line\":{\"color\":\"#E5ECF6\",\"width\":0.5},\"pattern\":{\"fillmode\":\"overlay\",\"size\":10,\"solidity\":0.2}},\"type\":\"barpolar\"}],\"pie\":[{\"automargin\":true,\"type\":\"pie\"}]},\"layout\":{\"autotypenumbers\":\"strict\",\"colorway\":[\"#636efa\",\"#EF553B\",\"#00cc96\",\"#ab63fa\",\"#FFA15A\",\"#19d3f3\",\"#FF6692\",\"#B6E880\",\"#FF97FF\",\"#FECB52\"],\"font\":{\"color\":\"#2a3f5f\"},\"hovermode\":\"closest\",\"hoverlabel\":{\"align\":\"left\"},\"paper_bgcolor\":\"white\",\"plot_bgcolor\":\"#E5ECF6\",\"polar\":{\"bgcolor\":\"#E5ECF6\",\"angularaxis\":{\"gridcolor\":\"white\",\"linecolor\":\"white\",\"ticks\":\"\"},\"radialaxis\":{\"gridcolor\":\"white\",\"linecolor\":\"white\",\"ticks\":\"\"}},\"ternary\":{\"bgcolor\":\"#E5ECF6\",\"aaxis\":{\"gridcolor\":\"white\",\"linecolor\":\"white\",\"ticks\":\"\"},\"baxis\":{\"gridcolor\":\"white\",\"linecolor\":\"white\",\"ticks\":\"\"},\"caxis\":{\"gridcolor\":\"white\",\"linecolor\":\"white\",\"ticks\":\"\"}},\"coloraxis\":{\"colorbar\":{\"outlinewidth\":0,\"ticks\":\"\"}},\"colorscale\":{\"sequential\":[[0.0,\"#0d0887\"],[0.1111111111111111,\"#46039f\"],[0.2222222222222222,\"#7201a8\"],[0.3333333333333333,\"#9c179e\"],[0.4444444444444444,\"#bd3786\"],[0.5555555555555556,\"#d8576b\"],[0.6666666666666666,\"#ed7953\"],[0.7777777777777778,\"#fb9f3a\"],[0.8888888888888888,\"#fdca26\"],[1.0,\"#f0f921\"]],\"sequentialminus\":[[0.0,\"#0d0887\"],[0.1111111111111111,\"#46039f\"],[0.2222222222222222,\"#7201a8\"],[0.3333333333333333,\"#9c179e\"],[0.4444444444444444,\"#bd3786\"],[0.5555555555555556,\"#d8576b\"],[0.6666666666666666,\"#ed7953\"],[0.7777777777777778,\"#fb9f3a\"],[0.8888888888888888,\"#fdca26\"],[1.0,\"#f0f921\"]],\"diverging\":[[0,\"#8e0152\"],[0.1,\"#c51b7d\"],[0.2,\"#de77ae\"],[0.3,\"#f1b6da\"],[0.4,\"#fde0ef\"],[0.5,\"#f7f7f7\"],[0.6,\"#e6f5d0\"],[0.7,\"#b8e186\"],[0.8,\"#7fbc41\"],[0.9,\"#4d9221\"],[1,\"#276419\"]]},\"xaxis\":{\"gridcolor\":\"white\",\"linecolor\":\"white\",\"ticks\":\"\",\"title\":{\"standoff\":15},\"zerolinecolor\":\"white\",\"automargin\":true,\"zerolinewidth\":2},\"yaxis\":{\"gridcolor\":\"white\",\"linecolor\":\"white\",\"ticks\":\"\",\"title\":{\"standoff\":15},\"zerolinecolor\":\"white\",\"automargin\":true,\"zerolinewidth\":2},\"scene\":{\"xaxis\":{\"backgroundcolor\":\"#E5ECF6\",\"gridcolor\":\"white\",\"linecolor\":\"white\",\"showbackground\":true,\"ticks\":\"\",\"zerolinecolor\":\"white\",\"gridwidth\":2},\"yaxis\":{\"backgroundcolor\":\"#E5ECF6\",\"gridcolor\":\"white\",\"linecolor\":\"white\",\"showbackground\":true,\"ticks\":\"\",\"zerolinecolor\":\"white\",\"gridwidth\":2},\"zaxis\":{\"backgroundcolor\":\"#E5ECF6\",\"gridcolor\":\"white\",\"linecolor\":\"white\",\"showbackground\":true,\"ticks\":\"\",\"zerolinecolor\":\"white\",\"gridwidth\":2}},\"shapedefaults\":{\"line\":{\"color\":\"#2a3f5f\"}},\"annotationdefaults\":{\"arrowcolor\":\"#2a3f5f\",\"arrowhead\":0,\"arrowwidth\":1},\"geo\":{\"bgcolor\":\"white\",\"landcolor\":\"#E5ECF6\",\"subunitcolor\":\"white\",\"showland\":true,\"showlakes\":true,\"lakecolor\":\"white\"},\"title\":{\"x\":0.05},\"mapbox\":{\"style\":\"light\"}}}},                        {\"responsive\": true}                    ).then(function(){\n",
       "                            \n",
       "var gd = document.getElementById('2a51d0c0-af42-41cd-aab7-cdaa4b32546f');\n",
       "var x = new MutationObserver(function (mutations, observer) {{\n",
       "        var display = window.getComputedStyle(gd).display;\n",
       "        if (!display || display === 'none') {{\n",
       "            console.log([gd, 'removed!']);\n",
       "            Plotly.purge(gd);\n",
       "            observer.disconnect();\n",
       "        }}\n",
       "}});\n",
       "\n",
       "// Listen for the removal of the full notebook cells\n",
       "var notebookContainer = gd.closest('#notebook-container');\n",
       "if (notebookContainer) {{\n",
       "    x.observe(notebookContainer, {childList: true});\n",
       "}}\n",
       "\n",
       "// Listen for the clearing of the current output cell\n",
       "var outputEl = gd.closest('.output');\n",
       "if (outputEl) {{\n",
       "    x.observe(outputEl, {childList: true});\n",
       "}}\n",
       "\n",
       "                        })                };                });            </script>        </div>"
      ]
     },
     "metadata": {},
     "output_type": "display_data"
    }
   ],
   "source": [
    "fig = go.Figure(\n",
    "    data=[\n",
    "        go.Line(x=BD_carga['Fecha'][0:12*75],\n",
    "                y=BD_carga['Potencia'][0:12*75], name=\"Power\")\n",
    "    ],\n",
    "    layout=go.Layout(\n",
    "        title=dict(text='Potencia RMS Hervidor Eléctrico: 20h;AguaNormal;1000ml'),\n",
    "        xaxis=dict(title='Hora'),\n",
    "        yaxis=dict(title='Potencia [W]')\n",
    "    )\n",
    ")\n",
    "fig.show()\n",
    "        \n",
    "        "
   ]
  }
 ],
 "metadata": {
  "kernelspec": {
   "display_name": "Python 3 (ipykernel)",
   "language": "python",
   "name": "python3"
  },
  "language_info": {
   "codemirror_mode": {
    "name": "ipython",
    "version": 3
   },
   "file_extension": ".py",
   "mimetype": "text/x-python",
   "name": "python",
   "nbconvert_exporter": "python",
   "pygments_lexer": "ipython3",
   "version": "3.9.7"
  }
 },
 "nbformat": 4,
 "nbformat_minor": 5
}
