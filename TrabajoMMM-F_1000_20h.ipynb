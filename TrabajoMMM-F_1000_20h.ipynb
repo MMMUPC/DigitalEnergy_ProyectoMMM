{
 "cells": [
  {
   "cell_type": "markdown",
   "id": "a8fcd987",
   "metadata": {},
   "source": [
    "<img src=\"Figures/top_ML.png\" alt=\"Drawing\" style=\"width: 1000px;\"/>"
   ]
  },
  {
   "cell_type": "markdown",
   "id": "81e86598",
   "metadata": {},
   "source": [
    "# \"Digitalización de una carga doméstica\"\n",
    "\n",
    "## Postítulo \"Digital Energy\", Máster Smart Energy\n",
    "\n",
    "## Módulo: Digitalización de la Energía\n",
    "\n",
    "## Alumno: Max Antonio Missene Montecinos"
   ]
  },
  {
   "cell_type": "markdown",
   "id": "6aa4771d",
   "metadata": {},
   "source": [
    "### Objetivo:\n",
    "\n",
    "#### Monitoreo de una carga doméstica mediante un procesador de datos construido en base a un microcontrolador Arduino.\n",
    "\n",
    "### Pautas generales:\n",
    "\n",
    "1. Descripción de la carga seleccionada para nuestro Proyecto. Modelo, potencia nominal, uso habitual que hacéis de ella, etc.\n",
    "2. Descripción de vuestro montaje: Fotos del montaje con la carga, explicación breve del código para la realización de la medición.\n",
    "3. Análisis preliminar de consumo de la carga: Captura del a corriente instantánea, grabar datos de corriente en RMS y realizar alguna gráfica (Excel mismo) y comentar el consumo observado."
   ]
  },
  {
   "cell_type": "markdown",
   "id": "1aa8be0e",
   "metadata": {},
   "source": [
    "## Generales"
   ]
  },
  {
   "cell_type": "markdown",
   "id": "c429a698",
   "metadata": {},
   "source": [
    "#### El primer paso que se realizará en el desarrollo del presente trabajo, será importar las librerías y funciones de librerías que utilizaremos a lo largo del código."
   ]
  },
  {
   "cell_type": "code",
   "execution_count": 1,
   "id": "571ae1ca",
   "metadata": {},
   "outputs": [],
   "source": [
    "# Librerías usadas\n",
    "\n",
    "import pandas as pd\n",
    "import matplotlib.pyplot as plt\n",
    "import numpy as np\n",
    "import seaborn as sns\n",
    "import datetime\n",
    "from datetime import date, time, datetime, timedelta\n",
    "import warnings\n",
    "warnings.filterwarnings('ignore')"
   ]
  },
  {
   "cell_type": "markdown",
   "id": "98bc077b",
   "metadata": {},
   "source": [
    "#### A continuación, se procederá a importar la base de datos."
   ]
  },
  {
   "cell_type": "code",
   "execution_count": 2,
   "id": "c345e48d",
   "metadata": {},
   "outputs": [],
   "source": [
    "# Generar DataFrame (DF) a partir de base de datos de excel\n",
    "columns=['Fecha','Corriente','Potencia']\n",
    "BD_carga = pd.read_csv('Data/data_1000_F_20h.csv', names=columns)"
   ]
  },
  {
   "cell_type": "markdown",
   "id": "f6fea903",
   "metadata": {},
   "source": [
    "### 1. Entendimiento de los datos, estadística descriptiva y visualizaciones"
   ]
  },
  {
   "cell_type": "markdown",
   "id": "4360cea8",
   "metadata": {},
   "source": [
    "#### En primera instancia, se determinará el número de dimensiones que posee la base de datos."
   ]
  },
  {
   "cell_type": "code",
   "execution_count": 3,
   "id": "04285cb4",
   "metadata": {},
   "outputs": [
    {
     "data": {
      "text/plain": [
       "(306, 3)"
      ]
     },
     "execution_count": 3,
     "metadata": {},
     "output_type": "execute_result"
    }
   ],
   "source": [
    "# Se procederá a conocer las dimensiones del DF con la función \"shape\".\n",
    "BD_carga.shape"
   ]
  },
  {
   "cell_type": "markdown",
   "id": "bc050715",
   "metadata": {},
   "source": [
    "#### Es posible notar que el DataFrame contine 3 columnas y 306 filas. "
   ]
  },
  {
   "cell_type": "markdown",
   "id": "12595815",
   "metadata": {},
   "source": [
    "#### Así, se desplegaran las primeras filas del dataframe, para examinar de forma preliminar los datos."
   ]
  },
  {
   "cell_type": "code",
   "execution_count": 4,
   "id": "a96185ac",
   "metadata": {},
   "outputs": [
    {
     "data": {
      "text/html": [
       "<div>\n",
       "<style scoped>\n",
       "    .dataframe tbody tr th:only-of-type {\n",
       "        vertical-align: middle;\n",
       "    }\n",
       "\n",
       "    .dataframe tbody tr th {\n",
       "        vertical-align: top;\n",
       "    }\n",
       "\n",
       "    .dataframe thead th {\n",
       "        text-align: right;\n",
       "    }\n",
       "</style>\n",
       "<table border=\"1\" class=\"dataframe\">\n",
       "  <thead>\n",
       "    <tr style=\"text-align: right;\">\n",
       "      <th></th>\n",
       "      <th>Fecha</th>\n",
       "      <th>Corriente</th>\n",
       "      <th>Potencia</th>\n",
       "    </tr>\n",
       "  </thead>\n",
       "  <tbody>\n",
       "    <tr>\n",
       "      <th>0</th>\n",
       "      <td>2022-06-07 20:40:17.051147</td>\n",
       "      <td>0.22</td>\n",
       "      <td>49.55</td>\n",
       "    </tr>\n",
       "    <tr>\n",
       "      <th>1</th>\n",
       "      <td>2022-06-07 20:40:18.050960</td>\n",
       "      <td>0.22</td>\n",
       "      <td>50.55</td>\n",
       "    </tr>\n",
       "    <tr>\n",
       "      <th>2</th>\n",
       "      <td>2022-06-07 20:40:19.053785</td>\n",
       "      <td>0.21</td>\n",
       "      <td>48.85</td>\n",
       "    </tr>\n",
       "    <tr>\n",
       "      <th>3</th>\n",
       "      <td>2022-06-07 20:40:20.057285</td>\n",
       "      <td>0.20</td>\n",
       "      <td>46.91</td>\n",
       "    </tr>\n",
       "    <tr>\n",
       "      <th>4</th>\n",
       "      <td>2022-06-07 20:40:21.060945</td>\n",
       "      <td>0.21</td>\n",
       "      <td>49.02</td>\n",
       "    </tr>\n",
       "  </tbody>\n",
       "</table>\n",
       "</div>"
      ],
      "text/plain": [
       "                        Fecha  Corriente  Potencia\n",
       "0  2022-06-07 20:40:17.051147       0.22     49.55\n",
       "1  2022-06-07 20:40:18.050960       0.22     50.55\n",
       "2  2022-06-07 20:40:19.053785       0.21     48.85\n",
       "3  2022-06-07 20:40:20.057285       0.20     46.91\n",
       "4  2022-06-07 20:40:21.060945       0.21     49.02"
      ]
     },
     "execution_count": 4,
     "metadata": {},
     "output_type": "execute_result"
    }
   ],
   "source": [
    "# Desplegar primeras 5 filas del DF a partir de la función \"head\".\n",
    "BD_carga.head()"
   ]
  },
  {
   "cell_type": "markdown",
   "id": "46f013f8",
   "metadata": {},
   "source": [
    "#### De manera análoga, se desplegaran las primeras últimas filas del dataframe, para examinar de forma preliminar los datos."
   ]
  },
  {
   "cell_type": "code",
   "execution_count": 5,
   "id": "27cdd889",
   "metadata": {},
   "outputs": [
    {
     "data": {
      "text/html": [
       "<div>\n",
       "<style scoped>\n",
       "    .dataframe tbody tr th:only-of-type {\n",
       "        vertical-align: middle;\n",
       "    }\n",
       "\n",
       "    .dataframe tbody tr th {\n",
       "        vertical-align: top;\n",
       "    }\n",
       "\n",
       "    .dataframe thead th {\n",
       "        text-align: right;\n",
       "    }\n",
       "</style>\n",
       "<table border=\"1\" class=\"dataframe\">\n",
       "  <thead>\n",
       "    <tr style=\"text-align: right;\">\n",
       "      <th></th>\n",
       "      <th>Fecha</th>\n",
       "      <th>Corriente</th>\n",
       "      <th>Potencia</th>\n",
       "    </tr>\n",
       "  </thead>\n",
       "  <tbody>\n",
       "    <tr>\n",
       "      <th>301</th>\n",
       "      <td>2022-06-07 20:45:18.724940</td>\n",
       "      <td>0.21</td>\n",
       "      <td>47.20</td>\n",
       "    </tr>\n",
       "    <tr>\n",
       "      <th>302</th>\n",
       "      <td>2022-06-07 20:45:19.724575</td>\n",
       "      <td>0.21</td>\n",
       "      <td>49.40</td>\n",
       "    </tr>\n",
       "    <tr>\n",
       "      <th>303</th>\n",
       "      <td>2022-06-07 20:45:20.727363</td>\n",
       "      <td>0.21</td>\n",
       "      <td>48.88</td>\n",
       "    </tr>\n",
       "    <tr>\n",
       "      <th>304</th>\n",
       "      <td>2022-06-07 20:45:21.727027</td>\n",
       "      <td>0.21</td>\n",
       "      <td>49.22</td>\n",
       "    </tr>\n",
       "    <tr>\n",
       "      <th>305</th>\n",
       "      <td>2022-06-07 20:45:22.731330</td>\n",
       "      <td>0.20</td>\n",
       "      <td>47.11</td>\n",
       "    </tr>\n",
       "  </tbody>\n",
       "</table>\n",
       "</div>"
      ],
      "text/plain": [
       "                          Fecha  Corriente  Potencia\n",
       "301  2022-06-07 20:45:18.724940       0.21     47.20\n",
       "302  2022-06-07 20:45:19.724575       0.21     49.40\n",
       "303  2022-06-07 20:45:20.727363       0.21     48.88\n",
       "304  2022-06-07 20:45:21.727027       0.21     49.22\n",
       "305  2022-06-07 20:45:22.731330       0.20     47.11"
      ]
     },
     "execution_count": 5,
     "metadata": {},
     "output_type": "execute_result"
    }
   ],
   "source": [
    "# Desplegar última 5 filas del DF a partir de la función \"tail\".\n",
    "BD_carga.tail()"
   ]
  },
  {
   "cell_type": "code",
   "execution_count": 6,
   "id": "d3ce6dbc",
   "metadata": {},
   "outputs": [
    {
     "data": {
      "text/plain": [
       "Fecha         object\n",
       "Corriente    float64\n",
       "Potencia     float64\n",
       "dtype: object"
      ]
     },
     "execution_count": 6,
     "metadata": {},
     "output_type": "execute_result"
    }
   ],
   "source": [
    "# Desplegar última 5 filas del DF a partir de la función \"tail\".\n",
    "BD_carga.dtypes"
   ]
  },
  {
   "cell_type": "markdown",
   "id": "581ce836",
   "metadata": {},
   "source": [
    "#### Ya pudiendo mirar el contenido del dataframe de manera general, se realizará el cálculo de valores estadísticos de sus columnas."
   ]
  },
  {
   "cell_type": "code",
   "execution_count": 7,
   "id": "a702d86a",
   "metadata": {},
   "outputs": [
    {
     "data": {
      "text/plain": [
       "Fecha        datetime64[ns]\n",
       "Corriente           float64\n",
       "Potencia            float64\n",
       "dtype: object"
      ]
     },
     "execution_count": 7,
     "metadata": {},
     "output_type": "execute_result"
    }
   ],
   "source": [
    "# Desplegar última 5 filas del DF a partir de la función \"tail\".\n",
    "BD_carga['Fecha']=pd.to_datetime(BD_carga['Fecha'])\n",
    "BD_carga.dtypes\n"
   ]
  },
  {
   "cell_type": "code",
   "execution_count": 8,
   "id": "669189b6",
   "metadata": {},
   "outputs": [
    {
     "data": {
      "text/html": [
       "<div>\n",
       "<style scoped>\n",
       "    .dataframe tbody tr th:only-of-type {\n",
       "        vertical-align: middle;\n",
       "    }\n",
       "\n",
       "    .dataframe tbody tr th {\n",
       "        vertical-align: top;\n",
       "    }\n",
       "\n",
       "    .dataframe thead th {\n",
       "        text-align: right;\n",
       "    }\n",
       "</style>\n",
       "<table border=\"1\" class=\"dataframe\">\n",
       "  <thead>\n",
       "    <tr style=\"text-align: right;\">\n",
       "      <th></th>\n",
       "      <th>Corriente</th>\n",
       "      <th>Potencia</th>\n",
       "    </tr>\n",
       "  </thead>\n",
       "  <tbody>\n",
       "    <tr>\n",
       "      <th>count</th>\n",
       "      <td>306.000000</td>\n",
       "      <td>306.000000</td>\n",
       "    </tr>\n",
       "    <tr>\n",
       "      <th>mean</th>\n",
       "      <td>6.181078</td>\n",
       "      <td>1421.687843</td>\n",
       "    </tr>\n",
       "    <tr>\n",
       "      <th>std</th>\n",
       "      <td>1.123821</td>\n",
       "      <td>258.412908</td>\n",
       "    </tr>\n",
       "    <tr>\n",
       "      <th>min</th>\n",
       "      <td>0.200000</td>\n",
       "      <td>46.910000</td>\n",
       "    </tr>\n",
       "    <tr>\n",
       "      <th>25%</th>\n",
       "      <td>6.390000</td>\n",
       "      <td>1469.050000</td>\n",
       "    </tr>\n",
       "    <tr>\n",
       "      <th>50%</th>\n",
       "      <td>6.400000</td>\n",
       "      <td>1471.310000</td>\n",
       "    </tr>\n",
       "    <tr>\n",
       "      <th>75%</th>\n",
       "      <td>6.410000</td>\n",
       "      <td>1473.672500</td>\n",
       "    </tr>\n",
       "    <tr>\n",
       "      <th>max</th>\n",
       "      <td>6.580000</td>\n",
       "      <td>1514.280000</td>\n",
       "    </tr>\n",
       "  </tbody>\n",
       "</table>\n",
       "</div>"
      ],
      "text/plain": [
       "        Corriente     Potencia\n",
       "count  306.000000   306.000000\n",
       "mean     6.181078  1421.687843\n",
       "std      1.123821   258.412908\n",
       "min      0.200000    46.910000\n",
       "25%      6.390000  1469.050000\n",
       "50%      6.400000  1471.310000\n",
       "75%      6.410000  1473.672500\n",
       "max      6.580000  1514.280000"
      ]
     },
     "execution_count": 8,
     "metadata": {},
     "output_type": "execute_result"
    }
   ],
   "source": [
    "# Se aplica la función \"describe\" al dataframe, el cual calculará algunos parámetros estadísticos a cada columna.\n",
    "BD_carga.describe()"
   ]
  },
  {
   "cell_type": "code",
   "execution_count": 9,
   "id": "7451fe84",
   "metadata": {},
   "outputs": [
    {
     "data": {
      "text/plain": [
       "Fecha        0\n",
       "Corriente    0\n",
       "Potencia     0\n",
       "dtype: int64"
      ]
     },
     "execution_count": 9,
     "metadata": {},
     "output_type": "execute_result"
    }
   ],
   "source": [
    "BD_carga.isna().sum()"
   ]
  },
  {
   "cell_type": "code",
   "execution_count": 11,
   "id": "428d92ac",
   "metadata": {},
   "outputs": [],
   "source": [
    "BD_carga['Energy_kWh']=0.0\n",
    "BD_carga['time_dif']=0.0\n",
    "BD_carga['cum_energy_kwh']=0.0\n",
    "longitud=len(BD_carga['Energy_kWh'])\n",
    "\n",
    "for x in range(0, longitud):\n",
    " if BD_carga['Corriente'][x]<0.0:\n",
    "        BD_carga.at[x, 'Corriente']=0.0\n",
    " if BD_carga['Potencia'][x]<0.0:\n",
    "        BD_carga.at[x, 'Potencia']=0.0\n",
    "for x in range(1, longitud):\n",
    "    BD_carga.at[x, 'Energy_kWh']=BD_carga['Potencia'][x]*((BD_carga['Fecha'][x]-BD_carga['Fecha'][x-1]).total_seconds()/3600000)\n",
    "    BD_carga.at[x, 'time_dif']=(BD_carga['Fecha'][x]-BD_carga['Fecha'][x-1]).total_seconds()\n",
    "    BD_carga.at[x, 'cum_energy_kwh']=BD_carga['cum_energy_kwh'][x-1]+BD_carga['Energy_kWh'][x]\n",
    "    "
   ]
  },
  {
   "cell_type": "code",
   "execution_count": 12,
   "id": "97c9a673",
   "metadata": {},
   "outputs": [
    {
     "data": {
      "text/html": [
       "<div>\n",
       "<style scoped>\n",
       "    .dataframe tbody tr th:only-of-type {\n",
       "        vertical-align: middle;\n",
       "    }\n",
       "\n",
       "    .dataframe tbody tr th {\n",
       "        vertical-align: top;\n",
       "    }\n",
       "\n",
       "    .dataframe thead th {\n",
       "        text-align: right;\n",
       "    }\n",
       "</style>\n",
       "<table border=\"1\" class=\"dataframe\">\n",
       "  <thead>\n",
       "    <tr style=\"text-align: right;\">\n",
       "      <th></th>\n",
       "      <th>Fecha</th>\n",
       "      <th>Corriente</th>\n",
       "      <th>Potencia</th>\n",
       "      <th>Energy_kWh</th>\n",
       "      <th>time_dif</th>\n",
       "      <th>cum_energy_kwh</th>\n",
       "    </tr>\n",
       "  </thead>\n",
       "  <tbody>\n",
       "    <tr>\n",
       "      <th>0</th>\n",
       "      <td>2022-06-07 20:40:17.051147</td>\n",
       "      <td>0.22</td>\n",
       "      <td>49.55</td>\n",
       "      <td>0.000000</td>\n",
       "      <td>0.000000</td>\n",
       "      <td>0.000000</td>\n",
       "    </tr>\n",
       "    <tr>\n",
       "      <th>1</th>\n",
       "      <td>2022-06-07 20:40:18.050960</td>\n",
       "      <td>0.22</td>\n",
       "      <td>50.55</td>\n",
       "      <td>0.000014</td>\n",
       "      <td>0.999813</td>\n",
       "      <td>0.000014</td>\n",
       "    </tr>\n",
       "    <tr>\n",
       "      <th>2</th>\n",
       "      <td>2022-06-07 20:40:19.053785</td>\n",
       "      <td>0.21</td>\n",
       "      <td>48.85</td>\n",
       "      <td>0.000014</td>\n",
       "      <td>1.002825</td>\n",
       "      <td>0.000028</td>\n",
       "    </tr>\n",
       "    <tr>\n",
       "      <th>3</th>\n",
       "      <td>2022-06-07 20:40:20.057285</td>\n",
       "      <td>0.20</td>\n",
       "      <td>46.91</td>\n",
       "      <td>0.000013</td>\n",
       "      <td>1.003500</td>\n",
       "      <td>0.000041</td>\n",
       "    </tr>\n",
       "    <tr>\n",
       "      <th>4</th>\n",
       "      <td>2022-06-07 20:40:21.060945</td>\n",
       "      <td>0.21</td>\n",
       "      <td>49.02</td>\n",
       "      <td>0.000014</td>\n",
       "      <td>1.003660</td>\n",
       "      <td>0.000054</td>\n",
       "    </tr>\n",
       "  </tbody>\n",
       "</table>\n",
       "</div>"
      ],
      "text/plain": [
       "                       Fecha  Corriente  Potencia  Energy_kWh  time_dif  \\\n",
       "0 2022-06-07 20:40:17.051147       0.22     49.55    0.000000  0.000000   \n",
       "1 2022-06-07 20:40:18.050960       0.22     50.55    0.000014  0.999813   \n",
       "2 2022-06-07 20:40:19.053785       0.21     48.85    0.000014  1.002825   \n",
       "3 2022-06-07 20:40:20.057285       0.20     46.91    0.000013  1.003500   \n",
       "4 2022-06-07 20:40:21.060945       0.21     49.02    0.000014  1.003660   \n",
       "\n",
       "   cum_energy_kwh  \n",
       "0        0.000000  \n",
       "1        0.000014  \n",
       "2        0.000028  \n",
       "3        0.000041  \n",
       "4        0.000054  "
      ]
     },
     "execution_count": 12,
     "metadata": {},
     "output_type": "execute_result"
    }
   ],
   "source": [
    "BD_carga.head()"
   ]
  },
  {
   "cell_type": "code",
   "execution_count": 13,
   "id": "1d113be0",
   "metadata": {},
   "outputs": [
    {
     "data": {
      "text/html": [
       "<div>\n",
       "<style scoped>\n",
       "    .dataframe tbody tr th:only-of-type {\n",
       "        vertical-align: middle;\n",
       "    }\n",
       "\n",
       "    .dataframe tbody tr th {\n",
       "        vertical-align: top;\n",
       "    }\n",
       "\n",
       "    .dataframe thead th {\n",
       "        text-align: right;\n",
       "    }\n",
       "</style>\n",
       "<table border=\"1\" class=\"dataframe\">\n",
       "  <thead>\n",
       "    <tr style=\"text-align: right;\">\n",
       "      <th></th>\n",
       "      <th>Fecha</th>\n",
       "      <th>Corriente</th>\n",
       "      <th>Potencia</th>\n",
       "      <th>Energy_kWh</th>\n",
       "      <th>time_dif</th>\n",
       "      <th>cum_energy_kwh</th>\n",
       "    </tr>\n",
       "  </thead>\n",
       "  <tbody>\n",
       "    <tr>\n",
       "      <th>301</th>\n",
       "      <td>2022-06-07 20:45:18.724940</td>\n",
       "      <td>0.21</td>\n",
       "      <td>47.20</td>\n",
       "      <td>0.000013</td>\n",
       "      <td>1.003900</td>\n",
       "      <td>0.121046</td>\n",
       "    </tr>\n",
       "    <tr>\n",
       "      <th>302</th>\n",
       "      <td>2022-06-07 20:45:19.724575</td>\n",
       "      <td>0.21</td>\n",
       "      <td>49.40</td>\n",
       "      <td>0.000014</td>\n",
       "      <td>0.999635</td>\n",
       "      <td>0.121059</td>\n",
       "    </tr>\n",
       "    <tr>\n",
       "      <th>303</th>\n",
       "      <td>2022-06-07 20:45:20.727363</td>\n",
       "      <td>0.21</td>\n",
       "      <td>48.88</td>\n",
       "      <td>0.000014</td>\n",
       "      <td>1.002788</td>\n",
       "      <td>0.121073</td>\n",
       "    </tr>\n",
       "    <tr>\n",
       "      <th>304</th>\n",
       "      <td>2022-06-07 20:45:21.727027</td>\n",
       "      <td>0.21</td>\n",
       "      <td>49.22</td>\n",
       "      <td>0.000014</td>\n",
       "      <td>0.999664</td>\n",
       "      <td>0.121087</td>\n",
       "    </tr>\n",
       "    <tr>\n",
       "      <th>305</th>\n",
       "      <td>2022-06-07 20:45:22.731330</td>\n",
       "      <td>0.20</td>\n",
       "      <td>47.11</td>\n",
       "      <td>0.000013</td>\n",
       "      <td>1.004303</td>\n",
       "      <td>0.121100</td>\n",
       "    </tr>\n",
       "  </tbody>\n",
       "</table>\n",
       "</div>"
      ],
      "text/plain": [
       "                         Fecha  Corriente  Potencia  Energy_kWh  time_dif  \\\n",
       "301 2022-06-07 20:45:18.724940       0.21     47.20    0.000013  1.003900   \n",
       "302 2022-06-07 20:45:19.724575       0.21     49.40    0.000014  0.999635   \n",
       "303 2022-06-07 20:45:20.727363       0.21     48.88    0.000014  1.002788   \n",
       "304 2022-06-07 20:45:21.727027       0.21     49.22    0.000014  0.999664   \n",
       "305 2022-06-07 20:45:22.731330       0.20     47.11    0.000013  1.004303   \n",
       "\n",
       "     cum_energy_kwh  \n",
       "301        0.121046  \n",
       "302        0.121059  \n",
       "303        0.121073  \n",
       "304        0.121087  \n",
       "305        0.121100  "
      ]
     },
     "execution_count": 13,
     "metadata": {},
     "output_type": "execute_result"
    }
   ],
   "source": [
    "BD_carga.tail()"
   ]
  },
  {
   "cell_type": "code",
   "execution_count": 14,
   "id": "a13f9127",
   "metadata": {},
   "outputs": [
    {
     "data": {
      "text/plain": [
       "0.12109971719535276"
      ]
     },
     "execution_count": 14,
     "metadata": {},
     "output_type": "execute_result"
    }
   ],
   "source": [
    "BD_carga['Energy_kWh'].sum()"
   ]
  },
  {
   "cell_type": "code",
   "execution_count": 15,
   "id": "bbb946ae",
   "metadata": {},
   "outputs": [
    {
     "data": {
      "text/plain": [
       "0.08491116194444445"
      ]
     },
     "execution_count": 15,
     "metadata": {},
     "output_type": "execute_result"
    }
   ],
   "source": [
    "((BD_carga['time_dif'].sum())/60)/60"
   ]
  },
  {
   "cell_type": "code",
   "execution_count": 18,
   "id": "e1cea20e",
   "metadata": {},
   "outputs": [
    {
     "data": {
      "text/html": [
       "        <script type=\"text/javascript\">\n",
       "        window.PlotlyConfig = {MathJaxConfig: 'local'};\n",
       "        if (window.MathJax && window.MathJax.Hub && window.MathJax.Hub.Config) {window.MathJax.Hub.Config({SVG: {font: \"STIX-Web\"}});}\n",
       "        if (typeof require !== 'undefined') {\n",
       "        require.undef(\"plotly\");\n",
       "        requirejs.config({\n",
       "            paths: {\n",
       "                'plotly': ['https://cdn.plot.ly/plotly-2.12.1.min']\n",
       "            }\n",
       "        });\n",
       "        require(['plotly'], function(Plotly) {\n",
       "            window._Plotly = Plotly;\n",
       "        });\n",
       "        }\n",
       "        </script>\n",
       "        "
      ]
     },
     "metadata": {},
     "output_type": "display_data"
    }
   ],
   "source": [
    "# conda install -c plotly plotly\n",
    "import plotly.offline as py;\n",
    "from plotly import tools;\n",
    "import plotly.graph_objs as go;\n",
    "from ipywidgets import widgets;\n",
    "from ipywidgets import interact;\n",
    "import warnings\n",
    "warnings.filterwarnings('ignore')\n",
    "py.init_notebook_mode(connected= True)"
   ]
  },
  {
   "cell_type": "code",
   "execution_count": 19,
   "id": "8d0a8598",
   "metadata": {},
   "outputs": [
    {
     "name": "stderr",
     "output_type": "stream",
     "text": [
      "C:\\Users\\mmissene\\Anaconda3\\lib\\site-packages\\plotly\\graph_objs\\_deprecations.py:378: DeprecationWarning:\n",
      "\n",
      "plotly.graph_objs.Line is deprecated.\n",
      "Please replace it with one of the following more specific types\n",
      "  - plotly.graph_objs.scatter.Line\n",
      "  - plotly.graph_objs.layout.shape.Line\n",
      "  - etc.\n",
      "\n",
      "\n"
     ]
    },
    {
     "data": {
      "application/vnd.plotly.v1+json": {
       "config": {
        "plotlyServerURL": "https://plot.ly"
       },
       "data": [
        {
         "name": "Power",
         "type": "scatter",
         "x": [
          "2022-06-07T20:40:17.051147",
          "2022-06-07T20:40:18.050960",
          "2022-06-07T20:40:19.053785",
          "2022-06-07T20:40:20.057285",
          "2022-06-07T20:40:21.060945",
          "2022-06-07T20:40:22.060561",
          "2022-06-07T20:40:23.063892",
          "2022-06-07T20:40:24.067282",
          "2022-06-07T20:40:25.069937",
          "2022-06-07T20:40:26.069833",
          "2022-06-07T20:40:27.073075",
          "2022-06-07T20:40:28.076351",
          "2022-06-07T20:40:29.080145",
          "2022-06-07T20:40:30.079356",
          "2022-06-07T20:40:31.083235",
          "2022-06-07T20:40:32.086575",
          "2022-06-07T20:40:33.089995",
          "2022-06-07T20:40:34.089091",
          "2022-06-07T20:40:35.092891",
          "2022-06-07T20:40:36.096014",
          "2022-06-07T20:40:37.095029",
          "2022-06-07T20:40:38.099125",
          "2022-06-07T20:40:39.102721",
          "2022-06-07T20:40:40.105904",
          "2022-06-07T20:40:41.105509",
          "2022-06-07T20:40:42.108735",
          "2022-06-07T20:40:43.111935",
          "2022-06-07T20:40:44.115555",
          "2022-06-07T20:40:45.114626",
          "2022-06-07T20:40:46.118077",
          "2022-06-07T20:40:47.121492",
          "2022-06-07T20:40:48.121386",
          "2022-06-07T20:40:49.124790",
          "2022-06-07T20:40:50.127927",
          "2022-06-07T20:40:51.131077",
          "2022-06-07T20:40:52.130904",
          "2022-06-07T20:40:53.134764",
          "2022-06-07T20:40:54.138094",
          "2022-06-07T20:40:55.140954",
          "2022-06-07T20:40:56.140781",
          "2022-06-07T20:40:57.143654",
          "2022-06-07T20:40:58.146731",
          "2022-06-07T20:40:59.146462",
          "2022-06-07T20:41:00.149154",
          "2022-06-07T20:41:01.153603",
          "2022-06-07T20:41:02.156238",
          "2022-06-07T20:41:03.155774",
          "2022-06-07T20:41:04.159962",
          "2022-06-07T20:41:05.162864",
          "2022-06-07T20:41:06.162773",
          "2022-06-07T20:41:07.165200",
          "2022-06-07T20:41:08.169048",
          "2022-06-07T20:41:09.172672",
          "2022-06-07T20:41:10.171894",
          "2022-06-07T20:41:11.175562",
          "2022-06-07T20:41:12.179000",
          "2022-06-07T20:41:13.182199",
          "2022-06-07T20:41:14.181500",
          "2022-06-07T20:41:15.185066",
          "2022-06-07T20:41:16.188369",
          "2022-06-07T20:41:17.187961",
          "2022-06-07T20:41:18.191014",
          "2022-06-07T20:41:19.194682",
          "2022-06-07T20:41:20.197456",
          "2022-06-07T20:41:21.197260",
          "2022-06-07T20:41:22.201113",
          "2022-06-07T20:41:23.204057",
          "2022-06-07T20:41:24.202969",
          "2022-06-07T20:41:25.207203",
          "2022-06-07T20:41:26.210113",
          "2022-06-07T20:41:27.213782",
          "2022-06-07T20:41:28.213199",
          "2022-06-07T20:41:29.217139",
          "2022-06-07T20:41:30.220107",
          "2022-06-07T20:41:31.219818",
          "2022-06-07T20:41:32.222686",
          "2022-06-07T20:41:33.226033",
          "2022-06-07T20:41:34.228899",
          "2022-06-07T20:41:35.229247",
          "2022-06-07T20:41:36.232279",
          "2022-06-07T20:41:37.235948",
          "2022-06-07T20:41:38.235544",
          "2022-06-07T20:41:39.238636",
          "2022-06-07T20:41:40.242059",
          "2022-06-07T20:41:41.245660",
          "2022-06-07T20:41:42.244952",
          "2022-06-07T20:41:43.248446",
          "2022-06-07T20:41:44.251938",
          "2022-06-07T20:41:45.250971",
          "2022-06-07T20:41:46.254547",
          "2022-06-07T20:41:47.257763",
          "2022-06-07T20:41:48.261283",
          "2022-06-07T20:41:49.260726",
          "2022-06-07T20:41:50.264411",
          "2022-06-07T20:41:51.267711",
          "2022-06-07T20:41:52.271242",
          "2022-06-07T20:41:53.270344",
          "2022-06-07T20:41:54.274147",
          "2022-06-07T20:41:55.276761",
          "2022-06-07T20:41:56.275842",
          "2022-06-07T20:41:57.280549",
          "2022-06-07T20:41:58.283556",
          "2022-06-07T20:41:59.287123",
          "2022-06-07T20:42:00.286480",
          "2022-06-07T20:42:01.289827",
          "2022-06-07T20:42:02.293340",
          "2022-06-07T20:42:03.292993",
          "2022-06-07T20:42:04.296304",
          "2022-06-07T20:42:05.299868",
          "2022-06-07T20:42:06.302832",
          "2022-06-07T20:42:07.301552",
          "2022-06-07T20:42:08.305086",
          "2022-06-07T20:42:09.309055",
          "2022-06-07T20:42:10.308356",
          "2022-06-07T20:42:11.311951",
          "2022-06-07T20:42:12.315448",
          "2022-06-07T20:42:13.318578",
          "2022-06-07T20:42:14.318053",
          "2022-06-07T20:42:15.321764",
          "2022-06-07T20:42:16.324595",
          "2022-06-07T20:42:17.324859",
          "2022-06-07T20:42:18.327426",
          "2022-06-07T20:42:19.331407",
          "2022-06-07T20:42:20.335263",
          "2022-06-07T20:42:21.334170",
          "2022-06-07T20:42:22.337564",
          "2022-06-07T20:42:23.340820",
          "2022-06-07T20:42:24.339825",
          "2022-06-07T20:42:25.343509",
          "2022-06-07T20:42:26.347041",
          "2022-06-07T20:42:27.346017",
          "2022-06-07T20:42:28.349819",
          "2022-06-07T20:42:29.352888",
          "2022-06-07T20:42:30.352843",
          "2022-06-07T20:42:31.355410",
          "2022-06-07T20:42:32.359792",
          "2022-06-07T20:42:33.358939",
          "2022-06-07T20:42:34.361930",
          "2022-06-07T20:42:35.365331",
          "2022-06-07T20:42:36.365200",
          "2022-06-07T20:42:37.368442",
          "2022-06-07T20:42:38.371935",
          "2022-06-07T20:42:39.375431",
          "2022-06-07T20:42:40.374203",
          "2022-06-07T20:42:41.377992",
          "2022-06-07T20:42:42.381159",
          "2022-06-07T20:42:43.380547",
          "2022-06-07T20:42:44.384810",
          "2022-06-07T20:42:45.387582",
          "2022-06-07T20:42:46.387065",
          "2022-06-07T20:42:47.390470",
          "2022-06-07T20:42:48.394063",
          "2022-06-07T20:42:49.393394",
          "2022-06-07T20:42:50.396749",
          "2022-06-07T20:42:51.399938",
          "2022-06-07T20:42:52.399977",
          "2022-06-07T20:42:53.403265",
          "2022-06-07T20:42:54.406799",
          "2022-06-07T20:42:55.409428",
          "2022-06-07T20:42:56.409398",
          "2022-06-07T20:42:57.413791",
          "2022-06-07T20:42:58.416029",
          "2022-06-07T20:42:59.415630",
          "2022-06-07T20:43:00.419411",
          "2022-06-07T20:43:01.421919",
          "2022-06-07T20:43:02.422115",
          "2022-06-07T20:43:03.425423",
          "2022-06-07T20:43:04.428316",
          "2022-06-07T20:43:05.427911",
          "2022-06-07T20:43:06.432005",
          "2022-06-07T20:43:07.434886",
          "2022-06-07T20:43:08.437975",
          "2022-06-07T20:43:09.437559",
          "2022-06-07T20:43:10.440990",
          "2022-06-07T20:43:11.443848",
          "2022-06-07T20:43:12.443914",
          "2022-06-07T20:43:13.446625",
          "2022-06-07T20:43:14.450411",
          "2022-06-07T20:43:15.450126",
          "2022-06-07T20:43:16.453354",
          "2022-06-07T20:43:17.456762",
          "2022-06-07T20:43:18.456581",
          "2022-06-07T20:43:19.460252",
          "2022-06-07T20:43:20.462823",
          "2022-06-07T20:43:21.462100",
          "2022-06-07T20:43:22.465198",
          "2022-06-07T20:43:23.469021",
          "2022-06-07T20:43:24.468543",
          "2022-06-07T20:43:25.471738",
          "2022-06-07T20:43:26.475571",
          "2022-06-07T20:43:27.478645",
          "2022-06-07T20:43:28.477745",
          "2022-06-07T20:43:29.481184",
          "2022-06-07T20:43:30.484374",
          "2022-06-07T20:43:31.484966",
          "2022-06-07T20:43:32.487910",
          "2022-06-07T20:43:33.491346",
          "2022-06-07T20:43:34.490162",
          "2022-06-07T20:43:35.493135",
          "2022-06-07T20:43:36.496446",
          "2022-06-07T20:43:37.496673",
          "2022-06-07T20:43:38.500433",
          "2022-06-07T20:43:39.503127",
          "2022-06-07T20:43:40.507528",
          "2022-06-07T20:43:41.505950",
          "2022-06-07T20:43:42.510068",
          "2022-06-07T20:43:43.512862",
          "2022-06-07T20:43:44.512635",
          "2022-06-07T20:43:45.515703",
          "2022-06-07T20:43:46.519127",
          "2022-06-07T20:43:47.518989",
          "2022-06-07T20:43:48.522640",
          "2022-06-07T20:43:49.525619",
          "2022-06-07T20:43:50.528615",
          "2022-06-07T20:43:51.528490",
          "2022-06-07T20:43:52.532203",
          "2022-06-07T20:43:53.535425",
          "2022-06-07T20:43:54.534737",
          "2022-06-07T20:43:55.537976",
          "2022-06-07T20:43:56.541896",
          "2022-06-07T20:43:57.544961",
          "2022-06-07T20:43:58.544093",
          "2022-06-07T20:43:59.547429",
          "2022-06-07T20:44:00.551087",
          "2022-06-07T20:44:01.551046",
          "2022-06-07T20:44:02.554194",
          "2022-06-07T20:44:03.557629",
          "2022-06-07T20:44:04.560674",
          "2022-06-07T20:44:05.560271",
          "2022-06-07T20:44:06.563941",
          "2022-06-07T20:44:07.567510",
          "2022-06-07T20:44:08.566523",
          "2022-06-07T20:44:09.570081",
          "2022-06-07T20:44:10.572943",
          "2022-06-07T20:44:11.577023",
          "2022-06-07T20:44:12.576190",
          "2022-06-07T20:44:13.579769",
          "2022-06-07T20:44:14.583441",
          "2022-06-07T20:44:15.581913",
          "2022-06-07T20:44:16.585556",
          "2022-06-07T20:44:17.588185",
          "2022-06-07T20:44:18.592181",
          "2022-06-07T20:44:19.591916",
          "2022-06-07T20:44:20.595530",
          "2022-06-07T20:44:21.598373",
          "2022-06-07T20:44:22.598455",
          "2022-06-07T20:44:23.601305",
          "2022-06-07T20:44:24.605384",
          "2022-06-07T20:44:25.603988",
          "2022-06-07T20:44:26.607468",
          "2022-06-07T20:44:27.611566",
          "2022-06-07T20:44:28.614212",
          "2022-06-07T20:44:29.613667",
          "2022-06-07T20:44:30.617225",
          "2022-06-07T20:44:31.620624",
          "2022-06-07T20:44:32.619843",
          "2022-06-07T20:44:33.623818",
          "2022-06-07T20:44:34.626784",
          "2022-06-07T20:44:35.630020",
          "2022-06-07T20:44:36.630454",
          "2022-06-07T20:44:37.633222",
          "2022-06-07T20:44:38.636687",
          "2022-06-07T20:44:39.636281",
          "2022-06-07T20:44:40.639814",
          "2022-06-07T20:44:41.643351",
          "2022-06-07T20:44:42.646758",
          "2022-06-07T20:44:43.645347",
          "2022-06-07T20:44:44.649260",
          "2022-06-07T20:44:45.652716",
          "2022-06-07T20:44:46.652140",
          "2022-06-07T20:44:47.655403",
          "2022-06-07T20:44:48.658506",
          "2022-06-07T20:44:49.662246",
          "2022-06-07T20:44:50.660933",
          "2022-06-07T20:44:51.664931",
          "2022-06-07T20:44:52.667985",
          "2022-06-07T20:44:53.667316",
          "2022-06-07T20:44:54.670715",
          "2022-06-07T20:44:55.674166",
          "2022-06-07T20:44:56.674083",
          "2022-06-07T20:44:57.676771",
          "2022-06-07T20:44:58.680756",
          "2022-06-07T20:44:59.683838",
          "2022-06-07T20:45:00.683613",
          "2022-06-07T20:45:01.686718",
          "2022-06-07T20:45:02.690086",
          "2022-06-07T20:45:03.690279",
          "2022-06-07T20:45:04.692908",
          "2022-06-07T20:45:05.696997",
          "2022-06-07T20:45:06.696237",
          "2022-06-07T20:45:07.699256",
          "2022-06-07T20:45:08.702976",
          "2022-06-07T20:45:09.705828",
          "2022-06-07T20:45:10.705879",
          "2022-06-07T20:45:11.709114",
          "2022-06-07T20:45:12.712638",
          "2022-06-07T20:45:13.711620",
          "2022-06-07T20:45:14.714689",
          "2022-06-07T20:45:15.719001",
          "2022-06-07T20:45:16.718349",
          "2022-06-07T20:45:17.721040",
          "2022-06-07T20:45:18.724940",
          "2022-06-07T20:45:19.724575",
          "2022-06-07T20:45:20.727363",
          "2022-06-07T20:45:21.727027",
          "2022-06-07T20:45:22.731330"
         ],
         "y": [
          49.55,
          50.55,
          48.85,
          46.91,
          49.02,
          662.65,
          1514.28,
          1511.08,
          1506.25,
          1501.56,
          1497.81,
          1493.92,
          1491.43,
          1489.18,
          1485.92,
          1482.73,
          1479.79,
          1477.6,
          1478.59,
          1481.86,
          1479.83,
          1476.66,
          1478.67,
          1481.3,
          1476.71,
          1479.41,
          1476.39,
          1480.84,
          1478.8,
          1479.04,
          1476.92,
          1475.5,
          1473.13,
          1471.64,
          1469.59,
          1471.45,
          1468.69,
          1467.65,
          1470.08,
          1468.67,
          1471.53,
          1469.71,
          1471.27,
          1472.27,
          1474.96,
          1470.41,
          1472.91,
          1474.68,
          1474.5,
          1472.16,
          1474.35,
          1470.81,
          1473.09,
          1471.25,
          1472.08,
          1473.33,
          1473.24,
          1474.41,
          1473,
          1472.28,
          1470.63,
          1473.65,
          1475.22,
          1472.29,
          1472.74,
          1474.13,
          1470.61,
          1475.79,
          1473.58,
          1475.46,
          1469.69,
          1474.13,
          1476.21,
          1472.62,
          1475.05,
          1472.84,
          1474.46,
          1475.9,
          1474.64,
          1474.5,
          1472.52,
          1474.89,
          1477.29,
          1476.81,
          1473.46,
          1474.6,
          1473.21,
          1475.24,
          1476.51,
          1465.91,
          1468.63,
          1470.17,
          1469.19,
          1470.25,
          1470.16,
          1468.64,
          1471.77,
          1470.63,
          1469.09,
          1470.29,
          1472.09,
          1473.13,
          1472.95,
          1468.73,
          1471.48,
          1469.11,
          1470.27,
          1470.93,
          1470.52,
          1466.87,
          1467.94,
          1470.6,
          1469.58,
          1471.63,
          1472.53,
          1473.02,
          1473.41,
          1475.52,
          1468.96,
          1471.55,
          1470.39,
          1475.68,
          1472.92,
          1468.71,
          1469.97,
          1475.77,
          1471.76,
          1473.22,
          1471.3,
          1467.61,
          1470.62,
          1470.67,
          1469,
          1463.44,
          1466.41,
          1467.73,
          1470.42,
          1467.47,
          1467.4,
          1469.12,
          1474.4,
          1474.49,
          1473.88,
          1468.32,
          1468.13,
          1468.86,
          1471.67,
          1469.05,
          1469.21,
          1470.15,
          1472.25,
          1467.69,
          1470.06,
          1465.54,
          1464.77,
          1470.38,
          1468.53,
          1469.81,
          1465.83,
          1468.33,
          1471.52,
          1470.16,
          1466.77,
          1470.6,
          1466.36,
          1469.27,
          1469.14,
          1466.95,
          1467.98,
          1467.83,
          1467.02,
          1473.56,
          1468.71,
          1471.35,
          1468.65,
          1466.51,
          1472.67,
          1469.3,
          1471.19,
          1468.68,
          1472.88,
          1472.28,
          1471.38,
          1469.16,
          1474.07,
          1473.08,
          1476.15,
          1471.12,
          1468.27,
          1471.36,
          1466.19,
          1473.07,
          1472.05,
          1474.34,
          1469.27,
          1469.62,
          1471.58,
          1472.3,
          1469.32,
          1467.53,
          1469.84,
          1472.55,
          1469.96,
          1468.96,
          1470.62,
          1472.13,
          1471.55,
          1472.91,
          1475.23,
          1469.5,
          1467.55,
          1471.19,
          1469.11,
          1468.51,
          1469.87,
          1470.45,
          1469.54,
          1470.42,
          1468.47,
          1470.59,
          1472.34,
          1471.78,
          1473.31,
          1466.77,
          1471.13,
          1469.55,
          1471.39,
          1471.31,
          1473.97,
          1471.76,
          1467.93,
          1469.34,
          1474.16,
          1470.81,
          1472.14,
          1469.21,
          1473.69,
          1468.93,
          1472,
          1470.05,
          1473.41,
          1469.43,
          1475.36,
          1475.31,
          1471.58,
          1474.66,
          1475.2,
          1473.68,
          1473.52,
          1473.09,
          1469.83,
          1472.56,
          1471.37,
          1472.85,
          1470.08,
          1472.25,
          1475.4,
          1475.9,
          1477.87,
          1471.54,
          1471.31,
          1475.71,
          1475.39,
          1476.59,
          1477.74,
          1473.72,
          1475.23,
          1472.47,
          1474.44,
          1469.05,
          1471.04,
          1470.09,
          1468.87,
          1473.54,
          1468.83,
          1470.53,
          1468.01,
          1468.98,
          1467.85,
          1467.01,
          1464.8,
          1469.97,
          1472.54,
          1463.39,
          1463.33,
          1464.78,
          1468.49,
          1465.11,
          1467.72,
          1468.97,
          1471.79,
          1469.59,
          1467.87,
          1466.43,
          1469.86,
          1469.52,
          1473.72,
          1472.5,
          1470.71,
          1468.72,
          1005.89,
          47.2,
          49.4,
          48.88,
          49.22,
          47.11
         ]
        }
       ],
       "layout": {
        "template": {
         "data": {
          "bar": [
           {
            "error_x": {
             "color": "#2a3f5f"
            },
            "error_y": {
             "color": "#2a3f5f"
            },
            "marker": {
             "line": {
              "color": "#E5ECF6",
              "width": 0.5
             },
             "pattern": {
              "fillmode": "overlay",
              "size": 10,
              "solidity": 0.2
             }
            },
            "type": "bar"
           }
          ],
          "barpolar": [
           {
            "marker": {
             "line": {
              "color": "#E5ECF6",
              "width": 0.5
             },
             "pattern": {
              "fillmode": "overlay",
              "size": 10,
              "solidity": 0.2
             }
            },
            "type": "barpolar"
           }
          ],
          "carpet": [
           {
            "aaxis": {
             "endlinecolor": "#2a3f5f",
             "gridcolor": "white",
             "linecolor": "white",
             "minorgridcolor": "white",
             "startlinecolor": "#2a3f5f"
            },
            "baxis": {
             "endlinecolor": "#2a3f5f",
             "gridcolor": "white",
             "linecolor": "white",
             "minorgridcolor": "white",
             "startlinecolor": "#2a3f5f"
            },
            "type": "carpet"
           }
          ],
          "choropleth": [
           {
            "colorbar": {
             "outlinewidth": 0,
             "ticks": ""
            },
            "type": "choropleth"
           }
          ],
          "contour": [
           {
            "colorbar": {
             "outlinewidth": 0,
             "ticks": ""
            },
            "colorscale": [
             [
              0,
              "#0d0887"
             ],
             [
              0.1111111111111111,
              "#46039f"
             ],
             [
              0.2222222222222222,
              "#7201a8"
             ],
             [
              0.3333333333333333,
              "#9c179e"
             ],
             [
              0.4444444444444444,
              "#bd3786"
             ],
             [
              0.5555555555555556,
              "#d8576b"
             ],
             [
              0.6666666666666666,
              "#ed7953"
             ],
             [
              0.7777777777777778,
              "#fb9f3a"
             ],
             [
              0.8888888888888888,
              "#fdca26"
             ],
             [
              1,
              "#f0f921"
             ]
            ],
            "type": "contour"
           }
          ],
          "contourcarpet": [
           {
            "colorbar": {
             "outlinewidth": 0,
             "ticks": ""
            },
            "type": "contourcarpet"
           }
          ],
          "heatmap": [
           {
            "colorbar": {
             "outlinewidth": 0,
             "ticks": ""
            },
            "colorscale": [
             [
              0,
              "#0d0887"
             ],
             [
              0.1111111111111111,
              "#46039f"
             ],
             [
              0.2222222222222222,
              "#7201a8"
             ],
             [
              0.3333333333333333,
              "#9c179e"
             ],
             [
              0.4444444444444444,
              "#bd3786"
             ],
             [
              0.5555555555555556,
              "#d8576b"
             ],
             [
              0.6666666666666666,
              "#ed7953"
             ],
             [
              0.7777777777777778,
              "#fb9f3a"
             ],
             [
              0.8888888888888888,
              "#fdca26"
             ],
             [
              1,
              "#f0f921"
             ]
            ],
            "type": "heatmap"
           }
          ],
          "heatmapgl": [
           {
            "colorbar": {
             "outlinewidth": 0,
             "ticks": ""
            },
            "colorscale": [
             [
              0,
              "#0d0887"
             ],
             [
              0.1111111111111111,
              "#46039f"
             ],
             [
              0.2222222222222222,
              "#7201a8"
             ],
             [
              0.3333333333333333,
              "#9c179e"
             ],
             [
              0.4444444444444444,
              "#bd3786"
             ],
             [
              0.5555555555555556,
              "#d8576b"
             ],
             [
              0.6666666666666666,
              "#ed7953"
             ],
             [
              0.7777777777777778,
              "#fb9f3a"
             ],
             [
              0.8888888888888888,
              "#fdca26"
             ],
             [
              1,
              "#f0f921"
             ]
            ],
            "type": "heatmapgl"
           }
          ],
          "histogram": [
           {
            "marker": {
             "pattern": {
              "fillmode": "overlay",
              "size": 10,
              "solidity": 0.2
             }
            },
            "type": "histogram"
           }
          ],
          "histogram2d": [
           {
            "colorbar": {
             "outlinewidth": 0,
             "ticks": ""
            },
            "colorscale": [
             [
              0,
              "#0d0887"
             ],
             [
              0.1111111111111111,
              "#46039f"
             ],
             [
              0.2222222222222222,
              "#7201a8"
             ],
             [
              0.3333333333333333,
              "#9c179e"
             ],
             [
              0.4444444444444444,
              "#bd3786"
             ],
             [
              0.5555555555555556,
              "#d8576b"
             ],
             [
              0.6666666666666666,
              "#ed7953"
             ],
             [
              0.7777777777777778,
              "#fb9f3a"
             ],
             [
              0.8888888888888888,
              "#fdca26"
             ],
             [
              1,
              "#f0f921"
             ]
            ],
            "type": "histogram2d"
           }
          ],
          "histogram2dcontour": [
           {
            "colorbar": {
             "outlinewidth": 0,
             "ticks": ""
            },
            "colorscale": [
             [
              0,
              "#0d0887"
             ],
             [
              0.1111111111111111,
              "#46039f"
             ],
             [
              0.2222222222222222,
              "#7201a8"
             ],
             [
              0.3333333333333333,
              "#9c179e"
             ],
             [
              0.4444444444444444,
              "#bd3786"
             ],
             [
              0.5555555555555556,
              "#d8576b"
             ],
             [
              0.6666666666666666,
              "#ed7953"
             ],
             [
              0.7777777777777778,
              "#fb9f3a"
             ],
             [
              0.8888888888888888,
              "#fdca26"
             ],
             [
              1,
              "#f0f921"
             ]
            ],
            "type": "histogram2dcontour"
           }
          ],
          "mesh3d": [
           {
            "colorbar": {
             "outlinewidth": 0,
             "ticks": ""
            },
            "type": "mesh3d"
           }
          ],
          "parcoords": [
           {
            "line": {
             "colorbar": {
              "outlinewidth": 0,
              "ticks": ""
             }
            },
            "type": "parcoords"
           }
          ],
          "pie": [
           {
            "automargin": true,
            "type": "pie"
           }
          ],
          "scatter": [
           {
            "fillpattern": {
             "fillmode": "overlay",
             "size": 10,
             "solidity": 0.2
            },
            "type": "scatter"
           }
          ],
          "scatter3d": [
           {
            "line": {
             "colorbar": {
              "outlinewidth": 0,
              "ticks": ""
             }
            },
            "marker": {
             "colorbar": {
              "outlinewidth": 0,
              "ticks": ""
             }
            },
            "type": "scatter3d"
           }
          ],
          "scattercarpet": [
           {
            "marker": {
             "colorbar": {
              "outlinewidth": 0,
              "ticks": ""
             }
            },
            "type": "scattercarpet"
           }
          ],
          "scattergeo": [
           {
            "marker": {
             "colorbar": {
              "outlinewidth": 0,
              "ticks": ""
             }
            },
            "type": "scattergeo"
           }
          ],
          "scattergl": [
           {
            "marker": {
             "colorbar": {
              "outlinewidth": 0,
              "ticks": ""
             }
            },
            "type": "scattergl"
           }
          ],
          "scattermapbox": [
           {
            "marker": {
             "colorbar": {
              "outlinewidth": 0,
              "ticks": ""
             }
            },
            "type": "scattermapbox"
           }
          ],
          "scatterpolar": [
           {
            "marker": {
             "colorbar": {
              "outlinewidth": 0,
              "ticks": ""
             }
            },
            "type": "scatterpolar"
           }
          ],
          "scatterpolargl": [
           {
            "marker": {
             "colorbar": {
              "outlinewidth": 0,
              "ticks": ""
             }
            },
            "type": "scatterpolargl"
           }
          ],
          "scatterternary": [
           {
            "marker": {
             "colorbar": {
              "outlinewidth": 0,
              "ticks": ""
             }
            },
            "type": "scatterternary"
           }
          ],
          "surface": [
           {
            "colorbar": {
             "outlinewidth": 0,
             "ticks": ""
            },
            "colorscale": [
             [
              0,
              "#0d0887"
             ],
             [
              0.1111111111111111,
              "#46039f"
             ],
             [
              0.2222222222222222,
              "#7201a8"
             ],
             [
              0.3333333333333333,
              "#9c179e"
             ],
             [
              0.4444444444444444,
              "#bd3786"
             ],
             [
              0.5555555555555556,
              "#d8576b"
             ],
             [
              0.6666666666666666,
              "#ed7953"
             ],
             [
              0.7777777777777778,
              "#fb9f3a"
             ],
             [
              0.8888888888888888,
              "#fdca26"
             ],
             [
              1,
              "#f0f921"
             ]
            ],
            "type": "surface"
           }
          ],
          "table": [
           {
            "cells": {
             "fill": {
              "color": "#EBF0F8"
             },
             "line": {
              "color": "white"
             }
            },
            "header": {
             "fill": {
              "color": "#C8D4E3"
             },
             "line": {
              "color": "white"
             }
            },
            "type": "table"
           }
          ]
         },
         "layout": {
          "annotationdefaults": {
           "arrowcolor": "#2a3f5f",
           "arrowhead": 0,
           "arrowwidth": 1
          },
          "autotypenumbers": "strict",
          "coloraxis": {
           "colorbar": {
            "outlinewidth": 0,
            "ticks": ""
           }
          },
          "colorscale": {
           "diverging": [
            [
             0,
             "#8e0152"
            ],
            [
             0.1,
             "#c51b7d"
            ],
            [
             0.2,
             "#de77ae"
            ],
            [
             0.3,
             "#f1b6da"
            ],
            [
             0.4,
             "#fde0ef"
            ],
            [
             0.5,
             "#f7f7f7"
            ],
            [
             0.6,
             "#e6f5d0"
            ],
            [
             0.7,
             "#b8e186"
            ],
            [
             0.8,
             "#7fbc41"
            ],
            [
             0.9,
             "#4d9221"
            ],
            [
             1,
             "#276419"
            ]
           ],
           "sequential": [
            [
             0,
             "#0d0887"
            ],
            [
             0.1111111111111111,
             "#46039f"
            ],
            [
             0.2222222222222222,
             "#7201a8"
            ],
            [
             0.3333333333333333,
             "#9c179e"
            ],
            [
             0.4444444444444444,
             "#bd3786"
            ],
            [
             0.5555555555555556,
             "#d8576b"
            ],
            [
             0.6666666666666666,
             "#ed7953"
            ],
            [
             0.7777777777777778,
             "#fb9f3a"
            ],
            [
             0.8888888888888888,
             "#fdca26"
            ],
            [
             1,
             "#f0f921"
            ]
           ],
           "sequentialminus": [
            [
             0,
             "#0d0887"
            ],
            [
             0.1111111111111111,
             "#46039f"
            ],
            [
             0.2222222222222222,
             "#7201a8"
            ],
            [
             0.3333333333333333,
             "#9c179e"
            ],
            [
             0.4444444444444444,
             "#bd3786"
            ],
            [
             0.5555555555555556,
             "#d8576b"
            ],
            [
             0.6666666666666666,
             "#ed7953"
            ],
            [
             0.7777777777777778,
             "#fb9f3a"
            ],
            [
             0.8888888888888888,
             "#fdca26"
            ],
            [
             1,
             "#f0f921"
            ]
           ]
          },
          "colorway": [
           "#636efa",
           "#EF553B",
           "#00cc96",
           "#ab63fa",
           "#FFA15A",
           "#19d3f3",
           "#FF6692",
           "#B6E880",
           "#FF97FF",
           "#FECB52"
          ],
          "font": {
           "color": "#2a3f5f"
          },
          "geo": {
           "bgcolor": "white",
           "lakecolor": "white",
           "landcolor": "#E5ECF6",
           "showlakes": true,
           "showland": true,
           "subunitcolor": "white"
          },
          "hoverlabel": {
           "align": "left"
          },
          "hovermode": "closest",
          "mapbox": {
           "style": "light"
          },
          "paper_bgcolor": "white",
          "plot_bgcolor": "#E5ECF6",
          "polar": {
           "angularaxis": {
            "gridcolor": "white",
            "linecolor": "white",
            "ticks": ""
           },
           "bgcolor": "#E5ECF6",
           "radialaxis": {
            "gridcolor": "white",
            "linecolor": "white",
            "ticks": ""
           }
          },
          "scene": {
           "xaxis": {
            "backgroundcolor": "#E5ECF6",
            "gridcolor": "white",
            "gridwidth": 2,
            "linecolor": "white",
            "showbackground": true,
            "ticks": "",
            "zerolinecolor": "white"
           },
           "yaxis": {
            "backgroundcolor": "#E5ECF6",
            "gridcolor": "white",
            "gridwidth": 2,
            "linecolor": "white",
            "showbackground": true,
            "ticks": "",
            "zerolinecolor": "white"
           },
           "zaxis": {
            "backgroundcolor": "#E5ECF6",
            "gridcolor": "white",
            "gridwidth": 2,
            "linecolor": "white",
            "showbackground": true,
            "ticks": "",
            "zerolinecolor": "white"
           }
          },
          "shapedefaults": {
           "line": {
            "color": "#2a3f5f"
           }
          },
          "ternary": {
           "aaxis": {
            "gridcolor": "white",
            "linecolor": "white",
            "ticks": ""
           },
           "baxis": {
            "gridcolor": "white",
            "linecolor": "white",
            "ticks": ""
           },
           "bgcolor": "#E5ECF6",
           "caxis": {
            "gridcolor": "white",
            "linecolor": "white",
            "ticks": ""
           }
          },
          "title": {
           "x": 0.05
          },
          "xaxis": {
           "automargin": true,
           "gridcolor": "white",
           "linecolor": "white",
           "ticks": "",
           "title": {
            "standoff": 15
           },
           "zerolinecolor": "white",
           "zerolinewidth": 2
          },
          "yaxis": {
           "automargin": true,
           "gridcolor": "white",
           "linecolor": "white",
           "ticks": "",
           "title": {
            "standoff": 15
           },
           "zerolinecolor": "white",
           "zerolinewidth": 2
          }
         }
        },
        "title": {
         "text": "Potencia RMS Hervidor Eléctrico: 20h;AguaFría;1000ml"
        },
        "xaxis": {
         "title": {
          "text": "Hora"
         }
        },
        "yaxis": {
         "title": {
          "text": "Potencia [W]"
         }
        }
       }
      },
      "text/html": [
       "<div>                            <div id=\"a8391188-2070-43ac-98cf-482e523c4cff\" class=\"plotly-graph-div\" style=\"height:525px; width:100%;\"></div>            <script type=\"text/javascript\">                require([\"plotly\"], function(Plotly) {                    window.PLOTLYENV=window.PLOTLYENV || {};                                    if (document.getElementById(\"a8391188-2070-43ac-98cf-482e523c4cff\")) {                    Plotly.newPlot(                        \"a8391188-2070-43ac-98cf-482e523c4cff\",                        [{\"name\":\"Power\",\"x\":[\"2022-06-07T20:40:17.051147\",\"2022-06-07T20:40:18.050960\",\"2022-06-07T20:40:19.053785\",\"2022-06-07T20:40:20.057285\",\"2022-06-07T20:40:21.060945\",\"2022-06-07T20:40:22.060561\",\"2022-06-07T20:40:23.063892\",\"2022-06-07T20:40:24.067282\",\"2022-06-07T20:40:25.069937\",\"2022-06-07T20:40:26.069833\",\"2022-06-07T20:40:27.073075\",\"2022-06-07T20:40:28.076351\",\"2022-06-07T20:40:29.080145\",\"2022-06-07T20:40:30.079356\",\"2022-06-07T20:40:31.083235\",\"2022-06-07T20:40:32.086575\",\"2022-06-07T20:40:33.089995\",\"2022-06-07T20:40:34.089091\",\"2022-06-07T20:40:35.092891\",\"2022-06-07T20:40:36.096014\",\"2022-06-07T20:40:37.095029\",\"2022-06-07T20:40:38.099125\",\"2022-06-07T20:40:39.102721\",\"2022-06-07T20:40:40.105904\",\"2022-06-07T20:40:41.105509\",\"2022-06-07T20:40:42.108735\",\"2022-06-07T20:40:43.111935\",\"2022-06-07T20:40:44.115555\",\"2022-06-07T20:40:45.114626\",\"2022-06-07T20:40:46.118077\",\"2022-06-07T20:40:47.121492\",\"2022-06-07T20:40:48.121386\",\"2022-06-07T20:40:49.124790\",\"2022-06-07T20:40:50.127927\",\"2022-06-07T20:40:51.131077\",\"2022-06-07T20:40:52.130904\",\"2022-06-07T20:40:53.134764\",\"2022-06-07T20:40:54.138094\",\"2022-06-07T20:40:55.140954\",\"2022-06-07T20:40:56.140781\",\"2022-06-07T20:40:57.143654\",\"2022-06-07T20:40:58.146731\",\"2022-06-07T20:40:59.146462\",\"2022-06-07T20:41:00.149154\",\"2022-06-07T20:41:01.153603\",\"2022-06-07T20:41:02.156238\",\"2022-06-07T20:41:03.155774\",\"2022-06-07T20:41:04.159962\",\"2022-06-07T20:41:05.162864\",\"2022-06-07T20:41:06.162773\",\"2022-06-07T20:41:07.165200\",\"2022-06-07T20:41:08.169048\",\"2022-06-07T20:41:09.172672\",\"2022-06-07T20:41:10.171894\",\"2022-06-07T20:41:11.175562\",\"2022-06-07T20:41:12.179000\",\"2022-06-07T20:41:13.182199\",\"2022-06-07T20:41:14.181500\",\"2022-06-07T20:41:15.185066\",\"2022-06-07T20:41:16.188369\",\"2022-06-07T20:41:17.187961\",\"2022-06-07T20:41:18.191014\",\"2022-06-07T20:41:19.194682\",\"2022-06-07T20:41:20.197456\",\"2022-06-07T20:41:21.197260\",\"2022-06-07T20:41:22.201113\",\"2022-06-07T20:41:23.204057\",\"2022-06-07T20:41:24.202969\",\"2022-06-07T20:41:25.207203\",\"2022-06-07T20:41:26.210113\",\"2022-06-07T20:41:27.213782\",\"2022-06-07T20:41:28.213199\",\"2022-06-07T20:41:29.217139\",\"2022-06-07T20:41:30.220107\",\"2022-06-07T20:41:31.219818\",\"2022-06-07T20:41:32.222686\",\"2022-06-07T20:41:33.226033\",\"2022-06-07T20:41:34.228899\",\"2022-06-07T20:41:35.229247\",\"2022-06-07T20:41:36.232279\",\"2022-06-07T20:41:37.235948\",\"2022-06-07T20:41:38.235544\",\"2022-06-07T20:41:39.238636\",\"2022-06-07T20:41:40.242059\",\"2022-06-07T20:41:41.245660\",\"2022-06-07T20:41:42.244952\",\"2022-06-07T20:41:43.248446\",\"2022-06-07T20:41:44.251938\",\"2022-06-07T20:41:45.250971\",\"2022-06-07T20:41:46.254547\",\"2022-06-07T20:41:47.257763\",\"2022-06-07T20:41:48.261283\",\"2022-06-07T20:41:49.260726\",\"2022-06-07T20:41:50.264411\",\"2022-06-07T20:41:51.267711\",\"2022-06-07T20:41:52.271242\",\"2022-06-07T20:41:53.270344\",\"2022-06-07T20:41:54.274147\",\"2022-06-07T20:41:55.276761\",\"2022-06-07T20:41:56.275842\",\"2022-06-07T20:41:57.280549\",\"2022-06-07T20:41:58.283556\",\"2022-06-07T20:41:59.287123\",\"2022-06-07T20:42:00.286480\",\"2022-06-07T20:42:01.289827\",\"2022-06-07T20:42:02.293340\",\"2022-06-07T20:42:03.292993\",\"2022-06-07T20:42:04.296304\",\"2022-06-07T20:42:05.299868\",\"2022-06-07T20:42:06.302832\",\"2022-06-07T20:42:07.301552\",\"2022-06-07T20:42:08.305086\",\"2022-06-07T20:42:09.309055\",\"2022-06-07T20:42:10.308356\",\"2022-06-07T20:42:11.311951\",\"2022-06-07T20:42:12.315448\",\"2022-06-07T20:42:13.318578\",\"2022-06-07T20:42:14.318053\",\"2022-06-07T20:42:15.321764\",\"2022-06-07T20:42:16.324595\",\"2022-06-07T20:42:17.324859\",\"2022-06-07T20:42:18.327426\",\"2022-06-07T20:42:19.331407\",\"2022-06-07T20:42:20.335263\",\"2022-06-07T20:42:21.334170\",\"2022-06-07T20:42:22.337564\",\"2022-06-07T20:42:23.340820\",\"2022-06-07T20:42:24.339825\",\"2022-06-07T20:42:25.343509\",\"2022-06-07T20:42:26.347041\",\"2022-06-07T20:42:27.346017\",\"2022-06-07T20:42:28.349819\",\"2022-06-07T20:42:29.352888\",\"2022-06-07T20:42:30.352843\",\"2022-06-07T20:42:31.355410\",\"2022-06-07T20:42:32.359792\",\"2022-06-07T20:42:33.358939\",\"2022-06-07T20:42:34.361930\",\"2022-06-07T20:42:35.365331\",\"2022-06-07T20:42:36.365200\",\"2022-06-07T20:42:37.368442\",\"2022-06-07T20:42:38.371935\",\"2022-06-07T20:42:39.375431\",\"2022-06-07T20:42:40.374203\",\"2022-06-07T20:42:41.377992\",\"2022-06-07T20:42:42.381159\",\"2022-06-07T20:42:43.380547\",\"2022-06-07T20:42:44.384810\",\"2022-06-07T20:42:45.387582\",\"2022-06-07T20:42:46.387065\",\"2022-06-07T20:42:47.390470\",\"2022-06-07T20:42:48.394063\",\"2022-06-07T20:42:49.393394\",\"2022-06-07T20:42:50.396749\",\"2022-06-07T20:42:51.399938\",\"2022-06-07T20:42:52.399977\",\"2022-06-07T20:42:53.403265\",\"2022-06-07T20:42:54.406799\",\"2022-06-07T20:42:55.409428\",\"2022-06-07T20:42:56.409398\",\"2022-06-07T20:42:57.413791\",\"2022-06-07T20:42:58.416029\",\"2022-06-07T20:42:59.415630\",\"2022-06-07T20:43:00.419411\",\"2022-06-07T20:43:01.421919\",\"2022-06-07T20:43:02.422115\",\"2022-06-07T20:43:03.425423\",\"2022-06-07T20:43:04.428316\",\"2022-06-07T20:43:05.427911\",\"2022-06-07T20:43:06.432005\",\"2022-06-07T20:43:07.434886\",\"2022-06-07T20:43:08.437975\",\"2022-06-07T20:43:09.437559\",\"2022-06-07T20:43:10.440990\",\"2022-06-07T20:43:11.443848\",\"2022-06-07T20:43:12.443914\",\"2022-06-07T20:43:13.446625\",\"2022-06-07T20:43:14.450411\",\"2022-06-07T20:43:15.450126\",\"2022-06-07T20:43:16.453354\",\"2022-06-07T20:43:17.456762\",\"2022-06-07T20:43:18.456581\",\"2022-06-07T20:43:19.460252\",\"2022-06-07T20:43:20.462823\",\"2022-06-07T20:43:21.462100\",\"2022-06-07T20:43:22.465198\",\"2022-06-07T20:43:23.469021\",\"2022-06-07T20:43:24.468543\",\"2022-06-07T20:43:25.471738\",\"2022-06-07T20:43:26.475571\",\"2022-06-07T20:43:27.478645\",\"2022-06-07T20:43:28.477745\",\"2022-06-07T20:43:29.481184\",\"2022-06-07T20:43:30.484374\",\"2022-06-07T20:43:31.484966\",\"2022-06-07T20:43:32.487910\",\"2022-06-07T20:43:33.491346\",\"2022-06-07T20:43:34.490162\",\"2022-06-07T20:43:35.493135\",\"2022-06-07T20:43:36.496446\",\"2022-06-07T20:43:37.496673\",\"2022-06-07T20:43:38.500433\",\"2022-06-07T20:43:39.503127\",\"2022-06-07T20:43:40.507528\",\"2022-06-07T20:43:41.505950\",\"2022-06-07T20:43:42.510068\",\"2022-06-07T20:43:43.512862\",\"2022-06-07T20:43:44.512635\",\"2022-06-07T20:43:45.515703\",\"2022-06-07T20:43:46.519127\",\"2022-06-07T20:43:47.518989\",\"2022-06-07T20:43:48.522640\",\"2022-06-07T20:43:49.525619\",\"2022-06-07T20:43:50.528615\",\"2022-06-07T20:43:51.528490\",\"2022-06-07T20:43:52.532203\",\"2022-06-07T20:43:53.535425\",\"2022-06-07T20:43:54.534737\",\"2022-06-07T20:43:55.537976\",\"2022-06-07T20:43:56.541896\",\"2022-06-07T20:43:57.544961\",\"2022-06-07T20:43:58.544093\",\"2022-06-07T20:43:59.547429\",\"2022-06-07T20:44:00.551087\",\"2022-06-07T20:44:01.551046\",\"2022-06-07T20:44:02.554194\",\"2022-06-07T20:44:03.557629\",\"2022-06-07T20:44:04.560674\",\"2022-06-07T20:44:05.560271\",\"2022-06-07T20:44:06.563941\",\"2022-06-07T20:44:07.567510\",\"2022-06-07T20:44:08.566523\",\"2022-06-07T20:44:09.570081\",\"2022-06-07T20:44:10.572943\",\"2022-06-07T20:44:11.577023\",\"2022-06-07T20:44:12.576190\",\"2022-06-07T20:44:13.579769\",\"2022-06-07T20:44:14.583441\",\"2022-06-07T20:44:15.581913\",\"2022-06-07T20:44:16.585556\",\"2022-06-07T20:44:17.588185\",\"2022-06-07T20:44:18.592181\",\"2022-06-07T20:44:19.591916\",\"2022-06-07T20:44:20.595530\",\"2022-06-07T20:44:21.598373\",\"2022-06-07T20:44:22.598455\",\"2022-06-07T20:44:23.601305\",\"2022-06-07T20:44:24.605384\",\"2022-06-07T20:44:25.603988\",\"2022-06-07T20:44:26.607468\",\"2022-06-07T20:44:27.611566\",\"2022-06-07T20:44:28.614212\",\"2022-06-07T20:44:29.613667\",\"2022-06-07T20:44:30.617225\",\"2022-06-07T20:44:31.620624\",\"2022-06-07T20:44:32.619843\",\"2022-06-07T20:44:33.623818\",\"2022-06-07T20:44:34.626784\",\"2022-06-07T20:44:35.630020\",\"2022-06-07T20:44:36.630454\",\"2022-06-07T20:44:37.633222\",\"2022-06-07T20:44:38.636687\",\"2022-06-07T20:44:39.636281\",\"2022-06-07T20:44:40.639814\",\"2022-06-07T20:44:41.643351\",\"2022-06-07T20:44:42.646758\",\"2022-06-07T20:44:43.645347\",\"2022-06-07T20:44:44.649260\",\"2022-06-07T20:44:45.652716\",\"2022-06-07T20:44:46.652140\",\"2022-06-07T20:44:47.655403\",\"2022-06-07T20:44:48.658506\",\"2022-06-07T20:44:49.662246\",\"2022-06-07T20:44:50.660933\",\"2022-06-07T20:44:51.664931\",\"2022-06-07T20:44:52.667985\",\"2022-06-07T20:44:53.667316\",\"2022-06-07T20:44:54.670715\",\"2022-06-07T20:44:55.674166\",\"2022-06-07T20:44:56.674083\",\"2022-06-07T20:44:57.676771\",\"2022-06-07T20:44:58.680756\",\"2022-06-07T20:44:59.683838\",\"2022-06-07T20:45:00.683613\",\"2022-06-07T20:45:01.686718\",\"2022-06-07T20:45:02.690086\",\"2022-06-07T20:45:03.690279\",\"2022-06-07T20:45:04.692908\",\"2022-06-07T20:45:05.696997\",\"2022-06-07T20:45:06.696237\",\"2022-06-07T20:45:07.699256\",\"2022-06-07T20:45:08.702976\",\"2022-06-07T20:45:09.705828\",\"2022-06-07T20:45:10.705879\",\"2022-06-07T20:45:11.709114\",\"2022-06-07T20:45:12.712638\",\"2022-06-07T20:45:13.711620\",\"2022-06-07T20:45:14.714689\",\"2022-06-07T20:45:15.719001\",\"2022-06-07T20:45:16.718349\",\"2022-06-07T20:45:17.721040\",\"2022-06-07T20:45:18.724940\",\"2022-06-07T20:45:19.724575\",\"2022-06-07T20:45:20.727363\",\"2022-06-07T20:45:21.727027\",\"2022-06-07T20:45:22.731330\"],\"y\":[49.55,50.55,48.85,46.91,49.02,662.65,1514.28,1511.08,1506.25,1501.56,1497.81,1493.92,1491.43,1489.18,1485.92,1482.73,1479.79,1477.6,1478.59,1481.86,1479.83,1476.66,1478.67,1481.3,1476.71,1479.41,1476.39,1480.84,1478.8,1479.04,1476.92,1475.5,1473.13,1471.64,1469.59,1471.45,1468.69,1467.65,1470.08,1468.67,1471.53,1469.71,1471.27,1472.27,1474.96,1470.41,1472.91,1474.68,1474.5,1472.16,1474.35,1470.81,1473.09,1471.25,1472.08,1473.33,1473.24,1474.41,1473.0,1472.28,1470.63,1473.65,1475.22,1472.29,1472.74,1474.13,1470.61,1475.79,1473.58,1475.46,1469.69,1474.13,1476.21,1472.62,1475.05,1472.84,1474.46,1475.9,1474.64,1474.5,1472.52,1474.89,1477.29,1476.81,1473.46,1474.6,1473.21,1475.24,1476.51,1465.91,1468.63,1470.17,1469.19,1470.25,1470.16,1468.64,1471.77,1470.63,1469.09,1470.29,1472.09,1473.13,1472.95,1468.73,1471.48,1469.11,1470.27,1470.93,1470.52,1466.87,1467.94,1470.6,1469.58,1471.63,1472.53,1473.02,1473.41,1475.52,1468.96,1471.55,1470.39,1475.68,1472.92,1468.71,1469.97,1475.77,1471.76,1473.22,1471.3,1467.61,1470.62,1470.67,1469.0,1463.44,1466.41,1467.73,1470.42,1467.47,1467.4,1469.12,1474.4,1474.49,1473.88,1468.32,1468.13,1468.86,1471.67,1469.05,1469.21,1470.15,1472.25,1467.69,1470.06,1465.54,1464.77,1470.38,1468.53,1469.81,1465.83,1468.33,1471.52,1470.16,1466.77,1470.6,1466.36,1469.27,1469.14,1466.95,1467.98,1467.83,1467.02,1473.56,1468.71,1471.35,1468.65,1466.51,1472.67,1469.3,1471.19,1468.68,1472.88,1472.28,1471.38,1469.16,1474.07,1473.08,1476.15,1471.12,1468.27,1471.36,1466.19,1473.07,1472.05,1474.34,1469.27,1469.62,1471.58,1472.3,1469.32,1467.53,1469.84,1472.55,1469.96,1468.96,1470.62,1472.13,1471.55,1472.91,1475.23,1469.5,1467.55,1471.19,1469.11,1468.51,1469.87,1470.45,1469.54,1470.42,1468.47,1470.59,1472.34,1471.78,1473.31,1466.77,1471.13,1469.55,1471.39,1471.31,1473.97,1471.76,1467.93,1469.34,1474.16,1470.81,1472.14,1469.21,1473.69,1468.93,1472.0,1470.05,1473.41,1469.43,1475.36,1475.31,1471.58,1474.66,1475.2,1473.68,1473.52,1473.09,1469.83,1472.56,1471.37,1472.85,1470.08,1472.25,1475.4,1475.9,1477.87,1471.54,1471.31,1475.71,1475.39,1476.59,1477.74,1473.72,1475.23,1472.47,1474.44,1469.05,1471.04,1470.09,1468.87,1473.54,1468.83,1470.53,1468.01,1468.98,1467.85,1467.01,1464.8,1469.97,1472.54,1463.39,1463.33,1464.78,1468.49,1465.11,1467.72,1468.97,1471.79,1469.59,1467.87,1466.43,1469.86,1469.52,1473.72,1472.5,1470.71,1468.72,1005.89,47.2,49.4,48.88,49.22,47.11],\"type\":\"scatter\"}],                        {\"title\":{\"text\":\"Potencia RMS Hervidor El\\u00e9ctrico: 20h;AguaFr\\u00eda;1000ml\"},\"xaxis\":{\"title\":{\"text\":\"Hora\"}},\"yaxis\":{\"title\":{\"text\":\"Potencia [W]\"}},\"template\":{\"data\":{\"histogram2dcontour\":[{\"type\":\"histogram2dcontour\",\"colorbar\":{\"outlinewidth\":0,\"ticks\":\"\"},\"colorscale\":[[0.0,\"#0d0887\"],[0.1111111111111111,\"#46039f\"],[0.2222222222222222,\"#7201a8\"],[0.3333333333333333,\"#9c179e\"],[0.4444444444444444,\"#bd3786\"],[0.5555555555555556,\"#d8576b\"],[0.6666666666666666,\"#ed7953\"],[0.7777777777777778,\"#fb9f3a\"],[0.8888888888888888,\"#fdca26\"],[1.0,\"#f0f921\"]]}],\"choropleth\":[{\"type\":\"choropleth\",\"colorbar\":{\"outlinewidth\":0,\"ticks\":\"\"}}],\"histogram2d\":[{\"type\":\"histogram2d\",\"colorbar\":{\"outlinewidth\":0,\"ticks\":\"\"},\"colorscale\":[[0.0,\"#0d0887\"],[0.1111111111111111,\"#46039f\"],[0.2222222222222222,\"#7201a8\"],[0.3333333333333333,\"#9c179e\"],[0.4444444444444444,\"#bd3786\"],[0.5555555555555556,\"#d8576b\"],[0.6666666666666666,\"#ed7953\"],[0.7777777777777778,\"#fb9f3a\"],[0.8888888888888888,\"#fdca26\"],[1.0,\"#f0f921\"]]}],\"heatmap\":[{\"type\":\"heatmap\",\"colorbar\":{\"outlinewidth\":0,\"ticks\":\"\"},\"colorscale\":[[0.0,\"#0d0887\"],[0.1111111111111111,\"#46039f\"],[0.2222222222222222,\"#7201a8\"],[0.3333333333333333,\"#9c179e\"],[0.4444444444444444,\"#bd3786\"],[0.5555555555555556,\"#d8576b\"],[0.6666666666666666,\"#ed7953\"],[0.7777777777777778,\"#fb9f3a\"],[0.8888888888888888,\"#fdca26\"],[1.0,\"#f0f921\"]]}],\"heatmapgl\":[{\"type\":\"heatmapgl\",\"colorbar\":{\"outlinewidth\":0,\"ticks\":\"\"},\"colorscale\":[[0.0,\"#0d0887\"],[0.1111111111111111,\"#46039f\"],[0.2222222222222222,\"#7201a8\"],[0.3333333333333333,\"#9c179e\"],[0.4444444444444444,\"#bd3786\"],[0.5555555555555556,\"#d8576b\"],[0.6666666666666666,\"#ed7953\"],[0.7777777777777778,\"#fb9f3a\"],[0.8888888888888888,\"#fdca26\"],[1.0,\"#f0f921\"]]}],\"contourcarpet\":[{\"type\":\"contourcarpet\",\"colorbar\":{\"outlinewidth\":0,\"ticks\":\"\"}}],\"contour\":[{\"type\":\"contour\",\"colorbar\":{\"outlinewidth\":0,\"ticks\":\"\"},\"colorscale\":[[0.0,\"#0d0887\"],[0.1111111111111111,\"#46039f\"],[0.2222222222222222,\"#7201a8\"],[0.3333333333333333,\"#9c179e\"],[0.4444444444444444,\"#bd3786\"],[0.5555555555555556,\"#d8576b\"],[0.6666666666666666,\"#ed7953\"],[0.7777777777777778,\"#fb9f3a\"],[0.8888888888888888,\"#fdca26\"],[1.0,\"#f0f921\"]]}],\"surface\":[{\"type\":\"surface\",\"colorbar\":{\"outlinewidth\":0,\"ticks\":\"\"},\"colorscale\":[[0.0,\"#0d0887\"],[0.1111111111111111,\"#46039f\"],[0.2222222222222222,\"#7201a8\"],[0.3333333333333333,\"#9c179e\"],[0.4444444444444444,\"#bd3786\"],[0.5555555555555556,\"#d8576b\"],[0.6666666666666666,\"#ed7953\"],[0.7777777777777778,\"#fb9f3a\"],[0.8888888888888888,\"#fdca26\"],[1.0,\"#f0f921\"]]}],\"mesh3d\":[{\"type\":\"mesh3d\",\"colorbar\":{\"outlinewidth\":0,\"ticks\":\"\"}}],\"scatter\":[{\"fillpattern\":{\"fillmode\":\"overlay\",\"size\":10,\"solidity\":0.2},\"type\":\"scatter\"}],\"parcoords\":[{\"type\":\"parcoords\",\"line\":{\"colorbar\":{\"outlinewidth\":0,\"ticks\":\"\"}}}],\"scatterpolargl\":[{\"type\":\"scatterpolargl\",\"marker\":{\"colorbar\":{\"outlinewidth\":0,\"ticks\":\"\"}}}],\"bar\":[{\"error_x\":{\"color\":\"#2a3f5f\"},\"error_y\":{\"color\":\"#2a3f5f\"},\"marker\":{\"line\":{\"color\":\"#E5ECF6\",\"width\":0.5},\"pattern\":{\"fillmode\":\"overlay\",\"size\":10,\"solidity\":0.2}},\"type\":\"bar\"}],\"scattergeo\":[{\"type\":\"scattergeo\",\"marker\":{\"colorbar\":{\"outlinewidth\":0,\"ticks\":\"\"}}}],\"scatterpolar\":[{\"type\":\"scatterpolar\",\"marker\":{\"colorbar\":{\"outlinewidth\":0,\"ticks\":\"\"}}}],\"histogram\":[{\"marker\":{\"pattern\":{\"fillmode\":\"overlay\",\"size\":10,\"solidity\":0.2}},\"type\":\"histogram\"}],\"scattergl\":[{\"type\":\"scattergl\",\"marker\":{\"colorbar\":{\"outlinewidth\":0,\"ticks\":\"\"}}}],\"scatter3d\":[{\"type\":\"scatter3d\",\"line\":{\"colorbar\":{\"outlinewidth\":0,\"ticks\":\"\"}},\"marker\":{\"colorbar\":{\"outlinewidth\":0,\"ticks\":\"\"}}}],\"scattermapbox\":[{\"type\":\"scattermapbox\",\"marker\":{\"colorbar\":{\"outlinewidth\":0,\"ticks\":\"\"}}}],\"scatterternary\":[{\"type\":\"scatterternary\",\"marker\":{\"colorbar\":{\"outlinewidth\":0,\"ticks\":\"\"}}}],\"scattercarpet\":[{\"type\":\"scattercarpet\",\"marker\":{\"colorbar\":{\"outlinewidth\":0,\"ticks\":\"\"}}}],\"carpet\":[{\"aaxis\":{\"endlinecolor\":\"#2a3f5f\",\"gridcolor\":\"white\",\"linecolor\":\"white\",\"minorgridcolor\":\"white\",\"startlinecolor\":\"#2a3f5f\"},\"baxis\":{\"endlinecolor\":\"#2a3f5f\",\"gridcolor\":\"white\",\"linecolor\":\"white\",\"minorgridcolor\":\"white\",\"startlinecolor\":\"#2a3f5f\"},\"type\":\"carpet\"}],\"table\":[{\"cells\":{\"fill\":{\"color\":\"#EBF0F8\"},\"line\":{\"color\":\"white\"}},\"header\":{\"fill\":{\"color\":\"#C8D4E3\"},\"line\":{\"color\":\"white\"}},\"type\":\"table\"}],\"barpolar\":[{\"marker\":{\"line\":{\"color\":\"#E5ECF6\",\"width\":0.5},\"pattern\":{\"fillmode\":\"overlay\",\"size\":10,\"solidity\":0.2}},\"type\":\"barpolar\"}],\"pie\":[{\"automargin\":true,\"type\":\"pie\"}]},\"layout\":{\"autotypenumbers\":\"strict\",\"colorway\":[\"#636efa\",\"#EF553B\",\"#00cc96\",\"#ab63fa\",\"#FFA15A\",\"#19d3f3\",\"#FF6692\",\"#B6E880\",\"#FF97FF\",\"#FECB52\"],\"font\":{\"color\":\"#2a3f5f\"},\"hovermode\":\"closest\",\"hoverlabel\":{\"align\":\"left\"},\"paper_bgcolor\":\"white\",\"plot_bgcolor\":\"#E5ECF6\",\"polar\":{\"bgcolor\":\"#E5ECF6\",\"angularaxis\":{\"gridcolor\":\"white\",\"linecolor\":\"white\",\"ticks\":\"\"},\"radialaxis\":{\"gridcolor\":\"white\",\"linecolor\":\"white\",\"ticks\":\"\"}},\"ternary\":{\"bgcolor\":\"#E5ECF6\",\"aaxis\":{\"gridcolor\":\"white\",\"linecolor\":\"white\",\"ticks\":\"\"},\"baxis\":{\"gridcolor\":\"white\",\"linecolor\":\"white\",\"ticks\":\"\"},\"caxis\":{\"gridcolor\":\"white\",\"linecolor\":\"white\",\"ticks\":\"\"}},\"coloraxis\":{\"colorbar\":{\"outlinewidth\":0,\"ticks\":\"\"}},\"colorscale\":{\"sequential\":[[0.0,\"#0d0887\"],[0.1111111111111111,\"#46039f\"],[0.2222222222222222,\"#7201a8\"],[0.3333333333333333,\"#9c179e\"],[0.4444444444444444,\"#bd3786\"],[0.5555555555555556,\"#d8576b\"],[0.6666666666666666,\"#ed7953\"],[0.7777777777777778,\"#fb9f3a\"],[0.8888888888888888,\"#fdca26\"],[1.0,\"#f0f921\"]],\"sequentialminus\":[[0.0,\"#0d0887\"],[0.1111111111111111,\"#46039f\"],[0.2222222222222222,\"#7201a8\"],[0.3333333333333333,\"#9c179e\"],[0.4444444444444444,\"#bd3786\"],[0.5555555555555556,\"#d8576b\"],[0.6666666666666666,\"#ed7953\"],[0.7777777777777778,\"#fb9f3a\"],[0.8888888888888888,\"#fdca26\"],[1.0,\"#f0f921\"]],\"diverging\":[[0,\"#8e0152\"],[0.1,\"#c51b7d\"],[0.2,\"#de77ae\"],[0.3,\"#f1b6da\"],[0.4,\"#fde0ef\"],[0.5,\"#f7f7f7\"],[0.6,\"#e6f5d0\"],[0.7,\"#b8e186\"],[0.8,\"#7fbc41\"],[0.9,\"#4d9221\"],[1,\"#276419\"]]},\"xaxis\":{\"gridcolor\":\"white\",\"linecolor\":\"white\",\"ticks\":\"\",\"title\":{\"standoff\":15},\"zerolinecolor\":\"white\",\"automargin\":true,\"zerolinewidth\":2},\"yaxis\":{\"gridcolor\":\"white\",\"linecolor\":\"white\",\"ticks\":\"\",\"title\":{\"standoff\":15},\"zerolinecolor\":\"white\",\"automargin\":true,\"zerolinewidth\":2},\"scene\":{\"xaxis\":{\"backgroundcolor\":\"#E5ECF6\",\"gridcolor\":\"white\",\"linecolor\":\"white\",\"showbackground\":true,\"ticks\":\"\",\"zerolinecolor\":\"white\",\"gridwidth\":2},\"yaxis\":{\"backgroundcolor\":\"#E5ECF6\",\"gridcolor\":\"white\",\"linecolor\":\"white\",\"showbackground\":true,\"ticks\":\"\",\"zerolinecolor\":\"white\",\"gridwidth\":2},\"zaxis\":{\"backgroundcolor\":\"#E5ECF6\",\"gridcolor\":\"white\",\"linecolor\":\"white\",\"showbackground\":true,\"ticks\":\"\",\"zerolinecolor\":\"white\",\"gridwidth\":2}},\"shapedefaults\":{\"line\":{\"color\":\"#2a3f5f\"}},\"annotationdefaults\":{\"arrowcolor\":\"#2a3f5f\",\"arrowhead\":0,\"arrowwidth\":1},\"geo\":{\"bgcolor\":\"white\",\"landcolor\":\"#E5ECF6\",\"subunitcolor\":\"white\",\"showland\":true,\"showlakes\":true,\"lakecolor\":\"white\"},\"title\":{\"x\":0.05},\"mapbox\":{\"style\":\"light\"}}}},                        {\"responsive\": true}                    ).then(function(){\n",
       "                            \n",
       "var gd = document.getElementById('a8391188-2070-43ac-98cf-482e523c4cff');\n",
       "var x = new MutationObserver(function (mutations, observer) {{\n",
       "        var display = window.getComputedStyle(gd).display;\n",
       "        if (!display || display === 'none') {{\n",
       "            console.log([gd, 'removed!']);\n",
       "            Plotly.purge(gd);\n",
       "            observer.disconnect();\n",
       "        }}\n",
       "}});\n",
       "\n",
       "// Listen for the removal of the full notebook cells\n",
       "var notebookContainer = gd.closest('#notebook-container');\n",
       "if (notebookContainer) {{\n",
       "    x.observe(notebookContainer, {childList: true});\n",
       "}}\n",
       "\n",
       "// Listen for the clearing of the current output cell\n",
       "var outputEl = gd.closest('.output');\n",
       "if (outputEl) {{\n",
       "    x.observe(outputEl, {childList: true});\n",
       "}}\n",
       "\n",
       "                        })                };                });            </script>        </div>"
      ]
     },
     "metadata": {},
     "output_type": "display_data"
    }
   ],
   "source": [
    "fig = go.Figure(\n",
    "    data=[\n",
    "        go.Line(x=BD_carga['Fecha'][0:12*75],\n",
    "                y=BD_carga['Potencia'][0:12*75], name=\"Power\")\n",
    "    ],\n",
    "    layout=go.Layout(\n",
    "        title=dict(text='Potencia RMS Hervidor Eléctrico: 20h;AguaFría;1000ml'),\n",
    "        xaxis=dict(title='Hora'),\n",
    "        yaxis=dict(title='Potencia [W]')\n",
    "    )\n",
    ")\n",
    "fig.show()\n",
    "        \n",
    "        "
   ]
  }
 ],
 "metadata": {
  "kernelspec": {
   "display_name": "Python 3 (ipykernel)",
   "language": "python",
   "name": "python3"
  },
  "language_info": {
   "codemirror_mode": {
    "name": "ipython",
    "version": 3
   },
   "file_extension": ".py",
   "mimetype": "text/x-python",
   "name": "python",
   "nbconvert_exporter": "python",
   "pygments_lexer": "ipython3",
   "version": "3.9.7"
  }
 },
 "nbformat": 4,
 "nbformat_minor": 5
}
