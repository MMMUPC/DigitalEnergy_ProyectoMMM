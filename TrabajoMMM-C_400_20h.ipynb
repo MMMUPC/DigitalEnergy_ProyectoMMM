{
 "cells": [
  {
   "cell_type": "markdown",
   "id": "a8fcd987",
   "metadata": {},
   "source": [
    "<img src=\"Figures/top_ML.png\" alt=\"Drawing\" style=\"width: 1000px;\"/>"
   ]
  },
  {
   "cell_type": "markdown",
   "id": "81e86598",
   "metadata": {},
   "source": [
    "# \"Digitalización de una carga doméstica\"\n",
    "\n",
    "## Postítulo \"Digital Energy\", Máster Smart Energy\n",
    "\n",
    "## Módulo: Digitalización de la Energía\n",
    "\n",
    "## Alumno: Max Antonio Missene Montecinos"
   ]
  },
  {
   "cell_type": "markdown",
   "id": "6aa4771d",
   "metadata": {},
   "source": [
    "### Objetivo:\n",
    "\n",
    "#### Monitoreo de una carga doméstica mediante un procesador de datos construido en base a un microcontrolador Arduino.\n",
    "\n",
    "### Pautas generales:\n",
    "\n",
    "1. Descripción de la carga seleccionada para nuestro Proyecto. Modelo, potencia nominal, uso habitual que hacéis de ella, etc.\n",
    "2. Descripción de vuestro montaje: Fotos del montaje con la carga, explicación breve del código para la realización de la medición.\n",
    "3. Análisis preliminar de consumo de la carga: Captura del a corriente instantánea, grabar datos de corriente en RMS y realizar alguna gráfica (Excel mismo) y comentar el consumo observado."
   ]
  },
  {
   "cell_type": "markdown",
   "id": "1aa8be0e",
   "metadata": {},
   "source": [
    "## Generales"
   ]
  },
  {
   "cell_type": "markdown",
   "id": "c429a698",
   "metadata": {},
   "source": [
    "#### El primer paso que se realizará en el desarrollo del presente trabajo, será importar las librerías y funciones de librerías que utilizaremos a lo largo del código."
   ]
  },
  {
   "cell_type": "code",
   "execution_count": 23,
   "id": "571ae1ca",
   "metadata": {},
   "outputs": [],
   "source": [
    "# Librerías usadas\n",
    "\n",
    "import pandas as pd\n",
    "import matplotlib.pyplot as plt\n",
    "import numpy as np\n",
    "import seaborn as sns\n",
    "import datetime\n",
    "from datetime import date, time, datetime, timedelta\n",
    "import warnings\n",
    "warnings.filterwarnings('ignore')"
   ]
  },
  {
   "cell_type": "markdown",
   "id": "98bc077b",
   "metadata": {},
   "source": [
    "#### A continuación, se procederá a importar la base de datos."
   ]
  },
  {
   "cell_type": "code",
   "execution_count": 24,
   "id": "c345e48d",
   "metadata": {},
   "outputs": [],
   "source": [
    "# Generar DataFrame (DF) a partir de base de datos de excel\n",
    "columns=['Fecha','Corriente','Potencia']\n",
    "BD_carga = pd.read_csv('Data/data_400_C_20h.csv', names=columns)"
   ]
  },
  {
   "cell_type": "markdown",
   "id": "f6fea903",
   "metadata": {},
   "source": [
    "### 1. Entendimiento de los datos, estadística descriptiva y visualizaciones"
   ]
  },
  {
   "cell_type": "markdown",
   "id": "4360cea8",
   "metadata": {},
   "source": [
    "#### En primera instancia, se determinará el número de dimensiones que posee la base de datos."
   ]
  },
  {
   "cell_type": "code",
   "execution_count": 25,
   "id": "04285cb4",
   "metadata": {},
   "outputs": [
    {
     "data": {
      "text/plain": [
       "(122, 3)"
      ]
     },
     "execution_count": 25,
     "metadata": {},
     "output_type": "execute_result"
    }
   ],
   "source": [
    "# Se procederá a conocer las dimensiones del DF con la función \"shape\".\n",
    "BD_carga.shape"
   ]
  },
  {
   "cell_type": "markdown",
   "id": "bc050715",
   "metadata": {},
   "source": [
    "#### Es posible notar que el DataFrame contine 3 columnas y 122 filas. "
   ]
  },
  {
   "cell_type": "markdown",
   "id": "12595815",
   "metadata": {},
   "source": [
    "#### Así, se desplegaran las primeras filas del dataframe, para examinar de forma preliminar los datos."
   ]
  },
  {
   "cell_type": "code",
   "execution_count": 26,
   "id": "a96185ac",
   "metadata": {},
   "outputs": [
    {
     "data": {
      "text/html": [
       "<div>\n",
       "<style scoped>\n",
       "    .dataframe tbody tr th:only-of-type {\n",
       "        vertical-align: middle;\n",
       "    }\n",
       "\n",
       "    .dataframe tbody tr th {\n",
       "        vertical-align: top;\n",
       "    }\n",
       "\n",
       "    .dataframe thead th {\n",
       "        text-align: right;\n",
       "    }\n",
       "</style>\n",
       "<table border=\"1\" class=\"dataframe\">\n",
       "  <thead>\n",
       "    <tr style=\"text-align: right;\">\n",
       "      <th></th>\n",
       "      <th>Fecha</th>\n",
       "      <th>Corriente</th>\n",
       "      <th>Potencia</th>\n",
       "    </tr>\n",
       "  </thead>\n",
       "  <tbody>\n",
       "    <tr>\n",
       "      <th>0</th>\n",
       "      <td>2022-06-07 20:20:33.270494</td>\n",
       "      <td>0.20</td>\n",
       "      <td>46.46</td>\n",
       "    </tr>\n",
       "    <tr>\n",
       "      <th>1</th>\n",
       "      <td>2022-06-07 20:20:34.274694</td>\n",
       "      <td>0.20</td>\n",
       "      <td>47.15</td>\n",
       "    </tr>\n",
       "    <tr>\n",
       "      <th>2</th>\n",
       "      <td>2022-06-07 20:20:35.277526</td>\n",
       "      <td>0.21</td>\n",
       "      <td>47.54</td>\n",
       "    </tr>\n",
       "    <tr>\n",
       "      <th>3</th>\n",
       "      <td>2022-06-07 20:20:36.276230</td>\n",
       "      <td>0.21</td>\n",
       "      <td>47.76</td>\n",
       "    </tr>\n",
       "    <tr>\n",
       "      <th>4</th>\n",
       "      <td>2022-06-07 20:20:37.280886</td>\n",
       "      <td>0.21</td>\n",
       "      <td>47.53</td>\n",
       "    </tr>\n",
       "  </tbody>\n",
       "</table>\n",
       "</div>"
      ],
      "text/plain": [
       "                        Fecha  Corriente  Potencia\n",
       "0  2022-06-07 20:20:33.270494       0.20     46.46\n",
       "1  2022-06-07 20:20:34.274694       0.20     47.15\n",
       "2  2022-06-07 20:20:35.277526       0.21     47.54\n",
       "3  2022-06-07 20:20:36.276230       0.21     47.76\n",
       "4  2022-06-07 20:20:37.280886       0.21     47.53"
      ]
     },
     "execution_count": 26,
     "metadata": {},
     "output_type": "execute_result"
    }
   ],
   "source": [
    "# Desplegar primeras 5 filas del DF a partir de la función \"head\".\n",
    "BD_carga.head()"
   ]
  },
  {
   "cell_type": "markdown",
   "id": "46f013f8",
   "metadata": {},
   "source": [
    "#### De manera análoga, se desplegaran las primeras últimas filas del dataframe, para examinar de forma preliminar los datos."
   ]
  },
  {
   "cell_type": "code",
   "execution_count": 27,
   "id": "27cdd889",
   "metadata": {},
   "outputs": [
    {
     "data": {
      "text/html": [
       "<div>\n",
       "<style scoped>\n",
       "    .dataframe tbody tr th:only-of-type {\n",
       "        vertical-align: middle;\n",
       "    }\n",
       "\n",
       "    .dataframe tbody tr th {\n",
       "        vertical-align: top;\n",
       "    }\n",
       "\n",
       "    .dataframe thead th {\n",
       "        text-align: right;\n",
       "    }\n",
       "</style>\n",
       "<table border=\"1\" class=\"dataframe\">\n",
       "  <thead>\n",
       "    <tr style=\"text-align: right;\">\n",
       "      <th></th>\n",
       "      <th>Fecha</th>\n",
       "      <th>Corriente</th>\n",
       "      <th>Potencia</th>\n",
       "    </tr>\n",
       "  </thead>\n",
       "  <tbody>\n",
       "    <tr>\n",
       "      <th>117</th>\n",
       "      <td>2022-06-07 20:22:30.529728</td>\n",
       "      <td>0.22</td>\n",
       "      <td>49.82</td>\n",
       "    </tr>\n",
       "    <tr>\n",
       "      <th>118</th>\n",
       "      <td>2022-06-07 20:22:31.528438</td>\n",
       "      <td>0.21</td>\n",
       "      <td>48.87</td>\n",
       "    </tr>\n",
       "    <tr>\n",
       "      <th>119</th>\n",
       "      <td>2022-06-07 20:22:32.531909</td>\n",
       "      <td>0.22</td>\n",
       "      <td>50.06</td>\n",
       "    </tr>\n",
       "    <tr>\n",
       "      <th>120</th>\n",
       "      <td>2022-06-07 20:22:33.535345</td>\n",
       "      <td>0.21</td>\n",
       "      <td>49.33</td>\n",
       "    </tr>\n",
       "    <tr>\n",
       "      <th>121</th>\n",
       "      <td>2022-06-07 20:22:34.535661</td>\n",
       "      <td>0.21</td>\n",
       "      <td>49.19</td>\n",
       "    </tr>\n",
       "  </tbody>\n",
       "</table>\n",
       "</div>"
      ],
      "text/plain": [
       "                          Fecha  Corriente  Potencia\n",
       "117  2022-06-07 20:22:30.529728       0.22     49.82\n",
       "118  2022-06-07 20:22:31.528438       0.21     48.87\n",
       "119  2022-06-07 20:22:32.531909       0.22     50.06\n",
       "120  2022-06-07 20:22:33.535345       0.21     49.33\n",
       "121  2022-06-07 20:22:34.535661       0.21     49.19"
      ]
     },
     "execution_count": 27,
     "metadata": {},
     "output_type": "execute_result"
    }
   ],
   "source": [
    "# Desplegar última 5 filas del DF a partir de la función \"tail\".\n",
    "BD_carga.tail()"
   ]
  },
  {
   "cell_type": "code",
   "execution_count": 28,
   "id": "d3ce6dbc",
   "metadata": {},
   "outputs": [
    {
     "data": {
      "text/plain": [
       "Fecha         object\n",
       "Corriente    float64\n",
       "Potencia     float64\n",
       "dtype: object"
      ]
     },
     "execution_count": 28,
     "metadata": {},
     "output_type": "execute_result"
    }
   ],
   "source": [
    "# Desplegar última 5 filas del DF a partir de la función \"tail\".\n",
    "BD_carga.dtypes"
   ]
  },
  {
   "cell_type": "markdown",
   "id": "581ce836",
   "metadata": {},
   "source": [
    "#### Ya pudiendo mirar el contenido del dataframe de manera general, se realizará el cálculo de valores estadísticos de sus columnas."
   ]
  },
  {
   "cell_type": "code",
   "execution_count": 29,
   "id": "a702d86a",
   "metadata": {},
   "outputs": [
    {
     "data": {
      "text/plain": [
       "Fecha        datetime64[ns]\n",
       "Corriente           float64\n",
       "Potencia            float64\n",
       "dtype: object"
      ]
     },
     "execution_count": 29,
     "metadata": {},
     "output_type": "execute_result"
    }
   ],
   "source": [
    "# Desplegar última 5 filas del DF a partir de la función \"tail\".\n",
    "BD_carga['Fecha']=pd.to_datetime(BD_carga['Fecha'])\n",
    "BD_carga.dtypes\n"
   ]
  },
  {
   "cell_type": "code",
   "execution_count": 30,
   "id": "669189b6",
   "metadata": {},
   "outputs": [
    {
     "data": {
      "text/html": [
       "<div>\n",
       "<style scoped>\n",
       "    .dataframe tbody tr th:only-of-type {\n",
       "        vertical-align: middle;\n",
       "    }\n",
       "\n",
       "    .dataframe tbody tr th {\n",
       "        vertical-align: top;\n",
       "    }\n",
       "\n",
       "    .dataframe thead th {\n",
       "        text-align: right;\n",
       "    }\n",
       "</style>\n",
       "<table border=\"1\" class=\"dataframe\">\n",
       "  <thead>\n",
       "    <tr style=\"text-align: right;\">\n",
       "      <th></th>\n",
       "      <th>Corriente</th>\n",
       "      <th>Potencia</th>\n",
       "    </tr>\n",
       "  </thead>\n",
       "  <tbody>\n",
       "    <tr>\n",
       "      <th>count</th>\n",
       "      <td>122.000000</td>\n",
       "      <td>122.000000</td>\n",
       "    </tr>\n",
       "    <tr>\n",
       "      <th>mean</th>\n",
       "      <td>5.752541</td>\n",
       "      <td>1323.099508</td>\n",
       "    </tr>\n",
       "    <tr>\n",
       "      <th>std</th>\n",
       "      <td>1.844666</td>\n",
       "      <td>424.218825</td>\n",
       "    </tr>\n",
       "    <tr>\n",
       "      <th>min</th>\n",
       "      <td>0.200000</td>\n",
       "      <td>46.460000</td>\n",
       "    </tr>\n",
       "    <tr>\n",
       "      <th>25%</th>\n",
       "      <td>6.360000</td>\n",
       "      <td>1461.890000</td>\n",
       "    </tr>\n",
       "    <tr>\n",
       "      <th>50%</th>\n",
       "      <td>6.370000</td>\n",
       "      <td>1465.065000</td>\n",
       "    </tr>\n",
       "    <tr>\n",
       "      <th>75%</th>\n",
       "      <td>6.387500</td>\n",
       "      <td>1468.587500</td>\n",
       "    </tr>\n",
       "    <tr>\n",
       "      <th>max</th>\n",
       "      <td>6.560000</td>\n",
       "      <td>1508.730000</td>\n",
       "    </tr>\n",
       "  </tbody>\n",
       "</table>\n",
       "</div>"
      ],
      "text/plain": [
       "        Corriente     Potencia\n",
       "count  122.000000   122.000000\n",
       "mean     5.752541  1323.099508\n",
       "std      1.844666   424.218825\n",
       "min      0.200000    46.460000\n",
       "25%      6.360000  1461.890000\n",
       "50%      6.370000  1465.065000\n",
       "75%      6.387500  1468.587500\n",
       "max      6.560000  1508.730000"
      ]
     },
     "execution_count": 30,
     "metadata": {},
     "output_type": "execute_result"
    }
   ],
   "source": [
    "# Se aplica la función \"describe\" al dataframe, el cual calculará algunos parámetros estadísticos a cada columna.\n",
    "BD_carga.describe()"
   ]
  },
  {
   "cell_type": "code",
   "execution_count": 31,
   "id": "7451fe84",
   "metadata": {},
   "outputs": [
    {
     "data": {
      "text/plain": [
       "Fecha        0\n",
       "Corriente    0\n",
       "Potencia     0\n",
       "dtype: int64"
      ]
     },
     "execution_count": 31,
     "metadata": {},
     "output_type": "execute_result"
    }
   ],
   "source": [
    "BD_carga.isna().sum()"
   ]
  },
  {
   "cell_type": "code",
   "execution_count": 33,
   "id": "428d92ac",
   "metadata": {},
   "outputs": [],
   "source": [
    "BD_carga['Energy_kWh']=0.0\n",
    "BD_carga['time_dif']=0.0\n",
    "BD_carga['cum_energy_kwh']=0.0\n",
    "longitud=len(BD_carga['Energy_kWh'])\n",
    "\n",
    "for x in range(0, longitud):\n",
    " if BD_carga['Corriente'][x]<0.0:\n",
    "        BD_carga.at[x, 'Corriente']=0.0\n",
    " if BD_carga['Potencia'][x]<0.0:\n",
    "        BD_carga.at[x, 'Potencia']=0.0\n",
    "for x in range(1, longitud):\n",
    "    BD_carga.at[x, 'Energy_kWh']=BD_carga['Potencia'][x]*((BD_carga['Fecha'][x]-BD_carga['Fecha'][x-1]).total_seconds()/3600000)\n",
    "    BD_carga.at[x, 'time_dif']=(BD_carga['Fecha'][x]-BD_carga['Fecha'][x-1]).total_seconds()\n",
    "    BD_carga.at[x, 'cum_energy_kwh']=BD_carga['cum_energy_kwh'][x-1]+BD_carga['Energy_kWh'][x]\n",
    "    "
   ]
  },
  {
   "cell_type": "code",
   "execution_count": 34,
   "id": "97c9a673",
   "metadata": {},
   "outputs": [
    {
     "data": {
      "text/html": [
       "<div>\n",
       "<style scoped>\n",
       "    .dataframe tbody tr th:only-of-type {\n",
       "        vertical-align: middle;\n",
       "    }\n",
       "\n",
       "    .dataframe tbody tr th {\n",
       "        vertical-align: top;\n",
       "    }\n",
       "\n",
       "    .dataframe thead th {\n",
       "        text-align: right;\n",
       "    }\n",
       "</style>\n",
       "<table border=\"1\" class=\"dataframe\">\n",
       "  <thead>\n",
       "    <tr style=\"text-align: right;\">\n",
       "      <th></th>\n",
       "      <th>Fecha</th>\n",
       "      <th>Corriente</th>\n",
       "      <th>Potencia</th>\n",
       "      <th>Energy_kWh</th>\n",
       "      <th>time_dif</th>\n",
       "      <th>cum_energy_kwh</th>\n",
       "    </tr>\n",
       "  </thead>\n",
       "  <tbody>\n",
       "    <tr>\n",
       "      <th>0</th>\n",
       "      <td>2022-06-07 20:20:33.270494</td>\n",
       "      <td>0.20</td>\n",
       "      <td>46.46</td>\n",
       "      <td>0.000000</td>\n",
       "      <td>0.000000</td>\n",
       "      <td>0.000000</td>\n",
       "    </tr>\n",
       "    <tr>\n",
       "      <th>1</th>\n",
       "      <td>2022-06-07 20:20:34.274694</td>\n",
       "      <td>0.20</td>\n",
       "      <td>47.15</td>\n",
       "      <td>0.000013</td>\n",
       "      <td>1.004200</td>\n",
       "      <td>0.000013</td>\n",
       "    </tr>\n",
       "    <tr>\n",
       "      <th>2</th>\n",
       "      <td>2022-06-07 20:20:35.277526</td>\n",
       "      <td>0.21</td>\n",
       "      <td>47.54</td>\n",
       "      <td>0.000013</td>\n",
       "      <td>1.002832</td>\n",
       "      <td>0.000026</td>\n",
       "    </tr>\n",
       "    <tr>\n",
       "      <th>3</th>\n",
       "      <td>2022-06-07 20:20:36.276230</td>\n",
       "      <td>0.21</td>\n",
       "      <td>47.76</td>\n",
       "      <td>0.000013</td>\n",
       "      <td>0.998704</td>\n",
       "      <td>0.000040</td>\n",
       "    </tr>\n",
       "    <tr>\n",
       "      <th>4</th>\n",
       "      <td>2022-06-07 20:20:37.280886</td>\n",
       "      <td>0.21</td>\n",
       "      <td>47.53</td>\n",
       "      <td>0.000013</td>\n",
       "      <td>1.004656</td>\n",
       "      <td>0.000053</td>\n",
       "    </tr>\n",
       "  </tbody>\n",
       "</table>\n",
       "</div>"
      ],
      "text/plain": [
       "                       Fecha  Corriente  Potencia  Energy_kWh  time_dif  \\\n",
       "0 2022-06-07 20:20:33.270494       0.20     46.46    0.000000  0.000000   \n",
       "1 2022-06-07 20:20:34.274694       0.20     47.15    0.000013  1.004200   \n",
       "2 2022-06-07 20:20:35.277526       0.21     47.54    0.000013  1.002832   \n",
       "3 2022-06-07 20:20:36.276230       0.21     47.76    0.000013  0.998704   \n",
       "4 2022-06-07 20:20:37.280886       0.21     47.53    0.000013  1.004656   \n",
       "\n",
       "   cum_energy_kwh  \n",
       "0        0.000000  \n",
       "1        0.000013  \n",
       "2        0.000026  \n",
       "3        0.000040  \n",
       "4        0.000053  "
      ]
     },
     "execution_count": 34,
     "metadata": {},
     "output_type": "execute_result"
    }
   ],
   "source": [
    "BD_carga.head()"
   ]
  },
  {
   "cell_type": "code",
   "execution_count": 35,
   "id": "1d113be0",
   "metadata": {},
   "outputs": [
    {
     "data": {
      "text/html": [
       "<div>\n",
       "<style scoped>\n",
       "    .dataframe tbody tr th:only-of-type {\n",
       "        vertical-align: middle;\n",
       "    }\n",
       "\n",
       "    .dataframe tbody tr th {\n",
       "        vertical-align: top;\n",
       "    }\n",
       "\n",
       "    .dataframe thead th {\n",
       "        text-align: right;\n",
       "    }\n",
       "</style>\n",
       "<table border=\"1\" class=\"dataframe\">\n",
       "  <thead>\n",
       "    <tr style=\"text-align: right;\">\n",
       "      <th></th>\n",
       "      <th>Fecha</th>\n",
       "      <th>Corriente</th>\n",
       "      <th>Potencia</th>\n",
       "      <th>Energy_kWh</th>\n",
       "      <th>time_dif</th>\n",
       "      <th>cum_energy_kwh</th>\n",
       "    </tr>\n",
       "  </thead>\n",
       "  <tbody>\n",
       "    <tr>\n",
       "      <th>117</th>\n",
       "      <td>2022-06-07 20:22:30.529728</td>\n",
       "      <td>0.22</td>\n",
       "      <td>49.82</td>\n",
       "      <td>0.000014</td>\n",
       "      <td>1.004287</td>\n",
       "      <td>0.044870</td>\n",
       "    </tr>\n",
       "    <tr>\n",
       "      <th>118</th>\n",
       "      <td>2022-06-07 20:22:31.528438</td>\n",
       "      <td>0.21</td>\n",
       "      <td>48.87</td>\n",
       "      <td>0.000014</td>\n",
       "      <td>0.998710</td>\n",
       "      <td>0.044883</td>\n",
       "    </tr>\n",
       "    <tr>\n",
       "      <th>119</th>\n",
       "      <td>2022-06-07 20:22:32.531909</td>\n",
       "      <td>0.22</td>\n",
       "      <td>50.06</td>\n",
       "      <td>0.000014</td>\n",
       "      <td>1.003471</td>\n",
       "      <td>0.044897</td>\n",
       "    </tr>\n",
       "    <tr>\n",
       "      <th>120</th>\n",
       "      <td>2022-06-07 20:22:33.535345</td>\n",
       "      <td>0.21</td>\n",
       "      <td>49.33</td>\n",
       "      <td>0.000014</td>\n",
       "      <td>1.003436</td>\n",
       "      <td>0.044911</td>\n",
       "    </tr>\n",
       "    <tr>\n",
       "      <th>121</th>\n",
       "      <td>2022-06-07 20:22:34.535661</td>\n",
       "      <td>0.21</td>\n",
       "      <td>49.19</td>\n",
       "      <td>0.000014</td>\n",
       "      <td>1.000316</td>\n",
       "      <td>0.044925</td>\n",
       "    </tr>\n",
       "  </tbody>\n",
       "</table>\n",
       "</div>"
      ],
      "text/plain": [
       "                         Fecha  Corriente  Potencia  Energy_kWh  time_dif  \\\n",
       "117 2022-06-07 20:22:30.529728       0.22     49.82    0.000014  1.004287   \n",
       "118 2022-06-07 20:22:31.528438       0.21     48.87    0.000014  0.998710   \n",
       "119 2022-06-07 20:22:32.531909       0.22     50.06    0.000014  1.003471   \n",
       "120 2022-06-07 20:22:33.535345       0.21     49.33    0.000014  1.003436   \n",
       "121 2022-06-07 20:22:34.535661       0.21     49.19    0.000014  1.000316   \n",
       "\n",
       "     cum_energy_kwh  \n",
       "117        0.044870  \n",
       "118        0.044883  \n",
       "119        0.044897  \n",
       "120        0.044911  \n",
       "121        0.044925  "
      ]
     },
     "execution_count": 35,
     "metadata": {},
     "output_type": "execute_result"
    }
   ],
   "source": [
    "BD_carga.tail()"
   ]
  },
  {
   "cell_type": "code",
   "execution_count": 36,
   "id": "a13f9127",
   "metadata": {},
   "outputs": [
    {
     "data": {
      "text/plain": [
       "0.044924624185138894"
      ]
     },
     "execution_count": 36,
     "metadata": {},
     "output_type": "execute_result"
    }
   ],
   "source": [
    "BD_carga['Energy_kWh'].sum()"
   ]
  },
  {
   "cell_type": "code",
   "execution_count": 37,
   "id": "bbb946ae",
   "metadata": {},
   "outputs": [
    {
     "data": {
      "text/plain": [
       "0.03368476861111111"
      ]
     },
     "execution_count": 37,
     "metadata": {},
     "output_type": "execute_result"
    }
   ],
   "source": [
    "((BD_carga['time_dif'].sum())/60)/60"
   ]
  },
  {
   "cell_type": "code",
   "execution_count": 40,
   "id": "e1cea20e",
   "metadata": {},
   "outputs": [
    {
     "data": {
      "text/html": [
       "        <script type=\"text/javascript\">\n",
       "        window.PlotlyConfig = {MathJaxConfig: 'local'};\n",
       "        if (window.MathJax && window.MathJax.Hub && window.MathJax.Hub.Config) {window.MathJax.Hub.Config({SVG: {font: \"STIX-Web\"}});}\n",
       "        if (typeof require !== 'undefined') {\n",
       "        require.undef(\"plotly\");\n",
       "        requirejs.config({\n",
       "            paths: {\n",
       "                'plotly': ['https://cdn.plot.ly/plotly-2.12.1.min']\n",
       "            }\n",
       "        });\n",
       "        require(['plotly'], function(Plotly) {\n",
       "            window._Plotly = Plotly;\n",
       "        });\n",
       "        }\n",
       "        </script>\n",
       "        "
      ]
     },
     "metadata": {},
     "output_type": "display_data"
    }
   ],
   "source": [
    "# conda install -c plotly plotly\n",
    "import plotly.offline as py;\n",
    "from plotly import tools;\n",
    "import plotly.graph_objs as go;\n",
    "from ipywidgets import widgets;\n",
    "from ipywidgets import interact;\n",
    "import warnings\n",
    "warnings.filterwarnings('ignore')\n",
    "py.init_notebook_mode(connected= True)"
   ]
  },
  {
   "cell_type": "code",
   "execution_count": 41,
   "id": "8d0a8598",
   "metadata": {},
   "outputs": [
    {
     "data": {
      "application/vnd.plotly.v1+json": {
       "config": {
        "plotlyServerURL": "https://plot.ly"
       },
       "data": [
        {
         "name": "Power",
         "type": "scatter",
         "x": [
          "2022-06-07T20:20:33.270494",
          "2022-06-07T20:20:34.274694",
          "2022-06-07T20:20:35.277526",
          "2022-06-07T20:20:36.276230",
          "2022-06-07T20:20:37.280886",
          "2022-06-07T20:20:38.283298",
          "2022-06-07T20:20:39.283591",
          "2022-06-07T20:20:40.286492",
          "2022-06-07T20:20:41.289636",
          "2022-06-07T20:20:42.293360",
          "2022-06-07T20:20:43.293026",
          "2022-06-07T20:20:44.296236",
          "2022-06-07T20:20:45.299623",
          "2022-06-07T20:20:46.302769",
          "2022-06-07T20:20:47.302787",
          "2022-06-07T20:20:48.306485",
          "2022-06-07T20:20:49.309304",
          "2022-06-07T20:20:50.308430",
          "2022-06-07T20:20:51.312270",
          "2022-06-07T20:20:52.316136",
          "2022-06-07T20:20:53.318811",
          "2022-06-07T20:20:54.318374",
          "2022-06-07T20:20:55.322037",
          "2022-06-07T20:20:56.325410",
          "2022-06-07T20:20:57.324191",
          "2022-06-07T20:20:58.327889",
          "2022-06-07T20:20:59.331216",
          "2022-06-07T20:21:00.334047",
          "2022-06-07T20:21:01.333801",
          "2022-06-07T20:21:02.338234",
          "2022-06-07T20:21:03.341030",
          "2022-06-07T20:21:04.340438",
          "2022-06-07T20:21:05.344114",
          "2022-06-07T20:21:06.347330",
          "2022-06-07T20:21:07.347055",
          "2022-06-07T20:21:08.350151",
          "2022-06-07T20:21:09.353703",
          "2022-06-07T20:21:10.353378",
          "2022-06-07T20:21:11.356042",
          "2022-06-07T20:21:12.359737",
          "2022-06-07T20:21:13.359327",
          "2022-06-07T20:21:14.362760",
          "2022-06-07T20:21:15.366054",
          "2022-06-07T20:21:16.365198",
          "2022-06-07T20:21:17.369079",
          "2022-06-07T20:21:18.372079",
          "2022-06-07T20:21:19.375544",
          "2022-06-07T20:21:20.375134",
          "2022-06-07T20:21:21.378195",
          "2022-06-07T20:21:22.381471",
          "2022-06-07T20:21:23.381147",
          "2022-06-07T20:21:24.384841",
          "2022-06-07T20:21:25.387839",
          "2022-06-07T20:21:26.387306",
          "2022-06-07T20:21:27.390984",
          "2022-06-07T20:21:28.394217",
          "2022-06-07T20:21:29.397685",
          "2022-06-07T20:21:30.396953",
          "2022-06-07T20:21:31.401017",
          "2022-06-07T20:21:32.404104",
          "2022-06-07T20:21:33.403626",
          "2022-06-07T20:21:34.406622",
          "2022-06-07T20:21:35.410089",
          "2022-06-07T20:21:36.409651",
          "2022-06-07T20:21:37.412982",
          "2022-06-07T20:21:38.415833",
          "2022-06-07T20:21:39.415381",
          "2022-06-07T20:21:40.419096",
          "2022-06-07T20:21:41.422136",
          "2022-06-07T20:21:42.425946",
          "2022-06-07T20:21:43.425437",
          "2022-06-07T20:21:44.428498",
          "2022-06-07T20:21:45.432235",
          "2022-06-07T20:21:46.431957",
          "2022-06-07T20:21:47.434557",
          "2022-06-07T20:21:48.438475",
          "2022-06-07T20:21:49.442045",
          "2022-06-07T20:21:50.441602",
          "2022-06-07T20:21:51.444529",
          "2022-06-07T20:21:52.448120",
          "2022-06-07T20:21:53.447282",
          "2022-06-07T20:21:54.450470",
          "2022-06-07T20:21:55.454267",
          "2022-06-07T20:21:56.457522",
          "2022-06-07T20:21:57.457345",
          "2022-06-07T20:21:58.460724",
          "2022-06-07T20:21:59.463975",
          "2022-06-07T20:22:00.467037",
          "2022-06-07T20:22:01.467176",
          "2022-06-07T20:22:02.470140",
          "2022-06-07T20:22:03.473348",
          "2022-06-07T20:22:04.472651",
          "2022-06-07T20:22:05.476798",
          "2022-06-07T20:22:06.479543",
          "2022-06-07T20:22:07.479527",
          "2022-06-07T20:22:08.482896",
          "2022-06-07T20:22:09.486347",
          "2022-06-07T20:22:10.489559",
          "2022-06-07T20:22:11.489407",
          "2022-06-07T20:22:12.492032",
          "2022-06-07T20:22:13.495346",
          "2022-06-07T20:22:14.495217",
          "2022-06-07T20:22:15.498122",
          "2022-06-07T20:22:16.502096",
          "2022-06-07T20:22:17.500812",
          "2022-06-07T20:22:18.504805",
          "2022-06-07T20:22:19.507826",
          "2022-06-07T20:22:20.506989",
          "2022-06-07T20:22:21.510798",
          "2022-06-07T20:22:22.514224",
          "2022-06-07T20:22:23.513494",
          "2022-06-07T20:22:24.517350",
          "2022-06-07T20:22:25.519833",
          "2022-06-07T20:22:26.520053",
          "2022-06-07T20:22:27.523930",
          "2022-06-07T20:22:28.527280",
          "2022-06-07T20:22:29.525441",
          "2022-06-07T20:22:30.529728",
          "2022-06-07T20:22:31.528438",
          "2022-06-07T20:22:32.531909",
          "2022-06-07T20:22:33.535345",
          "2022-06-07T20:22:34.535661"
         ],
         "y": [
          46.46,
          47.15,
          47.54,
          47.76,
          47.53,
          212.54,
          1508.28,
          1508.73,
          1502.52,
          1499.65,
          1489.04,
          1484.37,
          1487.76,
          1477.9,
          1477.92,
          1469.6,
          1479.28,
          1470.28,
          1470.18,
          1471.87,
          1475.02,
          1473.16,
          1469.55,
          1471.48,
          1471.72,
          1468.36,
          1469.91,
          1469.9,
          1468.21,
          1465.04,
          1466.81,
          1466.02,
          1467.8,
          1470.03,
          1466.95,
          1467.27,
          1468.62,
          1467.93,
          1469.07,
          1469.07,
          1469.85,
          1470.63,
          1468.49,
          1464.04,
          1465.83,
          1467.94,
          1465.76,
          1463.04,
          1459.49,
          1464.53,
          1459.26,
          1459.21,
          1453.76,
          1462.15,
          1464.53,
          1462.2,
          1461.81,
          1465.78,
          1465.09,
          1467.79,
          1468.43,
          1464.16,
          1470.63,
          1465.99,
          1467.13,
          1465.53,
          1465.27,
          1467.82,
          1467.38,
          1462.27,
          1466.19,
          1468.4,
          1464.99,
          1463.38,
          1454.67,
          1464.14,
          1462.62,
          1457.84,
          1459.4,
          1458.32,
          1464.29,
          1468.81,
          1467.44,
          1465.33,
          1464.76,
          1465.12,
          1466.51,
          1464.27,
          1471.09,
          1466.5,
          1464.75,
          1461.13,
          1464.83,
          1462.53,
          1464.42,
          1463.13,
          1460.85,
          1464.86,
          1465.29,
          1471.19,
          1463.6,
          1464.03,
          1459.19,
          1462.34,
          1463.82,
          1462.84,
          1460.43,
          1459.42,
          1462.13,
          1463.45,
          1458.2,
          1456.15,
          1455.87,
          1461.01,
          1464.19,
          704.61,
          48.47,
          49.82,
          48.87,
          50.06,
          49.33,
          49.19
         ]
        }
       ],
       "layout": {
        "template": {
         "data": {
          "bar": [
           {
            "error_x": {
             "color": "#2a3f5f"
            },
            "error_y": {
             "color": "#2a3f5f"
            },
            "marker": {
             "line": {
              "color": "#E5ECF6",
              "width": 0.5
             },
             "pattern": {
              "fillmode": "overlay",
              "size": 10,
              "solidity": 0.2
             }
            },
            "type": "bar"
           }
          ],
          "barpolar": [
           {
            "marker": {
             "line": {
              "color": "#E5ECF6",
              "width": 0.5
             },
             "pattern": {
              "fillmode": "overlay",
              "size": 10,
              "solidity": 0.2
             }
            },
            "type": "barpolar"
           }
          ],
          "carpet": [
           {
            "aaxis": {
             "endlinecolor": "#2a3f5f",
             "gridcolor": "white",
             "linecolor": "white",
             "minorgridcolor": "white",
             "startlinecolor": "#2a3f5f"
            },
            "baxis": {
             "endlinecolor": "#2a3f5f",
             "gridcolor": "white",
             "linecolor": "white",
             "minorgridcolor": "white",
             "startlinecolor": "#2a3f5f"
            },
            "type": "carpet"
           }
          ],
          "choropleth": [
           {
            "colorbar": {
             "outlinewidth": 0,
             "ticks": ""
            },
            "type": "choropleth"
           }
          ],
          "contour": [
           {
            "colorbar": {
             "outlinewidth": 0,
             "ticks": ""
            },
            "colorscale": [
             [
              0,
              "#0d0887"
             ],
             [
              0.1111111111111111,
              "#46039f"
             ],
             [
              0.2222222222222222,
              "#7201a8"
             ],
             [
              0.3333333333333333,
              "#9c179e"
             ],
             [
              0.4444444444444444,
              "#bd3786"
             ],
             [
              0.5555555555555556,
              "#d8576b"
             ],
             [
              0.6666666666666666,
              "#ed7953"
             ],
             [
              0.7777777777777778,
              "#fb9f3a"
             ],
             [
              0.8888888888888888,
              "#fdca26"
             ],
             [
              1,
              "#f0f921"
             ]
            ],
            "type": "contour"
           }
          ],
          "contourcarpet": [
           {
            "colorbar": {
             "outlinewidth": 0,
             "ticks": ""
            },
            "type": "contourcarpet"
           }
          ],
          "heatmap": [
           {
            "colorbar": {
             "outlinewidth": 0,
             "ticks": ""
            },
            "colorscale": [
             [
              0,
              "#0d0887"
             ],
             [
              0.1111111111111111,
              "#46039f"
             ],
             [
              0.2222222222222222,
              "#7201a8"
             ],
             [
              0.3333333333333333,
              "#9c179e"
             ],
             [
              0.4444444444444444,
              "#bd3786"
             ],
             [
              0.5555555555555556,
              "#d8576b"
             ],
             [
              0.6666666666666666,
              "#ed7953"
             ],
             [
              0.7777777777777778,
              "#fb9f3a"
             ],
             [
              0.8888888888888888,
              "#fdca26"
             ],
             [
              1,
              "#f0f921"
             ]
            ],
            "type": "heatmap"
           }
          ],
          "heatmapgl": [
           {
            "colorbar": {
             "outlinewidth": 0,
             "ticks": ""
            },
            "colorscale": [
             [
              0,
              "#0d0887"
             ],
             [
              0.1111111111111111,
              "#46039f"
             ],
             [
              0.2222222222222222,
              "#7201a8"
             ],
             [
              0.3333333333333333,
              "#9c179e"
             ],
             [
              0.4444444444444444,
              "#bd3786"
             ],
             [
              0.5555555555555556,
              "#d8576b"
             ],
             [
              0.6666666666666666,
              "#ed7953"
             ],
             [
              0.7777777777777778,
              "#fb9f3a"
             ],
             [
              0.8888888888888888,
              "#fdca26"
             ],
             [
              1,
              "#f0f921"
             ]
            ],
            "type": "heatmapgl"
           }
          ],
          "histogram": [
           {
            "marker": {
             "pattern": {
              "fillmode": "overlay",
              "size": 10,
              "solidity": 0.2
             }
            },
            "type": "histogram"
           }
          ],
          "histogram2d": [
           {
            "colorbar": {
             "outlinewidth": 0,
             "ticks": ""
            },
            "colorscale": [
             [
              0,
              "#0d0887"
             ],
             [
              0.1111111111111111,
              "#46039f"
             ],
             [
              0.2222222222222222,
              "#7201a8"
             ],
             [
              0.3333333333333333,
              "#9c179e"
             ],
             [
              0.4444444444444444,
              "#bd3786"
             ],
             [
              0.5555555555555556,
              "#d8576b"
             ],
             [
              0.6666666666666666,
              "#ed7953"
             ],
             [
              0.7777777777777778,
              "#fb9f3a"
             ],
             [
              0.8888888888888888,
              "#fdca26"
             ],
             [
              1,
              "#f0f921"
             ]
            ],
            "type": "histogram2d"
           }
          ],
          "histogram2dcontour": [
           {
            "colorbar": {
             "outlinewidth": 0,
             "ticks": ""
            },
            "colorscale": [
             [
              0,
              "#0d0887"
             ],
             [
              0.1111111111111111,
              "#46039f"
             ],
             [
              0.2222222222222222,
              "#7201a8"
             ],
             [
              0.3333333333333333,
              "#9c179e"
             ],
             [
              0.4444444444444444,
              "#bd3786"
             ],
             [
              0.5555555555555556,
              "#d8576b"
             ],
             [
              0.6666666666666666,
              "#ed7953"
             ],
             [
              0.7777777777777778,
              "#fb9f3a"
             ],
             [
              0.8888888888888888,
              "#fdca26"
             ],
             [
              1,
              "#f0f921"
             ]
            ],
            "type": "histogram2dcontour"
           }
          ],
          "mesh3d": [
           {
            "colorbar": {
             "outlinewidth": 0,
             "ticks": ""
            },
            "type": "mesh3d"
           }
          ],
          "parcoords": [
           {
            "line": {
             "colorbar": {
              "outlinewidth": 0,
              "ticks": ""
             }
            },
            "type": "parcoords"
           }
          ],
          "pie": [
           {
            "automargin": true,
            "type": "pie"
           }
          ],
          "scatter": [
           {
            "fillpattern": {
             "fillmode": "overlay",
             "size": 10,
             "solidity": 0.2
            },
            "type": "scatter"
           }
          ],
          "scatter3d": [
           {
            "line": {
             "colorbar": {
              "outlinewidth": 0,
              "ticks": ""
             }
            },
            "marker": {
             "colorbar": {
              "outlinewidth": 0,
              "ticks": ""
             }
            },
            "type": "scatter3d"
           }
          ],
          "scattercarpet": [
           {
            "marker": {
             "colorbar": {
              "outlinewidth": 0,
              "ticks": ""
             }
            },
            "type": "scattercarpet"
           }
          ],
          "scattergeo": [
           {
            "marker": {
             "colorbar": {
              "outlinewidth": 0,
              "ticks": ""
             }
            },
            "type": "scattergeo"
           }
          ],
          "scattergl": [
           {
            "marker": {
             "colorbar": {
              "outlinewidth": 0,
              "ticks": ""
             }
            },
            "type": "scattergl"
           }
          ],
          "scattermapbox": [
           {
            "marker": {
             "colorbar": {
              "outlinewidth": 0,
              "ticks": ""
             }
            },
            "type": "scattermapbox"
           }
          ],
          "scatterpolar": [
           {
            "marker": {
             "colorbar": {
              "outlinewidth": 0,
              "ticks": ""
             }
            },
            "type": "scatterpolar"
           }
          ],
          "scatterpolargl": [
           {
            "marker": {
             "colorbar": {
              "outlinewidth": 0,
              "ticks": ""
             }
            },
            "type": "scatterpolargl"
           }
          ],
          "scatterternary": [
           {
            "marker": {
             "colorbar": {
              "outlinewidth": 0,
              "ticks": ""
             }
            },
            "type": "scatterternary"
           }
          ],
          "surface": [
           {
            "colorbar": {
             "outlinewidth": 0,
             "ticks": ""
            },
            "colorscale": [
             [
              0,
              "#0d0887"
             ],
             [
              0.1111111111111111,
              "#46039f"
             ],
             [
              0.2222222222222222,
              "#7201a8"
             ],
             [
              0.3333333333333333,
              "#9c179e"
             ],
             [
              0.4444444444444444,
              "#bd3786"
             ],
             [
              0.5555555555555556,
              "#d8576b"
             ],
             [
              0.6666666666666666,
              "#ed7953"
             ],
             [
              0.7777777777777778,
              "#fb9f3a"
             ],
             [
              0.8888888888888888,
              "#fdca26"
             ],
             [
              1,
              "#f0f921"
             ]
            ],
            "type": "surface"
           }
          ],
          "table": [
           {
            "cells": {
             "fill": {
              "color": "#EBF0F8"
             },
             "line": {
              "color": "white"
             }
            },
            "header": {
             "fill": {
              "color": "#C8D4E3"
             },
             "line": {
              "color": "white"
             }
            },
            "type": "table"
           }
          ]
         },
         "layout": {
          "annotationdefaults": {
           "arrowcolor": "#2a3f5f",
           "arrowhead": 0,
           "arrowwidth": 1
          },
          "autotypenumbers": "strict",
          "coloraxis": {
           "colorbar": {
            "outlinewidth": 0,
            "ticks": ""
           }
          },
          "colorscale": {
           "diverging": [
            [
             0,
             "#8e0152"
            ],
            [
             0.1,
             "#c51b7d"
            ],
            [
             0.2,
             "#de77ae"
            ],
            [
             0.3,
             "#f1b6da"
            ],
            [
             0.4,
             "#fde0ef"
            ],
            [
             0.5,
             "#f7f7f7"
            ],
            [
             0.6,
             "#e6f5d0"
            ],
            [
             0.7,
             "#b8e186"
            ],
            [
             0.8,
             "#7fbc41"
            ],
            [
             0.9,
             "#4d9221"
            ],
            [
             1,
             "#276419"
            ]
           ],
           "sequential": [
            [
             0,
             "#0d0887"
            ],
            [
             0.1111111111111111,
             "#46039f"
            ],
            [
             0.2222222222222222,
             "#7201a8"
            ],
            [
             0.3333333333333333,
             "#9c179e"
            ],
            [
             0.4444444444444444,
             "#bd3786"
            ],
            [
             0.5555555555555556,
             "#d8576b"
            ],
            [
             0.6666666666666666,
             "#ed7953"
            ],
            [
             0.7777777777777778,
             "#fb9f3a"
            ],
            [
             0.8888888888888888,
             "#fdca26"
            ],
            [
             1,
             "#f0f921"
            ]
           ],
           "sequentialminus": [
            [
             0,
             "#0d0887"
            ],
            [
             0.1111111111111111,
             "#46039f"
            ],
            [
             0.2222222222222222,
             "#7201a8"
            ],
            [
             0.3333333333333333,
             "#9c179e"
            ],
            [
             0.4444444444444444,
             "#bd3786"
            ],
            [
             0.5555555555555556,
             "#d8576b"
            ],
            [
             0.6666666666666666,
             "#ed7953"
            ],
            [
             0.7777777777777778,
             "#fb9f3a"
            ],
            [
             0.8888888888888888,
             "#fdca26"
            ],
            [
             1,
             "#f0f921"
            ]
           ]
          },
          "colorway": [
           "#636efa",
           "#EF553B",
           "#00cc96",
           "#ab63fa",
           "#FFA15A",
           "#19d3f3",
           "#FF6692",
           "#B6E880",
           "#FF97FF",
           "#FECB52"
          ],
          "font": {
           "color": "#2a3f5f"
          },
          "geo": {
           "bgcolor": "white",
           "lakecolor": "white",
           "landcolor": "#E5ECF6",
           "showlakes": true,
           "showland": true,
           "subunitcolor": "white"
          },
          "hoverlabel": {
           "align": "left"
          },
          "hovermode": "closest",
          "mapbox": {
           "style": "light"
          },
          "paper_bgcolor": "white",
          "plot_bgcolor": "#E5ECF6",
          "polar": {
           "angularaxis": {
            "gridcolor": "white",
            "linecolor": "white",
            "ticks": ""
           },
           "bgcolor": "#E5ECF6",
           "radialaxis": {
            "gridcolor": "white",
            "linecolor": "white",
            "ticks": ""
           }
          },
          "scene": {
           "xaxis": {
            "backgroundcolor": "#E5ECF6",
            "gridcolor": "white",
            "gridwidth": 2,
            "linecolor": "white",
            "showbackground": true,
            "ticks": "",
            "zerolinecolor": "white"
           },
           "yaxis": {
            "backgroundcolor": "#E5ECF6",
            "gridcolor": "white",
            "gridwidth": 2,
            "linecolor": "white",
            "showbackground": true,
            "ticks": "",
            "zerolinecolor": "white"
           },
           "zaxis": {
            "backgroundcolor": "#E5ECF6",
            "gridcolor": "white",
            "gridwidth": 2,
            "linecolor": "white",
            "showbackground": true,
            "ticks": "",
            "zerolinecolor": "white"
           }
          },
          "shapedefaults": {
           "line": {
            "color": "#2a3f5f"
           }
          },
          "ternary": {
           "aaxis": {
            "gridcolor": "white",
            "linecolor": "white",
            "ticks": ""
           },
           "baxis": {
            "gridcolor": "white",
            "linecolor": "white",
            "ticks": ""
           },
           "bgcolor": "#E5ECF6",
           "caxis": {
            "gridcolor": "white",
            "linecolor": "white",
            "ticks": ""
           }
          },
          "title": {
           "x": 0.05
          },
          "xaxis": {
           "automargin": true,
           "gridcolor": "white",
           "linecolor": "white",
           "ticks": "",
           "title": {
            "standoff": 15
           },
           "zerolinecolor": "white",
           "zerolinewidth": 2
          },
          "yaxis": {
           "automargin": true,
           "gridcolor": "white",
           "linecolor": "white",
           "ticks": "",
           "title": {
            "standoff": 15
           },
           "zerolinecolor": "white",
           "zerolinewidth": 2
          }
         }
        },
        "title": {
         "text": "Potencia RMS Hervidor Eléctrico: 20h;AguaNormal;400ml"
        },
        "xaxis": {
         "title": {
          "text": "Hora"
         }
        },
        "yaxis": {
         "title": {
          "text": "Potencia [W]"
         }
        }
       }
      },
      "text/html": [
       "<div>                            <div id=\"f1cd2ed7-9fd1-459e-95a1-17fb92a8ced8\" class=\"plotly-graph-div\" style=\"height:525px; width:100%;\"></div>            <script type=\"text/javascript\">                require([\"plotly\"], function(Plotly) {                    window.PLOTLYENV=window.PLOTLYENV || {};                                    if (document.getElementById(\"f1cd2ed7-9fd1-459e-95a1-17fb92a8ced8\")) {                    Plotly.newPlot(                        \"f1cd2ed7-9fd1-459e-95a1-17fb92a8ced8\",                        [{\"name\":\"Power\",\"x\":[\"2022-06-07T20:20:33.270494\",\"2022-06-07T20:20:34.274694\",\"2022-06-07T20:20:35.277526\",\"2022-06-07T20:20:36.276230\",\"2022-06-07T20:20:37.280886\",\"2022-06-07T20:20:38.283298\",\"2022-06-07T20:20:39.283591\",\"2022-06-07T20:20:40.286492\",\"2022-06-07T20:20:41.289636\",\"2022-06-07T20:20:42.293360\",\"2022-06-07T20:20:43.293026\",\"2022-06-07T20:20:44.296236\",\"2022-06-07T20:20:45.299623\",\"2022-06-07T20:20:46.302769\",\"2022-06-07T20:20:47.302787\",\"2022-06-07T20:20:48.306485\",\"2022-06-07T20:20:49.309304\",\"2022-06-07T20:20:50.308430\",\"2022-06-07T20:20:51.312270\",\"2022-06-07T20:20:52.316136\",\"2022-06-07T20:20:53.318811\",\"2022-06-07T20:20:54.318374\",\"2022-06-07T20:20:55.322037\",\"2022-06-07T20:20:56.325410\",\"2022-06-07T20:20:57.324191\",\"2022-06-07T20:20:58.327889\",\"2022-06-07T20:20:59.331216\",\"2022-06-07T20:21:00.334047\",\"2022-06-07T20:21:01.333801\",\"2022-06-07T20:21:02.338234\",\"2022-06-07T20:21:03.341030\",\"2022-06-07T20:21:04.340438\",\"2022-06-07T20:21:05.344114\",\"2022-06-07T20:21:06.347330\",\"2022-06-07T20:21:07.347055\",\"2022-06-07T20:21:08.350151\",\"2022-06-07T20:21:09.353703\",\"2022-06-07T20:21:10.353378\",\"2022-06-07T20:21:11.356042\",\"2022-06-07T20:21:12.359737\",\"2022-06-07T20:21:13.359327\",\"2022-06-07T20:21:14.362760\",\"2022-06-07T20:21:15.366054\",\"2022-06-07T20:21:16.365198\",\"2022-06-07T20:21:17.369079\",\"2022-06-07T20:21:18.372079\",\"2022-06-07T20:21:19.375544\",\"2022-06-07T20:21:20.375134\",\"2022-06-07T20:21:21.378195\",\"2022-06-07T20:21:22.381471\",\"2022-06-07T20:21:23.381147\",\"2022-06-07T20:21:24.384841\",\"2022-06-07T20:21:25.387839\",\"2022-06-07T20:21:26.387306\",\"2022-06-07T20:21:27.390984\",\"2022-06-07T20:21:28.394217\",\"2022-06-07T20:21:29.397685\",\"2022-06-07T20:21:30.396953\",\"2022-06-07T20:21:31.401017\",\"2022-06-07T20:21:32.404104\",\"2022-06-07T20:21:33.403626\",\"2022-06-07T20:21:34.406622\",\"2022-06-07T20:21:35.410089\",\"2022-06-07T20:21:36.409651\",\"2022-06-07T20:21:37.412982\",\"2022-06-07T20:21:38.415833\",\"2022-06-07T20:21:39.415381\",\"2022-06-07T20:21:40.419096\",\"2022-06-07T20:21:41.422136\",\"2022-06-07T20:21:42.425946\",\"2022-06-07T20:21:43.425437\",\"2022-06-07T20:21:44.428498\",\"2022-06-07T20:21:45.432235\",\"2022-06-07T20:21:46.431957\",\"2022-06-07T20:21:47.434557\",\"2022-06-07T20:21:48.438475\",\"2022-06-07T20:21:49.442045\",\"2022-06-07T20:21:50.441602\",\"2022-06-07T20:21:51.444529\",\"2022-06-07T20:21:52.448120\",\"2022-06-07T20:21:53.447282\",\"2022-06-07T20:21:54.450470\",\"2022-06-07T20:21:55.454267\",\"2022-06-07T20:21:56.457522\",\"2022-06-07T20:21:57.457345\",\"2022-06-07T20:21:58.460724\",\"2022-06-07T20:21:59.463975\",\"2022-06-07T20:22:00.467037\",\"2022-06-07T20:22:01.467176\",\"2022-06-07T20:22:02.470140\",\"2022-06-07T20:22:03.473348\",\"2022-06-07T20:22:04.472651\",\"2022-06-07T20:22:05.476798\",\"2022-06-07T20:22:06.479543\",\"2022-06-07T20:22:07.479527\",\"2022-06-07T20:22:08.482896\",\"2022-06-07T20:22:09.486347\",\"2022-06-07T20:22:10.489559\",\"2022-06-07T20:22:11.489407\",\"2022-06-07T20:22:12.492032\",\"2022-06-07T20:22:13.495346\",\"2022-06-07T20:22:14.495217\",\"2022-06-07T20:22:15.498122\",\"2022-06-07T20:22:16.502096\",\"2022-06-07T20:22:17.500812\",\"2022-06-07T20:22:18.504805\",\"2022-06-07T20:22:19.507826\",\"2022-06-07T20:22:20.506989\",\"2022-06-07T20:22:21.510798\",\"2022-06-07T20:22:22.514224\",\"2022-06-07T20:22:23.513494\",\"2022-06-07T20:22:24.517350\",\"2022-06-07T20:22:25.519833\",\"2022-06-07T20:22:26.520053\",\"2022-06-07T20:22:27.523930\",\"2022-06-07T20:22:28.527280\",\"2022-06-07T20:22:29.525441\",\"2022-06-07T20:22:30.529728\",\"2022-06-07T20:22:31.528438\",\"2022-06-07T20:22:32.531909\",\"2022-06-07T20:22:33.535345\",\"2022-06-07T20:22:34.535661\"],\"y\":[46.46,47.15,47.54,47.76,47.53,212.54,1508.28,1508.73,1502.52,1499.65,1489.04,1484.37,1487.76,1477.9,1477.92,1469.6,1479.28,1470.28,1470.18,1471.87,1475.02,1473.16,1469.55,1471.48,1471.72,1468.36,1469.91,1469.9,1468.21,1465.04,1466.81,1466.02,1467.8,1470.03,1466.95,1467.27,1468.62,1467.93,1469.07,1469.07,1469.85,1470.63,1468.49,1464.04,1465.83,1467.94,1465.76,1463.04,1459.49,1464.53,1459.26,1459.21,1453.76,1462.15,1464.53,1462.2,1461.81,1465.78,1465.09,1467.79,1468.43,1464.16,1470.63,1465.99,1467.13,1465.53,1465.27,1467.82,1467.38,1462.27,1466.19,1468.4,1464.99,1463.38,1454.67,1464.14,1462.62,1457.84,1459.4,1458.32,1464.29,1468.81,1467.44,1465.33,1464.76,1465.12,1466.51,1464.27,1471.09,1466.5,1464.75,1461.13,1464.83,1462.53,1464.42,1463.13,1460.85,1464.86,1465.29,1471.19,1463.6,1464.03,1459.19,1462.34,1463.82,1462.84,1460.43,1459.42,1462.13,1463.45,1458.2,1456.15,1455.87,1461.01,1464.19,704.61,48.47,49.82,48.87,50.06,49.33,49.19],\"type\":\"scatter\"}],                        {\"title\":{\"text\":\"Potencia RMS Hervidor El\\u00e9ctrico: 20h;AguaNormal;400ml\"},\"xaxis\":{\"title\":{\"text\":\"Hora\"}},\"yaxis\":{\"title\":{\"text\":\"Potencia [W]\"}},\"template\":{\"data\":{\"histogram2dcontour\":[{\"type\":\"histogram2dcontour\",\"colorbar\":{\"outlinewidth\":0,\"ticks\":\"\"},\"colorscale\":[[0.0,\"#0d0887\"],[0.1111111111111111,\"#46039f\"],[0.2222222222222222,\"#7201a8\"],[0.3333333333333333,\"#9c179e\"],[0.4444444444444444,\"#bd3786\"],[0.5555555555555556,\"#d8576b\"],[0.6666666666666666,\"#ed7953\"],[0.7777777777777778,\"#fb9f3a\"],[0.8888888888888888,\"#fdca26\"],[1.0,\"#f0f921\"]]}],\"choropleth\":[{\"type\":\"choropleth\",\"colorbar\":{\"outlinewidth\":0,\"ticks\":\"\"}}],\"histogram2d\":[{\"type\":\"histogram2d\",\"colorbar\":{\"outlinewidth\":0,\"ticks\":\"\"},\"colorscale\":[[0.0,\"#0d0887\"],[0.1111111111111111,\"#46039f\"],[0.2222222222222222,\"#7201a8\"],[0.3333333333333333,\"#9c179e\"],[0.4444444444444444,\"#bd3786\"],[0.5555555555555556,\"#d8576b\"],[0.6666666666666666,\"#ed7953\"],[0.7777777777777778,\"#fb9f3a\"],[0.8888888888888888,\"#fdca26\"],[1.0,\"#f0f921\"]]}],\"heatmap\":[{\"type\":\"heatmap\",\"colorbar\":{\"outlinewidth\":0,\"ticks\":\"\"},\"colorscale\":[[0.0,\"#0d0887\"],[0.1111111111111111,\"#46039f\"],[0.2222222222222222,\"#7201a8\"],[0.3333333333333333,\"#9c179e\"],[0.4444444444444444,\"#bd3786\"],[0.5555555555555556,\"#d8576b\"],[0.6666666666666666,\"#ed7953\"],[0.7777777777777778,\"#fb9f3a\"],[0.8888888888888888,\"#fdca26\"],[1.0,\"#f0f921\"]]}],\"heatmapgl\":[{\"type\":\"heatmapgl\",\"colorbar\":{\"outlinewidth\":0,\"ticks\":\"\"},\"colorscale\":[[0.0,\"#0d0887\"],[0.1111111111111111,\"#46039f\"],[0.2222222222222222,\"#7201a8\"],[0.3333333333333333,\"#9c179e\"],[0.4444444444444444,\"#bd3786\"],[0.5555555555555556,\"#d8576b\"],[0.6666666666666666,\"#ed7953\"],[0.7777777777777778,\"#fb9f3a\"],[0.8888888888888888,\"#fdca26\"],[1.0,\"#f0f921\"]]}],\"contourcarpet\":[{\"type\":\"contourcarpet\",\"colorbar\":{\"outlinewidth\":0,\"ticks\":\"\"}}],\"contour\":[{\"type\":\"contour\",\"colorbar\":{\"outlinewidth\":0,\"ticks\":\"\"},\"colorscale\":[[0.0,\"#0d0887\"],[0.1111111111111111,\"#46039f\"],[0.2222222222222222,\"#7201a8\"],[0.3333333333333333,\"#9c179e\"],[0.4444444444444444,\"#bd3786\"],[0.5555555555555556,\"#d8576b\"],[0.6666666666666666,\"#ed7953\"],[0.7777777777777778,\"#fb9f3a\"],[0.8888888888888888,\"#fdca26\"],[1.0,\"#f0f921\"]]}],\"surface\":[{\"type\":\"surface\",\"colorbar\":{\"outlinewidth\":0,\"ticks\":\"\"},\"colorscale\":[[0.0,\"#0d0887\"],[0.1111111111111111,\"#46039f\"],[0.2222222222222222,\"#7201a8\"],[0.3333333333333333,\"#9c179e\"],[0.4444444444444444,\"#bd3786\"],[0.5555555555555556,\"#d8576b\"],[0.6666666666666666,\"#ed7953\"],[0.7777777777777778,\"#fb9f3a\"],[0.8888888888888888,\"#fdca26\"],[1.0,\"#f0f921\"]]}],\"mesh3d\":[{\"type\":\"mesh3d\",\"colorbar\":{\"outlinewidth\":0,\"ticks\":\"\"}}],\"scatter\":[{\"fillpattern\":{\"fillmode\":\"overlay\",\"size\":10,\"solidity\":0.2},\"type\":\"scatter\"}],\"parcoords\":[{\"type\":\"parcoords\",\"line\":{\"colorbar\":{\"outlinewidth\":0,\"ticks\":\"\"}}}],\"scatterpolargl\":[{\"type\":\"scatterpolargl\",\"marker\":{\"colorbar\":{\"outlinewidth\":0,\"ticks\":\"\"}}}],\"bar\":[{\"error_x\":{\"color\":\"#2a3f5f\"},\"error_y\":{\"color\":\"#2a3f5f\"},\"marker\":{\"line\":{\"color\":\"#E5ECF6\",\"width\":0.5},\"pattern\":{\"fillmode\":\"overlay\",\"size\":10,\"solidity\":0.2}},\"type\":\"bar\"}],\"scattergeo\":[{\"type\":\"scattergeo\",\"marker\":{\"colorbar\":{\"outlinewidth\":0,\"ticks\":\"\"}}}],\"scatterpolar\":[{\"type\":\"scatterpolar\",\"marker\":{\"colorbar\":{\"outlinewidth\":0,\"ticks\":\"\"}}}],\"histogram\":[{\"marker\":{\"pattern\":{\"fillmode\":\"overlay\",\"size\":10,\"solidity\":0.2}},\"type\":\"histogram\"}],\"scattergl\":[{\"type\":\"scattergl\",\"marker\":{\"colorbar\":{\"outlinewidth\":0,\"ticks\":\"\"}}}],\"scatter3d\":[{\"type\":\"scatter3d\",\"line\":{\"colorbar\":{\"outlinewidth\":0,\"ticks\":\"\"}},\"marker\":{\"colorbar\":{\"outlinewidth\":0,\"ticks\":\"\"}}}],\"scattermapbox\":[{\"type\":\"scattermapbox\",\"marker\":{\"colorbar\":{\"outlinewidth\":0,\"ticks\":\"\"}}}],\"scatterternary\":[{\"type\":\"scatterternary\",\"marker\":{\"colorbar\":{\"outlinewidth\":0,\"ticks\":\"\"}}}],\"scattercarpet\":[{\"type\":\"scattercarpet\",\"marker\":{\"colorbar\":{\"outlinewidth\":0,\"ticks\":\"\"}}}],\"carpet\":[{\"aaxis\":{\"endlinecolor\":\"#2a3f5f\",\"gridcolor\":\"white\",\"linecolor\":\"white\",\"minorgridcolor\":\"white\",\"startlinecolor\":\"#2a3f5f\"},\"baxis\":{\"endlinecolor\":\"#2a3f5f\",\"gridcolor\":\"white\",\"linecolor\":\"white\",\"minorgridcolor\":\"white\",\"startlinecolor\":\"#2a3f5f\"},\"type\":\"carpet\"}],\"table\":[{\"cells\":{\"fill\":{\"color\":\"#EBF0F8\"},\"line\":{\"color\":\"white\"}},\"header\":{\"fill\":{\"color\":\"#C8D4E3\"},\"line\":{\"color\":\"white\"}},\"type\":\"table\"}],\"barpolar\":[{\"marker\":{\"line\":{\"color\":\"#E5ECF6\",\"width\":0.5},\"pattern\":{\"fillmode\":\"overlay\",\"size\":10,\"solidity\":0.2}},\"type\":\"barpolar\"}],\"pie\":[{\"automargin\":true,\"type\":\"pie\"}]},\"layout\":{\"autotypenumbers\":\"strict\",\"colorway\":[\"#636efa\",\"#EF553B\",\"#00cc96\",\"#ab63fa\",\"#FFA15A\",\"#19d3f3\",\"#FF6692\",\"#B6E880\",\"#FF97FF\",\"#FECB52\"],\"font\":{\"color\":\"#2a3f5f\"},\"hovermode\":\"closest\",\"hoverlabel\":{\"align\":\"left\"},\"paper_bgcolor\":\"white\",\"plot_bgcolor\":\"#E5ECF6\",\"polar\":{\"bgcolor\":\"#E5ECF6\",\"angularaxis\":{\"gridcolor\":\"white\",\"linecolor\":\"white\",\"ticks\":\"\"},\"radialaxis\":{\"gridcolor\":\"white\",\"linecolor\":\"white\",\"ticks\":\"\"}},\"ternary\":{\"bgcolor\":\"#E5ECF6\",\"aaxis\":{\"gridcolor\":\"white\",\"linecolor\":\"white\",\"ticks\":\"\"},\"baxis\":{\"gridcolor\":\"white\",\"linecolor\":\"white\",\"ticks\":\"\"},\"caxis\":{\"gridcolor\":\"white\",\"linecolor\":\"white\",\"ticks\":\"\"}},\"coloraxis\":{\"colorbar\":{\"outlinewidth\":0,\"ticks\":\"\"}},\"colorscale\":{\"sequential\":[[0.0,\"#0d0887\"],[0.1111111111111111,\"#46039f\"],[0.2222222222222222,\"#7201a8\"],[0.3333333333333333,\"#9c179e\"],[0.4444444444444444,\"#bd3786\"],[0.5555555555555556,\"#d8576b\"],[0.6666666666666666,\"#ed7953\"],[0.7777777777777778,\"#fb9f3a\"],[0.8888888888888888,\"#fdca26\"],[1.0,\"#f0f921\"]],\"sequentialminus\":[[0.0,\"#0d0887\"],[0.1111111111111111,\"#46039f\"],[0.2222222222222222,\"#7201a8\"],[0.3333333333333333,\"#9c179e\"],[0.4444444444444444,\"#bd3786\"],[0.5555555555555556,\"#d8576b\"],[0.6666666666666666,\"#ed7953\"],[0.7777777777777778,\"#fb9f3a\"],[0.8888888888888888,\"#fdca26\"],[1.0,\"#f0f921\"]],\"diverging\":[[0,\"#8e0152\"],[0.1,\"#c51b7d\"],[0.2,\"#de77ae\"],[0.3,\"#f1b6da\"],[0.4,\"#fde0ef\"],[0.5,\"#f7f7f7\"],[0.6,\"#e6f5d0\"],[0.7,\"#b8e186\"],[0.8,\"#7fbc41\"],[0.9,\"#4d9221\"],[1,\"#276419\"]]},\"xaxis\":{\"gridcolor\":\"white\",\"linecolor\":\"white\",\"ticks\":\"\",\"title\":{\"standoff\":15},\"zerolinecolor\":\"white\",\"automargin\":true,\"zerolinewidth\":2},\"yaxis\":{\"gridcolor\":\"white\",\"linecolor\":\"white\",\"ticks\":\"\",\"title\":{\"standoff\":15},\"zerolinecolor\":\"white\",\"automargin\":true,\"zerolinewidth\":2},\"scene\":{\"xaxis\":{\"backgroundcolor\":\"#E5ECF6\",\"gridcolor\":\"white\",\"linecolor\":\"white\",\"showbackground\":true,\"ticks\":\"\",\"zerolinecolor\":\"white\",\"gridwidth\":2},\"yaxis\":{\"backgroundcolor\":\"#E5ECF6\",\"gridcolor\":\"white\",\"linecolor\":\"white\",\"showbackground\":true,\"ticks\":\"\",\"zerolinecolor\":\"white\",\"gridwidth\":2},\"zaxis\":{\"backgroundcolor\":\"#E5ECF6\",\"gridcolor\":\"white\",\"linecolor\":\"white\",\"showbackground\":true,\"ticks\":\"\",\"zerolinecolor\":\"white\",\"gridwidth\":2}},\"shapedefaults\":{\"line\":{\"color\":\"#2a3f5f\"}},\"annotationdefaults\":{\"arrowcolor\":\"#2a3f5f\",\"arrowhead\":0,\"arrowwidth\":1},\"geo\":{\"bgcolor\":\"white\",\"landcolor\":\"#E5ECF6\",\"subunitcolor\":\"white\",\"showland\":true,\"showlakes\":true,\"lakecolor\":\"white\"},\"title\":{\"x\":0.05},\"mapbox\":{\"style\":\"light\"}}}},                        {\"responsive\": true}                    ).then(function(){\n",
       "                            \n",
       "var gd = document.getElementById('f1cd2ed7-9fd1-459e-95a1-17fb92a8ced8');\n",
       "var x = new MutationObserver(function (mutations, observer) {{\n",
       "        var display = window.getComputedStyle(gd).display;\n",
       "        if (!display || display === 'none') {{\n",
       "            console.log([gd, 'removed!']);\n",
       "            Plotly.purge(gd);\n",
       "            observer.disconnect();\n",
       "        }}\n",
       "}});\n",
       "\n",
       "// Listen for the removal of the full notebook cells\n",
       "var notebookContainer = gd.closest('#notebook-container');\n",
       "if (notebookContainer) {{\n",
       "    x.observe(notebookContainer, {childList: true});\n",
       "}}\n",
       "\n",
       "// Listen for the clearing of the current output cell\n",
       "var outputEl = gd.closest('.output');\n",
       "if (outputEl) {{\n",
       "    x.observe(outputEl, {childList: true});\n",
       "}}\n",
       "\n",
       "                        })                };                });            </script>        </div>"
      ]
     },
     "metadata": {},
     "output_type": "display_data"
    }
   ],
   "source": [
    "fig = go.Figure(\n",
    "    data=[\n",
    "        go.Line(x=BD_carga['Fecha'][0:12*75],\n",
    "                y=BD_carga['Potencia'][0:12*75], name=\"Power\")\n",
    "    ],\n",
    "    layout=go.Layout(\n",
    "        title=dict(text='Potencia RMS Hervidor Eléctrico: 20h;AguaNormal;400ml'),\n",
    "        xaxis=dict(title='Hora'),\n",
    "        yaxis=dict(title='Potencia [W]')\n",
    "    )\n",
    ")\n",
    "fig.show()\n",
    "        \n",
    "        "
   ]
  }
 ],
 "metadata": {
  "kernelspec": {
   "display_name": "Python 3 (ipykernel)",
   "language": "python",
   "name": "python3"
  },
  "language_info": {
   "codemirror_mode": {
    "name": "ipython",
    "version": 3
   },
   "file_extension": ".py",
   "mimetype": "text/x-python",
   "name": "python",
   "nbconvert_exporter": "python",
   "pygments_lexer": "ipython3",
   "version": "3.9.7"
  }
 },
 "nbformat": 4,
 "nbformat_minor": 5
}
