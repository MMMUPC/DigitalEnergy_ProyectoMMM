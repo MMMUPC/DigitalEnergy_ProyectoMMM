{
 "cells": [
  {
   "cell_type": "markdown",
   "metadata": {},
   "source": [
    "# \"Digitalización de una carga doméstica\"\n",
    "\n",
    "## Postítulo \"Digital Energy\", Máster Smart Energy\n",
    "\n",
    "## Módulo: Digitalización de la Energía\n",
    "\n",
    "## Alumno: Max Antonio Missene Montecinos\n"
   ]
  },
  {
   "cell_type": "markdown",
   "metadata": {},
   "source": [
    "### Objetivo:\n",
    "\n",
    "#### Crear un código en Python que permita extraer datos (precio PVPC) desde la API de REE y posteriormente, graficarlos."
   ]
  },
  {
   "cell_type": "markdown",
   "metadata": {},
   "source": [
    "#### El primer paso que se realizará en el desarrollo del presente trabajo, será importar las librerías y funciones de librerías que utilizaremos a lo largo del código."
   ]
  },
  {
   "cell_type": "code",
   "execution_count": 1,
   "metadata": {},
   "outputs": [],
   "source": [
    "# Se importan las librerías necesarias\n",
    "import pandas as pd\n",
    "import requests \n",
    "import json\n",
    "import datetime\n",
    "import matplotlib\n",
    "import matplotlib.pyplot as plt "
   ]
  },
  {
   "cell_type": "code",
   "execution_count": 2,
   "metadata": {},
   "outputs": [],
   "source": [
    "# Código para definir la información que irá en el \"request\"\n",
    "\n",
    "endpoint = 'https://apidatos.ree.es' #Ruta de acceso al la API de REE \n",
    "# en general\n",
    "get_archives = '/es/datos/mercados/precios-mercados-tiempo-real' #Ruta\n",
    "# de acceso particular en la API de REE para obtener los precios\n",
    "headers = {'Accept': 'application/json', \n",
    "           'Content-Type': 'application/json',#Formato que extraeremos,\n",
    "# en este caso \"json\"\n",
    "           'Host': 'apidatos.ree.es', #Ruta del servidor\n",
    "          }\n",
    "params = {'start_date': '2022-06-07T00:00', 'end_date': '2022-06-07T23:00', 'time_trunc':'hour'}\n",
    "#Parametros particulares del intervalo de fechas que se extraerán datos \n",
    "# y cada cuánto tiempo."
   ]
  },
  {
   "cell_type": "code",
   "execution_count": 3,
   "metadata": {},
   "outputs": [],
   "source": [
    "# Con los parámetros definidos anteriormente, mediante la función \n",
    "# \"request.get\" es posible realizar la pregunta a la API.\n",
    "request = requests.get(endpoint+get_archives, headers=headers, params=params)"
   ]
  },
  {
   "cell_type": "code",
   "execution_count": 4,
   "metadata": {
    "scrolled": false
   },
   "outputs": [
    {
     "data": {
      "text/plain": [
       "<Response [200]>"
      ]
     },
     "execution_count": 4,
     "metadata": {},
     "output_type": "execute_result"
    }
   ],
   "source": [
    "#Se obtiene la respusta de la API. Esta consiste en un número que da\n",
    "# información.\n",
    "#En este caso, se espera un 200 para tener un acceso correcto a los datos.\n",
    "request"
   ]
  },
  {
   "cell_type": "code",
   "execution_count": 5,
   "metadata": {},
   "outputs": [],
   "source": [
    "# Se define el estatus de la conexión con la API.\n",
    "status = request.status_code"
   ]
  },
  {
   "cell_type": "code",
   "execution_count": 6,
   "metadata": {
    "scrolled": true
   },
   "outputs": [
    {
     "name": "stdout",
     "output_type": "stream",
     "text": [
      "Connection is established\n"
     ]
    }
   ],
   "source": [
    "#Se verifica el estado del código.\n",
    "if status < 200:\n",
    "    print('informational')\n",
    "elif status >= 200 and status < 300:\n",
    "    print('Connection is established')\n",
    "elif status >= 300 and status < 400:\n",
    "    print('redirection')\n",
    "elif status >= 400 and status < 500:\n",
    "    print('client error')\n",
    "else:\n",
    "    print('server error')"
   ]
  },
  {
   "cell_type": "code",
   "execution_count": 7,
   "metadata": {},
   "outputs": [
    {
     "data": {
      "text/plain": [
       "{'data': {'type': 'Precios mercado peninsular en tiempo real',\n",
       "  'id': 'mer13',\n",
       "  'attributes': {'title': 'Precios mercado peninsular en tiempo real',\n",
       "   'last-update': '2022-06-06T20:17:50.000+02:00',\n",
       "   'description': None},\n",
       "  'meta': {'cache-control': {'cache': 'MISS'}}},\n",
       " 'included': [{'type': 'PVPC (€/MWh)',\n",
       "   'id': '1001',\n",
       "   'groupId': None,\n",
       "   'attributes': {'title': 'PVPC (€/MWh)',\n",
       "    'description': None,\n",
       "    'color': '#ffcf09',\n",
       "    'type': None,\n",
       "    'magnitude': 'price',\n",
       "    'composite': False,\n",
       "    'last-update': '2022-06-06T20:17:50.000+02:00',\n",
       "    'values': [{'value': 252.86,\n",
       "      'percentage': 0.5491226546212647,\n",
       "      'datetime': '2022-06-07T00:00:00.000+02:00'},\n",
       "     {'value': 234.24,\n",
       "      'percentage': 0.5509714447005692,\n",
       "      'datetime': '2022-06-07T01:00:00.000+02:00'},\n",
       "     {'value': 221.16,\n",
       "      'percentage': 0.5523062707589341,\n",
       "      'datetime': '2022-06-07T02:00:00.000+02:00'},\n",
       "     {'value': 218.07,\n",
       "      'percentage': 0.5533788413226076,\n",
       "      'datetime': '2022-06-07T03:00:00.000+02:00'},\n",
       "     {'value': 216.64,\n",
       "      'percentage': 0.5535143974041238,\n",
       "      'datetime': '2022-06-07T04:00:00.000+02:00'},\n",
       "     {'value': 215.36,\n",
       "      'percentage': 0.5520494219579093,\n",
       "      'datetime': '2022-06-07T05:00:00.000+02:00'},\n",
       "     {'value': 213.23,\n",
       "      'percentage': 0.548247756665724,\n",
       "      'datetime': '2022-06-07T06:00:00.000+02:00'},\n",
       "     {'value': 261.55,\n",
       "      'percentage': 0.5466268182578164,\n",
       "      'datetime': '2022-06-07T07:00:00.000+02:00'},\n",
       "     {'value': 291.22,\n",
       "      'percentage': 0.5695232135174249,\n",
       "      'datetime': '2022-06-07T08:00:00.000+02:00'},\n",
       "     {'value': 278.49,\n",
       "      'percentage': 0.5689507232164747,\n",
       "      'datetime': '2022-06-07T09:00:00.000+02:00'},\n",
       "     {'value': 309.8,\n",
       "      'percentage': 0.6113468179575728,\n",
       "      'datetime': '2022-06-07T10:00:00.000+02:00'},\n",
       "     {'value': 309.66,\n",
       "      'percentage': 0.6116015879599455,\n",
       "      'datetime': '2022-06-07T11:00:00.000+02:00'},\n",
       "     {'value': 308.9,\n",
       "      'percentage': 0.6118527908727172,\n",
       "      'datetime': '2022-06-07T12:00:00.000+02:00'},\n",
       "     {'value': 295.73,\n",
       "      'percentage': 0.615168597757577,\n",
       "      'datetime': '2022-06-07T13:00:00.000+02:00'},\n",
       "     {'value': 235.36,\n",
       "      'percentage': 0.5752272949457425,\n",
       "      'datetime': '2022-06-07T14:00:00.000+02:00'},\n",
       "     {'value': 225.92,\n",
       "      'percentage': 0.5779335396894426,\n",
       "      'datetime': '2022-06-07T15:00:00.000+02:00'},\n",
       "     {'value': 225.02,\n",
       "      'percentage': 0.5783237811303297,\n",
       "      'datetime': '2022-06-07T16:00:00.000+02:00'},\n",
       "     {'value': 235.35,\n",
       "      'percentage': 0.5762027175908924,\n",
       "      'datetime': '2022-06-07T17:00:00.000+02:00'},\n",
       "     {'value': 289.38,\n",
       "      'percentage': 0.6187564146424905,\n",
       "      'datetime': '2022-06-07T18:00:00.000+02:00'},\n",
       "     {'value': 311.71,\n",
       "      'percentage': 0.6135419742151363,\n",
       "      'datetime': '2022-06-07T19:00:00.000+02:00'},\n",
       "     {'value': 348.58,\n",
       "      'percentage': 0.6051315880841608,\n",
       "      'datetime': '2022-06-07T20:00:00.000+02:00'},\n",
       "     {'value': 350.06,\n",
       "      'percentage': 0.6047299048145525,\n",
       "      'datetime': '2022-06-07T21:00:00.000+02:00'},\n",
       "     {'value': 293.26,\n",
       "      'percentage': 0.5710780495404268,\n",
       "      'datetime': '2022-06-07T22:00:00.000+02:00'},\n",
       "     {'value': 282.97,\n",
       "      'percentage': 0.5728833461554035,\n",
       "      'datetime': '2022-06-07T23:00:00.000+02:00'}]}},\n",
       "  {'type': 'Precio mercado spot (€/MWh)',\n",
       "   'id': '600',\n",
       "   'groupId': None,\n",
       "   'attributes': {'title': 'Precio mercado spot (€/MWh)',\n",
       "    'description': None,\n",
       "    'color': '#df4a32',\n",
       "    'type': None,\n",
       "    'magnitude': 'price',\n",
       "    'composite': False,\n",
       "    'last-update': '2022-06-06T12:55:06.000+02:00',\n",
       "    'values': [{'value': 207.62,\n",
       "      'percentage': 0.45087734537873525,\n",
       "      'datetime': '2022-06-07T00:00:00.000+02:00'},\n",
       "     {'value': 190.9,\n",
       "      'percentage': 0.4490285552994308,\n",
       "      'datetime': '2022-06-07T01:00:00.000+02:00'},\n",
       "     {'value': 179.27,\n",
       "      'percentage': 0.4476937292410659,\n",
       "      'datetime': '2022-06-07T02:00:00.000+02:00'},\n",
       "     {'value': 176,\n",
       "      'percentage': 0.4466211586773923,\n",
       "      'datetime': '2022-06-07T03:00:00.000+02:00'},\n",
       "     {'value': 174.75,\n",
       "      'percentage': 0.4464856025958763,\n",
       "      'datetime': '2022-06-07T04:00:00.000+02:00'},\n",
       "     {'value': 174.75,\n",
       "      'percentage': 0.44795057804209065,\n",
       "      'datetime': '2022-06-07T05:00:00.000+02:00'},\n",
       "     {'value': 175.7,\n",
       "      'percentage': 0.4517522433342761,\n",
       "      'datetime': '2022-06-07T06:00:00.000+02:00'},\n",
       "     {'value': 216.93,\n",
       "      'percentage': 0.45337318174218355,\n",
       "      'datetime': '2022-06-07T07:00:00.000+02:00'},\n",
       "     {'value': 220.12,\n",
       "      'percentage': 0.4304767864825752,\n",
       "      'datetime': '2022-06-07T08:00:00.000+02:00'},\n",
       "     {'value': 210.99,\n",
       "      'percentage': 0.4310492767835254,\n",
       "      'datetime': '2022-06-07T09:00:00.000+02:00'},\n",
       "     {'value': 196.95,\n",
       "      'percentage': 0.3886531820424272,\n",
       "      'datetime': '2022-06-07T10:00:00.000+02:00'},\n",
       "     {'value': 196.65,\n",
       "      'percentage': 0.3883984120400545,\n",
       "      'datetime': '2022-06-07T11:00:00.000+02:00'},\n",
       "     {'value': 195.96,\n",
       "      'percentage': 0.38814720912728284,\n",
       "      'datetime': '2022-06-07T12:00:00.000+02:00'},\n",
       "     {'value': 185,\n",
       "      'percentage': 0.38483140224242296,\n",
       "      'datetime': '2022-06-07T13:00:00.000+02:00'},\n",
       "     {'value': 173.8,\n",
       "      'percentage': 0.4247727050542575,\n",
       "      'datetime': '2022-06-07T14:00:00.000+02:00'},\n",
       "     {'value': 164.99,\n",
       "      'percentage': 0.4220664603105575,\n",
       "      'datetime': '2022-06-07T15:00:00.000+02:00'},\n",
       "     {'value': 164.07,\n",
       "      'percentage': 0.4216762188696702,\n",
       "      'datetime': '2022-06-07T16:00:00.000+02:00'},\n",
       "     {'value': 173.1,\n",
       "      'percentage': 0.4237972824091076,\n",
       "      'datetime': '2022-06-07T17:00:00.000+02:00'},\n",
       "     {'value': 178.3,\n",
       "      'percentage': 0.3812435853575094,\n",
       "      'datetime': '2022-06-07T18:00:00.000+02:00'},\n",
       "     {'value': 196.34,\n",
       "      'percentage': 0.3864580257848637,\n",
       "      'datetime': '2022-06-07T19:00:00.000+02:00'},\n",
       "     {'value': 227.46,\n",
       "      'percentage': 0.3948684119158392,\n",
       "      'datetime': '2022-06-07T20:00:00.000+02:00'},\n",
       "     {'value': 228.81,\n",
       "      'percentage': 0.39527009518544753,\n",
       "      'datetime': '2022-06-07T21:00:00.000+02:00'},\n",
       "     {'value': 220.26,\n",
       "      'percentage': 0.42892195045957315,\n",
       "      'datetime': '2022-06-07T22:00:00.000+02:00'},\n",
       "     {'value': 210.97,\n",
       "      'percentage': 0.42711665384459646,\n",
       "      'datetime': '2022-06-07T23:00:00.000+02:00'}]}}]}"
      ]
     },
     "execution_count": 7,
     "metadata": {},
     "output_type": "execute_result"
    }
   ],
   "source": [
    "# Mediante la siguiente función se guarda la información extraída \n",
    "# de la API en formato json, en \"data\".\n",
    "data = request.json()\n",
    "data"
   ]
  },
  {
   "cell_type": "code",
   "execution_count": 8,
   "metadata": {
    "scrolled": false
   },
   "outputs": [
    {
     "data": {
      "text/plain": [
       "[{'type': 'PVPC (€/MWh)',\n",
       "  'id': '1001',\n",
       "  'groupId': None,\n",
       "  'attributes': {'title': 'PVPC (€/MWh)',\n",
       "   'description': None,\n",
       "   'color': '#ffcf09',\n",
       "   'type': None,\n",
       "   'magnitude': 'price',\n",
       "   'composite': False,\n",
       "   'last-update': '2022-06-06T20:17:50.000+02:00',\n",
       "   'values': [{'value': 252.86,\n",
       "     'percentage': 0.5491226546212647,\n",
       "     'datetime': '2022-06-07T00:00:00.000+02:00'},\n",
       "    {'value': 234.24,\n",
       "     'percentage': 0.5509714447005692,\n",
       "     'datetime': '2022-06-07T01:00:00.000+02:00'},\n",
       "    {'value': 221.16,\n",
       "     'percentage': 0.5523062707589341,\n",
       "     'datetime': '2022-06-07T02:00:00.000+02:00'},\n",
       "    {'value': 218.07,\n",
       "     'percentage': 0.5533788413226076,\n",
       "     'datetime': '2022-06-07T03:00:00.000+02:00'},\n",
       "    {'value': 216.64,\n",
       "     'percentage': 0.5535143974041238,\n",
       "     'datetime': '2022-06-07T04:00:00.000+02:00'},\n",
       "    {'value': 215.36,\n",
       "     'percentage': 0.5520494219579093,\n",
       "     'datetime': '2022-06-07T05:00:00.000+02:00'},\n",
       "    {'value': 213.23,\n",
       "     'percentage': 0.548247756665724,\n",
       "     'datetime': '2022-06-07T06:00:00.000+02:00'},\n",
       "    {'value': 261.55,\n",
       "     'percentage': 0.5466268182578164,\n",
       "     'datetime': '2022-06-07T07:00:00.000+02:00'},\n",
       "    {'value': 291.22,\n",
       "     'percentage': 0.5695232135174249,\n",
       "     'datetime': '2022-06-07T08:00:00.000+02:00'},\n",
       "    {'value': 278.49,\n",
       "     'percentage': 0.5689507232164747,\n",
       "     'datetime': '2022-06-07T09:00:00.000+02:00'},\n",
       "    {'value': 309.8,\n",
       "     'percentage': 0.6113468179575728,\n",
       "     'datetime': '2022-06-07T10:00:00.000+02:00'},\n",
       "    {'value': 309.66,\n",
       "     'percentage': 0.6116015879599455,\n",
       "     'datetime': '2022-06-07T11:00:00.000+02:00'},\n",
       "    {'value': 308.9,\n",
       "     'percentage': 0.6118527908727172,\n",
       "     'datetime': '2022-06-07T12:00:00.000+02:00'},\n",
       "    {'value': 295.73,\n",
       "     'percentage': 0.615168597757577,\n",
       "     'datetime': '2022-06-07T13:00:00.000+02:00'},\n",
       "    {'value': 235.36,\n",
       "     'percentage': 0.5752272949457425,\n",
       "     'datetime': '2022-06-07T14:00:00.000+02:00'},\n",
       "    {'value': 225.92,\n",
       "     'percentage': 0.5779335396894426,\n",
       "     'datetime': '2022-06-07T15:00:00.000+02:00'},\n",
       "    {'value': 225.02,\n",
       "     'percentage': 0.5783237811303297,\n",
       "     'datetime': '2022-06-07T16:00:00.000+02:00'},\n",
       "    {'value': 235.35,\n",
       "     'percentage': 0.5762027175908924,\n",
       "     'datetime': '2022-06-07T17:00:00.000+02:00'},\n",
       "    {'value': 289.38,\n",
       "     'percentage': 0.6187564146424905,\n",
       "     'datetime': '2022-06-07T18:00:00.000+02:00'},\n",
       "    {'value': 311.71,\n",
       "     'percentage': 0.6135419742151363,\n",
       "     'datetime': '2022-06-07T19:00:00.000+02:00'},\n",
       "    {'value': 348.58,\n",
       "     'percentage': 0.6051315880841608,\n",
       "     'datetime': '2022-06-07T20:00:00.000+02:00'},\n",
       "    {'value': 350.06,\n",
       "     'percentage': 0.6047299048145525,\n",
       "     'datetime': '2022-06-07T21:00:00.000+02:00'},\n",
       "    {'value': 293.26,\n",
       "     'percentage': 0.5710780495404268,\n",
       "     'datetime': '2022-06-07T22:00:00.000+02:00'},\n",
       "    {'value': 282.97,\n",
       "     'percentage': 0.5728833461554035,\n",
       "     'datetime': '2022-06-07T23:00:00.000+02:00'}]}},\n",
       " {'type': 'Precio mercado spot (€/MWh)',\n",
       "  'id': '600',\n",
       "  'groupId': None,\n",
       "  'attributes': {'title': 'Precio mercado spot (€/MWh)',\n",
       "   'description': None,\n",
       "   'color': '#df4a32',\n",
       "   'type': None,\n",
       "   'magnitude': 'price',\n",
       "   'composite': False,\n",
       "   'last-update': '2022-06-06T12:55:06.000+02:00',\n",
       "   'values': [{'value': 207.62,\n",
       "     'percentage': 0.45087734537873525,\n",
       "     'datetime': '2022-06-07T00:00:00.000+02:00'},\n",
       "    {'value': 190.9,\n",
       "     'percentage': 0.4490285552994308,\n",
       "     'datetime': '2022-06-07T01:00:00.000+02:00'},\n",
       "    {'value': 179.27,\n",
       "     'percentage': 0.4476937292410659,\n",
       "     'datetime': '2022-06-07T02:00:00.000+02:00'},\n",
       "    {'value': 176,\n",
       "     'percentage': 0.4466211586773923,\n",
       "     'datetime': '2022-06-07T03:00:00.000+02:00'},\n",
       "    {'value': 174.75,\n",
       "     'percentage': 0.4464856025958763,\n",
       "     'datetime': '2022-06-07T04:00:00.000+02:00'},\n",
       "    {'value': 174.75,\n",
       "     'percentage': 0.44795057804209065,\n",
       "     'datetime': '2022-06-07T05:00:00.000+02:00'},\n",
       "    {'value': 175.7,\n",
       "     'percentage': 0.4517522433342761,\n",
       "     'datetime': '2022-06-07T06:00:00.000+02:00'},\n",
       "    {'value': 216.93,\n",
       "     'percentage': 0.45337318174218355,\n",
       "     'datetime': '2022-06-07T07:00:00.000+02:00'},\n",
       "    {'value': 220.12,\n",
       "     'percentage': 0.4304767864825752,\n",
       "     'datetime': '2022-06-07T08:00:00.000+02:00'},\n",
       "    {'value': 210.99,\n",
       "     'percentage': 0.4310492767835254,\n",
       "     'datetime': '2022-06-07T09:00:00.000+02:00'},\n",
       "    {'value': 196.95,\n",
       "     'percentage': 0.3886531820424272,\n",
       "     'datetime': '2022-06-07T10:00:00.000+02:00'},\n",
       "    {'value': 196.65,\n",
       "     'percentage': 0.3883984120400545,\n",
       "     'datetime': '2022-06-07T11:00:00.000+02:00'},\n",
       "    {'value': 195.96,\n",
       "     'percentage': 0.38814720912728284,\n",
       "     'datetime': '2022-06-07T12:00:00.000+02:00'},\n",
       "    {'value': 185,\n",
       "     'percentage': 0.38483140224242296,\n",
       "     'datetime': '2022-06-07T13:00:00.000+02:00'},\n",
       "    {'value': 173.8,\n",
       "     'percentage': 0.4247727050542575,\n",
       "     'datetime': '2022-06-07T14:00:00.000+02:00'},\n",
       "    {'value': 164.99,\n",
       "     'percentage': 0.4220664603105575,\n",
       "     'datetime': '2022-06-07T15:00:00.000+02:00'},\n",
       "    {'value': 164.07,\n",
       "     'percentage': 0.4216762188696702,\n",
       "     'datetime': '2022-06-07T16:00:00.000+02:00'},\n",
       "    {'value': 173.1,\n",
       "     'percentage': 0.4237972824091076,\n",
       "     'datetime': '2022-06-07T17:00:00.000+02:00'},\n",
       "    {'value': 178.3,\n",
       "     'percentage': 0.3812435853575094,\n",
       "     'datetime': '2022-06-07T18:00:00.000+02:00'},\n",
       "    {'value': 196.34,\n",
       "     'percentage': 0.3864580257848637,\n",
       "     'datetime': '2022-06-07T19:00:00.000+02:00'},\n",
       "    {'value': 227.46,\n",
       "     'percentage': 0.3948684119158392,\n",
       "     'datetime': '2022-06-07T20:00:00.000+02:00'},\n",
       "    {'value': 228.81,\n",
       "     'percentage': 0.39527009518544753,\n",
       "     'datetime': '2022-06-07T21:00:00.000+02:00'},\n",
       "    {'value': 220.26,\n",
       "     'percentage': 0.42892195045957315,\n",
       "     'datetime': '2022-06-07T22:00:00.000+02:00'},\n",
       "    {'value': 210.97,\n",
       "     'percentage': 0.42711665384459646,\n",
       "     'datetime': '2022-06-07T23:00:00.000+02:00'}]}}]"
      ]
     },
     "execution_count": 8,
     "metadata": {},
     "output_type": "execute_result"
    }
   ],
   "source": [
    "# Se aprecia que \"data\" es un diccionario, por lo cual se irá acotando\n",
    "# la información a la variable que contiene el precio PVPC.\n",
    "# Dicho información se encuentra en \"included\"\n",
    "data['included']"
   ]
  },
  {
   "cell_type": "code",
   "execution_count": 9,
   "metadata": {},
   "outputs": [],
   "source": [
    "# Es posible apreciar que la información necesaria está en la primera\n",
    "# posición del archivo, la cual se extraen en \"data1\".\n",
    "data1 = data['included'][0]\n",
    "# Se sigue acotando la información la cual se encuentra en \"attributes\" \n",
    "# de data1, con esa información se crea \"data2\".\n",
    "data2 = data1['attributes']"
   ]
  },
  {
   "cell_type": "code",
   "execution_count": 10,
   "metadata": {},
   "outputs": [
    {
     "data": {
      "text/plain": [
       "[{'value': 252.86,\n",
       "  'percentage': 0.5491226546212647,\n",
       "  'datetime': '2022-06-07T00:00:00.000+02:00'},\n",
       " {'value': 234.24,\n",
       "  'percentage': 0.5509714447005692,\n",
       "  'datetime': '2022-06-07T01:00:00.000+02:00'},\n",
       " {'value': 221.16,\n",
       "  'percentage': 0.5523062707589341,\n",
       "  'datetime': '2022-06-07T02:00:00.000+02:00'},\n",
       " {'value': 218.07,\n",
       "  'percentage': 0.5533788413226076,\n",
       "  'datetime': '2022-06-07T03:00:00.000+02:00'},\n",
       " {'value': 216.64,\n",
       "  'percentage': 0.5535143974041238,\n",
       "  'datetime': '2022-06-07T04:00:00.000+02:00'},\n",
       " {'value': 215.36,\n",
       "  'percentage': 0.5520494219579093,\n",
       "  'datetime': '2022-06-07T05:00:00.000+02:00'},\n",
       " {'value': 213.23,\n",
       "  'percentage': 0.548247756665724,\n",
       "  'datetime': '2022-06-07T06:00:00.000+02:00'},\n",
       " {'value': 261.55,\n",
       "  'percentage': 0.5466268182578164,\n",
       "  'datetime': '2022-06-07T07:00:00.000+02:00'},\n",
       " {'value': 291.22,\n",
       "  'percentage': 0.5695232135174249,\n",
       "  'datetime': '2022-06-07T08:00:00.000+02:00'},\n",
       " {'value': 278.49,\n",
       "  'percentage': 0.5689507232164747,\n",
       "  'datetime': '2022-06-07T09:00:00.000+02:00'},\n",
       " {'value': 309.8,\n",
       "  'percentage': 0.6113468179575728,\n",
       "  'datetime': '2022-06-07T10:00:00.000+02:00'},\n",
       " {'value': 309.66,\n",
       "  'percentage': 0.6116015879599455,\n",
       "  'datetime': '2022-06-07T11:00:00.000+02:00'},\n",
       " {'value': 308.9,\n",
       "  'percentage': 0.6118527908727172,\n",
       "  'datetime': '2022-06-07T12:00:00.000+02:00'},\n",
       " {'value': 295.73,\n",
       "  'percentage': 0.615168597757577,\n",
       "  'datetime': '2022-06-07T13:00:00.000+02:00'},\n",
       " {'value': 235.36,\n",
       "  'percentage': 0.5752272949457425,\n",
       "  'datetime': '2022-06-07T14:00:00.000+02:00'},\n",
       " {'value': 225.92,\n",
       "  'percentage': 0.5779335396894426,\n",
       "  'datetime': '2022-06-07T15:00:00.000+02:00'},\n",
       " {'value': 225.02,\n",
       "  'percentage': 0.5783237811303297,\n",
       "  'datetime': '2022-06-07T16:00:00.000+02:00'},\n",
       " {'value': 235.35,\n",
       "  'percentage': 0.5762027175908924,\n",
       "  'datetime': '2022-06-07T17:00:00.000+02:00'},\n",
       " {'value': 289.38,\n",
       "  'percentage': 0.6187564146424905,\n",
       "  'datetime': '2022-06-07T18:00:00.000+02:00'},\n",
       " {'value': 311.71,\n",
       "  'percentage': 0.6135419742151363,\n",
       "  'datetime': '2022-06-07T19:00:00.000+02:00'},\n",
       " {'value': 348.58,\n",
       "  'percentage': 0.6051315880841608,\n",
       "  'datetime': '2022-06-07T20:00:00.000+02:00'},\n",
       " {'value': 350.06,\n",
       "  'percentage': 0.6047299048145525,\n",
       "  'datetime': '2022-06-07T21:00:00.000+02:00'},\n",
       " {'value': 293.26,\n",
       "  'percentage': 0.5710780495404268,\n",
       "  'datetime': '2022-06-07T22:00:00.000+02:00'},\n",
       " {'value': 282.97,\n",
       "  'percentage': 0.5728833461554035,\n",
       "  'datetime': '2022-06-07T23:00:00.000+02:00'}]"
      ]
     },
     "execution_count": 10,
     "metadata": {},
     "output_type": "execute_result"
    }
   ],
   "source": [
    "# Se crea una lista para precios y se filtra la información sólo de\n",
    "# \"values\".\n",
    "prices = []\n",
    "prices = data2['values']\n",
    "prices"
   ]
  },
  {
   "cell_type": "code",
   "execution_count": 11,
   "metadata": {},
   "outputs": [
    {
     "data": {
      "text/html": [
       "<div>\n",
       "<style scoped>\n",
       "    .dataframe tbody tr th:only-of-type {\n",
       "        vertical-align: middle;\n",
       "    }\n",
       "\n",
       "    .dataframe tbody tr th {\n",
       "        vertical-align: top;\n",
       "    }\n",
       "\n",
       "    .dataframe thead th {\n",
       "        text-align: right;\n",
       "    }\n",
       "</style>\n",
       "<table border=\"1\" class=\"dataframe\">\n",
       "  <thead>\n",
       "    <tr style=\"text-align: right;\">\n",
       "      <th></th>\n",
       "      <th>value</th>\n",
       "      <th>percentage</th>\n",
       "      <th>datetime</th>\n",
       "    </tr>\n",
       "  </thead>\n",
       "  <tbody>\n",
       "    <tr>\n",
       "      <th>0</th>\n",
       "      <td>252.86</td>\n",
       "      <td>0.549123</td>\n",
       "      <td>2022-06-07T00:00:00.000+02:00</td>\n",
       "    </tr>\n",
       "    <tr>\n",
       "      <th>1</th>\n",
       "      <td>234.24</td>\n",
       "      <td>0.550971</td>\n",
       "      <td>2022-06-07T01:00:00.000+02:00</td>\n",
       "    </tr>\n",
       "    <tr>\n",
       "      <th>2</th>\n",
       "      <td>221.16</td>\n",
       "      <td>0.552306</td>\n",
       "      <td>2022-06-07T02:00:00.000+02:00</td>\n",
       "    </tr>\n",
       "    <tr>\n",
       "      <th>3</th>\n",
       "      <td>218.07</td>\n",
       "      <td>0.553379</td>\n",
       "      <td>2022-06-07T03:00:00.000+02:00</td>\n",
       "    </tr>\n",
       "    <tr>\n",
       "      <th>4</th>\n",
       "      <td>216.64</td>\n",
       "      <td>0.553514</td>\n",
       "      <td>2022-06-07T04:00:00.000+02:00</td>\n",
       "    </tr>\n",
       "  </tbody>\n",
       "</table>\n",
       "</div>"
      ],
      "text/plain": [
       "    value  percentage                       datetime\n",
       "0  252.86    0.549123  2022-06-07T00:00:00.000+02:00\n",
       "1  234.24    0.550971  2022-06-07T01:00:00.000+02:00\n",
       "2  221.16    0.552306  2022-06-07T02:00:00.000+02:00\n",
       "3  218.07    0.553379  2022-06-07T03:00:00.000+02:00\n",
       "4  216.64    0.553514  2022-06-07T04:00:00.000+02:00"
      ]
     },
     "execution_count": 11,
     "metadata": {},
     "output_type": "execute_result"
    }
   ],
   "source": [
    "# Convertimos dicha información e dataframe para un tratamiento más fácil.\n",
    "DataFinal=pd.DataFrame(prices) \n",
    "DataFinal.head() # Observamos sus primeras 5 filas"
   ]
  },
  {
   "cell_type": "code",
   "execution_count": 12,
   "metadata": {},
   "outputs": [
    {
     "data": {
      "text/plain": [
       "value         float64\n",
       "percentage    float64\n",
       "datetime       object\n",
       "dtype: object"
      ]
     },
     "execution_count": 12,
     "metadata": {},
     "output_type": "execute_result"
    }
   ],
   "source": [
    "# Se verifica el tipo de cada variable.\n",
    "DataFinal.dtypes\n",
    "#Se aprecia que la variable datetime es un \"object\"."
   ]
  },
  {
   "cell_type": "code",
   "execution_count": 13,
   "metadata": {},
   "outputs": [
    {
     "data": {
      "text/plain": [
       "value                                       float64\n",
       "percentage                                  float64\n",
       "datetime      datetime64[ns, pytz.FixedOffset(120)]\n",
       "dtype: object"
      ]
     },
     "execution_count": 13,
     "metadata": {},
     "output_type": "execute_result"
    }
   ],
   "source": [
    "# La columna \"datetime\" se convierte en valores con formato \"datetime\".\n",
    "DataFinal['datetime'] = pd.to_datetime(DataFinal['datetime'])\n",
    "# Se verifica el éxito del a modificación:\n",
    "DataFinal.dtypes"
   ]
  },
  {
   "cell_type": "code",
   "execution_count": 14,
   "metadata": {},
   "outputs": [],
   "source": [
    "# Se crea una columna sólo con las horas de la información de datetime,\n",
    "# para graficar.\n",
    "DataFinal['Horas'] = DataFinal['datetime'].dt.hour"
   ]
  },
  {
   "cell_type": "code",
   "execution_count": 124,
   "metadata": {},
   "outputs": [
    {
     "data": {
      "image/png": "[encoded data removed]",
      "text/plain": [
       "<Figure size 1440x720 with 1 Axes>"
      ]
     },
     "metadata": {},
     "output_type": "display_data"
    }
   ],
   "source": [
    "# Se grafica el precio PVPC en función de las horas del día, de la\n",
    "# información extraída de la API de REE.\n",
    "matplotlib.rc('xtick', labelsize=15)     \n",
    "matplotlib.rc('ytick', labelsize=15)\n",
    "\n",
    "plt.style.use('ggplot')\n",
    "plt.figure(figsize=(20,10))\n",
    "plt.plot(DataFinal['Horas'], DataFinal['value'],'r',linewidth=1.5)\n",
    "plt.title(f\"PVPC prices\", fontsize=20)\n",
    "plt.xlabel('Hour',fontsize=20 )\n",
    "plt.ylabel('Price [€/MWh]',fontsize=20)\n",
    "plt.axvline(x=8, ymin=0, ymax=1)\n",
    "plt.annotate('291,22 €/MWh',\n",
    "            xy=(8,291.22), \n",
    "            xytext=(0, 0), textcoords='offset points', fontsize=16)\n",
    "plt.axvline(x=10, ymin=0, ymax=1)\n",
    "plt.annotate('309,80 €/MWh',\n",
    "            xy=(10,309.80), \n",
    "            xytext=(-60, 0), textcoords='offset points', fontsize=16)\n",
    "plt.axvline(x=12, ymin=0, ymax=1)\n",
    "plt.annotate('308,90 €/MWh',\n",
    "            xy=(12,308.90), \n",
    "            xytext=(0, 0), textcoords='offset points', fontsize=16)\n",
    "plt.axvline(x=14, ymin=0, ymax=1)\n",
    "plt.annotate('235,36 €/MWh',\n",
    "            xy=(14,235.36), \n",
    "            xytext=(0, 0), textcoords='offset points', fontsize=16)\n",
    "plt.axvline(x=16, ymin=0, ymax=1)\n",
    "plt.annotate('225,03 €/MWh',\n",
    "            xy=(16,225.2), \n",
    "            xytext=(0, 0), textcoords='offset points', fontsize=16)\n",
    "plt.axvline(x=18, ymin=0, ymax=1)\n",
    "plt.annotate('289,38 €/MWh',\n",
    "            xy=(18,289.38), \n",
    "            xytext=(0, 0), textcoords='offset points', fontsize=16)\n",
    "plt.axvline(x=20, ymin=0, ymax=1)\n",
    "plt.annotate('348,58 €/MWh',\n",
    "            xy=(20,348.58), \n",
    "            xytext=(0, 0), textcoords='offset points', fontsize=16)\n",
    "plt.axvline(x=22, ymin=0, ymax=1)\n",
    "plt.annotate('293,26 €/MWh',\n",
    "            xy=(22,293.26), \n",
    "            xytext=(0, 0), textcoords='offset points', fontsize=16)\n",
    "plt.show()"
   ]
  },
  {
   "cell_type": "code",
   "execution_count": 131,
   "metadata": {},
   "outputs": [
    {
     "data": {
      "image/png": "[encoded data removed]",
      "text/plain": [
       "<Figure size 1440x720 with 1 Axes>"
      ]
     },
     "metadata": {},
     "output_type": "display_data"
    }
   ],
   "source": [
    "# Se grafica el precio PVPC en función de las horas del día, de la\n",
    "# información extraída de la API de REE.\n",
    "matplotlib.rc('xtick', labelsize=15)     \n",
    "matplotlib.rc('ytick', labelsize=15)\n",
    "\n",
    "plt.style.use('ggplot')\n",
    "plt.figure(figsize=(20,10))\n",
    "plt.plot(DataFinal['Horas'], DataFinal['value'],'r',linewidth=1.5)\n",
    "plt.title(f\"PVPC prices\", fontsize=20)\n",
    "plt.xlabel('Hour',fontsize=20 )\n",
    "plt.ylabel('Price [€/MWh]',fontsize=20)\n",
    "plt.axvline(x=6, ymin=0, ymax=1)\n",
    "plt.annotate('213,23 €/MWh',\n",
    "            xy=(6,213.23), \n",
    "            xytext=(0, 0), textcoords='offset points', fontsize=16)\n",
    "plt.axvline(x=9, ymin=0, ymax=1)\n",
    "plt.annotate('278,49 €/MWh',\n",
    "            xy=(9,278.49), \n",
    "            xytext=(0, 0), textcoords='offset points', fontsize=16)\n",
    "plt.axvline(x=13, ymin=0, ymax=1)\n",
    "plt.annotate('295,73 €/MWh',\n",
    "            xy=(13,295.73), \n",
    "            xytext=(0, 0), textcoords='offset points', fontsize=16)\n",
    "plt.axvline(x=15, ymin=0, ymax=1)\n",
    "plt.annotate('225,92 €/MWh',\n",
    "            xy=(15,225.92), \n",
    "            xytext=(0, +10), textcoords='offset points', fontsize=16)\n",
    "plt.axvline(x=16, ymin=0, ymax=1)\n",
    "plt.annotate('225,03 €/MWh',\n",
    "            xy=(16,225.2), \n",
    "            xytext=(0, -10), textcoords='offset points', fontsize=16)\n",
    "plt.axvline(x=17, ymin=0, ymax=1)\n",
    "plt.annotate('235,35 €/MWh',\n",
    "            xy=(17,235.35), \n",
    "            xytext=(0, 0), textcoords='offset points', fontsize=16)\n",
    "plt.axvline(x=19, ymin=0, ymax=1)\n",
    "plt.annotate('311,71 €/MWh',\n",
    "            xy=(19,311.71), \n",
    "            xytext=(0, 0), textcoords='offset points', fontsize=16)\n",
    "plt.axvline(x=22, ymin=0, ymax=1)\n",
    "plt.annotate('293,26 €/MWh',\n",
    "            xy=(22,293.26), \n",
    "            xytext=(0, 0), textcoords='offset points', fontsize=16)\n",
    "plt.show()"
   ]
  },
  {
   "cell_type": "code",
   "execution_count": 16,
   "metadata": {},
   "outputs": [
    {
     "data": {
      "text/html": [
       "        <script type=\"text/javascript\">\n",
       "        window.PlotlyConfig = {MathJaxConfig: 'local'};\n",
       "        if (window.MathJax && window.MathJax.Hub && window.MathJax.Hub.Config) {window.MathJax.Hub.Config({SVG: {font: \"STIX-Web\"}});}\n",
       "        if (typeof require !== 'undefined') {\n",
       "        require.undef(\"plotly\");\n",
       "        requirejs.config({\n",
       "            paths: {\n",
       "                'plotly': ['https://cdn.plot.ly/plotly-2.12.1.min']\n",
       "            }\n",
       "        });\n",
       "        require(['plotly'], function(Plotly) {\n",
       "            window._Plotly = Plotly;\n",
       "        });\n",
       "        }\n",
       "        </script>\n",
       "        "
      ]
     },
     "metadata": {},
     "output_type": "display_data"
    }
   ],
   "source": [
    "import plotly.offline as py;\n",
    "from plotly import tools;\n",
    "import plotly.graph_objs as go;\n",
    "from ipywidgets import widgets;\n",
    "from ipywidgets import interact;\n",
    "import warnings\n",
    "warnings.filterwarnings('ignore')\n",
    "py.init_notebook_mode(connected= True)"
   ]
  },
  {
   "cell_type": "code",
   "execution_count": 22,
   "metadata": {},
   "outputs": [
    {
     "data": {
      "application/vnd.plotly.v1+json": {
       "config": {
        "plotlyServerURL": "https://plot.ly"
       },
       "data": [
        {
         "name": "Prices",
         "type": "scatter",
         "x": [
          0,
          1,
          2,
          3,
          4,
          5,
          6,
          7,
          8,
          9,
          10,
          11,
          12,
          13,
          14,
          15,
          16,
          17,
          18,
          19,
          20,
          21,
          22,
          23
         ],
         "y": [
          252.86,
          234.24,
          221.16,
          218.07,
          216.64,
          215.36,
          213.23,
          261.55,
          291.22,
          278.49,
          309.8,
          309.66,
          308.9,
          295.73,
          235.36,
          225.92,
          225.02,
          235.35,
          289.38,
          311.71,
          348.58,
          350.06,
          293.26,
          282.97
         ]
        }
       ],
       "layout": {
        "template": {
         "data": {
          "bar": [
           {
            "error_x": {
             "color": "#2a3f5f"
            },
            "error_y": {
             "color": "#2a3f5f"
            },
            "marker": {
             "line": {
              "color": "#E5ECF6",
              "width": 0.5
             },
             "pattern": {
              "fillmode": "overlay",
              "size": 10,
              "solidity": 0.2
             }
            },
            "type": "bar"
           }
          ],
          "barpolar": [
           {
            "marker": {
             "line": {
              "color": "#E5ECF6",
              "width": 0.5
             },
             "pattern": {
              "fillmode": "overlay",
              "size": 10,
              "solidity": 0.2
             }
            },
            "type": "barpolar"
           }
          ],
          "carpet": [
           {
            "aaxis": {
             "endlinecolor": "#2a3f5f",
             "gridcolor": "white",
             "linecolor": "white",
             "minorgridcolor": "white",
             "startlinecolor": "#2a3f5f"
            },
            "baxis": {
             "endlinecolor": "#2a3f5f",
             "gridcolor": "white",
             "linecolor": "white",
             "minorgridcolor": "white",
             "startlinecolor": "#2a3f5f"
            },
            "type": "carpet"
           }
          ],
          "choropleth": [
           {
            "colorbar": {
             "outlinewidth": 0,
             "ticks": ""
            },
            "type": "choropleth"
           }
          ],
          "contour": [
           {
            "colorbar": {
             "outlinewidth": 0,
             "ticks": ""
            },
            "colorscale": [
             [
              0,
              "#0d0887"
             ],
             [
              0.1111111111111111,
              "#46039f"
             ],
             [
              0.2222222222222222,
              "#7201a8"
             ],
             [
              0.3333333333333333,
              "#9c179e"
             ],
             [
              0.4444444444444444,
              "#bd3786"
             ],
             [
              0.5555555555555556,
              "#d8576b"
             ],
             [
              0.6666666666666666,
              "#ed7953"
             ],
             [
              0.7777777777777778,
              "#fb9f3a"
             ],
             [
              0.8888888888888888,
              "#fdca26"
             ],
             [
              1,
              "#f0f921"
             ]
            ],
            "type": "contour"
           }
          ],
          "contourcarpet": [
           {
            "colorbar": {
             "outlinewidth": 0,
             "ticks": ""
            },
            "type": "contourcarpet"
           }
          ],
          "heatmap": [
           {
            "colorbar": {
             "outlinewidth": 0,
             "ticks": ""
            },
            "colorscale": [
             [
              0,
              "#0d0887"
             ],
             [
              0.1111111111111111,
              "#46039f"
             ],
             [
              0.2222222222222222,
              "#7201a8"
             ],
             [
              0.3333333333333333,
              "#9c179e"
             ],
             [
              0.4444444444444444,
              "#bd3786"
             ],
             [
              0.5555555555555556,
              "#d8576b"
             ],
             [
              0.6666666666666666,
              "#ed7953"
             ],
             [
              0.7777777777777778,
              "#fb9f3a"
             ],
             [
              0.8888888888888888,
              "#fdca26"
             ],
             [
              1,
              "#f0f921"
             ]
            ],
            "type": "heatmap"
           }
          ],
          "heatmapgl": [
           {
            "colorbar": {
             "outlinewidth": 0,
             "ticks": ""
            },
            "colorscale": [
             [
              0,
              "#0d0887"
             ],
             [
              0.1111111111111111,
              "#46039f"
             ],
             [
              0.2222222222222222,
              "#7201a8"
             ],
             [
              0.3333333333333333,
              "#9c179e"
             ],
             [
              0.4444444444444444,
              "#bd3786"
             ],
             [
              0.5555555555555556,
              "#d8576b"
             ],
             [
              0.6666666666666666,
              "#ed7953"
             ],
             [
              0.7777777777777778,
              "#fb9f3a"
             ],
             [
              0.8888888888888888,
              "#fdca26"
             ],
             [
              1,
              "#f0f921"
             ]
            ],
            "type": "heatmapgl"
           }
          ],
          "histogram": [
           {
            "marker": {
             "pattern": {
              "fillmode": "overlay",
              "size": 10,
              "solidity": 0.2
             }
            },
            "type": "histogram"
           }
          ],
          "histogram2d": [
           {
            "colorbar": {
             "outlinewidth": 0,
             "ticks": ""
            },
            "colorscale": [
             [
              0,
              "#0d0887"
             ],
             [
              0.1111111111111111,
              "#46039f"
             ],
             [
              0.2222222222222222,
              "#7201a8"
             ],
             [
              0.3333333333333333,
              "#9c179e"
             ],
             [
              0.4444444444444444,
              "#bd3786"
             ],
             [
              0.5555555555555556,
              "#d8576b"
             ],
             [
              0.6666666666666666,
              "#ed7953"
             ],
             [
              0.7777777777777778,
              "#fb9f3a"
             ],
             [
              0.8888888888888888,
              "#fdca26"
             ],
             [
              1,
              "#f0f921"
             ]
            ],
            "type": "histogram2d"
           }
          ],
          "histogram2dcontour": [
           {
            "colorbar": {
             "outlinewidth": 0,
             "ticks": ""
            },
            "colorscale": [
             [
              0,
              "#0d0887"
             ],
             [
              0.1111111111111111,
              "#46039f"
             ],
             [
              0.2222222222222222,
              "#7201a8"
             ],
             [
              0.3333333333333333,
              "#9c179e"
             ],
             [
              0.4444444444444444,
              "#bd3786"
             ],
             [
              0.5555555555555556,
              "#d8576b"
             ],
             [
              0.6666666666666666,
              "#ed7953"
             ],
             [
              0.7777777777777778,
              "#fb9f3a"
             ],
             [
              0.8888888888888888,
              "#fdca26"
             ],
             [
              1,
              "#f0f921"
             ]
            ],
            "type": "histogram2dcontour"
           }
          ],
          "mesh3d": [
           {
            "colorbar": {
             "outlinewidth": 0,
             "ticks": ""
            },
            "type": "mesh3d"
           }
          ],
          "parcoords": [
           {
            "line": {
             "colorbar": {
              "outlinewidth": 0,
              "ticks": ""
             }
            },
            "type": "parcoords"
           }
          ],
          "pie": [
           {
            "automargin": true,
            "type": "pie"
           }
          ],
          "scatter": [
           {
            "fillpattern": {
             "fillmode": "overlay",
             "size": 10,
             "solidity": 0.2
            },
            "type": "scatter"
           }
          ],
          "scatter3d": [
           {
            "line": {
             "colorbar": {
              "outlinewidth": 0,
              "ticks": ""
             }
            },
            "marker": {
             "colorbar": {
              "outlinewidth": 0,
              "ticks": ""
             }
            },
            "type": "scatter3d"
           }
          ],
          "scattercarpet": [
           {
            "marker": {
             "colorbar": {
              "outlinewidth": 0,
              "ticks": ""
             }
            },
            "type": "scattercarpet"
           }
          ],
          "scattergeo": [
           {
            "marker": {
             "colorbar": {
              "outlinewidth": 0,
              "ticks": ""
             }
            },
            "type": "scattergeo"
           }
          ],
          "scattergl": [
           {
            "marker": {
             "colorbar": {
              "outlinewidth": 0,
              "ticks": ""
             }
            },
            "type": "scattergl"
           }
          ],
          "scattermapbox": [
           {
            "marker": {
             "colorbar": {
              "outlinewidth": 0,
              "ticks": ""
             }
            },
            "type": "scattermapbox"
           }
          ],
          "scatterpolar": [
           {
            "marker": {
             "colorbar": {
              "outlinewidth": 0,
              "ticks": ""
             }
            },
            "type": "scatterpolar"
           }
          ],
          "scatterpolargl": [
           {
            "marker": {
             "colorbar": {
              "outlinewidth": 0,
              "ticks": ""
             }
            },
            "type": "scatterpolargl"
           }
          ],
          "scatterternary": [
           {
            "marker": {
             "colorbar": {
              "outlinewidth": 0,
              "ticks": ""
             }
            },
            "type": "scatterternary"
           }
          ],
          "surface": [
           {
            "colorbar": {
             "outlinewidth": 0,
             "ticks": ""
            },
            "colorscale": [
             [
              0,
              "#0d0887"
             ],
             [
              0.1111111111111111,
              "#46039f"
             ],
             [
              0.2222222222222222,
              "#7201a8"
             ],
             [
              0.3333333333333333,
              "#9c179e"
             ],
             [
              0.4444444444444444,
              "#bd3786"
             ],
             [
              0.5555555555555556,
              "#d8576b"
             ],
             [
              0.6666666666666666,
              "#ed7953"
             ],
             [
              0.7777777777777778,
              "#fb9f3a"
             ],
             [
              0.8888888888888888,
              "#fdca26"
             ],
             [
              1,
              "#f0f921"
             ]
            ],
            "type": "surface"
           }
          ],
          "table": [
           {
            "cells": {
             "fill": {
              "color": "#EBF0F8"
             },
             "line": {
              "color": "white"
             }
            },
            "header": {
             "fill": {
              "color": "#C8D4E3"
             },
             "line": {
              "color": "white"
             }
            },
            "type": "table"
           }
          ]
         },
         "layout": {
          "annotationdefaults": {
           "arrowcolor": "#2a3f5f",
           "arrowhead": 0,
           "arrowwidth": 1
          },
          "autotypenumbers": "strict",
          "coloraxis": {
           "colorbar": {
            "outlinewidth": 0,
            "ticks": ""
           }
          },
          "colorscale": {
           "diverging": [
            [
             0,
             "#8e0152"
            ],
            [
             0.1,
             "#c51b7d"
            ],
            [
             0.2,
             "#de77ae"
            ],
            [
             0.3,
             "#f1b6da"
            ],
            [
             0.4,
             "#fde0ef"
            ],
            [
             0.5,
             "#f7f7f7"
            ],
            [
             0.6,
             "#e6f5d0"
            ],
            [
             0.7,
             "#b8e186"
            ],
            [
             0.8,
             "#7fbc41"
            ],
            [
             0.9,
             "#4d9221"
            ],
            [
             1,
             "#276419"
            ]
           ],
           "sequential": [
            [
             0,
             "#0d0887"
            ],
            [
             0.1111111111111111,
             "#46039f"
            ],
            [
             0.2222222222222222,
             "#7201a8"
            ],
            [
             0.3333333333333333,
             "#9c179e"
            ],
            [
             0.4444444444444444,
             "#bd3786"
            ],
            [
             0.5555555555555556,
             "#d8576b"
            ],
            [
             0.6666666666666666,
             "#ed7953"
            ],
            [
             0.7777777777777778,
             "#fb9f3a"
            ],
            [
             0.8888888888888888,
             "#fdca26"
            ],
            [
             1,
             "#f0f921"
            ]
           ],
           "sequentialminus": [
            [
             0,
             "#0d0887"
            ],
            [
             0.1111111111111111,
             "#46039f"
            ],
            [
             0.2222222222222222,
             "#7201a8"
            ],
            [
             0.3333333333333333,
             "#9c179e"
            ],
            [
             0.4444444444444444,
             "#bd3786"
            ],
            [
             0.5555555555555556,
             "#d8576b"
            ],
            [
             0.6666666666666666,
             "#ed7953"
            ],
            [
             0.7777777777777778,
             "#fb9f3a"
            ],
            [
             0.8888888888888888,
             "#fdca26"
            ],
            [
             1,
             "#f0f921"
            ]
           ]
          },
          "colorway": [
           "#636efa",
           "#EF553B",
           "#00cc96",
           "#ab63fa",
           "#FFA15A",
           "#19d3f3",
           "#FF6692",
           "#B6E880",
           "#FF97FF",
           "#FECB52"
          ],
          "font": {
           "color": "#2a3f5f"
          },
          "geo": {
           "bgcolor": "white",
           "lakecolor": "white",
           "landcolor": "#E5ECF6",
           "showlakes": true,
           "showland": true,
           "subunitcolor": "white"
          },
          "hoverlabel": {
           "align": "left"
          },
          "hovermode": "closest",
          "mapbox": {
           "style": "light"
          },
          "paper_bgcolor": "white",
          "plot_bgcolor": "#E5ECF6",
          "polar": {
           "angularaxis": {
            "gridcolor": "white",
            "linecolor": "white",
            "ticks": ""
           },
           "bgcolor": "#E5ECF6",
           "radialaxis": {
            "gridcolor": "white",
            "linecolor": "white",
            "ticks": ""
           }
          },
          "scene": {
           "xaxis": {
            "backgroundcolor": "#E5ECF6",
            "gridcolor": "white",
            "gridwidth": 2,
            "linecolor": "white",
            "showbackground": true,
            "ticks": "",
            "zerolinecolor": "white"
           },
           "yaxis": {
            "backgroundcolor": "#E5ECF6",
            "gridcolor": "white",
            "gridwidth": 2,
            "linecolor": "white",
            "showbackground": true,
            "ticks": "",
            "zerolinecolor": "white"
           },
           "zaxis": {
            "backgroundcolor": "#E5ECF6",
            "gridcolor": "white",
            "gridwidth": 2,
            "linecolor": "white",
            "showbackground": true,
            "ticks": "",
            "zerolinecolor": "white"
           }
          },
          "shapedefaults": {
           "line": {
            "color": "#2a3f5f"
           }
          },
          "ternary": {
           "aaxis": {
            "gridcolor": "white",
            "linecolor": "white",
            "ticks": ""
           },
           "baxis": {
            "gridcolor": "white",
            "linecolor": "white",
            "ticks": ""
           },
           "bgcolor": "#E5ECF6",
           "caxis": {
            "gridcolor": "white",
            "linecolor": "white",
            "ticks": ""
           }
          },
          "title": {
           "x": 0.05
          },
          "xaxis": {
           "automargin": true,
           "gridcolor": "white",
           "linecolor": "white",
           "ticks": "",
           "title": {
            "standoff": 15
           },
           "zerolinecolor": "white",
           "zerolinewidth": 2
          },
          "yaxis": {
           "automargin": true,
           "gridcolor": "white",
           "linecolor": "white",
           "ticks": "",
           "title": {
            "standoff": 15
           },
           "zerolinecolor": "white",
           "zerolinewidth": 2
          }
         }
        },
        "title": {
         "text": "PVPC prices 07/06/2022"
        },
        "xaxis": {
         "title": {
          "text": "Hour"
         }
        },
        "yaxis": {
         "title": {
          "text": "Price [€/MWh]"
         }
        }
       }
      },
      "text/html": [
       "<div>                            <div id=\"593cd3cb-f5a6-4f2b-818a-ea6087ba5446\" class=\"plotly-graph-div\" style=\"height:525px; width:100%;\"></div>            <script type=\"text/javascript\">                require([\"plotly\"], function(Plotly) {                    window.PLOTLYENV=window.PLOTLYENV || {};                                    if (document.getElementById(\"593cd3cb-f5a6-4f2b-818a-ea6087ba5446\")) {                    Plotly.newPlot(                        \"593cd3cb-f5a6-4f2b-818a-ea6087ba5446\",                        [{\"name\":\"Prices\",\"x\":[0,1,2,3,4,5,6,7,8,9,10,11,12,13,14,15,16,17,18,19,20,21,22,23],\"y\":[252.86,234.24,221.16,218.07,216.64,215.36,213.23,261.55,291.22,278.49,309.8,309.66,308.9,295.73,235.36,225.92,225.02,235.35,289.38,311.71,348.58,350.06,293.26,282.97],\"type\":\"scatter\"}],                        {\"title\":{\"text\":\"PVPC prices 07/06/2022\"},\"xaxis\":{\"title\":{\"text\":\"Hour\"}},\"yaxis\":{\"title\":{\"text\":\"Price [\\u20ac/MWh]\"}},\"template\":{\"data\":{\"histogram2dcontour\":[{\"type\":\"histogram2dcontour\",\"colorbar\":{\"outlinewidth\":0,\"ticks\":\"\"},\"colorscale\":[[0.0,\"#0d0887\"],[0.1111111111111111,\"#46039f\"],[0.2222222222222222,\"#7201a8\"],[0.3333333333333333,\"#9c179e\"],[0.4444444444444444,\"#bd3786\"],[0.5555555555555556,\"#d8576b\"],[0.6666666666666666,\"#ed7953\"],[0.7777777777777778,\"#fb9f3a\"],[0.8888888888888888,\"#fdca26\"],[1.0,\"#f0f921\"]]}],\"choropleth\":[{\"type\":\"choropleth\",\"colorbar\":{\"outlinewidth\":0,\"ticks\":\"\"}}],\"histogram2d\":[{\"type\":\"histogram2d\",\"colorbar\":{\"outlinewidth\":0,\"ticks\":\"\"},\"colorscale\":[[0.0,\"#0d0887\"],[0.1111111111111111,\"#46039f\"],[0.2222222222222222,\"#7201a8\"],[0.3333333333333333,\"#9c179e\"],[0.4444444444444444,\"#bd3786\"],[0.5555555555555556,\"#d8576b\"],[0.6666666666666666,\"#ed7953\"],[0.7777777777777778,\"#fb9f3a\"],[0.8888888888888888,\"#fdca26\"],[1.0,\"#f0f921\"]]}],\"heatmap\":[{\"type\":\"heatmap\",\"colorbar\":{\"outlinewidth\":0,\"ticks\":\"\"},\"colorscale\":[[0.0,\"#0d0887\"],[0.1111111111111111,\"#46039f\"],[0.2222222222222222,\"#7201a8\"],[0.3333333333333333,\"#9c179e\"],[0.4444444444444444,\"#bd3786\"],[0.5555555555555556,\"#d8576b\"],[0.6666666666666666,\"#ed7953\"],[0.7777777777777778,\"#fb9f3a\"],[0.8888888888888888,\"#fdca26\"],[1.0,\"#f0f921\"]]}],\"heatmapgl\":[{\"type\":\"heatmapgl\",\"colorbar\":{\"outlinewidth\":0,\"ticks\":\"\"},\"colorscale\":[[0.0,\"#0d0887\"],[0.1111111111111111,\"#46039f\"],[0.2222222222222222,\"#7201a8\"],[0.3333333333333333,\"#9c179e\"],[0.4444444444444444,\"#bd3786\"],[0.5555555555555556,\"#d8576b\"],[0.6666666666666666,\"#ed7953\"],[0.7777777777777778,\"#fb9f3a\"],[0.8888888888888888,\"#fdca26\"],[1.0,\"#f0f921\"]]}],\"contourcarpet\":[{\"type\":\"contourcarpet\",\"colorbar\":{\"outlinewidth\":0,\"ticks\":\"\"}}],\"contour\":[{\"type\":\"contour\",\"colorbar\":{\"outlinewidth\":0,\"ticks\":\"\"},\"colorscale\":[[0.0,\"#0d0887\"],[0.1111111111111111,\"#46039f\"],[0.2222222222222222,\"#7201a8\"],[0.3333333333333333,\"#9c179e\"],[0.4444444444444444,\"#bd3786\"],[0.5555555555555556,\"#d8576b\"],[0.6666666666666666,\"#ed7953\"],[0.7777777777777778,\"#fb9f3a\"],[0.8888888888888888,\"#fdca26\"],[1.0,\"#f0f921\"]]}],\"surface\":[{\"type\":\"surface\",\"colorbar\":{\"outlinewidth\":0,\"ticks\":\"\"},\"colorscale\":[[0.0,\"#0d0887\"],[0.1111111111111111,\"#46039f\"],[0.2222222222222222,\"#7201a8\"],[0.3333333333333333,\"#9c179e\"],[0.4444444444444444,\"#bd3786\"],[0.5555555555555556,\"#d8576b\"],[0.6666666666666666,\"#ed7953\"],[0.7777777777777778,\"#fb9f3a\"],[0.8888888888888888,\"#fdca26\"],[1.0,\"#f0f921\"]]}],\"mesh3d\":[{\"type\":\"mesh3d\",\"colorbar\":{\"outlinewidth\":0,\"ticks\":\"\"}}],\"scatter\":[{\"fillpattern\":{\"fillmode\":\"overlay\",\"size\":10,\"solidity\":0.2},\"type\":\"scatter\"}],\"parcoords\":[{\"type\":\"parcoords\",\"line\":{\"colorbar\":{\"outlinewidth\":0,\"ticks\":\"\"}}}],\"scatterpolargl\":[{\"type\":\"scatterpolargl\",\"marker\":{\"colorbar\":{\"outlinewidth\":0,\"ticks\":\"\"}}}],\"bar\":[{\"error_x\":{\"color\":\"#2a3f5f\"},\"error_y\":{\"color\":\"#2a3f5f\"},\"marker\":{\"line\":{\"color\":\"#E5ECF6\",\"width\":0.5},\"pattern\":{\"fillmode\":\"overlay\",\"size\":10,\"solidity\":0.2}},\"type\":\"bar\"}],\"scattergeo\":[{\"type\":\"scattergeo\",\"marker\":{\"colorbar\":{\"outlinewidth\":0,\"ticks\":\"\"}}}],\"scatterpolar\":[{\"type\":\"scatterpolar\",\"marker\":{\"colorbar\":{\"outlinewidth\":0,\"ticks\":\"\"}}}],\"histogram\":[{\"marker\":{\"pattern\":{\"fillmode\":\"overlay\",\"size\":10,\"solidity\":0.2}},\"type\":\"histogram\"}],\"scattergl\":[{\"type\":\"scattergl\",\"marker\":{\"colorbar\":{\"outlinewidth\":0,\"ticks\":\"\"}}}],\"scatter3d\":[{\"type\":\"scatter3d\",\"line\":{\"colorbar\":{\"outlinewidth\":0,\"ticks\":\"\"}},\"marker\":{\"colorbar\":{\"outlinewidth\":0,\"ticks\":\"\"}}}],\"scattermapbox\":[{\"type\":\"scattermapbox\",\"marker\":{\"colorbar\":{\"outlinewidth\":0,\"ticks\":\"\"}}}],\"scatterternary\":[{\"type\":\"scatterternary\",\"marker\":{\"colorbar\":{\"outlinewidth\":0,\"ticks\":\"\"}}}],\"scattercarpet\":[{\"type\":\"scattercarpet\",\"marker\":{\"colorbar\":{\"outlinewidth\":0,\"ticks\":\"\"}}}],\"carpet\":[{\"aaxis\":{\"endlinecolor\":\"#2a3f5f\",\"gridcolor\":\"white\",\"linecolor\":\"white\",\"minorgridcolor\":\"white\",\"startlinecolor\":\"#2a3f5f\"},\"baxis\":{\"endlinecolor\":\"#2a3f5f\",\"gridcolor\":\"white\",\"linecolor\":\"white\",\"minorgridcolor\":\"white\",\"startlinecolor\":\"#2a3f5f\"},\"type\":\"carpet\"}],\"table\":[{\"cells\":{\"fill\":{\"color\":\"#EBF0F8\"},\"line\":{\"color\":\"white\"}},\"header\":{\"fill\":{\"color\":\"#C8D4E3\"},\"line\":{\"color\":\"white\"}},\"type\":\"table\"}],\"barpolar\":[{\"marker\":{\"line\":{\"color\":\"#E5ECF6\",\"width\":0.5},\"pattern\":{\"fillmode\":\"overlay\",\"size\":10,\"solidity\":0.2}},\"type\":\"barpolar\"}],\"pie\":[{\"automargin\":true,\"type\":\"pie\"}]},\"layout\":{\"autotypenumbers\":\"strict\",\"colorway\":[\"#636efa\",\"#EF553B\",\"#00cc96\",\"#ab63fa\",\"#FFA15A\",\"#19d3f3\",\"#FF6692\",\"#B6E880\",\"#FF97FF\",\"#FECB52\"],\"font\":{\"color\":\"#2a3f5f\"},\"hovermode\":\"closest\",\"hoverlabel\":{\"align\":\"left\"},\"paper_bgcolor\":\"white\",\"plot_bgcolor\":\"#E5ECF6\",\"polar\":{\"bgcolor\":\"#E5ECF6\",\"angularaxis\":{\"gridcolor\":\"white\",\"linecolor\":\"white\",\"ticks\":\"\"},\"radialaxis\":{\"gridcolor\":\"white\",\"linecolor\":\"white\",\"ticks\":\"\"}},\"ternary\":{\"bgcolor\":\"#E5ECF6\",\"aaxis\":{\"gridcolor\":\"white\",\"linecolor\":\"white\",\"ticks\":\"\"},\"baxis\":{\"gridcolor\":\"white\",\"linecolor\":\"white\",\"ticks\":\"\"},\"caxis\":{\"gridcolor\":\"white\",\"linecolor\":\"white\",\"ticks\":\"\"}},\"coloraxis\":{\"colorbar\":{\"outlinewidth\":0,\"ticks\":\"\"}},\"colorscale\":{\"sequential\":[[0.0,\"#0d0887\"],[0.1111111111111111,\"#46039f\"],[0.2222222222222222,\"#7201a8\"],[0.3333333333333333,\"#9c179e\"],[0.4444444444444444,\"#bd3786\"],[0.5555555555555556,\"#d8576b\"],[0.6666666666666666,\"#ed7953\"],[0.7777777777777778,\"#fb9f3a\"],[0.8888888888888888,\"#fdca26\"],[1.0,\"#f0f921\"]],\"sequentialminus\":[[0.0,\"#0d0887\"],[0.1111111111111111,\"#46039f\"],[0.2222222222222222,\"#7201a8\"],[0.3333333333333333,\"#9c179e\"],[0.4444444444444444,\"#bd3786\"],[0.5555555555555556,\"#d8576b\"],[0.6666666666666666,\"#ed7953\"],[0.7777777777777778,\"#fb9f3a\"],[0.8888888888888888,\"#fdca26\"],[1.0,\"#f0f921\"]],\"diverging\":[[0,\"#8e0152\"],[0.1,\"#c51b7d\"],[0.2,\"#de77ae\"],[0.3,\"#f1b6da\"],[0.4,\"#fde0ef\"],[0.5,\"#f7f7f7\"],[0.6,\"#e6f5d0\"],[0.7,\"#b8e186\"],[0.8,\"#7fbc41\"],[0.9,\"#4d9221\"],[1,\"#276419\"]]},\"xaxis\":{\"gridcolor\":\"white\",\"linecolor\":\"white\",\"ticks\":\"\",\"title\":{\"standoff\":15},\"zerolinecolor\":\"white\",\"automargin\":true,\"zerolinewidth\":2},\"yaxis\":{\"gridcolor\":\"white\",\"linecolor\":\"white\",\"ticks\":\"\",\"title\":{\"standoff\":15},\"zerolinecolor\":\"white\",\"automargin\":true,\"zerolinewidth\":2},\"scene\":{\"xaxis\":{\"backgroundcolor\":\"#E5ECF6\",\"gridcolor\":\"white\",\"linecolor\":\"white\",\"showbackground\":true,\"ticks\":\"\",\"zerolinecolor\":\"white\",\"gridwidth\":2},\"yaxis\":{\"backgroundcolor\":\"#E5ECF6\",\"gridcolor\":\"white\",\"linecolor\":\"white\",\"showbackground\":true,\"ticks\":\"\",\"zerolinecolor\":\"white\",\"gridwidth\":2},\"zaxis\":{\"backgroundcolor\":\"#E5ECF6\",\"gridcolor\":\"white\",\"linecolor\":\"white\",\"showbackground\":true,\"ticks\":\"\",\"zerolinecolor\":\"white\",\"gridwidth\":2}},\"shapedefaults\":{\"line\":{\"color\":\"#2a3f5f\"}},\"annotationdefaults\":{\"arrowcolor\":\"#2a3f5f\",\"arrowhead\":0,\"arrowwidth\":1},\"geo\":{\"bgcolor\":\"white\",\"landcolor\":\"#E5ECF6\",\"subunitcolor\":\"white\",\"showland\":true,\"showlakes\":true,\"lakecolor\":\"white\"},\"title\":{\"x\":0.05},\"mapbox\":{\"style\":\"light\"}}}},                        {\"responsive\": true}                    ).then(function(){\n",
       "                            \n",
       "var gd = document.getElementById('593cd3cb-f5a6-4f2b-818a-ea6087ba5446');\n",
       "var x = new MutationObserver(function (mutations, observer) {{\n",
       "        var display = window.getComputedStyle(gd).display;\n",
       "        if (!display || display === 'none') {{\n",
       "            console.log([gd, 'removed!']);\n",
       "            Plotly.purge(gd);\n",
       "            observer.disconnect();\n",
       "        }}\n",
       "}});\n",
       "\n",
       "// Listen for the removal of the full notebook cells\n",
       "var notebookContainer = gd.closest('#notebook-container');\n",
       "if (notebookContainer) {{\n",
       "    x.observe(notebookContainer, {childList: true});\n",
       "}}\n",
       "\n",
       "// Listen for the clearing of the current output cell\n",
       "var outputEl = gd.closest('.output');\n",
       "if (outputEl) {{\n",
       "    x.observe(outputEl, {childList: true});\n",
       "}}\n",
       "\n",
       "                        })                };                });            </script>        </div>"
      ]
     },
     "metadata": {},
     "output_type": "display_data"
    }
   ],
   "source": [
    "fig = go.Figure(\n",
    "    data=[\n",
    "        go.Line(x=DataFinal['Horas'][0:12*75],\n",
    "                y=DataFinal['value'][0:12*75], name=\"Prices\")\n",
    "    ],\n",
    "    layout=go.Layout(\n",
    "        title=dict(text=\"PVPC prices 07/06/2022\"),\n",
    "        xaxis=dict(title='Hour'),\n",
    "        yaxis=dict(title='Price [€/MWh]')\n",
    "    )\n",
    ")\n",
    "fig.show()"
   ]
  }
 ],
 "metadata": {
  "kernelspec": {
   "display_name": "Python 3 (ipykernel)",
   "language": "python",
   "name": "python3"
  },
  "language_info": {
   "codemirror_mode": {
    "name": "ipython",
    "version": 3
   },
   "file_extension": ".py",
   "mimetype": "text/x-python",
   "name": "python",
   "nbconvert_exporter": "python",
   "pygments_lexer": "ipython3",
   "version": "3.9.7"
  }
 },
 "nbformat": 4,
 "nbformat_minor": 2
}
