{
 "cells": [
  {
   "cell_type": "markdown",
   "id": "a8fcd987",
   "metadata": {},
   "source": [
    "<img src=\"Figures/top_ML.png\" alt=\"Drawing\" style=\"width: 1000px;\"/>"
   ]
  },
  {
   "cell_type": "markdown",
   "id": "81e86598",
   "metadata": {},
   "source": [
    "# \"Digitalización de una carga doméstica\"\n",
    "\n",
    "## Postítulo \"Digital Energy\", Máster Smart Energy\n",
    "\n",
    "## Módulo: Digitalización de la Energía\n",
    "\n",
    "## Alumno: Max Antonio Missene Montecinos"
   ]
  },
  {
   "cell_type": "markdown",
   "id": "6aa4771d",
   "metadata": {},
   "source": [
    "### Objetivo:\n",
    "\n",
    "#### Monitoreo de una carga doméstica mediante un procesador de datos construido en base a un microcontrolador Arduino.\n",
    "\n",
    "### Pautas generales:\n",
    "\n",
    "1. Descripción de la carga seleccionada para nuestro Proyecto. Modelo, potencia nominal, uso habitual que hacéis de ella, etc.\n",
    "2. Descripción de vuestro montaje: Fotos del montaje con la carga, explicación breve del código para la realización de la medición.\n",
    "3. Análisis preliminar de consumo de la carga: Captura del a corriente instantánea, grabar datos de corriente en RMS y realizar alguna gráfica (Excel mismo) y comentar el consumo observado."
   ]
  },
  {
   "cell_type": "markdown",
   "id": "1aa8be0e",
   "metadata": {},
   "source": [
    "## Generales"
   ]
  },
  {
   "cell_type": "markdown",
   "id": "c429a698",
   "metadata": {},
   "source": [
    "#### El primer paso que se realizará en el desarrollo del presente trabajo, será importar las librerías y funciones de librerías que utilizaremos a lo largo del código."
   ]
  },
  {
   "cell_type": "code",
   "execution_count": 1,
   "id": "571ae1ca",
   "metadata": {},
   "outputs": [],
   "source": [
    "# Librerías usadas\n",
    "\n",
    "import pandas as pd\n",
    "import matplotlib.pyplot as plt\n",
    "import numpy as np\n",
    "import seaborn as sns\n",
    "import datetime\n",
    "from datetime import date, time, datetime, timedelta\n",
    "import warnings\n",
    "warnings.filterwarnings('ignore')"
   ]
  },
  {
   "cell_type": "markdown",
   "id": "98bc077b",
   "metadata": {},
   "source": [
    "#### A continuación, se procederá a importar la base de datos."
   ]
  },
  {
   "cell_type": "code",
   "execution_count": 2,
   "id": "c345e48d",
   "metadata": {},
   "outputs": [],
   "source": [
    "# Generar DataFrame (DF) a partir de base de datos de excel\n",
    "columns=['Fecha','Corriente','Potencia']\n",
    "BD_carga = pd.read_csv('Data/data_700_C_20h.csv', names=columns)"
   ]
  },
  {
   "cell_type": "markdown",
   "id": "f6fea903",
   "metadata": {},
   "source": [
    "### 1. Entendimiento de los datos, estadística descriptiva y visualizaciones"
   ]
  },
  {
   "cell_type": "markdown",
   "id": "4360cea8",
   "metadata": {},
   "source": [
    "#### En primera instancia, se determinará el número de dimensiones que posee la base de datos."
   ]
  },
  {
   "cell_type": "code",
   "execution_count": 3,
   "id": "04285cb4",
   "metadata": {},
   "outputs": [
    {
     "data": {
      "text/plain": [
       "(181, 3)"
      ]
     },
     "execution_count": 3,
     "metadata": {},
     "output_type": "execute_result"
    }
   ],
   "source": [
    "# Se procederá a conocer las dimensiones del DF con la función \"shape\".\n",
    "BD_carga.shape"
   ]
  },
  {
   "cell_type": "markdown",
   "id": "bc050715",
   "metadata": {},
   "source": [
    "#### Es posible notar que el DataFrame contine 3 columnas y 181 filas. "
   ]
  },
  {
   "cell_type": "markdown",
   "id": "12595815",
   "metadata": {},
   "source": [
    "#### Así, se desplegaran las primeras filas del dataframe, para examinar de forma preliminar los datos."
   ]
  },
  {
   "cell_type": "code",
   "execution_count": 4,
   "id": "a96185ac",
   "metadata": {},
   "outputs": [
    {
     "data": {
      "text/html": [
       "<div>\n",
       "<style scoped>\n",
       "    .dataframe tbody tr th:only-of-type {\n",
       "        vertical-align: middle;\n",
       "    }\n",
       "\n",
       "    .dataframe tbody tr th {\n",
       "        vertical-align: top;\n",
       "    }\n",
       "\n",
       "    .dataframe thead th {\n",
       "        text-align: right;\n",
       "    }\n",
       "</style>\n",
       "<table border=\"1\" class=\"dataframe\">\n",
       "  <thead>\n",
       "    <tr style=\"text-align: right;\">\n",
       "      <th></th>\n",
       "      <th>Fecha</th>\n",
       "      <th>Corriente</th>\n",
       "      <th>Potencia</th>\n",
       "    </tr>\n",
       "  </thead>\n",
       "  <tbody>\n",
       "    <tr>\n",
       "      <th>0</th>\n",
       "      <td>2022-06-07 20:25:57.741498</td>\n",
       "      <td>0.21</td>\n",
       "      <td>48.33</td>\n",
       "    </tr>\n",
       "    <tr>\n",
       "      <th>1</th>\n",
       "      <td>2022-06-07 20:25:58.740619</td>\n",
       "      <td>0.22</td>\n",
       "      <td>50.29</td>\n",
       "    </tr>\n",
       "    <tr>\n",
       "      <th>2</th>\n",
       "      <td>2022-06-07 20:25:59.744202</td>\n",
       "      <td>0.20</td>\n",
       "      <td>46.11</td>\n",
       "    </tr>\n",
       "    <tr>\n",
       "      <th>3</th>\n",
       "      <td>2022-06-07 20:26:00.747216</td>\n",
       "      <td>0.20</td>\n",
       "      <td>45.30</td>\n",
       "    </tr>\n",
       "    <tr>\n",
       "      <th>4</th>\n",
       "      <td>2022-06-07 20:26:01.746610</td>\n",
       "      <td>0.21</td>\n",
       "      <td>47.57</td>\n",
       "    </tr>\n",
       "  </tbody>\n",
       "</table>\n",
       "</div>"
      ],
      "text/plain": [
       "                        Fecha  Corriente  Potencia\n",
       "0  2022-06-07 20:25:57.741498       0.21     48.33\n",
       "1  2022-06-07 20:25:58.740619       0.22     50.29\n",
       "2  2022-06-07 20:25:59.744202       0.20     46.11\n",
       "3  2022-06-07 20:26:00.747216       0.20     45.30\n",
       "4  2022-06-07 20:26:01.746610       0.21     47.57"
      ]
     },
     "execution_count": 4,
     "metadata": {},
     "output_type": "execute_result"
    }
   ],
   "source": [
    "# Desplegar primeras 5 filas del DF a partir de la función \"head\".\n",
    "BD_carga.head()"
   ]
  },
  {
   "cell_type": "markdown",
   "id": "46f013f8",
   "metadata": {},
   "source": [
    "#### De manera análoga, se desplegaran las primeras últimas filas del dataframe, para examinar de forma preliminar los datos."
   ]
  },
  {
   "cell_type": "code",
   "execution_count": 5,
   "id": "27cdd889",
   "metadata": {},
   "outputs": [
    {
     "data": {
      "text/html": [
       "<div>\n",
       "<style scoped>\n",
       "    .dataframe tbody tr th:only-of-type {\n",
       "        vertical-align: middle;\n",
       "    }\n",
       "\n",
       "    .dataframe tbody tr th {\n",
       "        vertical-align: top;\n",
       "    }\n",
       "\n",
       "    .dataframe thead th {\n",
       "        text-align: right;\n",
       "    }\n",
       "</style>\n",
       "<table border=\"1\" class=\"dataframe\">\n",
       "  <thead>\n",
       "    <tr style=\"text-align: right;\">\n",
       "      <th></th>\n",
       "      <th>Fecha</th>\n",
       "      <th>Corriente</th>\n",
       "      <th>Potencia</th>\n",
       "    </tr>\n",
       "  </thead>\n",
       "  <tbody>\n",
       "    <tr>\n",
       "      <th>176</th>\n",
       "      <td>2022-06-07 20:28:54.133539</td>\n",
       "      <td>0.22</td>\n",
       "      <td>50.18</td>\n",
       "    </tr>\n",
       "    <tr>\n",
       "      <th>177</th>\n",
       "      <td>2022-06-07 20:28:55.136817</td>\n",
       "      <td>0.21</td>\n",
       "      <td>48.95</td>\n",
       "    </tr>\n",
       "    <tr>\n",
       "      <th>178</th>\n",
       "      <td>2022-06-07 20:28:56.140149</td>\n",
       "      <td>0.22</td>\n",
       "      <td>50.35</td>\n",
       "    </tr>\n",
       "    <tr>\n",
       "      <th>179</th>\n",
       "      <td>2022-06-07 20:28:57.144243</td>\n",
       "      <td>0.22</td>\n",
       "      <td>50.11</td>\n",
       "    </tr>\n",
       "    <tr>\n",
       "      <th>180</th>\n",
       "      <td>2022-06-07 20:28:58.146765</td>\n",
       "      <td>0.21</td>\n",
       "      <td>47.68</td>\n",
       "    </tr>\n",
       "  </tbody>\n",
       "</table>\n",
       "</div>"
      ],
      "text/plain": [
       "                          Fecha  Corriente  Potencia\n",
       "176  2022-06-07 20:28:54.133539       0.22     50.18\n",
       "177  2022-06-07 20:28:55.136817       0.21     48.95\n",
       "178  2022-06-07 20:28:56.140149       0.22     50.35\n",
       "179  2022-06-07 20:28:57.144243       0.22     50.11\n",
       "180  2022-06-07 20:28:58.146765       0.21     47.68"
      ]
     },
     "execution_count": 5,
     "metadata": {},
     "output_type": "execute_result"
    }
   ],
   "source": [
    "# Desplegar última 5 filas del DF a partir de la función \"tail\".\n",
    "BD_carga.tail()"
   ]
  },
  {
   "cell_type": "code",
   "execution_count": 6,
   "id": "d3ce6dbc",
   "metadata": {},
   "outputs": [
    {
     "data": {
      "text/plain": [
       "Fecha         object\n",
       "Corriente    float64\n",
       "Potencia     float64\n",
       "dtype: object"
      ]
     },
     "execution_count": 6,
     "metadata": {},
     "output_type": "execute_result"
    }
   ],
   "source": [
    "# Desplegar última 5 filas del DF a partir de la función \"tail\".\n",
    "BD_carga.dtypes"
   ]
  },
  {
   "cell_type": "markdown",
   "id": "581ce836",
   "metadata": {},
   "source": [
    "#### Ya pudiendo mirar el contenido del dataframe de manera general, se realizará el cálculo de valores estadísticos de sus columnas."
   ]
  },
  {
   "cell_type": "code",
   "execution_count": 7,
   "id": "a702d86a",
   "metadata": {},
   "outputs": [
    {
     "data": {
      "text/plain": [
       "Fecha        datetime64[ns]\n",
       "Corriente           float64\n",
       "Potencia            float64\n",
       "dtype: object"
      ]
     },
     "execution_count": 7,
     "metadata": {},
     "output_type": "execute_result"
    }
   ],
   "source": [
    "# Desplegar última 5 filas del DF a partir de la función \"tail\".\n",
    "BD_carga['Fecha']=pd.to_datetime(BD_carga['Fecha'])\n",
    "BD_carga.dtypes\n"
   ]
  },
  {
   "cell_type": "code",
   "execution_count": 8,
   "id": "669189b6",
   "metadata": {},
   "outputs": [
    {
     "data": {
      "text/html": [
       "<div>\n",
       "<style scoped>\n",
       "    .dataframe tbody tr th:only-of-type {\n",
       "        vertical-align: middle;\n",
       "    }\n",
       "\n",
       "    .dataframe tbody tr th {\n",
       "        vertical-align: top;\n",
       "    }\n",
       "\n",
       "    .dataframe thead th {\n",
       "        text-align: right;\n",
       "    }\n",
       "</style>\n",
       "<table border=\"1\" class=\"dataframe\">\n",
       "  <thead>\n",
       "    <tr style=\"text-align: right;\">\n",
       "      <th></th>\n",
       "      <th>Corriente</th>\n",
       "      <th>Potencia</th>\n",
       "    </tr>\n",
       "  </thead>\n",
       "  <tbody>\n",
       "    <tr>\n",
       "      <th>count</th>\n",
       "      <td>181.000000</td>\n",
       "      <td>181.000000</td>\n",
       "    </tr>\n",
       "    <tr>\n",
       "      <th>mean</th>\n",
       "      <td>5.976685</td>\n",
       "      <td>1374.616409</td>\n",
       "    </tr>\n",
       "    <tr>\n",
       "      <th>std</th>\n",
       "      <td>1.443385</td>\n",
       "      <td>332.011643</td>\n",
       "    </tr>\n",
       "    <tr>\n",
       "      <th>min</th>\n",
       "      <td>0.200000</td>\n",
       "      <td>45.300000</td>\n",
       "    </tr>\n",
       "    <tr>\n",
       "      <th>25%</th>\n",
       "      <td>6.330000</td>\n",
       "      <td>1455.650000</td>\n",
       "    </tr>\n",
       "    <tr>\n",
       "      <th>50%</th>\n",
       "      <td>6.340000</td>\n",
       "      <td>1458.800000</td>\n",
       "    </tr>\n",
       "    <tr>\n",
       "      <th>75%</th>\n",
       "      <td>6.360000</td>\n",
       "      <td>1462.090000</td>\n",
       "    </tr>\n",
       "    <tr>\n",
       "      <th>max</th>\n",
       "      <td>6.540000</td>\n",
       "      <td>1505.230000</td>\n",
       "    </tr>\n",
       "  </tbody>\n",
       "</table>\n",
       "</div>"
      ],
      "text/plain": [
       "        Corriente     Potencia\n",
       "count  181.000000   181.000000\n",
       "mean     5.976685  1374.616409\n",
       "std      1.443385   332.011643\n",
       "min      0.200000    45.300000\n",
       "25%      6.330000  1455.650000\n",
       "50%      6.340000  1458.800000\n",
       "75%      6.360000  1462.090000\n",
       "max      6.540000  1505.230000"
      ]
     },
     "execution_count": 8,
     "metadata": {},
     "output_type": "execute_result"
    }
   ],
   "source": [
    "# Se aplica la función \"describe\" al dataframe, el cual calculará algunos parámetros estadísticos a cada columna.\n",
    "BD_carga.describe()"
   ]
  },
  {
   "cell_type": "code",
   "execution_count": 9,
   "id": "7451fe84",
   "metadata": {},
   "outputs": [
    {
     "data": {
      "text/plain": [
       "Fecha        0\n",
       "Corriente    0\n",
       "Potencia     0\n",
       "dtype: int64"
      ]
     },
     "execution_count": 9,
     "metadata": {},
     "output_type": "execute_result"
    }
   ],
   "source": [
    "BD_carga.isna().sum()"
   ]
  },
  {
   "cell_type": "code",
   "execution_count": 11,
   "id": "428d92ac",
   "metadata": {},
   "outputs": [],
   "source": [
    "BD_carga['Energy_kWh']=0.0\n",
    "BD_carga['time_dif']=0.0\n",
    "BD_carga['cum_energy_kwh']=0.0\n",
    "longitud=len(BD_carga['Energy_kWh'])\n",
    "\n",
    "for x in range(0, longitud):\n",
    " if BD_carga['Corriente'][x]<0.0:\n",
    "        BD_carga.at[x, 'Corriente']=0.0\n",
    " if BD_carga['Potencia'][x]<0.0:\n",
    "        BD_carga.at[x, 'Potencia']=0.0\n",
    "for x in range(1, longitud):\n",
    "    BD_carga.at[x, 'Energy_kWh']=BD_carga['Potencia'][x]*((BD_carga['Fecha'][x]-BD_carga['Fecha'][x-1]).total_seconds()/3600000)\n",
    "    BD_carga.at[x, 'time_dif']=(BD_carga['Fecha'][x]-BD_carga['Fecha'][x-1]).total_seconds()\n",
    "    BD_carga.at[x, 'cum_energy_kwh']=BD_carga['cum_energy_kwh'][x-1]+BD_carga['Energy_kWh'][x]\n",
    "    "
   ]
  },
  {
   "cell_type": "code",
   "execution_count": 12,
   "id": "97c9a673",
   "metadata": {},
   "outputs": [
    {
     "data": {
      "text/html": [
       "<div>\n",
       "<style scoped>\n",
       "    .dataframe tbody tr th:only-of-type {\n",
       "        vertical-align: middle;\n",
       "    }\n",
       "\n",
       "    .dataframe tbody tr th {\n",
       "        vertical-align: top;\n",
       "    }\n",
       "\n",
       "    .dataframe thead th {\n",
       "        text-align: right;\n",
       "    }\n",
       "</style>\n",
       "<table border=\"1\" class=\"dataframe\">\n",
       "  <thead>\n",
       "    <tr style=\"text-align: right;\">\n",
       "      <th></th>\n",
       "      <th>Fecha</th>\n",
       "      <th>Corriente</th>\n",
       "      <th>Potencia</th>\n",
       "      <th>Energy_kWh</th>\n",
       "      <th>time_dif</th>\n",
       "      <th>cum_energy_kwh</th>\n",
       "    </tr>\n",
       "  </thead>\n",
       "  <tbody>\n",
       "    <tr>\n",
       "      <th>0</th>\n",
       "      <td>2022-06-07 20:25:57.741498</td>\n",
       "      <td>0.21</td>\n",
       "      <td>48.33</td>\n",
       "      <td>0.000000</td>\n",
       "      <td>0.000000</td>\n",
       "      <td>0.000000</td>\n",
       "    </tr>\n",
       "    <tr>\n",
       "      <th>1</th>\n",
       "      <td>2022-06-07 20:25:58.740619</td>\n",
       "      <td>0.22</td>\n",
       "      <td>50.29</td>\n",
       "      <td>0.000014</td>\n",
       "      <td>0.999121</td>\n",
       "      <td>0.000014</td>\n",
       "    </tr>\n",
       "    <tr>\n",
       "      <th>2</th>\n",
       "      <td>2022-06-07 20:25:59.744202</td>\n",
       "      <td>0.20</td>\n",
       "      <td>46.11</td>\n",
       "      <td>0.000013</td>\n",
       "      <td>1.003583</td>\n",
       "      <td>0.000027</td>\n",
       "    </tr>\n",
       "    <tr>\n",
       "      <th>3</th>\n",
       "      <td>2022-06-07 20:26:00.747216</td>\n",
       "      <td>0.20</td>\n",
       "      <td>45.30</td>\n",
       "      <td>0.000013</td>\n",
       "      <td>1.003014</td>\n",
       "      <td>0.000039</td>\n",
       "    </tr>\n",
       "    <tr>\n",
       "      <th>4</th>\n",
       "      <td>2022-06-07 20:26:01.746610</td>\n",
       "      <td>0.21</td>\n",
       "      <td>47.57</td>\n",
       "      <td>0.000013</td>\n",
       "      <td>0.999394</td>\n",
       "      <td>0.000053</td>\n",
       "    </tr>\n",
       "  </tbody>\n",
       "</table>\n",
       "</div>"
      ],
      "text/plain": [
       "                       Fecha  Corriente  Potencia  Energy_kWh  time_dif  \\\n",
       "0 2022-06-07 20:25:57.741498       0.21     48.33    0.000000  0.000000   \n",
       "1 2022-06-07 20:25:58.740619       0.22     50.29    0.000014  0.999121   \n",
       "2 2022-06-07 20:25:59.744202       0.20     46.11    0.000013  1.003583   \n",
       "3 2022-06-07 20:26:00.747216       0.20     45.30    0.000013  1.003014   \n",
       "4 2022-06-07 20:26:01.746610       0.21     47.57    0.000013  0.999394   \n",
       "\n",
       "   cum_energy_kwh  \n",
       "0        0.000000  \n",
       "1        0.000014  \n",
       "2        0.000027  \n",
       "3        0.000039  \n",
       "4        0.000053  "
      ]
     },
     "execution_count": 12,
     "metadata": {},
     "output_type": "execute_result"
    }
   ],
   "source": [
    "BD_carga.head()"
   ]
  },
  {
   "cell_type": "code",
   "execution_count": 13,
   "id": "1d113be0",
   "metadata": {},
   "outputs": [
    {
     "data": {
      "text/html": [
       "<div>\n",
       "<style scoped>\n",
       "    .dataframe tbody tr th:only-of-type {\n",
       "        vertical-align: middle;\n",
       "    }\n",
       "\n",
       "    .dataframe tbody tr th {\n",
       "        vertical-align: top;\n",
       "    }\n",
       "\n",
       "    .dataframe thead th {\n",
       "        text-align: right;\n",
       "    }\n",
       "</style>\n",
       "<table border=\"1\" class=\"dataframe\">\n",
       "  <thead>\n",
       "    <tr style=\"text-align: right;\">\n",
       "      <th></th>\n",
       "      <th>Fecha</th>\n",
       "      <th>Corriente</th>\n",
       "      <th>Potencia</th>\n",
       "      <th>Energy_kWh</th>\n",
       "      <th>time_dif</th>\n",
       "      <th>cum_energy_kwh</th>\n",
       "    </tr>\n",
       "  </thead>\n",
       "  <tbody>\n",
       "    <tr>\n",
       "      <th>176</th>\n",
       "      <td>2022-06-07 20:28:54.133539</td>\n",
       "      <td>0.22</td>\n",
       "      <td>50.18</td>\n",
       "      <td>0.000014</td>\n",
       "      <td>0.999819</td>\n",
       "      <td>0.069200</td>\n",
       "    </tr>\n",
       "    <tr>\n",
       "      <th>177</th>\n",
       "      <td>2022-06-07 20:28:55.136817</td>\n",
       "      <td>0.21</td>\n",
       "      <td>48.95</td>\n",
       "      <td>0.000014</td>\n",
       "      <td>1.003278</td>\n",
       "      <td>0.069214</td>\n",
       "    </tr>\n",
       "    <tr>\n",
       "      <th>178</th>\n",
       "      <td>2022-06-07 20:28:56.140149</td>\n",
       "      <td>0.22</td>\n",
       "      <td>50.35</td>\n",
       "      <td>0.000014</td>\n",
       "      <td>1.003332</td>\n",
       "      <td>0.069228</td>\n",
       "    </tr>\n",
       "    <tr>\n",
       "      <th>179</th>\n",
       "      <td>2022-06-07 20:28:57.144243</td>\n",
       "      <td>0.22</td>\n",
       "      <td>50.11</td>\n",
       "      <td>0.000014</td>\n",
       "      <td>1.004094</td>\n",
       "      <td>0.069242</td>\n",
       "    </tr>\n",
       "    <tr>\n",
       "      <th>180</th>\n",
       "      <td>2022-06-07 20:28:58.146765</td>\n",
       "      <td>0.21</td>\n",
       "      <td>47.68</td>\n",
       "      <td>0.000013</td>\n",
       "      <td>1.002522</td>\n",
       "      <td>0.069255</td>\n",
       "    </tr>\n",
       "  </tbody>\n",
       "</table>\n",
       "</div>"
      ],
      "text/plain": [
       "                         Fecha  Corriente  Potencia  Energy_kWh  time_dif  \\\n",
       "176 2022-06-07 20:28:54.133539       0.22     50.18    0.000014  0.999819   \n",
       "177 2022-06-07 20:28:55.136817       0.21     48.95    0.000014  1.003278   \n",
       "178 2022-06-07 20:28:56.140149       0.22     50.35    0.000014  1.003332   \n",
       "179 2022-06-07 20:28:57.144243       0.22     50.11    0.000014  1.004094   \n",
       "180 2022-06-07 20:28:58.146765       0.21     47.68    0.000013  1.002522   \n",
       "\n",
       "     cum_energy_kwh  \n",
       "176        0.069200  \n",
       "177        0.069214  \n",
       "178        0.069228  \n",
       "179        0.069242  \n",
       "180        0.069255  "
      ]
     },
     "execution_count": 13,
     "metadata": {},
     "output_type": "execute_result"
    }
   ],
   "source": [
    "BD_carga.tail()"
   ]
  },
  {
   "cell_type": "code",
   "execution_count": 14,
   "id": "a13f9127",
   "metadata": {},
   "outputs": [
    {
     "data": {
      "text/plain": [
       "0.0692553467762139"
      ]
     },
     "execution_count": 14,
     "metadata": {},
     "output_type": "execute_result"
    }
   ],
   "source": [
    "BD_carga['Energy_kWh'].sum()"
   ]
  },
  {
   "cell_type": "code",
   "execution_count": 15,
   "id": "bbb946ae",
   "metadata": {},
   "outputs": [
    {
     "data": {
      "text/plain": [
       "0.05011257416666667"
      ]
     },
     "execution_count": 15,
     "metadata": {},
     "output_type": "execute_result"
    }
   ],
   "source": [
    "((BD_carga['time_dif'].sum())/60)/60"
   ]
  },
  {
   "cell_type": "code",
   "execution_count": 18,
   "id": "e1cea20e",
   "metadata": {},
   "outputs": [
    {
     "data": {
      "text/html": [
       "        <script type=\"text/javascript\">\n",
       "        window.PlotlyConfig = {MathJaxConfig: 'local'};\n",
       "        if (window.MathJax && window.MathJax.Hub && window.MathJax.Hub.Config) {window.MathJax.Hub.Config({SVG: {font: \"STIX-Web\"}});}\n",
       "        if (typeof require !== 'undefined') {\n",
       "        require.undef(\"plotly\");\n",
       "        requirejs.config({\n",
       "            paths: {\n",
       "                'plotly': ['https://cdn.plot.ly/plotly-2.12.1.min']\n",
       "            }\n",
       "        });\n",
       "        require(['plotly'], function(Plotly) {\n",
       "            window._Plotly = Plotly;\n",
       "        });\n",
       "        }\n",
       "        </script>\n",
       "        "
      ]
     },
     "metadata": {},
     "output_type": "display_data"
    }
   ],
   "source": [
    "# conda install -c plotly plotly\n",
    "import plotly.offline as py;\n",
    "from plotly import tools;\n",
    "import plotly.graph_objs as go;\n",
    "from ipywidgets import widgets;\n",
    "from ipywidgets import interact;\n",
    "import warnings\n",
    "warnings.filterwarnings('ignore')\n",
    "py.init_notebook_mode(connected= True)"
   ]
  },
  {
   "cell_type": "code",
   "execution_count": 19,
   "id": "8d0a8598",
   "metadata": {},
   "outputs": [
    {
     "name": "stderr",
     "output_type": "stream",
     "text": [
      "C:\\Users\\mmissene\\Anaconda3\\lib\\site-packages\\plotly\\graph_objs\\_deprecations.py:378: DeprecationWarning:\n",
      "\n",
      "plotly.graph_objs.Line is deprecated.\n",
      "Please replace it with one of the following more specific types\n",
      "  - plotly.graph_objs.scatter.Line\n",
      "  - plotly.graph_objs.layout.shape.Line\n",
      "  - etc.\n",
      "\n",
      "\n"
     ]
    },
    {
     "data": {
      "application/vnd.plotly.v1+json": {
       "config": {
        "plotlyServerURL": "https://plot.ly"
       },
       "data": [
        {
         "name": "Power",
         "type": "scatter",
         "x": [
          "2022-06-07T20:25:57.741498",
          "2022-06-07T20:25:58.740619",
          "2022-06-07T20:25:59.744202",
          "2022-06-07T20:26:00.747216",
          "2022-06-07T20:26:01.746610",
          "2022-06-07T20:26:02.749601",
          "2022-06-07T20:26:03.754045",
          "2022-06-07T20:26:04.756802",
          "2022-06-07T20:26:05.756731",
          "2022-06-07T20:26:06.760566",
          "2022-06-07T20:26:07.764174",
          "2022-06-07T20:26:08.766900",
          "2022-06-07T20:26:09.765926",
          "2022-06-07T20:26:10.769684",
          "2022-06-07T20:26:11.772785",
          "2022-06-07T20:26:12.772391",
          "2022-06-07T20:26:13.775446",
          "2022-06-07T20:26:14.779695",
          "2022-06-07T20:26:15.783692",
          "2022-06-07T20:26:16.786447",
          "2022-06-07T20:26:17.785687",
          "2022-06-07T20:26:18.789531",
          "2022-06-07T20:26:19.792112",
          "2022-06-07T20:26:20.795908",
          "2022-06-07T20:26:21.795253",
          "2022-06-07T20:26:22.798532",
          "2022-06-07T20:26:23.802661",
          "2022-06-07T20:26:24.802187",
          "2022-06-07T20:26:25.804488",
          "2022-06-07T20:26:26.808332",
          "2022-06-07T20:26:27.811434",
          "2022-06-07T20:26:28.811206",
          "2022-06-07T20:26:29.813539",
          "2022-06-07T20:26:30.818169",
          "2022-06-07T20:26:31.817182",
          "2022-06-07T20:26:32.821039",
          "2022-06-07T20:26:33.823904",
          "2022-06-07T20:26:34.827377",
          "2022-06-07T20:26:35.830756",
          "2022-06-07T20:26:36.830309",
          "2022-06-07T20:26:37.833482",
          "2022-06-07T20:26:38.836882",
          "2022-06-07T20:26:39.836105",
          "2022-06-07T20:26:40.840070",
          "2022-06-07T20:26:41.843158",
          "2022-06-07T20:26:42.847116",
          "2022-06-07T20:26:43.846307",
          "2022-06-07T20:26:44.849583",
          "2022-06-07T20:26:45.853082",
          "2022-06-07T20:26:46.852097",
          "2022-06-07T20:26:47.855819",
          "2022-06-07T20:26:48.859446",
          "2022-06-07T20:26:49.861750",
          "2022-06-07T20:26:50.862072",
          "2022-06-07T20:26:51.865901",
          "2022-06-07T20:26:52.869117",
          "2022-06-07T20:26:53.872191",
          "2022-06-07T20:26:54.871757",
          "2022-06-07T20:26:55.875297",
          "2022-06-07T20:26:56.878297",
          "2022-06-07T20:26:57.877324",
          "2022-06-07T20:26:58.881648",
          "2022-06-07T20:26:59.884729",
          "2022-06-07T20:27:00.887718",
          "2022-06-07T20:27:01.886919",
          "2022-06-07T20:27:02.890940",
          "2022-06-07T20:27:03.894016",
          "2022-06-07T20:27:04.893805",
          "2022-06-07T20:27:05.897191",
          "2022-06-07T20:27:06.901167",
          "2022-06-07T20:27:07.900032",
          "2022-06-07T20:27:08.903808",
          "2022-06-07T20:27:09.906755",
          "2022-06-07T20:27:10.910637",
          "2022-06-07T20:27:11.909297",
          "2022-06-07T20:27:12.913392",
          "2022-06-07T20:27:13.916853",
          "2022-06-07T20:27:14.916357",
          "2022-06-07T20:27:15.919643",
          "2022-06-07T20:27:16.922370",
          "2022-06-07T20:27:17.925814",
          "2022-06-07T20:27:18.925424",
          "2022-06-07T20:27:19.929093",
          "2022-06-07T20:27:20.932073",
          "2022-06-07T20:27:21.931661",
          "2022-06-07T20:27:22.934985",
          "2022-06-07T20:27:23.938665",
          "2022-06-07T20:27:24.938167",
          "2022-06-07T20:27:25.941619",
          "2022-06-07T20:27:26.944899",
          "2022-06-07T20:27:27.948511",
          "2022-06-07T20:27:28.947775",
          "2022-06-07T20:27:29.951088",
          "2022-06-07T20:27:30.954345",
          "2022-06-07T20:27:31.953345",
          "2022-06-07T20:27:32.957481",
          "2022-06-07T20:27:33.960819",
          "2022-06-07T20:27:34.964219",
          "2022-06-07T20:27:35.963434",
          "2022-06-07T20:27:36.967405",
          "2022-06-07T20:27:37.970119",
          "2022-06-07T20:27:38.970179",
          "2022-06-07T20:27:39.973377",
          "2022-06-07T20:27:40.976544",
          "2022-06-07T20:27:41.976202",
          "2022-06-07T20:27:42.979872",
          "2022-06-07T20:27:43.982699",
          "2022-06-07T20:27:44.982228",
          "2022-06-07T20:27:45.985341",
          "2022-06-07T20:27:46.988986",
          "2022-06-07T20:27:47.987937",
          "2022-06-07T20:27:48.992459",
          "2022-06-07T20:27:49.994972",
          "2022-06-07T20:27:50.994546",
          "2022-06-07T20:27:51.997603",
          "2022-06-07T20:27:53.001461",
          "2022-06-07T20:27:54.000671",
          "2022-06-07T20:27:55.003943",
          "2022-06-07T20:27:56.007531",
          "2022-06-07T20:27:57.010247",
          "2022-06-07T20:27:58.009909",
          "2022-06-07T20:27:59.013813",
          "2022-06-07T20:28:00.017950",
          "2022-06-07T20:28:01.016800",
          "2022-06-07T20:28:02.019500",
          "2022-06-07T20:28:03.023836",
          "2022-06-07T20:28:04.023096",
          "2022-06-07T20:28:05.026016",
          "2022-06-07T20:28:06.029754",
          "2022-06-07T20:28:07.028795",
          "2022-06-07T20:28:08.032040",
          "2022-06-07T20:28:09.035920",
          "2022-06-07T20:28:10.038879",
          "2022-06-07T20:28:11.038716",
          "2022-06-07T20:28:12.042078",
          "2022-06-07T20:28:13.045383",
          "2022-06-07T20:28:14.044418",
          "2022-06-07T20:28:15.047778",
          "2022-06-07T20:28:16.051364",
          "2022-06-07T20:28:17.050705",
          "2022-06-07T20:28:18.053912",
          "2022-06-07T20:28:19.057806",
          "2022-06-07T20:28:20.056989",
          "2022-06-07T20:28:21.060469",
          "2022-06-07T20:28:22.064788",
          "2022-06-07T20:28:23.066650",
          "2022-06-07T20:28:24.066302",
          "2022-06-07T20:28:25.070710",
          "2022-06-07T20:28:26.073420",
          "2022-06-07T20:28:27.073129",
          "2022-06-07T20:28:28.076859",
          "2022-06-07T20:28:29.079602",
          "2022-06-07T20:28:30.079344",
          "2022-06-07T20:28:31.083324",
          "2022-06-07T20:28:32.086217",
          "2022-06-07T20:28:33.085470",
          "2022-06-07T20:28:34.089208",
          "2022-06-07T20:28:35.093055",
          "2022-06-07T20:28:36.095721",
          "2022-06-07T20:28:37.095402",
          "2022-06-07T20:28:38.097702",
          "2022-06-07T20:28:39.101945",
          "2022-06-07T20:28:40.101568",
          "2022-06-07T20:28:41.105088",
          "2022-06-07T20:28:42.108477",
          "2022-06-07T20:28:43.107395",
          "2022-06-07T20:28:44.111446",
          "2022-06-07T20:28:45.114806",
          "2022-06-07T20:28:46.118255",
          "2022-06-07T20:28:47.117530",
          "2022-06-07T20:28:48.121252",
          "2022-06-07T20:28:49.124251",
          "2022-06-07T20:28:50.123722",
          "2022-06-07T20:28:51.126653",
          "2022-06-07T20:28:52.130493",
          "2022-06-07T20:28:53.133720",
          "2022-06-07T20:28:54.133539",
          "2022-06-07T20:28:55.136817",
          "2022-06-07T20:28:56.140149",
          "2022-06-07T20:28:57.144243",
          "2022-06-07T20:28:58.146765"
         ],
         "y": [
          48.33,
          50.29,
          46.11,
          45.3,
          47.57,
          442.54,
          1505.23,
          1503.55,
          1501.23,
          1495,
          1491.71,
          1483.23,
          1481.17,
          1481.41,
          1475.94,
          1475.63,
          1471.63,
          1468.36,
          1465.82,
          1464.59,
          1466.62,
          1465.67,
          1460.94,
          1460.02,
          1463.55,
          1461.77,
          1459.43,
          1458.36,
          1460.82,
          1459.06,
          1454.75,
          1455.97,
          1454.71,
          1459.82,
          1458.47,
          1456.4,
          1456.13,
          1462.09,
          1459.7,
          1458.11,
          1460.66,
          1456.99,
          1460.82,
          1463.04,
          1454.03,
          1459.08,
          1457.79,
          1456.25,
          1458.87,
          1457.76,
          1460.04,
          1456.17,
          1458.5,
          1456.25,
          1458.65,
          1458.87,
          1462.35,
          1460.22,
          1458.17,
          1456.1,
          1465.09,
          1461.05,
          1460.27,
          1462.21,
          1466.6,
          1463.38,
          1464.36,
          1459.65,
          1465.08,
          1460.73,
          1464.77,
          1462.46,
          1458.25,
          1459.02,
          1467.17,
          1465.09,
          1461.97,
          1462.54,
          1464.12,
          1465.94,
          1463.13,
          1467.36,
          1465.01,
          1458.51,
          1458.41,
          1461.53,
          1453.12,
          1456,
          1457.22,
          1457.24,
          1456.37,
          1460.76,
          1458.34,
          1456.61,
          1454.31,
          1452.84,
          1456.84,
          1457.95,
          1457.96,
          1459.86,
          1455.8,
          1456.35,
          1454.37,
          1454.07,
          1452.98,
          1452.96,
          1453.31,
          1454.3,
          1450.58,
          1452.37,
          1449.19,
          1451.07,
          1454.18,
          1452.54,
          1454.28,
          1451.3,
          1455.48,
          1458.8,
          1460.01,
          1460.76,
          1454.78,
          1457.61,
          1461.85,
          1451.4,
          1455.65,
          1456.57,
          1456.86,
          1457.38,
          1455.77,
          1456.06,
          1454.88,
          1457.32,
          1453.59,
          1453.3,
          1455.51,
          1458.83,
          1459.45,
          1451.66,
          1447.86,
          1459.07,
          1457.41,
          1460.42,
          1456.04,
          1463.1,
          1459.61,
          1454.08,
          1457.58,
          1459.47,
          1461.41,
          1458.79,
          1457.19,
          1459.21,
          1453.8,
          1455.03,
          1453.87,
          1455.9,
          1460.52,
          1461.49,
          1462.84,
          1461.14,
          1460,
          1461.73,
          1458.97,
          1466.38,
          1463.77,
          1462.54,
          1462.79,
          1460.87,
          1459.53,
          1458.65,
          1463.04,
          1463.57,
          1462.23,
          1461.02,
          1462.85,
          1024.6,
          50.18,
          48.95,
          50.35,
          50.11,
          47.68
         ]
        }
       ],
       "layout": {
        "template": {
         "data": {
          "bar": [
           {
            "error_x": {
             "color": "#2a3f5f"
            },
            "error_y": {
             "color": "#2a3f5f"
            },
            "marker": {
             "line": {
              "color": "#E5ECF6",
              "width": 0.5
             },
             "pattern": {
              "fillmode": "overlay",
              "size": 10,
              "solidity": 0.2
             }
            },
            "type": "bar"
           }
          ],
          "barpolar": [
           {
            "marker": {
             "line": {
              "color": "#E5ECF6",
              "width": 0.5
             },
             "pattern": {
              "fillmode": "overlay",
              "size": 10,
              "solidity": 0.2
             }
            },
            "type": "barpolar"
           }
          ],
          "carpet": [
           {
            "aaxis": {
             "endlinecolor": "#2a3f5f",
             "gridcolor": "white",
             "linecolor": "white",
             "minorgridcolor": "white",
             "startlinecolor": "#2a3f5f"
            },
            "baxis": {
             "endlinecolor": "#2a3f5f",
             "gridcolor": "white",
             "linecolor": "white",
             "minorgridcolor": "white",
             "startlinecolor": "#2a3f5f"
            },
            "type": "carpet"
           }
          ],
          "choropleth": [
           {
            "colorbar": {
             "outlinewidth": 0,
             "ticks": ""
            },
            "type": "choropleth"
           }
          ],
          "contour": [
           {
            "colorbar": {
             "outlinewidth": 0,
             "ticks": ""
            },
            "colorscale": [
             [
              0,
              "#0d0887"
             ],
             [
              0.1111111111111111,
              "#46039f"
             ],
             [
              0.2222222222222222,
              "#7201a8"
             ],
             [
              0.3333333333333333,
              "#9c179e"
             ],
             [
              0.4444444444444444,
              "#bd3786"
             ],
             [
              0.5555555555555556,
              "#d8576b"
             ],
             [
              0.6666666666666666,
              "#ed7953"
             ],
             [
              0.7777777777777778,
              "#fb9f3a"
             ],
             [
              0.8888888888888888,
              "#fdca26"
             ],
             [
              1,
              "#f0f921"
             ]
            ],
            "type": "contour"
           }
          ],
          "contourcarpet": [
           {
            "colorbar": {
             "outlinewidth": 0,
             "ticks": ""
            },
            "type": "contourcarpet"
           }
          ],
          "heatmap": [
           {
            "colorbar": {
             "outlinewidth": 0,
             "ticks": ""
            },
            "colorscale": [
             [
              0,
              "#0d0887"
             ],
             [
              0.1111111111111111,
              "#46039f"
             ],
             [
              0.2222222222222222,
              "#7201a8"
             ],
             [
              0.3333333333333333,
              "#9c179e"
             ],
             [
              0.4444444444444444,
              "#bd3786"
             ],
             [
              0.5555555555555556,
              "#d8576b"
             ],
             [
              0.6666666666666666,
              "#ed7953"
             ],
             [
              0.7777777777777778,
              "#fb9f3a"
             ],
             [
              0.8888888888888888,
              "#fdca26"
             ],
             [
              1,
              "#f0f921"
             ]
            ],
            "type": "heatmap"
           }
          ],
          "heatmapgl": [
           {
            "colorbar": {
             "outlinewidth": 0,
             "ticks": ""
            },
            "colorscale": [
             [
              0,
              "#0d0887"
             ],
             [
              0.1111111111111111,
              "#46039f"
             ],
             [
              0.2222222222222222,
              "#7201a8"
             ],
             [
              0.3333333333333333,
              "#9c179e"
             ],
             [
              0.4444444444444444,
              "#bd3786"
             ],
             [
              0.5555555555555556,
              "#d8576b"
             ],
             [
              0.6666666666666666,
              "#ed7953"
             ],
             [
              0.7777777777777778,
              "#fb9f3a"
             ],
             [
              0.8888888888888888,
              "#fdca26"
             ],
             [
              1,
              "#f0f921"
             ]
            ],
            "type": "heatmapgl"
           }
          ],
          "histogram": [
           {
            "marker": {
             "pattern": {
              "fillmode": "overlay",
              "size": 10,
              "solidity": 0.2
             }
            },
            "type": "histogram"
           }
          ],
          "histogram2d": [
           {
            "colorbar": {
             "outlinewidth": 0,
             "ticks": ""
            },
            "colorscale": [
             [
              0,
              "#0d0887"
             ],
             [
              0.1111111111111111,
              "#46039f"
             ],
             [
              0.2222222222222222,
              "#7201a8"
             ],
             [
              0.3333333333333333,
              "#9c179e"
             ],
             [
              0.4444444444444444,
              "#bd3786"
             ],
             [
              0.5555555555555556,
              "#d8576b"
             ],
             [
              0.6666666666666666,
              "#ed7953"
             ],
             [
              0.7777777777777778,
              "#fb9f3a"
             ],
             [
              0.8888888888888888,
              "#fdca26"
             ],
             [
              1,
              "#f0f921"
             ]
            ],
            "type": "histogram2d"
           }
          ],
          "histogram2dcontour": [
           {
            "colorbar": {
             "outlinewidth": 0,
             "ticks": ""
            },
            "colorscale": [
             [
              0,
              "#0d0887"
             ],
             [
              0.1111111111111111,
              "#46039f"
             ],
             [
              0.2222222222222222,
              "#7201a8"
             ],
             [
              0.3333333333333333,
              "#9c179e"
             ],
             [
              0.4444444444444444,
              "#bd3786"
             ],
             [
              0.5555555555555556,
              "#d8576b"
             ],
             [
              0.6666666666666666,
              "#ed7953"
             ],
             [
              0.7777777777777778,
              "#fb9f3a"
             ],
             [
              0.8888888888888888,
              "#fdca26"
             ],
             [
              1,
              "#f0f921"
             ]
            ],
            "type": "histogram2dcontour"
           }
          ],
          "mesh3d": [
           {
            "colorbar": {
             "outlinewidth": 0,
             "ticks": ""
            },
            "type": "mesh3d"
           }
          ],
          "parcoords": [
           {
            "line": {
             "colorbar": {
              "outlinewidth": 0,
              "ticks": ""
             }
            },
            "type": "parcoords"
           }
          ],
          "pie": [
           {
            "automargin": true,
            "type": "pie"
           }
          ],
          "scatter": [
           {
            "fillpattern": {
             "fillmode": "overlay",
             "size": 10,
             "solidity": 0.2
            },
            "type": "scatter"
           }
          ],
          "scatter3d": [
           {
            "line": {
             "colorbar": {
              "outlinewidth": 0,
              "ticks": ""
             }
            },
            "marker": {
             "colorbar": {
              "outlinewidth": 0,
              "ticks": ""
             }
            },
            "type": "scatter3d"
           }
          ],
          "scattercarpet": [
           {
            "marker": {
             "colorbar": {
              "outlinewidth": 0,
              "ticks": ""
             }
            },
            "type": "scattercarpet"
           }
          ],
          "scattergeo": [
           {
            "marker": {
             "colorbar": {
              "outlinewidth": 0,
              "ticks": ""
             }
            },
            "type": "scattergeo"
           }
          ],
          "scattergl": [
           {
            "marker": {
             "colorbar": {
              "outlinewidth": 0,
              "ticks": ""
             }
            },
            "type": "scattergl"
           }
          ],
          "scattermapbox": [
           {
            "marker": {
             "colorbar": {
              "outlinewidth": 0,
              "ticks": ""
             }
            },
            "type": "scattermapbox"
           }
          ],
          "scatterpolar": [
           {
            "marker": {
             "colorbar": {
              "outlinewidth": 0,
              "ticks": ""
             }
            },
            "type": "scatterpolar"
           }
          ],
          "scatterpolargl": [
           {
            "marker": {
             "colorbar": {
              "outlinewidth": 0,
              "ticks": ""
             }
            },
            "type": "scatterpolargl"
           }
          ],
          "scatterternary": [
           {
            "marker": {
             "colorbar": {
              "outlinewidth": 0,
              "ticks": ""
             }
            },
            "type": "scatterternary"
           }
          ],
          "surface": [
           {
            "colorbar": {
             "outlinewidth": 0,
             "ticks": ""
            },
            "colorscale": [
             [
              0,
              "#0d0887"
             ],
             [
              0.1111111111111111,
              "#46039f"
             ],
             [
              0.2222222222222222,
              "#7201a8"
             ],
             [
              0.3333333333333333,
              "#9c179e"
             ],
             [
              0.4444444444444444,
              "#bd3786"
             ],
             [
              0.5555555555555556,
              "#d8576b"
             ],
             [
              0.6666666666666666,
              "#ed7953"
             ],
             [
              0.7777777777777778,
              "#fb9f3a"
             ],
             [
              0.8888888888888888,
              "#fdca26"
             ],
             [
              1,
              "#f0f921"
             ]
            ],
            "type": "surface"
           }
          ],
          "table": [
           {
            "cells": {
             "fill": {
              "color": "#EBF0F8"
             },
             "line": {
              "color": "white"
             }
            },
            "header": {
             "fill": {
              "color": "#C8D4E3"
             },
             "line": {
              "color": "white"
             }
            },
            "type": "table"
           }
          ]
         },
         "layout": {
          "annotationdefaults": {
           "arrowcolor": "#2a3f5f",
           "arrowhead": 0,
           "arrowwidth": 1
          },
          "autotypenumbers": "strict",
          "coloraxis": {
           "colorbar": {
            "outlinewidth": 0,
            "ticks": ""
           }
          },
          "colorscale": {
           "diverging": [
            [
             0,
             "#8e0152"
            ],
            [
             0.1,
             "#c51b7d"
            ],
            [
             0.2,
             "#de77ae"
            ],
            [
             0.3,
             "#f1b6da"
            ],
            [
             0.4,
             "#fde0ef"
            ],
            [
             0.5,
             "#f7f7f7"
            ],
            [
             0.6,
             "#e6f5d0"
            ],
            [
             0.7,
             "#b8e186"
            ],
            [
             0.8,
             "#7fbc41"
            ],
            [
             0.9,
             "#4d9221"
            ],
            [
             1,
             "#276419"
            ]
           ],
           "sequential": [
            [
             0,
             "#0d0887"
            ],
            [
             0.1111111111111111,
             "#46039f"
            ],
            [
             0.2222222222222222,
             "#7201a8"
            ],
            [
             0.3333333333333333,
             "#9c179e"
            ],
            [
             0.4444444444444444,
             "#bd3786"
            ],
            [
             0.5555555555555556,
             "#d8576b"
            ],
            [
             0.6666666666666666,
             "#ed7953"
            ],
            [
             0.7777777777777778,
             "#fb9f3a"
            ],
            [
             0.8888888888888888,
             "#fdca26"
            ],
            [
             1,
             "#f0f921"
            ]
           ],
           "sequentialminus": [
            [
             0,
             "#0d0887"
            ],
            [
             0.1111111111111111,
             "#46039f"
            ],
            [
             0.2222222222222222,
             "#7201a8"
            ],
            [
             0.3333333333333333,
             "#9c179e"
            ],
            [
             0.4444444444444444,
             "#bd3786"
            ],
            [
             0.5555555555555556,
             "#d8576b"
            ],
            [
             0.6666666666666666,
             "#ed7953"
            ],
            [
             0.7777777777777778,
             "#fb9f3a"
            ],
            [
             0.8888888888888888,
             "#fdca26"
            ],
            [
             1,
             "#f0f921"
            ]
           ]
          },
          "colorway": [
           "#636efa",
           "#EF553B",
           "#00cc96",
           "#ab63fa",
           "#FFA15A",
           "#19d3f3",
           "#FF6692",
           "#B6E880",
           "#FF97FF",
           "#FECB52"
          ],
          "font": {
           "color": "#2a3f5f"
          },
          "geo": {
           "bgcolor": "white",
           "lakecolor": "white",
           "landcolor": "#E5ECF6",
           "showlakes": true,
           "showland": true,
           "subunitcolor": "white"
          },
          "hoverlabel": {
           "align": "left"
          },
          "hovermode": "closest",
          "mapbox": {
           "style": "light"
          },
          "paper_bgcolor": "white",
          "plot_bgcolor": "#E5ECF6",
          "polar": {
           "angularaxis": {
            "gridcolor": "white",
            "linecolor": "white",
            "ticks": ""
           },
           "bgcolor": "#E5ECF6",
           "radialaxis": {
            "gridcolor": "white",
            "linecolor": "white",
            "ticks": ""
           }
          },
          "scene": {
           "xaxis": {
            "backgroundcolor": "#E5ECF6",
            "gridcolor": "white",
            "gridwidth": 2,
            "linecolor": "white",
            "showbackground": true,
            "ticks": "",
            "zerolinecolor": "white"
           },
           "yaxis": {
            "backgroundcolor": "#E5ECF6",
            "gridcolor": "white",
            "gridwidth": 2,
            "linecolor": "white",
            "showbackground": true,
            "ticks": "",
            "zerolinecolor": "white"
           },
           "zaxis": {
            "backgroundcolor": "#E5ECF6",
            "gridcolor": "white",
            "gridwidth": 2,
            "linecolor": "white",
            "showbackground": true,
            "ticks": "",
            "zerolinecolor": "white"
           }
          },
          "shapedefaults": {
           "line": {
            "color": "#2a3f5f"
           }
          },
          "ternary": {
           "aaxis": {
            "gridcolor": "white",
            "linecolor": "white",
            "ticks": ""
           },
           "baxis": {
            "gridcolor": "white",
            "linecolor": "white",
            "ticks": ""
           },
           "bgcolor": "#E5ECF6",
           "caxis": {
            "gridcolor": "white",
            "linecolor": "white",
            "ticks": ""
           }
          },
          "title": {
           "x": 0.05
          },
          "xaxis": {
           "automargin": true,
           "gridcolor": "white",
           "linecolor": "white",
           "ticks": "",
           "title": {
            "standoff": 15
           },
           "zerolinecolor": "white",
           "zerolinewidth": 2
          },
          "yaxis": {
           "automargin": true,
           "gridcolor": "white",
           "linecolor": "white",
           "ticks": "",
           "title": {
            "standoff": 15
           },
           "zerolinecolor": "white",
           "zerolinewidth": 2
          }
         }
        },
        "title": {
         "text": "Potencia RMS Hervidor Eléctrico: 20h;AguaNormal;700ml"
        },
        "xaxis": {
         "title": {
          "text": "Hora"
         }
        },
        "yaxis": {
         "title": {
          "text": "Potencia [W]"
         }
        }
       }
      },
      "text/html": [
       "<div>                            <div id=\"08520576-3349-4534-a05f-8b699fd1a3d9\" class=\"plotly-graph-div\" style=\"height:525px; width:100%;\"></div>            <script type=\"text/javascript\">                require([\"plotly\"], function(Plotly) {                    window.PLOTLYENV=window.PLOTLYENV || {};                                    if (document.getElementById(\"08520576-3349-4534-a05f-8b699fd1a3d9\")) {                    Plotly.newPlot(                        \"08520576-3349-4534-a05f-8b699fd1a3d9\",                        [{\"name\":\"Power\",\"x\":[\"2022-06-07T20:25:57.741498\",\"2022-06-07T20:25:58.740619\",\"2022-06-07T20:25:59.744202\",\"2022-06-07T20:26:00.747216\",\"2022-06-07T20:26:01.746610\",\"2022-06-07T20:26:02.749601\",\"2022-06-07T20:26:03.754045\",\"2022-06-07T20:26:04.756802\",\"2022-06-07T20:26:05.756731\",\"2022-06-07T20:26:06.760566\",\"2022-06-07T20:26:07.764174\",\"2022-06-07T20:26:08.766900\",\"2022-06-07T20:26:09.765926\",\"2022-06-07T20:26:10.769684\",\"2022-06-07T20:26:11.772785\",\"2022-06-07T20:26:12.772391\",\"2022-06-07T20:26:13.775446\",\"2022-06-07T20:26:14.779695\",\"2022-06-07T20:26:15.783692\",\"2022-06-07T20:26:16.786447\",\"2022-06-07T20:26:17.785687\",\"2022-06-07T20:26:18.789531\",\"2022-06-07T20:26:19.792112\",\"2022-06-07T20:26:20.795908\",\"2022-06-07T20:26:21.795253\",\"2022-06-07T20:26:22.798532\",\"2022-06-07T20:26:23.802661\",\"2022-06-07T20:26:24.802187\",\"2022-06-07T20:26:25.804488\",\"2022-06-07T20:26:26.808332\",\"2022-06-07T20:26:27.811434\",\"2022-06-07T20:26:28.811206\",\"2022-06-07T20:26:29.813539\",\"2022-06-07T20:26:30.818169\",\"2022-06-07T20:26:31.817182\",\"2022-06-07T20:26:32.821039\",\"2022-06-07T20:26:33.823904\",\"2022-06-07T20:26:34.827377\",\"2022-06-07T20:26:35.830756\",\"2022-06-07T20:26:36.830309\",\"2022-06-07T20:26:37.833482\",\"2022-06-07T20:26:38.836882\",\"2022-06-07T20:26:39.836105\",\"2022-06-07T20:26:40.840070\",\"2022-06-07T20:26:41.843158\",\"2022-06-07T20:26:42.847116\",\"2022-06-07T20:26:43.846307\",\"2022-06-07T20:26:44.849583\",\"2022-06-07T20:26:45.853082\",\"2022-06-07T20:26:46.852097\",\"2022-06-07T20:26:47.855819\",\"2022-06-07T20:26:48.859446\",\"2022-06-07T20:26:49.861750\",\"2022-06-07T20:26:50.862072\",\"2022-06-07T20:26:51.865901\",\"2022-06-07T20:26:52.869117\",\"2022-06-07T20:26:53.872191\",\"2022-06-07T20:26:54.871757\",\"2022-06-07T20:26:55.875297\",\"2022-06-07T20:26:56.878297\",\"2022-06-07T20:26:57.877324\",\"2022-06-07T20:26:58.881648\",\"2022-06-07T20:26:59.884729\",\"2022-06-07T20:27:00.887718\",\"2022-06-07T20:27:01.886919\",\"2022-06-07T20:27:02.890940\",\"2022-06-07T20:27:03.894016\",\"2022-06-07T20:27:04.893805\",\"2022-06-07T20:27:05.897191\",\"2022-06-07T20:27:06.901167\",\"2022-06-07T20:27:07.900032\",\"2022-06-07T20:27:08.903808\",\"2022-06-07T20:27:09.906755\",\"2022-06-07T20:27:10.910637\",\"2022-06-07T20:27:11.909297\",\"2022-06-07T20:27:12.913392\",\"2022-06-07T20:27:13.916853\",\"2022-06-07T20:27:14.916357\",\"2022-06-07T20:27:15.919643\",\"2022-06-07T20:27:16.922370\",\"2022-06-07T20:27:17.925814\",\"2022-06-07T20:27:18.925424\",\"2022-06-07T20:27:19.929093\",\"2022-06-07T20:27:20.932073\",\"2022-06-07T20:27:21.931661\",\"2022-06-07T20:27:22.934985\",\"2022-06-07T20:27:23.938665\",\"2022-06-07T20:27:24.938167\",\"2022-06-07T20:27:25.941619\",\"2022-06-07T20:27:26.944899\",\"2022-06-07T20:27:27.948511\",\"2022-06-07T20:27:28.947775\",\"2022-06-07T20:27:29.951088\",\"2022-06-07T20:27:30.954345\",\"2022-06-07T20:27:31.953345\",\"2022-06-07T20:27:32.957481\",\"2022-06-07T20:27:33.960819\",\"2022-06-07T20:27:34.964219\",\"2022-06-07T20:27:35.963434\",\"2022-06-07T20:27:36.967405\",\"2022-06-07T20:27:37.970119\",\"2022-06-07T20:27:38.970179\",\"2022-06-07T20:27:39.973377\",\"2022-06-07T20:27:40.976544\",\"2022-06-07T20:27:41.976202\",\"2022-06-07T20:27:42.979872\",\"2022-06-07T20:27:43.982699\",\"2022-06-07T20:27:44.982228\",\"2022-06-07T20:27:45.985341\",\"2022-06-07T20:27:46.988986\",\"2022-06-07T20:27:47.987937\",\"2022-06-07T20:27:48.992459\",\"2022-06-07T20:27:49.994972\",\"2022-06-07T20:27:50.994546\",\"2022-06-07T20:27:51.997603\",\"2022-06-07T20:27:53.001461\",\"2022-06-07T20:27:54.000671\",\"2022-06-07T20:27:55.003943\",\"2022-06-07T20:27:56.007531\",\"2022-06-07T20:27:57.010247\",\"2022-06-07T20:27:58.009909\",\"2022-06-07T20:27:59.013813\",\"2022-06-07T20:28:00.017950\",\"2022-06-07T20:28:01.016800\",\"2022-06-07T20:28:02.019500\",\"2022-06-07T20:28:03.023836\",\"2022-06-07T20:28:04.023096\",\"2022-06-07T20:28:05.026016\",\"2022-06-07T20:28:06.029754\",\"2022-06-07T20:28:07.028795\",\"2022-06-07T20:28:08.032040\",\"2022-06-07T20:28:09.035920\",\"2022-06-07T20:28:10.038879\",\"2022-06-07T20:28:11.038716\",\"2022-06-07T20:28:12.042078\",\"2022-06-07T20:28:13.045383\",\"2022-06-07T20:28:14.044418\",\"2022-06-07T20:28:15.047778\",\"2022-06-07T20:28:16.051364\",\"2022-06-07T20:28:17.050705\",\"2022-06-07T20:28:18.053912\",\"2022-06-07T20:28:19.057806\",\"2022-06-07T20:28:20.056989\",\"2022-06-07T20:28:21.060469\",\"2022-06-07T20:28:22.064788\",\"2022-06-07T20:28:23.066650\",\"2022-06-07T20:28:24.066302\",\"2022-06-07T20:28:25.070710\",\"2022-06-07T20:28:26.073420\",\"2022-06-07T20:28:27.073129\",\"2022-06-07T20:28:28.076859\",\"2022-06-07T20:28:29.079602\",\"2022-06-07T20:28:30.079344\",\"2022-06-07T20:28:31.083324\",\"2022-06-07T20:28:32.086217\",\"2022-06-07T20:28:33.085470\",\"2022-06-07T20:28:34.089208\",\"2022-06-07T20:28:35.093055\",\"2022-06-07T20:28:36.095721\",\"2022-06-07T20:28:37.095402\",\"2022-06-07T20:28:38.097702\",\"2022-06-07T20:28:39.101945\",\"2022-06-07T20:28:40.101568\",\"2022-06-07T20:28:41.105088\",\"2022-06-07T20:28:42.108477\",\"2022-06-07T20:28:43.107395\",\"2022-06-07T20:28:44.111446\",\"2022-06-07T20:28:45.114806\",\"2022-06-07T20:28:46.118255\",\"2022-06-07T20:28:47.117530\",\"2022-06-07T20:28:48.121252\",\"2022-06-07T20:28:49.124251\",\"2022-06-07T20:28:50.123722\",\"2022-06-07T20:28:51.126653\",\"2022-06-07T20:28:52.130493\",\"2022-06-07T20:28:53.133720\",\"2022-06-07T20:28:54.133539\",\"2022-06-07T20:28:55.136817\",\"2022-06-07T20:28:56.140149\",\"2022-06-07T20:28:57.144243\",\"2022-06-07T20:28:58.146765\"],\"y\":[48.33,50.29,46.11,45.3,47.57,442.54,1505.23,1503.55,1501.23,1495.0,1491.71,1483.23,1481.17,1481.41,1475.94,1475.63,1471.63,1468.36,1465.82,1464.59,1466.62,1465.67,1460.94,1460.02,1463.55,1461.77,1459.43,1458.36,1460.82,1459.06,1454.75,1455.97,1454.71,1459.82,1458.47,1456.4,1456.13,1462.09,1459.7,1458.11,1460.66,1456.99,1460.82,1463.04,1454.03,1459.08,1457.79,1456.25,1458.87,1457.76,1460.04,1456.17,1458.5,1456.25,1458.65,1458.87,1462.35,1460.22,1458.17,1456.1,1465.09,1461.05,1460.27,1462.21,1466.6,1463.38,1464.36,1459.65,1465.08,1460.73,1464.77,1462.46,1458.25,1459.02,1467.17,1465.09,1461.97,1462.54,1464.12,1465.94,1463.13,1467.36,1465.01,1458.51,1458.41,1461.53,1453.12,1456.0,1457.22,1457.24,1456.37,1460.76,1458.34,1456.61,1454.31,1452.84,1456.84,1457.95,1457.96,1459.86,1455.8,1456.35,1454.37,1454.07,1452.98,1452.96,1453.31,1454.3,1450.58,1452.37,1449.19,1451.07,1454.18,1452.54,1454.28,1451.3,1455.48,1458.8,1460.01,1460.76,1454.78,1457.61,1461.85,1451.4,1455.65,1456.57,1456.86,1457.38,1455.77,1456.06,1454.88,1457.32,1453.59,1453.3,1455.51,1458.83,1459.45,1451.66,1447.86,1459.07,1457.41,1460.42,1456.04,1463.1,1459.61,1454.08,1457.58,1459.47,1461.41,1458.79,1457.19,1459.21,1453.8,1455.03,1453.87,1455.9,1460.52,1461.49,1462.84,1461.14,1460.0,1461.73,1458.97,1466.38,1463.77,1462.54,1462.79,1460.87,1459.53,1458.65,1463.04,1463.57,1462.23,1461.02,1462.85,1024.6,50.18,48.95,50.35,50.11,47.68],\"type\":\"scatter\"}],                        {\"title\":{\"text\":\"Potencia RMS Hervidor El\\u00e9ctrico: 20h;AguaNormal;700ml\"},\"xaxis\":{\"title\":{\"text\":\"Hora\"}},\"yaxis\":{\"title\":{\"text\":\"Potencia [W]\"}},\"template\":{\"data\":{\"histogram2dcontour\":[{\"type\":\"histogram2dcontour\",\"colorbar\":{\"outlinewidth\":0,\"ticks\":\"\"},\"colorscale\":[[0.0,\"#0d0887\"],[0.1111111111111111,\"#46039f\"],[0.2222222222222222,\"#7201a8\"],[0.3333333333333333,\"#9c179e\"],[0.4444444444444444,\"#bd3786\"],[0.5555555555555556,\"#d8576b\"],[0.6666666666666666,\"#ed7953\"],[0.7777777777777778,\"#fb9f3a\"],[0.8888888888888888,\"#fdca26\"],[1.0,\"#f0f921\"]]}],\"choropleth\":[{\"type\":\"choropleth\",\"colorbar\":{\"outlinewidth\":0,\"ticks\":\"\"}}],\"histogram2d\":[{\"type\":\"histogram2d\",\"colorbar\":{\"outlinewidth\":0,\"ticks\":\"\"},\"colorscale\":[[0.0,\"#0d0887\"],[0.1111111111111111,\"#46039f\"],[0.2222222222222222,\"#7201a8\"],[0.3333333333333333,\"#9c179e\"],[0.4444444444444444,\"#bd3786\"],[0.5555555555555556,\"#d8576b\"],[0.6666666666666666,\"#ed7953\"],[0.7777777777777778,\"#fb9f3a\"],[0.8888888888888888,\"#fdca26\"],[1.0,\"#f0f921\"]]}],\"heatmap\":[{\"type\":\"heatmap\",\"colorbar\":{\"outlinewidth\":0,\"ticks\":\"\"},\"colorscale\":[[0.0,\"#0d0887\"],[0.1111111111111111,\"#46039f\"],[0.2222222222222222,\"#7201a8\"],[0.3333333333333333,\"#9c179e\"],[0.4444444444444444,\"#bd3786\"],[0.5555555555555556,\"#d8576b\"],[0.6666666666666666,\"#ed7953\"],[0.7777777777777778,\"#fb9f3a\"],[0.8888888888888888,\"#fdca26\"],[1.0,\"#f0f921\"]]}],\"heatmapgl\":[{\"type\":\"heatmapgl\",\"colorbar\":{\"outlinewidth\":0,\"ticks\":\"\"},\"colorscale\":[[0.0,\"#0d0887\"],[0.1111111111111111,\"#46039f\"],[0.2222222222222222,\"#7201a8\"],[0.3333333333333333,\"#9c179e\"],[0.4444444444444444,\"#bd3786\"],[0.5555555555555556,\"#d8576b\"],[0.6666666666666666,\"#ed7953\"],[0.7777777777777778,\"#fb9f3a\"],[0.8888888888888888,\"#fdca26\"],[1.0,\"#f0f921\"]]}],\"contourcarpet\":[{\"type\":\"contourcarpet\",\"colorbar\":{\"outlinewidth\":0,\"ticks\":\"\"}}],\"contour\":[{\"type\":\"contour\",\"colorbar\":{\"outlinewidth\":0,\"ticks\":\"\"},\"colorscale\":[[0.0,\"#0d0887\"],[0.1111111111111111,\"#46039f\"],[0.2222222222222222,\"#7201a8\"],[0.3333333333333333,\"#9c179e\"],[0.4444444444444444,\"#bd3786\"],[0.5555555555555556,\"#d8576b\"],[0.6666666666666666,\"#ed7953\"],[0.7777777777777778,\"#fb9f3a\"],[0.8888888888888888,\"#fdca26\"],[1.0,\"#f0f921\"]]}],\"surface\":[{\"type\":\"surface\",\"colorbar\":{\"outlinewidth\":0,\"ticks\":\"\"},\"colorscale\":[[0.0,\"#0d0887\"],[0.1111111111111111,\"#46039f\"],[0.2222222222222222,\"#7201a8\"],[0.3333333333333333,\"#9c179e\"],[0.4444444444444444,\"#bd3786\"],[0.5555555555555556,\"#d8576b\"],[0.6666666666666666,\"#ed7953\"],[0.7777777777777778,\"#fb9f3a\"],[0.8888888888888888,\"#fdca26\"],[1.0,\"#f0f921\"]]}],\"mesh3d\":[{\"type\":\"mesh3d\",\"colorbar\":{\"outlinewidth\":0,\"ticks\":\"\"}}],\"scatter\":[{\"fillpattern\":{\"fillmode\":\"overlay\",\"size\":10,\"solidity\":0.2},\"type\":\"scatter\"}],\"parcoords\":[{\"type\":\"parcoords\",\"line\":{\"colorbar\":{\"outlinewidth\":0,\"ticks\":\"\"}}}],\"scatterpolargl\":[{\"type\":\"scatterpolargl\",\"marker\":{\"colorbar\":{\"outlinewidth\":0,\"ticks\":\"\"}}}],\"bar\":[{\"error_x\":{\"color\":\"#2a3f5f\"},\"error_y\":{\"color\":\"#2a3f5f\"},\"marker\":{\"line\":{\"color\":\"#E5ECF6\",\"width\":0.5},\"pattern\":{\"fillmode\":\"overlay\",\"size\":10,\"solidity\":0.2}},\"type\":\"bar\"}],\"scattergeo\":[{\"type\":\"scattergeo\",\"marker\":{\"colorbar\":{\"outlinewidth\":0,\"ticks\":\"\"}}}],\"scatterpolar\":[{\"type\":\"scatterpolar\",\"marker\":{\"colorbar\":{\"outlinewidth\":0,\"ticks\":\"\"}}}],\"histogram\":[{\"marker\":{\"pattern\":{\"fillmode\":\"overlay\",\"size\":10,\"solidity\":0.2}},\"type\":\"histogram\"}],\"scattergl\":[{\"type\":\"scattergl\",\"marker\":{\"colorbar\":{\"outlinewidth\":0,\"ticks\":\"\"}}}],\"scatter3d\":[{\"type\":\"scatter3d\",\"line\":{\"colorbar\":{\"outlinewidth\":0,\"ticks\":\"\"}},\"marker\":{\"colorbar\":{\"outlinewidth\":0,\"ticks\":\"\"}}}],\"scattermapbox\":[{\"type\":\"scattermapbox\",\"marker\":{\"colorbar\":{\"outlinewidth\":0,\"ticks\":\"\"}}}],\"scatterternary\":[{\"type\":\"scatterternary\",\"marker\":{\"colorbar\":{\"outlinewidth\":0,\"ticks\":\"\"}}}],\"scattercarpet\":[{\"type\":\"scattercarpet\",\"marker\":{\"colorbar\":{\"outlinewidth\":0,\"ticks\":\"\"}}}],\"carpet\":[{\"aaxis\":{\"endlinecolor\":\"#2a3f5f\",\"gridcolor\":\"white\",\"linecolor\":\"white\",\"minorgridcolor\":\"white\",\"startlinecolor\":\"#2a3f5f\"},\"baxis\":{\"endlinecolor\":\"#2a3f5f\",\"gridcolor\":\"white\",\"linecolor\":\"white\",\"minorgridcolor\":\"white\",\"startlinecolor\":\"#2a3f5f\"},\"type\":\"carpet\"}],\"table\":[{\"cells\":{\"fill\":{\"color\":\"#EBF0F8\"},\"line\":{\"color\":\"white\"}},\"header\":{\"fill\":{\"color\":\"#C8D4E3\"},\"line\":{\"color\":\"white\"}},\"type\":\"table\"}],\"barpolar\":[{\"marker\":{\"line\":{\"color\":\"#E5ECF6\",\"width\":0.5},\"pattern\":{\"fillmode\":\"overlay\",\"size\":10,\"solidity\":0.2}},\"type\":\"barpolar\"}],\"pie\":[{\"automargin\":true,\"type\":\"pie\"}]},\"layout\":{\"autotypenumbers\":\"strict\",\"colorway\":[\"#636efa\",\"#EF553B\",\"#00cc96\",\"#ab63fa\",\"#FFA15A\",\"#19d3f3\",\"#FF6692\",\"#B6E880\",\"#FF97FF\",\"#FECB52\"],\"font\":{\"color\":\"#2a3f5f\"},\"hovermode\":\"closest\",\"hoverlabel\":{\"align\":\"left\"},\"paper_bgcolor\":\"white\",\"plot_bgcolor\":\"#E5ECF6\",\"polar\":{\"bgcolor\":\"#E5ECF6\",\"angularaxis\":{\"gridcolor\":\"white\",\"linecolor\":\"white\",\"ticks\":\"\"},\"radialaxis\":{\"gridcolor\":\"white\",\"linecolor\":\"white\",\"ticks\":\"\"}},\"ternary\":{\"bgcolor\":\"#E5ECF6\",\"aaxis\":{\"gridcolor\":\"white\",\"linecolor\":\"white\",\"ticks\":\"\"},\"baxis\":{\"gridcolor\":\"white\",\"linecolor\":\"white\",\"ticks\":\"\"},\"caxis\":{\"gridcolor\":\"white\",\"linecolor\":\"white\",\"ticks\":\"\"}},\"coloraxis\":{\"colorbar\":{\"outlinewidth\":0,\"ticks\":\"\"}},\"colorscale\":{\"sequential\":[[0.0,\"#0d0887\"],[0.1111111111111111,\"#46039f\"],[0.2222222222222222,\"#7201a8\"],[0.3333333333333333,\"#9c179e\"],[0.4444444444444444,\"#bd3786\"],[0.5555555555555556,\"#d8576b\"],[0.6666666666666666,\"#ed7953\"],[0.7777777777777778,\"#fb9f3a\"],[0.8888888888888888,\"#fdca26\"],[1.0,\"#f0f921\"]],\"sequentialminus\":[[0.0,\"#0d0887\"],[0.1111111111111111,\"#46039f\"],[0.2222222222222222,\"#7201a8\"],[0.3333333333333333,\"#9c179e\"],[0.4444444444444444,\"#bd3786\"],[0.5555555555555556,\"#d8576b\"],[0.6666666666666666,\"#ed7953\"],[0.7777777777777778,\"#fb9f3a\"],[0.8888888888888888,\"#fdca26\"],[1.0,\"#f0f921\"]],\"diverging\":[[0,\"#8e0152\"],[0.1,\"#c51b7d\"],[0.2,\"#de77ae\"],[0.3,\"#f1b6da\"],[0.4,\"#fde0ef\"],[0.5,\"#f7f7f7\"],[0.6,\"#e6f5d0\"],[0.7,\"#b8e186\"],[0.8,\"#7fbc41\"],[0.9,\"#4d9221\"],[1,\"#276419\"]]},\"xaxis\":{\"gridcolor\":\"white\",\"linecolor\":\"white\",\"ticks\":\"\",\"title\":{\"standoff\":15},\"zerolinecolor\":\"white\",\"automargin\":true,\"zerolinewidth\":2},\"yaxis\":{\"gridcolor\":\"white\",\"linecolor\":\"white\",\"ticks\":\"\",\"title\":{\"standoff\":15},\"zerolinecolor\":\"white\",\"automargin\":true,\"zerolinewidth\":2},\"scene\":{\"xaxis\":{\"backgroundcolor\":\"#E5ECF6\",\"gridcolor\":\"white\",\"linecolor\":\"white\",\"showbackground\":true,\"ticks\":\"\",\"zerolinecolor\":\"white\",\"gridwidth\":2},\"yaxis\":{\"backgroundcolor\":\"#E5ECF6\",\"gridcolor\":\"white\",\"linecolor\":\"white\",\"showbackground\":true,\"ticks\":\"\",\"zerolinecolor\":\"white\",\"gridwidth\":2},\"zaxis\":{\"backgroundcolor\":\"#E5ECF6\",\"gridcolor\":\"white\",\"linecolor\":\"white\",\"showbackground\":true,\"ticks\":\"\",\"zerolinecolor\":\"white\",\"gridwidth\":2}},\"shapedefaults\":{\"line\":{\"color\":\"#2a3f5f\"}},\"annotationdefaults\":{\"arrowcolor\":\"#2a3f5f\",\"arrowhead\":0,\"arrowwidth\":1},\"geo\":{\"bgcolor\":\"white\",\"landcolor\":\"#E5ECF6\",\"subunitcolor\":\"white\",\"showland\":true,\"showlakes\":true,\"lakecolor\":\"white\"},\"title\":{\"x\":0.05},\"mapbox\":{\"style\":\"light\"}}}},                        {\"responsive\": true}                    ).then(function(){\n",
       "                            \n",
       "var gd = document.getElementById('08520576-3349-4534-a05f-8b699fd1a3d9');\n",
       "var x = new MutationObserver(function (mutations, observer) {{\n",
       "        var display = window.getComputedStyle(gd).display;\n",
       "        if (!display || display === 'none') {{\n",
       "            console.log([gd, 'removed!']);\n",
       "            Plotly.purge(gd);\n",
       "            observer.disconnect();\n",
       "        }}\n",
       "}});\n",
       "\n",
       "// Listen for the removal of the full notebook cells\n",
       "var notebookContainer = gd.closest('#notebook-container');\n",
       "if (notebookContainer) {{\n",
       "    x.observe(notebookContainer, {childList: true});\n",
       "}}\n",
       "\n",
       "// Listen for the clearing of the current output cell\n",
       "var outputEl = gd.closest('.output');\n",
       "if (outputEl) {{\n",
       "    x.observe(outputEl, {childList: true});\n",
       "}}\n",
       "\n",
       "                        })                };                });            </script>        </div>"
      ]
     },
     "metadata": {},
     "output_type": "display_data"
    }
   ],
   "source": [
    "fig = go.Figure(\n",
    "    data=[\n",
    "        go.Line(x=BD_carga['Fecha'][0:12*75],\n",
    "                y=BD_carga['Potencia'][0:12*75], name=\"Power\")\n",
    "    ],\n",
    "    layout=go.Layout(\n",
    "        title=dict(text='Potencia RMS Hervidor Eléctrico: 20h;AguaNormal;700ml'),\n",
    "        xaxis=dict(title='Hora'),\n",
    "        yaxis=dict(title='Potencia [W]')\n",
    "    )\n",
    ")\n",
    "fig.show()\n",
    "        \n",
    "        "
   ]
  }
 ],
 "metadata": {
  "kernelspec": {
   "display_name": "Python 3 (ipykernel)",
   "language": "python",
   "name": "python3"
  },
  "language_info": {
   "codemirror_mode": {
    "name": "ipython",
    "version": 3
   },
   "file_extension": ".py",
   "mimetype": "text/x-python",
   "name": "python",
   "nbconvert_exporter": "python",
   "pygments_lexer": "ipython3",
   "version": "3.9.7"
  }
 },
 "nbformat": 4,
 "nbformat_minor": 5
}
