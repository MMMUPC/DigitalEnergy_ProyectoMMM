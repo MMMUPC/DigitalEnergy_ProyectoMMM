{
 "cells": [
  {
   "cell_type": "markdown",
   "id": "a8fcd987",
   "metadata": {},
   "source": [
    "<img src=\"Figures/top_ML.png\" alt=\"Drawing\" style=\"width: 1000px;\"/>"
   ]
  },
  {
   "cell_type": "markdown",
   "id": "81e86598",
   "metadata": {},
   "source": [
    "# \"Digitalización de una carga doméstica\"\n",
    "\n",
    "## Postítulo \"Digital Energy\", Máster Smart Energy\n",
    "\n",
    "## Módulo: Digitalización de la Energía\n",
    "\n",
    "## Alumno: Max Antonio Missene Montecinos"
   ]
  },
  {
   "cell_type": "markdown",
   "id": "6aa4771d",
   "metadata": {},
   "source": [
    "### Objetivo:\n",
    "\n",
    "#### Monitoreo de una carga doméstica mediante un procesador de datos construido en base a un microcontrolador Arduino.\n",
    "\n",
    "### Pautas generales:\n",
    "\n",
    "1. Descripción de la carga seleccionada para nuestro Proyecto. Modelo, potencia nominal, uso habitual que hacéis de ella, etc.\n",
    "2. Descripción de vuestro montaje: Fotos del montaje con la carga, explicación breve del código para la realización de la medición.\n",
    "3. Análisis preliminar de consumo de la carga: Captura del a corriente instantánea, grabar datos de corriente en RMS y realizar alguna gráfica (Excel mismo) y comentar el consumo observado."
   ]
  },
  {
   "cell_type": "markdown",
   "id": "1aa8be0e",
   "metadata": {},
   "source": [
    "## Generales"
   ]
  },
  {
   "cell_type": "markdown",
   "id": "c429a698",
   "metadata": {},
   "source": [
    "#### El primer paso que se realizará en el desarrollo del presente trabajo, será importar las librerías y funciones de librerías que utilizaremos a lo largo del código."
   ]
  },
  {
   "cell_type": "code",
   "execution_count": 1,
   "id": "571ae1ca",
   "metadata": {},
   "outputs": [],
   "source": [
    "# Librerías usadas\n",
    "\n",
    "import pandas as pd\n",
    "import matplotlib.pyplot as plt\n",
    "import numpy as np\n",
    "import seaborn as sns\n",
    "import datetime\n",
    "from datetime import date, time, datetime, timedelta\n",
    "import warnings\n",
    "warnings.filterwarnings('ignore')"
   ]
  },
  {
   "cell_type": "markdown",
   "id": "98bc077b",
   "metadata": {},
   "source": [
    "#### A continuación, se procederá a importar la base de datos."
   ]
  },
  {
   "cell_type": "code",
   "execution_count": 2,
   "id": "c345e48d",
   "metadata": {},
   "outputs": [],
   "source": [
    "# Generar DataFrame (DF) a partir de base de datos de excel\n",
    "columns=['Fecha','Corriente','Potencia']\n",
    "BD_carga = pd.read_csv('Data/data_700_F_20h.csv', names=columns)"
   ]
  },
  {
   "cell_type": "markdown",
   "id": "f6fea903",
   "metadata": {},
   "source": [
    "### 1. Entendimiento de los datos, estadística descriptiva y visualizaciones"
   ]
  },
  {
   "cell_type": "markdown",
   "id": "4360cea8",
   "metadata": {},
   "source": [
    "#### En primera instancia, se determinará el número de dimensiones que posee la base de datos."
   ]
  },
  {
   "cell_type": "code",
   "execution_count": 3,
   "id": "04285cb4",
   "metadata": {},
   "outputs": [
    {
     "data": {
      "text/plain": [
       "(223, 3)"
      ]
     },
     "execution_count": 3,
     "metadata": {},
     "output_type": "execute_result"
    }
   ],
   "source": [
    "# Se procederá a conocer las dimensiones del DF con la función \"shape\".\n",
    "BD_carga.shape"
   ]
  },
  {
   "cell_type": "markdown",
   "id": "bc050715",
   "metadata": {},
   "source": [
    "#### Es posible notar que el DataFrame contine 3 columnas y 223 filas. "
   ]
  },
  {
   "cell_type": "markdown",
   "id": "12595815",
   "metadata": {},
   "source": [
    "#### Así, se desplegaran las primeras filas del dataframe, para examinar de forma preliminar los datos."
   ]
  },
  {
   "cell_type": "code",
   "execution_count": 4,
   "id": "a96185ac",
   "metadata": {},
   "outputs": [
    {
     "data": {
      "text/html": [
       "<div>\n",
       "<style scoped>\n",
       "    .dataframe tbody tr th:only-of-type {\n",
       "        vertical-align: middle;\n",
       "    }\n",
       "\n",
       "    .dataframe tbody tr th {\n",
       "        vertical-align: top;\n",
       "    }\n",
       "\n",
       "    .dataframe thead th {\n",
       "        text-align: right;\n",
       "    }\n",
       "</style>\n",
       "<table border=\"1\" class=\"dataframe\">\n",
       "  <thead>\n",
       "    <tr style=\"text-align: right;\">\n",
       "      <th></th>\n",
       "      <th>Fecha</th>\n",
       "      <th>Corriente</th>\n",
       "      <th>Potencia</th>\n",
       "    </tr>\n",
       "  </thead>\n",
       "  <tbody>\n",
       "    <tr>\n",
       "      <th>0</th>\n",
       "      <td>2022-06-07 20:47:44.244684</td>\n",
       "      <td>0.21</td>\n",
       "      <td>48.75</td>\n",
       "    </tr>\n",
       "    <tr>\n",
       "      <th>1</th>\n",
       "      <td>2022-06-07 20:47:45.248650</td>\n",
       "      <td>0.21</td>\n",
       "      <td>49.23</td>\n",
       "    </tr>\n",
       "    <tr>\n",
       "      <th>2</th>\n",
       "      <td>2022-06-07 20:47:46.251581</td>\n",
       "      <td>0.22</td>\n",
       "      <td>49.77</td>\n",
       "    </tr>\n",
       "    <tr>\n",
       "      <th>3</th>\n",
       "      <td>2022-06-07 20:47:47.254675</td>\n",
       "      <td>0.21</td>\n",
       "      <td>47.84</td>\n",
       "    </tr>\n",
       "    <tr>\n",
       "      <th>4</th>\n",
       "      <td>2022-06-07 20:47:48.254259</td>\n",
       "      <td>0.20</td>\n",
       "      <td>46.90</td>\n",
       "    </tr>\n",
       "  </tbody>\n",
       "</table>\n",
       "</div>"
      ],
      "text/plain": [
       "                        Fecha  Corriente  Potencia\n",
       "0  2022-06-07 20:47:44.244684       0.21     48.75\n",
       "1  2022-06-07 20:47:45.248650       0.21     49.23\n",
       "2  2022-06-07 20:47:46.251581       0.22     49.77\n",
       "3  2022-06-07 20:47:47.254675       0.21     47.84\n",
       "4  2022-06-07 20:47:48.254259       0.20     46.90"
      ]
     },
     "execution_count": 4,
     "metadata": {},
     "output_type": "execute_result"
    }
   ],
   "source": [
    "# Desplegar primeras 5 filas del DF a partir de la función \"head\".\n",
    "BD_carga.head()"
   ]
  },
  {
   "cell_type": "markdown",
   "id": "46f013f8",
   "metadata": {},
   "source": [
    "#### De manera análoga, se desplegaran las primeras últimas filas del dataframe, para examinar de forma preliminar los datos."
   ]
  },
  {
   "cell_type": "code",
   "execution_count": 5,
   "id": "27cdd889",
   "metadata": {},
   "outputs": [
    {
     "data": {
      "text/html": [
       "<div>\n",
       "<style scoped>\n",
       "    .dataframe tbody tr th:only-of-type {\n",
       "        vertical-align: middle;\n",
       "    }\n",
       "\n",
       "    .dataframe tbody tr th {\n",
       "        vertical-align: top;\n",
       "    }\n",
       "\n",
       "    .dataframe thead th {\n",
       "        text-align: right;\n",
       "    }\n",
       "</style>\n",
       "<table border=\"1\" class=\"dataframe\">\n",
       "  <thead>\n",
       "    <tr style=\"text-align: right;\">\n",
       "      <th></th>\n",
       "      <th>Fecha</th>\n",
       "      <th>Corriente</th>\n",
       "      <th>Potencia</th>\n",
       "    </tr>\n",
       "  </thead>\n",
       "  <tbody>\n",
       "    <tr>\n",
       "      <th>218</th>\n",
       "      <td>2022-06-07 20:51:22.734827</td>\n",
       "      <td>0.22</td>\n",
       "      <td>51.05</td>\n",
       "    </tr>\n",
       "    <tr>\n",
       "      <th>219</th>\n",
       "      <td>2022-06-07 20:51:23.738835</td>\n",
       "      <td>0.22</td>\n",
       "      <td>49.72</td>\n",
       "    </tr>\n",
       "    <tr>\n",
       "      <th>220</th>\n",
       "      <td>2022-06-07 20:51:24.737518</td>\n",
       "      <td>0.21</td>\n",
       "      <td>48.42</td>\n",
       "    </tr>\n",
       "    <tr>\n",
       "      <th>221</th>\n",
       "      <td>2022-06-07 20:51:25.741341</td>\n",
       "      <td>0.22</td>\n",
       "      <td>49.63</td>\n",
       "    </tr>\n",
       "    <tr>\n",
       "      <th>222</th>\n",
       "      <td>2022-06-07 20:51:26.740842</td>\n",
       "      <td>0.21</td>\n",
       "      <td>49.19</td>\n",
       "    </tr>\n",
       "  </tbody>\n",
       "</table>\n",
       "</div>"
      ],
      "text/plain": [
       "                          Fecha  Corriente  Potencia\n",
       "218  2022-06-07 20:51:22.734827       0.22     51.05\n",
       "219  2022-06-07 20:51:23.738835       0.22     49.72\n",
       "220  2022-06-07 20:51:24.737518       0.21     48.42\n",
       "221  2022-06-07 20:51:25.741341       0.22     49.63\n",
       "222  2022-06-07 20:51:26.740842       0.21     49.19"
      ]
     },
     "execution_count": 5,
     "metadata": {},
     "output_type": "execute_result"
    }
   ],
   "source": [
    "# Desplegar última 5 filas del DF a partir de la función \"tail\".\n",
    "BD_carga.tail()"
   ]
  },
  {
   "cell_type": "code",
   "execution_count": 6,
   "id": "d3ce6dbc",
   "metadata": {},
   "outputs": [
    {
     "data": {
      "text/plain": [
       "Fecha         object\n",
       "Corriente    float64\n",
       "Potencia     float64\n",
       "dtype: object"
      ]
     },
     "execution_count": 6,
     "metadata": {},
     "output_type": "execute_result"
    }
   ],
   "source": [
    "# Desplegar última 5 filas del DF a partir de la función \"tail\".\n",
    "BD_carga.dtypes"
   ]
  },
  {
   "cell_type": "markdown",
   "id": "581ce836",
   "metadata": {},
   "source": [
    "#### Ya pudiendo mirar el contenido del dataframe de manera general, se realizará el cálculo de valores estadísticos de sus columnas."
   ]
  },
  {
   "cell_type": "code",
   "execution_count": 7,
   "id": "a702d86a",
   "metadata": {},
   "outputs": [
    {
     "data": {
      "text/plain": [
       "Fecha        datetime64[ns]\n",
       "Corriente           float64\n",
       "Potencia            float64\n",
       "dtype: object"
      ]
     },
     "execution_count": 7,
     "metadata": {},
     "output_type": "execute_result"
    }
   ],
   "source": [
    "# Desplegar última 5 filas del DF a partir de la función \"tail\".\n",
    "BD_carga['Fecha']=pd.to_datetime(BD_carga['Fecha'])\n",
    "BD_carga.dtypes\n"
   ]
  },
  {
   "cell_type": "code",
   "execution_count": 8,
   "id": "669189b6",
   "metadata": {},
   "outputs": [
    {
     "data": {
      "text/html": [
       "<div>\n",
       "<style scoped>\n",
       "    .dataframe tbody tr th:only-of-type {\n",
       "        vertical-align: middle;\n",
       "    }\n",
       "\n",
       "    .dataframe tbody tr th {\n",
       "        vertical-align: top;\n",
       "    }\n",
       "\n",
       "    .dataframe thead th {\n",
       "        text-align: right;\n",
       "    }\n",
       "</style>\n",
       "<table border=\"1\" class=\"dataframe\">\n",
       "  <thead>\n",
       "    <tr style=\"text-align: right;\">\n",
       "      <th></th>\n",
       "      <th>Corriente</th>\n",
       "      <th>Potencia</th>\n",
       "    </tr>\n",
       "  </thead>\n",
       "  <tbody>\n",
       "    <tr>\n",
       "      <th>count</th>\n",
       "      <td>223.000000</td>\n",
       "      <td>223.000000</td>\n",
       "    </tr>\n",
       "    <tr>\n",
       "      <th>mean</th>\n",
       "      <td>6.099327</td>\n",
       "      <td>1402.838161</td>\n",
       "    </tr>\n",
       "    <tr>\n",
       "      <th>std</th>\n",
       "      <td>1.320787</td>\n",
       "      <td>303.770429</td>\n",
       "    </tr>\n",
       "    <tr>\n",
       "      <th>min</th>\n",
       "      <td>0.200000</td>\n",
       "      <td>46.900000</td>\n",
       "    </tr>\n",
       "    <tr>\n",
       "      <th>25%</th>\n",
       "      <td>6.390000</td>\n",
       "      <td>1468.585000</td>\n",
       "    </tr>\n",
       "    <tr>\n",
       "      <th>50%</th>\n",
       "      <td>6.400000</td>\n",
       "      <td>1472.510000</td>\n",
       "    </tr>\n",
       "    <tr>\n",
       "      <th>75%</th>\n",
       "      <td>6.420000</td>\n",
       "      <td>1475.975000</td>\n",
       "    </tr>\n",
       "    <tr>\n",
       "      <th>max</th>\n",
       "      <td>6.560000</td>\n",
       "      <td>1509.800000</td>\n",
       "    </tr>\n",
       "  </tbody>\n",
       "</table>\n",
       "</div>"
      ],
      "text/plain": [
       "        Corriente     Potencia\n",
       "count  223.000000   223.000000\n",
       "mean     6.099327  1402.838161\n",
       "std      1.320787   303.770429\n",
       "min      0.200000    46.900000\n",
       "25%      6.390000  1468.585000\n",
       "50%      6.400000  1472.510000\n",
       "75%      6.420000  1475.975000\n",
       "max      6.560000  1509.800000"
      ]
     },
     "execution_count": 8,
     "metadata": {},
     "output_type": "execute_result"
    }
   ],
   "source": [
    "# Se aplica la función \"describe\" al dataframe, el cual calculará algunos parámetros estadísticos a cada columna.\n",
    "BD_carga.describe()"
   ]
  },
  {
   "cell_type": "code",
   "execution_count": 9,
   "id": "7451fe84",
   "metadata": {},
   "outputs": [
    {
     "data": {
      "text/plain": [
       "Fecha        0\n",
       "Corriente    0\n",
       "Potencia     0\n",
       "dtype: int64"
      ]
     },
     "execution_count": 9,
     "metadata": {},
     "output_type": "execute_result"
    }
   ],
   "source": [
    "BD_carga.isna().sum()"
   ]
  },
  {
   "cell_type": "code",
   "execution_count": 11,
   "id": "428d92ac",
   "metadata": {},
   "outputs": [],
   "source": [
    "BD_carga['Energy_kWh']=0.0\n",
    "BD_carga['time_dif']=0.0\n",
    "BD_carga['cum_energy_kwh']=0.0\n",
    "longitud=len(BD_carga['Energy_kWh'])\n",
    "\n",
    "for x in range(0, longitud):\n",
    " if BD_carga['Corriente'][x]<0.0:\n",
    "        BD_carga.at[x, 'Corriente']=0.0\n",
    " if BD_carga['Potencia'][x]<0.0:\n",
    "        BD_carga.at[x, 'Potencia']=0.0\n",
    "for x in range(1, longitud):\n",
    "    BD_carga.at[x, 'Energy_kWh']=BD_carga['Potencia'][x]*((BD_carga['Fecha'][x]-BD_carga['Fecha'][x-1]).total_seconds()/3600000)\n",
    "    BD_carga.at[x, 'time_dif']=(BD_carga['Fecha'][x]-BD_carga['Fecha'][x-1]).total_seconds()\n",
    "    BD_carga.at[x, 'cum_energy_kwh']=BD_carga['cum_energy_kwh'][x-1]+BD_carga['Energy_kWh'][x]\n",
    "    "
   ]
  },
  {
   "cell_type": "code",
   "execution_count": 12,
   "id": "97c9a673",
   "metadata": {},
   "outputs": [
    {
     "data": {
      "text/html": [
       "<div>\n",
       "<style scoped>\n",
       "    .dataframe tbody tr th:only-of-type {\n",
       "        vertical-align: middle;\n",
       "    }\n",
       "\n",
       "    .dataframe tbody tr th {\n",
       "        vertical-align: top;\n",
       "    }\n",
       "\n",
       "    .dataframe thead th {\n",
       "        text-align: right;\n",
       "    }\n",
       "</style>\n",
       "<table border=\"1\" class=\"dataframe\">\n",
       "  <thead>\n",
       "    <tr style=\"text-align: right;\">\n",
       "      <th></th>\n",
       "      <th>Fecha</th>\n",
       "      <th>Corriente</th>\n",
       "      <th>Potencia</th>\n",
       "      <th>Energy_kWh</th>\n",
       "      <th>time_dif</th>\n",
       "      <th>cum_energy_kwh</th>\n",
       "    </tr>\n",
       "  </thead>\n",
       "  <tbody>\n",
       "    <tr>\n",
       "      <th>0</th>\n",
       "      <td>2022-06-07 20:47:44.244684</td>\n",
       "      <td>0.21</td>\n",
       "      <td>48.75</td>\n",
       "      <td>0.000000</td>\n",
       "      <td>0.000000</td>\n",
       "      <td>0.000000</td>\n",
       "    </tr>\n",
       "    <tr>\n",
       "      <th>1</th>\n",
       "      <td>2022-06-07 20:47:45.248650</td>\n",
       "      <td>0.21</td>\n",
       "      <td>49.23</td>\n",
       "      <td>0.000014</td>\n",
       "      <td>1.003966</td>\n",
       "      <td>0.000014</td>\n",
       "    </tr>\n",
       "    <tr>\n",
       "      <th>2</th>\n",
       "      <td>2022-06-07 20:47:46.251581</td>\n",
       "      <td>0.22</td>\n",
       "      <td>49.77</td>\n",
       "      <td>0.000014</td>\n",
       "      <td>1.002931</td>\n",
       "      <td>0.000028</td>\n",
       "    </tr>\n",
       "    <tr>\n",
       "      <th>3</th>\n",
       "      <td>2022-06-07 20:47:47.254675</td>\n",
       "      <td>0.21</td>\n",
       "      <td>47.84</td>\n",
       "      <td>0.000013</td>\n",
       "      <td>1.003094</td>\n",
       "      <td>0.000041</td>\n",
       "    </tr>\n",
       "    <tr>\n",
       "      <th>4</th>\n",
       "      <td>2022-06-07 20:47:48.254259</td>\n",
       "      <td>0.20</td>\n",
       "      <td>46.90</td>\n",
       "      <td>0.000013</td>\n",
       "      <td>0.999584</td>\n",
       "      <td>0.000054</td>\n",
       "    </tr>\n",
       "  </tbody>\n",
       "</table>\n",
       "</div>"
      ],
      "text/plain": [
       "                       Fecha  Corriente  Potencia  Energy_kWh  time_dif  \\\n",
       "0 2022-06-07 20:47:44.244684       0.21     48.75    0.000000  0.000000   \n",
       "1 2022-06-07 20:47:45.248650       0.21     49.23    0.000014  1.003966   \n",
       "2 2022-06-07 20:47:46.251581       0.22     49.77    0.000014  1.002931   \n",
       "3 2022-06-07 20:47:47.254675       0.21     47.84    0.000013  1.003094   \n",
       "4 2022-06-07 20:47:48.254259       0.20     46.90    0.000013  0.999584   \n",
       "\n",
       "   cum_energy_kwh  \n",
       "0        0.000000  \n",
       "1        0.000014  \n",
       "2        0.000028  \n",
       "3        0.000041  \n",
       "4        0.000054  "
      ]
     },
     "execution_count": 12,
     "metadata": {},
     "output_type": "execute_result"
    }
   ],
   "source": [
    "BD_carga.head()"
   ]
  },
  {
   "cell_type": "code",
   "execution_count": 13,
   "id": "1d113be0",
   "metadata": {},
   "outputs": [
    {
     "data": {
      "text/html": [
       "<div>\n",
       "<style scoped>\n",
       "    .dataframe tbody tr th:only-of-type {\n",
       "        vertical-align: middle;\n",
       "    }\n",
       "\n",
       "    .dataframe tbody tr th {\n",
       "        vertical-align: top;\n",
       "    }\n",
       "\n",
       "    .dataframe thead th {\n",
       "        text-align: right;\n",
       "    }\n",
       "</style>\n",
       "<table border=\"1\" class=\"dataframe\">\n",
       "  <thead>\n",
       "    <tr style=\"text-align: right;\">\n",
       "      <th></th>\n",
       "      <th>Fecha</th>\n",
       "      <th>Corriente</th>\n",
       "      <th>Potencia</th>\n",
       "      <th>Energy_kWh</th>\n",
       "      <th>time_dif</th>\n",
       "      <th>cum_energy_kwh</th>\n",
       "    </tr>\n",
       "  </thead>\n",
       "  <tbody>\n",
       "    <tr>\n",
       "      <th>218</th>\n",
       "      <td>2022-06-07 20:51:22.734827</td>\n",
       "      <td>0.22</td>\n",
       "      <td>51.05</td>\n",
       "      <td>0.000014</td>\n",
       "      <td>1.002421</td>\n",
       "      <td>0.087025</td>\n",
       "    </tr>\n",
       "    <tr>\n",
       "      <th>219</th>\n",
       "      <td>2022-06-07 20:51:23.738835</td>\n",
       "      <td>0.22</td>\n",
       "      <td>49.72</td>\n",
       "      <td>0.000014</td>\n",
       "      <td>1.004008</td>\n",
       "      <td>0.087039</td>\n",
       "    </tr>\n",
       "    <tr>\n",
       "      <th>220</th>\n",
       "      <td>2022-06-07 20:51:24.737518</td>\n",
       "      <td>0.21</td>\n",
       "      <td>48.42</td>\n",
       "      <td>0.000013</td>\n",
       "      <td>0.998683</td>\n",
       "      <td>0.087052</td>\n",
       "    </tr>\n",
       "    <tr>\n",
       "      <th>221</th>\n",
       "      <td>2022-06-07 20:51:25.741341</td>\n",
       "      <td>0.22</td>\n",
       "      <td>49.63</td>\n",
       "      <td>0.000014</td>\n",
       "      <td>1.003823</td>\n",
       "      <td>0.087066</td>\n",
       "    </tr>\n",
       "    <tr>\n",
       "      <th>222</th>\n",
       "      <td>2022-06-07 20:51:26.740842</td>\n",
       "      <td>0.21</td>\n",
       "      <td>49.19</td>\n",
       "      <td>0.000014</td>\n",
       "      <td>0.999501</td>\n",
       "      <td>0.087079</td>\n",
       "    </tr>\n",
       "  </tbody>\n",
       "</table>\n",
       "</div>"
      ],
      "text/plain": [
       "                         Fecha  Corriente  Potencia  Energy_kWh  time_dif  \\\n",
       "218 2022-06-07 20:51:22.734827       0.22     51.05    0.000014  1.002421   \n",
       "219 2022-06-07 20:51:23.738835       0.22     49.72    0.000014  1.004008   \n",
       "220 2022-06-07 20:51:24.737518       0.21     48.42    0.000013  0.998683   \n",
       "221 2022-06-07 20:51:25.741341       0.22     49.63    0.000014  1.003823   \n",
       "222 2022-06-07 20:51:26.740842       0.21     49.19    0.000014  0.999501   \n",
       "\n",
       "     cum_energy_kwh  \n",
       "218        0.087025  \n",
       "219        0.087039  \n",
       "220        0.087052  \n",
       "221        0.087066  \n",
       "222        0.087079  "
      ]
     },
     "execution_count": 13,
     "metadata": {},
     "output_type": "execute_result"
    }
   ],
   "source": [
    "BD_carga.tail()"
   ]
  },
  {
   "cell_type": "code",
   "execution_count": 14,
   "id": "a13f9127",
   "metadata": {},
   "outputs": [
    {
     "data": {
      "text/plain": [
       "0.08707945242375278"
      ]
     },
     "execution_count": 14,
     "metadata": {},
     "output_type": "execute_result"
    }
   ],
   "source": [
    "BD_carga['Energy_kWh'].sum()"
   ]
  },
  {
   "cell_type": "code",
   "execution_count": 15,
   "id": "bbb946ae",
   "metadata": {},
   "outputs": [
    {
     "data": {
      "text/plain": [
       "0.06180448833333333"
      ]
     },
     "execution_count": 15,
     "metadata": {},
     "output_type": "execute_result"
    }
   ],
   "source": [
    "((BD_carga['time_dif'].sum())/60)/60"
   ]
  },
  {
   "cell_type": "code",
   "execution_count": 18,
   "id": "e1cea20e",
   "metadata": {},
   "outputs": [
    {
     "data": {
      "text/html": [
       "        <script type=\"text/javascript\">\n",
       "        window.PlotlyConfig = {MathJaxConfig: 'local'};\n",
       "        if (window.MathJax && window.MathJax.Hub && window.MathJax.Hub.Config) {window.MathJax.Hub.Config({SVG: {font: \"STIX-Web\"}});}\n",
       "        if (typeof require !== 'undefined') {\n",
       "        require.undef(\"plotly\");\n",
       "        requirejs.config({\n",
       "            paths: {\n",
       "                'plotly': ['https://cdn.plot.ly/plotly-2.12.1.min']\n",
       "            }\n",
       "        });\n",
       "        require(['plotly'], function(Plotly) {\n",
       "            window._Plotly = Plotly;\n",
       "        });\n",
       "        }\n",
       "        </script>\n",
       "        "
      ]
     },
     "metadata": {},
     "output_type": "display_data"
    }
   ],
   "source": [
    "# conda install -c plotly plotly\n",
    "import plotly.offline as py;\n",
    "from plotly import tools;\n",
    "import plotly.graph_objs as go;\n",
    "from ipywidgets import widgets;\n",
    "from ipywidgets import interact;\n",
    "import warnings\n",
    "warnings.filterwarnings('ignore')\n",
    "py.init_notebook_mode(connected= True)"
   ]
  },
  {
   "cell_type": "code",
   "execution_count": 19,
   "id": "8d0a8598",
   "metadata": {},
   "outputs": [
    {
     "name": "stderr",
     "output_type": "stream",
     "text": [
      "C:\\Users\\mmissene\\Anaconda3\\lib\\site-packages\\plotly\\graph_objs\\_deprecations.py:378: DeprecationWarning:\n",
      "\n",
      "plotly.graph_objs.Line is deprecated.\n",
      "Please replace it with one of the following more specific types\n",
      "  - plotly.graph_objs.scatter.Line\n",
      "  - plotly.graph_objs.layout.shape.Line\n",
      "  - etc.\n",
      "\n",
      "\n"
     ]
    },
    {
     "data": {
      "application/vnd.plotly.v1+json": {
       "config": {
        "plotlyServerURL": "https://plot.ly"
       },
       "data": [
        {
         "name": "Power",
         "type": "scatter",
         "x": [
          "2022-06-07T20:47:44.244684",
          "2022-06-07T20:47:45.248650",
          "2022-06-07T20:47:46.251581",
          "2022-06-07T20:47:47.254675",
          "2022-06-07T20:47:48.254259",
          "2022-06-07T20:47:49.257778",
          "2022-06-07T20:47:50.260909",
          "2022-06-07T20:47:51.264635",
          "2022-06-07T20:47:52.264215",
          "2022-06-07T20:47:53.266888",
          "2022-06-07T20:47:54.270862",
          "2022-06-07T20:47:55.269744",
          "2022-06-07T20:47:56.273165",
          "2022-06-07T20:47:57.277572",
          "2022-06-07T20:47:58.280101",
          "2022-06-07T20:47:59.279715",
          "2022-06-07T20:48:00.282837",
          "2022-06-07T20:48:01.286391",
          "2022-06-07T20:48:02.289705",
          "2022-06-07T20:48:03.293134",
          "2022-06-07T20:48:04.292780",
          "2022-06-07T20:48:05.296360",
          "2022-06-07T20:48:06.300109",
          "2022-06-07T20:48:07.302716",
          "2022-06-07T20:48:08.303028",
          "2022-06-07T20:48:09.305623",
          "2022-06-07T20:48:10.310127",
          "2022-06-07T20:48:11.308172",
          "2022-06-07T20:48:12.312076",
          "2022-06-07T20:48:13.315209",
          "2022-06-07T20:48:14.319211",
          "2022-06-07T20:48:15.318182",
          "2022-06-07T20:48:16.321662",
          "2022-06-07T20:48:17.325148",
          "2022-06-07T20:48:18.328701",
          "2022-06-07T20:48:19.327931",
          "2022-06-07T20:48:20.331463",
          "2022-06-07T20:48:21.334874",
          "2022-06-07T20:48:22.338072",
          "2022-06-07T20:48:23.338022",
          "2022-06-07T20:48:24.341324",
          "2022-06-07T20:48:25.344092",
          "2022-06-07T20:48:26.343019",
          "2022-06-07T20:48:27.347310",
          "2022-06-07T20:48:28.350291",
          "2022-06-07T20:48:29.354267",
          "2022-06-07T20:48:30.353629",
          "2022-06-07T20:48:31.356544",
          "2022-06-07T20:48:32.359831",
          "2022-06-07T20:48:33.360049",
          "2022-06-07T20:48:34.363989",
          "2022-06-07T20:48:35.366191",
          "2022-06-07T20:48:36.366006",
          "2022-06-07T20:48:37.369444",
          "2022-06-07T20:48:38.372171",
          "2022-06-07T20:48:39.376107",
          "2022-06-07T20:48:40.375682",
          "2022-06-07T20:48:41.379108",
          "2022-06-07T20:48:42.381970",
          "2022-06-07T20:48:43.381678",
          "2022-06-07T20:48:44.384773",
          "2022-06-07T20:48:45.388658",
          "2022-06-07T20:48:46.387973",
          "2022-06-07T20:48:47.391768",
          "2022-06-07T20:48:48.395328",
          "2022-06-07T20:48:49.397588",
          "2022-06-07T20:48:50.397917",
          "2022-06-07T20:48:51.400688",
          "2022-06-07T20:48:52.404989",
          "2022-06-07T20:48:53.403747",
          "2022-06-07T20:48:54.407121",
          "2022-06-07T20:48:55.410213",
          "2022-06-07T20:48:56.414178",
          "2022-06-07T20:48:57.413522",
          "2022-06-07T20:48:58.417183",
          "2022-06-07T20:48:59.420013",
          "2022-06-07T20:49:00.423586",
          "2022-06-07T20:49:01.422374",
          "2022-06-07T20:49:02.426205",
          "2022-06-07T20:49:03.429642",
          "2022-06-07T20:49:04.428997",
          "2022-06-07T20:49:05.432839",
          "2022-06-07T20:49:06.436898",
          "2022-06-07T20:49:07.439724",
          "2022-06-07T20:49:08.439407",
          "2022-06-07T20:49:09.442968",
          "2022-06-07T20:49:10.446180",
          "2022-06-07T20:49:11.445186",
          "2022-06-07T20:49:12.448852",
          "2022-06-07T20:49:13.452002",
          "2022-06-07T20:49:14.455492",
          "2022-06-07T20:49:15.454964",
          "2022-06-07T20:49:16.458169",
          "2022-06-07T20:49:17.462011",
          "2022-06-07T20:49:18.461530",
          "2022-06-07T20:49:19.464147",
          "2022-06-07T20:49:20.467826",
          "2022-06-07T20:49:21.470574",
          "2022-06-07T20:49:22.470441",
          "2022-06-07T20:49:23.474131",
          "2022-06-07T20:49:24.477436",
          "2022-06-07T20:49:25.477248",
          "2022-06-07T20:49:26.480711",
          "2022-06-07T20:49:27.484347",
          "2022-06-07T20:49:28.482836",
          "2022-06-07T20:49:29.486415",
          "2022-06-07T20:49:30.489779",
          "2022-06-07T20:49:31.493185",
          "2022-06-07T20:49:32.492934",
          "2022-06-07T20:49:33.495759",
          "2022-06-07T20:49:34.499327",
          "2022-06-07T20:49:35.498873",
          "2022-06-07T20:49:36.501992",
          "2022-06-07T20:49:37.505833",
          "2022-06-07T20:49:38.505127",
          "2022-06-07T20:49:39.508904",
          "2022-06-07T20:49:40.511760",
          "2022-06-07T20:49:41.510759",
          "2022-06-07T20:49:42.514161",
          "2022-06-07T20:49:43.517756",
          "2022-06-07T20:49:44.517446",
          "2022-06-07T20:49:45.520899",
          "2022-06-07T20:49:46.524313",
          "2022-06-07T20:49:47.528400",
          "2022-06-07T20:49:48.526355",
          "2022-06-07T20:49:49.530662",
          "2022-06-07T20:49:50.534119",
          "2022-06-07T20:49:51.533477",
          "2022-06-07T20:49:52.536996",
          "2022-06-07T20:49:53.539739",
          "2022-06-07T20:49:54.539971",
          "2022-06-07T20:49:55.542727",
          "2022-06-07T20:49:56.545937",
          "2022-06-07T20:49:57.546016",
          "2022-06-07T20:49:58.548946",
          "2022-06-07T20:49:59.552315",
          "2022-06-07T20:50:00.552169",
          "2022-06-07T20:50:01.555513",
          "2022-06-07T20:50:02.558273",
          "2022-06-07T20:50:03.558454",
          "2022-06-07T20:50:04.561658",
          "2022-06-07T20:50:05.565028",
          "2022-06-07T20:50:06.568026",
          "2022-06-07T20:50:07.567994",
          "2022-06-07T20:50:08.570899",
          "2022-06-07T20:50:09.574502",
          "2022-06-07T20:50:10.574171",
          "2022-06-07T20:50:11.578064",
          "2022-06-07T20:50:12.581190",
          "2022-06-07T20:50:13.579886",
          "2022-06-07T20:50:14.583703",
          "2022-06-07T20:50:15.587195",
          "2022-06-07T20:50:16.590505",
          "2022-06-07T20:50:17.589668",
          "2022-06-07T20:50:18.593572",
          "2022-06-07T20:50:19.597630",
          "2022-06-07T20:50:20.596248",
          "2022-06-07T20:50:21.600245",
          "2022-06-07T20:50:22.602420",
          "2022-06-07T20:50:23.605866",
          "2022-06-07T20:50:24.605645",
          "2022-06-07T20:50:25.608826",
          "2022-06-07T20:50:26.612516",
          "2022-06-07T20:50:27.612047",
          "2022-06-07T20:50:28.615697",
          "2022-06-07T20:50:29.619011",
          "2022-06-07T20:50:30.618592",
          "2022-06-07T20:50:31.621847",
          "2022-06-07T20:50:32.625238",
          "2022-06-07T20:50:33.628675",
          "2022-06-07T20:50:34.627814",
          "2022-06-07T20:50:35.631445",
          "2022-06-07T20:50:36.634002",
          "2022-06-07T20:50:37.634144",
          "2022-06-07T20:50:38.637373",
          "2022-06-07T20:50:39.640778",
          "2022-06-07T20:50:40.640189",
          "2022-06-07T20:50:41.643837",
          "2022-06-07T20:50:42.647045",
          "2022-06-07T20:50:43.650170",
          "2022-06-07T20:50:44.650025",
          "2022-06-07T20:50:45.653505",
          "2022-06-07T20:50:46.656987",
          "2022-06-07T20:50:47.656296",
          "2022-06-07T20:50:48.660026",
          "2022-06-07T20:50:49.662632",
          "2022-06-07T20:50:50.665695",
          "2022-06-07T20:50:51.665735",
          "2022-06-07T20:50:52.669047",
          "2022-06-07T20:50:53.672367",
          "2022-06-07T20:50:54.672104",
          "2022-06-07T20:50:55.675595",
          "2022-06-07T20:50:56.678536",
          "2022-06-07T20:50:57.677698",
          "2022-06-07T20:50:58.681877",
          "2022-06-07T20:50:59.685140",
          "2022-06-07T20:51:00.688524",
          "2022-06-07T20:51:01.688241",
          "2022-06-07T20:51:02.691544",
          "2022-06-07T20:51:03.694888",
          "2022-06-07T20:51:04.694687",
          "2022-06-07T20:51:05.698057",
          "2022-06-07T20:51:06.701161",
          "2022-06-07T20:51:07.704277",
          "2022-06-07T20:51:08.703908",
          "2022-06-07T20:51:09.707276",
          "2022-06-07T20:51:10.710889",
          "2022-06-07T20:51:11.710068",
          "2022-06-07T20:51:12.713903",
          "2022-06-07T20:51:13.717522",
          "2022-06-07T20:51:14.720204",
          "2022-06-07T20:51:15.719818",
          "2022-06-07T20:51:16.723313",
          "2022-06-07T20:51:17.726591",
          "2022-06-07T20:51:18.726023",
          "2022-06-07T20:51:19.729470",
          "2022-06-07T20:51:20.732965",
          "2022-06-07T20:51:21.732406",
          "2022-06-07T20:51:22.734827",
          "2022-06-07T20:51:23.738835",
          "2022-06-07T20:51:24.737518",
          "2022-06-07T20:51:25.741341",
          "2022-06-07T20:51:26.740842"
         ],
         "y": [
          48.75,
          49.23,
          49.77,
          47.84,
          46.9,
          416.31,
          1509.8,
          1507.76,
          1504.37,
          1498.15,
          1497.22,
          1490.63,
          1481.97,
          1480.49,
          1477.61,
          1478.55,
          1472.24,
          1474.28,
          1468.91,
          1469.79,
          1464.18,
          1464.44,
          1459.7,
          1461.32,
          1465.47,
          1466.56,
          1464.97,
          1462.71,
          1463.51,
          1464.93,
          1468.41,
          1464.1,
          1467.94,
          1468.92,
          1470.34,
          1467.43,
          1469.4,
          1469.74,
          1468.36,
          1466.58,
          1472.99,
          1475.08,
          1471.41,
          1467.16,
          1468.6,
          1468.85,
          1468.56,
          1471.21,
          1469.26,
          1471.25,
          1474.37,
          1469.92,
          1471.79,
          1469.78,
          1468.26,
          1468.57,
          1469.07,
          1468.97,
          1466.27,
          1466.11,
          1472.91,
          1470.72,
          1470.23,
          1467.13,
          1465.78,
          1470.42,
          1468.72,
          1467.74,
          1472.29,
          1475.69,
          1473.87,
          1469.55,
          1466.02,
          1471.27,
          1466.84,
          1467.52,
          1464.17,
          1463.26,
          1465.89,
          1467.05,
          1468.57,
          1471.54,
          1467.33,
          1460.87,
          1465.63,
          1466.7,
          1468.11,
          1470.58,
          1472.06,
          1471.8,
          1465.06,
          1473.88,
          1472.73,
          1474.96,
          1473.01,
          1473.69,
          1471.49,
          1472.46,
          1472.51,
          1475.33,
          1472.39,
          1473.95,
          1470.8,
          1474.48,
          1472.68,
          1470.05,
          1472.15,
          1473.51,
          1473.19,
          1471.36,
          1469.64,
          1476.62,
          1471.81,
          1473.89,
          1470.48,
          1473.48,
          1466.04,
          1475.02,
          1472.34,
          1469.33,
          1469.11,
          1467.22,
          1467.48,
          1475.35,
          1473.03,
          1467.98,
          1473.68,
          1468.01,
          1471.5,
          1469.02,
          1469.96,
          1469.16,
          1476.88,
          1472.88,
          1474.75,
          1472.63,
          1474.24,
          1472.1,
          1473.65,
          1477.37,
          1476.25,
          1470.78,
          1473.24,
          1476.86,
          1478.01,
          1471.78,
          1472.58,
          1479.91,
          1474.07,
          1469.91,
          1472.84,
          1471.91,
          1473.13,
          1476.35,
          1471.42,
          1475.88,
          1474.13,
          1474.31,
          1472.23,
          1472.67,
          1473.81,
          1476.59,
          1475.29,
          1473.59,
          1468.95,
          1472.06,
          1474.19,
          1473.07,
          1474.05,
          1474.13,
          1473.9,
          1474.28,
          1475.72,
          1476.16,
          1477.07,
          1475.84,
          1481.34,
          1478.52,
          1482.49,
          1478.48,
          1484.54,
          1477.44,
          1477.69,
          1475.39,
          1482.77,
          1479.75,
          1480.28,
          1477.49,
          1479.34,
          1482.02,
          1479.06,
          1478.33,
          1480.36,
          1478.68,
          1478.49,
          1482.76,
          1479.7,
          1480.5,
          1478.09,
          1478.31,
          1478.08,
          1479.24,
          1477.12,
          1476.74,
          1474.19,
          1476.64,
          1476.58,
          1475.83,
          1475.84,
          1478.47,
          1478.44,
          1477.31,
          1477.45,
          1475.54,
          1476.07,
          1475.66,
          1477.09,
          1048.18,
          51.05,
          49.72,
          48.42,
          49.63,
          49.19
         ]
        }
       ],
       "layout": {
        "template": {
         "data": {
          "bar": [
           {
            "error_x": {
             "color": "#2a3f5f"
            },
            "error_y": {
             "color": "#2a3f5f"
            },
            "marker": {
             "line": {
              "color": "#E5ECF6",
              "width": 0.5
             },
             "pattern": {
              "fillmode": "overlay",
              "size": 10,
              "solidity": 0.2
             }
            },
            "type": "bar"
           }
          ],
          "barpolar": [
           {
            "marker": {
             "line": {
              "color": "#E5ECF6",
              "width": 0.5
             },
             "pattern": {
              "fillmode": "overlay",
              "size": 10,
              "solidity": 0.2
             }
            },
            "type": "barpolar"
           }
          ],
          "carpet": [
           {
            "aaxis": {
             "endlinecolor": "#2a3f5f",
             "gridcolor": "white",
             "linecolor": "white",
             "minorgridcolor": "white",
             "startlinecolor": "#2a3f5f"
            },
            "baxis": {
             "endlinecolor": "#2a3f5f",
             "gridcolor": "white",
             "linecolor": "white",
             "minorgridcolor": "white",
             "startlinecolor": "#2a3f5f"
            },
            "type": "carpet"
           }
          ],
          "choropleth": [
           {
            "colorbar": {
             "outlinewidth": 0,
             "ticks": ""
            },
            "type": "choropleth"
           }
          ],
          "contour": [
           {
            "colorbar": {
             "outlinewidth": 0,
             "ticks": ""
            },
            "colorscale": [
             [
              0,
              "#0d0887"
             ],
             [
              0.1111111111111111,
              "#46039f"
             ],
             [
              0.2222222222222222,
              "#7201a8"
             ],
             [
              0.3333333333333333,
              "#9c179e"
             ],
             [
              0.4444444444444444,
              "#bd3786"
             ],
             [
              0.5555555555555556,
              "#d8576b"
             ],
             [
              0.6666666666666666,
              "#ed7953"
             ],
             [
              0.7777777777777778,
              "#fb9f3a"
             ],
             [
              0.8888888888888888,
              "#fdca26"
             ],
             [
              1,
              "#f0f921"
             ]
            ],
            "type": "contour"
           }
          ],
          "contourcarpet": [
           {
            "colorbar": {
             "outlinewidth": 0,
             "ticks": ""
            },
            "type": "contourcarpet"
           }
          ],
          "heatmap": [
           {
            "colorbar": {
             "outlinewidth": 0,
             "ticks": ""
            },
            "colorscale": [
             [
              0,
              "#0d0887"
             ],
             [
              0.1111111111111111,
              "#46039f"
             ],
             [
              0.2222222222222222,
              "#7201a8"
             ],
             [
              0.3333333333333333,
              "#9c179e"
             ],
             [
              0.4444444444444444,
              "#bd3786"
             ],
             [
              0.5555555555555556,
              "#d8576b"
             ],
             [
              0.6666666666666666,
              "#ed7953"
             ],
             [
              0.7777777777777778,
              "#fb9f3a"
             ],
             [
              0.8888888888888888,
              "#fdca26"
             ],
             [
              1,
              "#f0f921"
             ]
            ],
            "type": "heatmap"
           }
          ],
          "heatmapgl": [
           {
            "colorbar": {
             "outlinewidth": 0,
             "ticks": ""
            },
            "colorscale": [
             [
              0,
              "#0d0887"
             ],
             [
              0.1111111111111111,
              "#46039f"
             ],
             [
              0.2222222222222222,
              "#7201a8"
             ],
             [
              0.3333333333333333,
              "#9c179e"
             ],
             [
              0.4444444444444444,
              "#bd3786"
             ],
             [
              0.5555555555555556,
              "#d8576b"
             ],
             [
              0.6666666666666666,
              "#ed7953"
             ],
             [
              0.7777777777777778,
              "#fb9f3a"
             ],
             [
              0.8888888888888888,
              "#fdca26"
             ],
             [
              1,
              "#f0f921"
             ]
            ],
            "type": "heatmapgl"
           }
          ],
          "histogram": [
           {
            "marker": {
             "pattern": {
              "fillmode": "overlay",
              "size": 10,
              "solidity": 0.2
             }
            },
            "type": "histogram"
           }
          ],
          "histogram2d": [
           {
            "colorbar": {
             "outlinewidth": 0,
             "ticks": ""
            },
            "colorscale": [
             [
              0,
              "#0d0887"
             ],
             [
              0.1111111111111111,
              "#46039f"
             ],
             [
              0.2222222222222222,
              "#7201a8"
             ],
             [
              0.3333333333333333,
              "#9c179e"
             ],
             [
              0.4444444444444444,
              "#bd3786"
             ],
             [
              0.5555555555555556,
              "#d8576b"
             ],
             [
              0.6666666666666666,
              "#ed7953"
             ],
             [
              0.7777777777777778,
              "#fb9f3a"
             ],
             [
              0.8888888888888888,
              "#fdca26"
             ],
             [
              1,
              "#f0f921"
             ]
            ],
            "type": "histogram2d"
           }
          ],
          "histogram2dcontour": [
           {
            "colorbar": {
             "outlinewidth": 0,
             "ticks": ""
            },
            "colorscale": [
             [
              0,
              "#0d0887"
             ],
             [
              0.1111111111111111,
              "#46039f"
             ],
             [
              0.2222222222222222,
              "#7201a8"
             ],
             [
              0.3333333333333333,
              "#9c179e"
             ],
             [
              0.4444444444444444,
              "#bd3786"
             ],
             [
              0.5555555555555556,
              "#d8576b"
             ],
             [
              0.6666666666666666,
              "#ed7953"
             ],
             [
              0.7777777777777778,
              "#fb9f3a"
             ],
             [
              0.8888888888888888,
              "#fdca26"
             ],
             [
              1,
              "#f0f921"
             ]
            ],
            "type": "histogram2dcontour"
           }
          ],
          "mesh3d": [
           {
            "colorbar": {
             "outlinewidth": 0,
             "ticks": ""
            },
            "type": "mesh3d"
           }
          ],
          "parcoords": [
           {
            "line": {
             "colorbar": {
              "outlinewidth": 0,
              "ticks": ""
             }
            },
            "type": "parcoords"
           }
          ],
          "pie": [
           {
            "automargin": true,
            "type": "pie"
           }
          ],
          "scatter": [
           {
            "fillpattern": {
             "fillmode": "overlay",
             "size": 10,
             "solidity": 0.2
            },
            "type": "scatter"
           }
          ],
          "scatter3d": [
           {
            "line": {
             "colorbar": {
              "outlinewidth": 0,
              "ticks": ""
             }
            },
            "marker": {
             "colorbar": {
              "outlinewidth": 0,
              "ticks": ""
             }
            },
            "type": "scatter3d"
           }
          ],
          "scattercarpet": [
           {
            "marker": {
             "colorbar": {
              "outlinewidth": 0,
              "ticks": ""
             }
            },
            "type": "scattercarpet"
           }
          ],
          "scattergeo": [
           {
            "marker": {
             "colorbar": {
              "outlinewidth": 0,
              "ticks": ""
             }
            },
            "type": "scattergeo"
           }
          ],
          "scattergl": [
           {
            "marker": {
             "colorbar": {
              "outlinewidth": 0,
              "ticks": ""
             }
            },
            "type": "scattergl"
           }
          ],
          "scattermapbox": [
           {
            "marker": {
             "colorbar": {
              "outlinewidth": 0,
              "ticks": ""
             }
            },
            "type": "scattermapbox"
           }
          ],
          "scatterpolar": [
           {
            "marker": {
             "colorbar": {
              "outlinewidth": 0,
              "ticks": ""
             }
            },
            "type": "scatterpolar"
           }
          ],
          "scatterpolargl": [
           {
            "marker": {
             "colorbar": {
              "outlinewidth": 0,
              "ticks": ""
             }
            },
            "type": "scatterpolargl"
           }
          ],
          "scatterternary": [
           {
            "marker": {
             "colorbar": {
              "outlinewidth": 0,
              "ticks": ""
             }
            },
            "type": "scatterternary"
           }
          ],
          "surface": [
           {
            "colorbar": {
             "outlinewidth": 0,
             "ticks": ""
            },
            "colorscale": [
             [
              0,
              "#0d0887"
             ],
             [
              0.1111111111111111,
              "#46039f"
             ],
             [
              0.2222222222222222,
              "#7201a8"
             ],
             [
              0.3333333333333333,
              "#9c179e"
             ],
             [
              0.4444444444444444,
              "#bd3786"
             ],
             [
              0.5555555555555556,
              "#d8576b"
             ],
             [
              0.6666666666666666,
              "#ed7953"
             ],
             [
              0.7777777777777778,
              "#fb9f3a"
             ],
             [
              0.8888888888888888,
              "#fdca26"
             ],
             [
              1,
              "#f0f921"
             ]
            ],
            "type": "surface"
           }
          ],
          "table": [
           {
            "cells": {
             "fill": {
              "color": "#EBF0F8"
             },
             "line": {
              "color": "white"
             }
            },
            "header": {
             "fill": {
              "color": "#C8D4E3"
             },
             "line": {
              "color": "white"
             }
            },
            "type": "table"
           }
          ]
         },
         "layout": {
          "annotationdefaults": {
           "arrowcolor": "#2a3f5f",
           "arrowhead": 0,
           "arrowwidth": 1
          },
          "autotypenumbers": "strict",
          "coloraxis": {
           "colorbar": {
            "outlinewidth": 0,
            "ticks": ""
           }
          },
          "colorscale": {
           "diverging": [
            [
             0,
             "#8e0152"
            ],
            [
             0.1,
             "#c51b7d"
            ],
            [
             0.2,
             "#de77ae"
            ],
            [
             0.3,
             "#f1b6da"
            ],
            [
             0.4,
             "#fde0ef"
            ],
            [
             0.5,
             "#f7f7f7"
            ],
            [
             0.6,
             "#e6f5d0"
            ],
            [
             0.7,
             "#b8e186"
            ],
            [
             0.8,
             "#7fbc41"
            ],
            [
             0.9,
             "#4d9221"
            ],
            [
             1,
             "#276419"
            ]
           ],
           "sequential": [
            [
             0,
             "#0d0887"
            ],
            [
             0.1111111111111111,
             "#46039f"
            ],
            [
             0.2222222222222222,
             "#7201a8"
            ],
            [
             0.3333333333333333,
             "#9c179e"
            ],
            [
             0.4444444444444444,
             "#bd3786"
            ],
            [
             0.5555555555555556,
             "#d8576b"
            ],
            [
             0.6666666666666666,
             "#ed7953"
            ],
            [
             0.7777777777777778,
             "#fb9f3a"
            ],
            [
             0.8888888888888888,
             "#fdca26"
            ],
            [
             1,
             "#f0f921"
            ]
           ],
           "sequentialminus": [
            [
             0,
             "#0d0887"
            ],
            [
             0.1111111111111111,
             "#46039f"
            ],
            [
             0.2222222222222222,
             "#7201a8"
            ],
            [
             0.3333333333333333,
             "#9c179e"
            ],
            [
             0.4444444444444444,
             "#bd3786"
            ],
            [
             0.5555555555555556,
             "#d8576b"
            ],
            [
             0.6666666666666666,
             "#ed7953"
            ],
            [
             0.7777777777777778,
             "#fb9f3a"
            ],
            [
             0.8888888888888888,
             "#fdca26"
            ],
            [
             1,
             "#f0f921"
            ]
           ]
          },
          "colorway": [
           "#636efa",
           "#EF553B",
           "#00cc96",
           "#ab63fa",
           "#FFA15A",
           "#19d3f3",
           "#FF6692",
           "#B6E880",
           "#FF97FF",
           "#FECB52"
          ],
          "font": {
           "color": "#2a3f5f"
          },
          "geo": {
           "bgcolor": "white",
           "lakecolor": "white",
           "landcolor": "#E5ECF6",
           "showlakes": true,
           "showland": true,
           "subunitcolor": "white"
          },
          "hoverlabel": {
           "align": "left"
          },
          "hovermode": "closest",
          "mapbox": {
           "style": "light"
          },
          "paper_bgcolor": "white",
          "plot_bgcolor": "#E5ECF6",
          "polar": {
           "angularaxis": {
            "gridcolor": "white",
            "linecolor": "white",
            "ticks": ""
           },
           "bgcolor": "#E5ECF6",
           "radialaxis": {
            "gridcolor": "white",
            "linecolor": "white",
            "ticks": ""
           }
          },
          "scene": {
           "xaxis": {
            "backgroundcolor": "#E5ECF6",
            "gridcolor": "white",
            "gridwidth": 2,
            "linecolor": "white",
            "showbackground": true,
            "ticks": "",
            "zerolinecolor": "white"
           },
           "yaxis": {
            "backgroundcolor": "#E5ECF6",
            "gridcolor": "white",
            "gridwidth": 2,
            "linecolor": "white",
            "showbackground": true,
            "ticks": "",
            "zerolinecolor": "white"
           },
           "zaxis": {
            "backgroundcolor": "#E5ECF6",
            "gridcolor": "white",
            "gridwidth": 2,
            "linecolor": "white",
            "showbackground": true,
            "ticks": "",
            "zerolinecolor": "white"
           }
          },
          "shapedefaults": {
           "line": {
            "color": "#2a3f5f"
           }
          },
          "ternary": {
           "aaxis": {
            "gridcolor": "white",
            "linecolor": "white",
            "ticks": ""
           },
           "baxis": {
            "gridcolor": "white",
            "linecolor": "white",
            "ticks": ""
           },
           "bgcolor": "#E5ECF6",
           "caxis": {
            "gridcolor": "white",
            "linecolor": "white",
            "ticks": ""
           }
          },
          "title": {
           "x": 0.05
          },
          "xaxis": {
           "automargin": true,
           "gridcolor": "white",
           "linecolor": "white",
           "ticks": "",
           "title": {
            "standoff": 15
           },
           "zerolinecolor": "white",
           "zerolinewidth": 2
          },
          "yaxis": {
           "automargin": true,
           "gridcolor": "white",
           "linecolor": "white",
           "ticks": "",
           "title": {
            "standoff": 15
           },
           "zerolinecolor": "white",
           "zerolinewidth": 2
          }
         }
        },
        "title": {
         "text": "Potencia RMS Hervidor Eléctrico: 20h;AguaFría;700ml"
        },
        "xaxis": {
         "title": {
          "text": "Hora"
         }
        },
        "yaxis": {
         "title": {
          "text": "Potencia [W]"
         }
        }
       }
      },
      "text/html": [
       "<div>                            <div id=\"24f390dc-a3b9-48a4-bd2e-0e8aa80a7921\" class=\"plotly-graph-div\" style=\"height:525px; width:100%;\"></div>            <script type=\"text/javascript\">                require([\"plotly\"], function(Plotly) {                    window.PLOTLYENV=window.PLOTLYENV || {};                                    if (document.getElementById(\"24f390dc-a3b9-48a4-bd2e-0e8aa80a7921\")) {                    Plotly.newPlot(                        \"24f390dc-a3b9-48a4-bd2e-0e8aa80a7921\",                        [{\"name\":\"Power\",\"x\":[\"2022-06-07T20:47:44.244684\",\"2022-06-07T20:47:45.248650\",\"2022-06-07T20:47:46.251581\",\"2022-06-07T20:47:47.254675\",\"2022-06-07T20:47:48.254259\",\"2022-06-07T20:47:49.257778\",\"2022-06-07T20:47:50.260909\",\"2022-06-07T20:47:51.264635\",\"2022-06-07T20:47:52.264215\",\"2022-06-07T20:47:53.266888\",\"2022-06-07T20:47:54.270862\",\"2022-06-07T20:47:55.269744\",\"2022-06-07T20:47:56.273165\",\"2022-06-07T20:47:57.277572\",\"2022-06-07T20:47:58.280101\",\"2022-06-07T20:47:59.279715\",\"2022-06-07T20:48:00.282837\",\"2022-06-07T20:48:01.286391\",\"2022-06-07T20:48:02.289705\",\"2022-06-07T20:48:03.293134\",\"2022-06-07T20:48:04.292780\",\"2022-06-07T20:48:05.296360\",\"2022-06-07T20:48:06.300109\",\"2022-06-07T20:48:07.302716\",\"2022-06-07T20:48:08.303028\",\"2022-06-07T20:48:09.305623\",\"2022-06-07T20:48:10.310127\",\"2022-06-07T20:48:11.308172\",\"2022-06-07T20:48:12.312076\",\"2022-06-07T20:48:13.315209\",\"2022-06-07T20:48:14.319211\",\"2022-06-07T20:48:15.318182\",\"2022-06-07T20:48:16.321662\",\"2022-06-07T20:48:17.325148\",\"2022-06-07T20:48:18.328701\",\"2022-06-07T20:48:19.327931\",\"2022-06-07T20:48:20.331463\",\"2022-06-07T20:48:21.334874\",\"2022-06-07T20:48:22.338072\",\"2022-06-07T20:48:23.338022\",\"2022-06-07T20:48:24.341324\",\"2022-06-07T20:48:25.344092\",\"2022-06-07T20:48:26.343019\",\"2022-06-07T20:48:27.347310\",\"2022-06-07T20:48:28.350291\",\"2022-06-07T20:48:29.354267\",\"2022-06-07T20:48:30.353629\",\"2022-06-07T20:48:31.356544\",\"2022-06-07T20:48:32.359831\",\"2022-06-07T20:48:33.360049\",\"2022-06-07T20:48:34.363989\",\"2022-06-07T20:48:35.366191\",\"2022-06-07T20:48:36.366006\",\"2022-06-07T20:48:37.369444\",\"2022-06-07T20:48:38.372171\",\"2022-06-07T20:48:39.376107\",\"2022-06-07T20:48:40.375682\",\"2022-06-07T20:48:41.379108\",\"2022-06-07T20:48:42.381970\",\"2022-06-07T20:48:43.381678\",\"2022-06-07T20:48:44.384773\",\"2022-06-07T20:48:45.388658\",\"2022-06-07T20:48:46.387973\",\"2022-06-07T20:48:47.391768\",\"2022-06-07T20:48:48.395328\",\"2022-06-07T20:48:49.397588\",\"2022-06-07T20:48:50.397917\",\"2022-06-07T20:48:51.400688\",\"2022-06-07T20:48:52.404989\",\"2022-06-07T20:48:53.403747\",\"2022-06-07T20:48:54.407121\",\"2022-06-07T20:48:55.410213\",\"2022-06-07T20:48:56.414178\",\"2022-06-07T20:48:57.413522\",\"2022-06-07T20:48:58.417183\",\"2022-06-07T20:48:59.420013\",\"2022-06-07T20:49:00.423586\",\"2022-06-07T20:49:01.422374\",\"2022-06-07T20:49:02.426205\",\"2022-06-07T20:49:03.429642\",\"2022-06-07T20:49:04.428997\",\"2022-06-07T20:49:05.432839\",\"2022-06-07T20:49:06.436898\",\"2022-06-07T20:49:07.439724\",\"2022-06-07T20:49:08.439407\",\"2022-06-07T20:49:09.442968\",\"2022-06-07T20:49:10.446180\",\"2022-06-07T20:49:11.445186\",\"2022-06-07T20:49:12.448852\",\"2022-06-07T20:49:13.452002\",\"2022-06-07T20:49:14.455492\",\"2022-06-07T20:49:15.454964\",\"2022-06-07T20:49:16.458169\",\"2022-06-07T20:49:17.462011\",\"2022-06-07T20:49:18.461530\",\"2022-06-07T20:49:19.464147\",\"2022-06-07T20:49:20.467826\",\"2022-06-07T20:49:21.470574\",\"2022-06-07T20:49:22.470441\",\"2022-06-07T20:49:23.474131\",\"2022-06-07T20:49:24.477436\",\"2022-06-07T20:49:25.477248\",\"2022-06-07T20:49:26.480711\",\"2022-06-07T20:49:27.484347\",\"2022-06-07T20:49:28.482836\",\"2022-06-07T20:49:29.486415\",\"2022-06-07T20:49:30.489779\",\"2022-06-07T20:49:31.493185\",\"2022-06-07T20:49:32.492934\",\"2022-06-07T20:49:33.495759\",\"2022-06-07T20:49:34.499327\",\"2022-06-07T20:49:35.498873\",\"2022-06-07T20:49:36.501992\",\"2022-06-07T20:49:37.505833\",\"2022-06-07T20:49:38.505127\",\"2022-06-07T20:49:39.508904\",\"2022-06-07T20:49:40.511760\",\"2022-06-07T20:49:41.510759\",\"2022-06-07T20:49:42.514161\",\"2022-06-07T20:49:43.517756\",\"2022-06-07T20:49:44.517446\",\"2022-06-07T20:49:45.520899\",\"2022-06-07T20:49:46.524313\",\"2022-06-07T20:49:47.528400\",\"2022-06-07T20:49:48.526355\",\"2022-06-07T20:49:49.530662\",\"2022-06-07T20:49:50.534119\",\"2022-06-07T20:49:51.533477\",\"2022-06-07T20:49:52.536996\",\"2022-06-07T20:49:53.539739\",\"2022-06-07T20:49:54.539971\",\"2022-06-07T20:49:55.542727\",\"2022-06-07T20:49:56.545937\",\"2022-06-07T20:49:57.546016\",\"2022-06-07T20:49:58.548946\",\"2022-06-07T20:49:59.552315\",\"2022-06-07T20:50:00.552169\",\"2022-06-07T20:50:01.555513\",\"2022-06-07T20:50:02.558273\",\"2022-06-07T20:50:03.558454\",\"2022-06-07T20:50:04.561658\",\"2022-06-07T20:50:05.565028\",\"2022-06-07T20:50:06.568026\",\"2022-06-07T20:50:07.567994\",\"2022-06-07T20:50:08.570899\",\"2022-06-07T20:50:09.574502\",\"2022-06-07T20:50:10.574171\",\"2022-06-07T20:50:11.578064\",\"2022-06-07T20:50:12.581190\",\"2022-06-07T20:50:13.579886\",\"2022-06-07T20:50:14.583703\",\"2022-06-07T20:50:15.587195\",\"2022-06-07T20:50:16.590505\",\"2022-06-07T20:50:17.589668\",\"2022-06-07T20:50:18.593572\",\"2022-06-07T20:50:19.597630\",\"2022-06-07T20:50:20.596248\",\"2022-06-07T20:50:21.600245\",\"2022-06-07T20:50:22.602420\",\"2022-06-07T20:50:23.605866\",\"2022-06-07T20:50:24.605645\",\"2022-06-07T20:50:25.608826\",\"2022-06-07T20:50:26.612516\",\"2022-06-07T20:50:27.612047\",\"2022-06-07T20:50:28.615697\",\"2022-06-07T20:50:29.619011\",\"2022-06-07T20:50:30.618592\",\"2022-06-07T20:50:31.621847\",\"2022-06-07T20:50:32.625238\",\"2022-06-07T20:50:33.628675\",\"2022-06-07T20:50:34.627814\",\"2022-06-07T20:50:35.631445\",\"2022-06-07T20:50:36.634002\",\"2022-06-07T20:50:37.634144\",\"2022-06-07T20:50:38.637373\",\"2022-06-07T20:50:39.640778\",\"2022-06-07T20:50:40.640189\",\"2022-06-07T20:50:41.643837\",\"2022-06-07T20:50:42.647045\",\"2022-06-07T20:50:43.650170\",\"2022-06-07T20:50:44.650025\",\"2022-06-07T20:50:45.653505\",\"2022-06-07T20:50:46.656987\",\"2022-06-07T20:50:47.656296\",\"2022-06-07T20:50:48.660026\",\"2022-06-07T20:50:49.662632\",\"2022-06-07T20:50:50.665695\",\"2022-06-07T20:50:51.665735\",\"2022-06-07T20:50:52.669047\",\"2022-06-07T20:50:53.672367\",\"2022-06-07T20:50:54.672104\",\"2022-06-07T20:50:55.675595\",\"2022-06-07T20:50:56.678536\",\"2022-06-07T20:50:57.677698\",\"2022-06-07T20:50:58.681877\",\"2022-06-07T20:50:59.685140\",\"2022-06-07T20:51:00.688524\",\"2022-06-07T20:51:01.688241\",\"2022-06-07T20:51:02.691544\",\"2022-06-07T20:51:03.694888\",\"2022-06-07T20:51:04.694687\",\"2022-06-07T20:51:05.698057\",\"2022-06-07T20:51:06.701161\",\"2022-06-07T20:51:07.704277\",\"2022-06-07T20:51:08.703908\",\"2022-06-07T20:51:09.707276\",\"2022-06-07T20:51:10.710889\",\"2022-06-07T20:51:11.710068\",\"2022-06-07T20:51:12.713903\",\"2022-06-07T20:51:13.717522\",\"2022-06-07T20:51:14.720204\",\"2022-06-07T20:51:15.719818\",\"2022-06-07T20:51:16.723313\",\"2022-06-07T20:51:17.726591\",\"2022-06-07T20:51:18.726023\",\"2022-06-07T20:51:19.729470\",\"2022-06-07T20:51:20.732965\",\"2022-06-07T20:51:21.732406\",\"2022-06-07T20:51:22.734827\",\"2022-06-07T20:51:23.738835\",\"2022-06-07T20:51:24.737518\",\"2022-06-07T20:51:25.741341\",\"2022-06-07T20:51:26.740842\"],\"y\":[48.75,49.23,49.77,47.84,46.9,416.31,1509.8,1507.76,1504.37,1498.15,1497.22,1490.63,1481.97,1480.49,1477.61,1478.55,1472.24,1474.28,1468.91,1469.79,1464.18,1464.44,1459.7,1461.32,1465.47,1466.56,1464.97,1462.71,1463.51,1464.93,1468.41,1464.1,1467.94,1468.92,1470.34,1467.43,1469.4,1469.74,1468.36,1466.58,1472.99,1475.08,1471.41,1467.16,1468.6,1468.85,1468.56,1471.21,1469.26,1471.25,1474.37,1469.92,1471.79,1469.78,1468.26,1468.57,1469.07,1468.97,1466.27,1466.11,1472.91,1470.72,1470.23,1467.13,1465.78,1470.42,1468.72,1467.74,1472.29,1475.69,1473.87,1469.55,1466.02,1471.27,1466.84,1467.52,1464.17,1463.26,1465.89,1467.05,1468.57,1471.54,1467.33,1460.87,1465.63,1466.7,1468.11,1470.58,1472.06,1471.8,1465.06,1473.88,1472.73,1474.96,1473.01,1473.69,1471.49,1472.46,1472.51,1475.33,1472.39,1473.95,1470.8,1474.48,1472.68,1470.05,1472.15,1473.51,1473.19,1471.36,1469.64,1476.62,1471.81,1473.89,1470.48,1473.48,1466.04,1475.02,1472.34,1469.33,1469.11,1467.22,1467.48,1475.35,1473.03,1467.98,1473.68,1468.01,1471.5,1469.02,1469.96,1469.16,1476.88,1472.88,1474.75,1472.63,1474.24,1472.1,1473.65,1477.37,1476.25,1470.78,1473.24,1476.86,1478.01,1471.78,1472.58,1479.91,1474.07,1469.91,1472.84,1471.91,1473.13,1476.35,1471.42,1475.88,1474.13,1474.31,1472.23,1472.67,1473.81,1476.59,1475.29,1473.59,1468.95,1472.06,1474.19,1473.07,1474.05,1474.13,1473.9,1474.28,1475.72,1476.16,1477.07,1475.84,1481.34,1478.52,1482.49,1478.48,1484.54,1477.44,1477.69,1475.39,1482.77,1479.75,1480.28,1477.49,1479.34,1482.02,1479.06,1478.33,1480.36,1478.68,1478.49,1482.76,1479.7,1480.5,1478.09,1478.31,1478.08,1479.24,1477.12,1476.74,1474.19,1476.64,1476.58,1475.83,1475.84,1478.47,1478.44,1477.31,1477.45,1475.54,1476.07,1475.66,1477.09,1048.18,51.05,49.72,48.42,49.63,49.19],\"type\":\"scatter\"}],                        {\"title\":{\"text\":\"Potencia RMS Hervidor El\\u00e9ctrico: 20h;AguaFr\\u00eda;700ml\"},\"xaxis\":{\"title\":{\"text\":\"Hora\"}},\"yaxis\":{\"title\":{\"text\":\"Potencia [W]\"}},\"template\":{\"data\":{\"histogram2dcontour\":[{\"type\":\"histogram2dcontour\",\"colorbar\":{\"outlinewidth\":0,\"ticks\":\"\"},\"colorscale\":[[0.0,\"#0d0887\"],[0.1111111111111111,\"#46039f\"],[0.2222222222222222,\"#7201a8\"],[0.3333333333333333,\"#9c179e\"],[0.4444444444444444,\"#bd3786\"],[0.5555555555555556,\"#d8576b\"],[0.6666666666666666,\"#ed7953\"],[0.7777777777777778,\"#fb9f3a\"],[0.8888888888888888,\"#fdca26\"],[1.0,\"#f0f921\"]]}],\"choropleth\":[{\"type\":\"choropleth\",\"colorbar\":{\"outlinewidth\":0,\"ticks\":\"\"}}],\"histogram2d\":[{\"type\":\"histogram2d\",\"colorbar\":{\"outlinewidth\":0,\"ticks\":\"\"},\"colorscale\":[[0.0,\"#0d0887\"],[0.1111111111111111,\"#46039f\"],[0.2222222222222222,\"#7201a8\"],[0.3333333333333333,\"#9c179e\"],[0.4444444444444444,\"#bd3786\"],[0.5555555555555556,\"#d8576b\"],[0.6666666666666666,\"#ed7953\"],[0.7777777777777778,\"#fb9f3a\"],[0.8888888888888888,\"#fdca26\"],[1.0,\"#f0f921\"]]}],\"heatmap\":[{\"type\":\"heatmap\",\"colorbar\":{\"outlinewidth\":0,\"ticks\":\"\"},\"colorscale\":[[0.0,\"#0d0887\"],[0.1111111111111111,\"#46039f\"],[0.2222222222222222,\"#7201a8\"],[0.3333333333333333,\"#9c179e\"],[0.4444444444444444,\"#bd3786\"],[0.5555555555555556,\"#d8576b\"],[0.6666666666666666,\"#ed7953\"],[0.7777777777777778,\"#fb9f3a\"],[0.8888888888888888,\"#fdca26\"],[1.0,\"#f0f921\"]]}],\"heatmapgl\":[{\"type\":\"heatmapgl\",\"colorbar\":{\"outlinewidth\":0,\"ticks\":\"\"},\"colorscale\":[[0.0,\"#0d0887\"],[0.1111111111111111,\"#46039f\"],[0.2222222222222222,\"#7201a8\"],[0.3333333333333333,\"#9c179e\"],[0.4444444444444444,\"#bd3786\"],[0.5555555555555556,\"#d8576b\"],[0.6666666666666666,\"#ed7953\"],[0.7777777777777778,\"#fb9f3a\"],[0.8888888888888888,\"#fdca26\"],[1.0,\"#f0f921\"]]}],\"contourcarpet\":[{\"type\":\"contourcarpet\",\"colorbar\":{\"outlinewidth\":0,\"ticks\":\"\"}}],\"contour\":[{\"type\":\"contour\",\"colorbar\":{\"outlinewidth\":0,\"ticks\":\"\"},\"colorscale\":[[0.0,\"#0d0887\"],[0.1111111111111111,\"#46039f\"],[0.2222222222222222,\"#7201a8\"],[0.3333333333333333,\"#9c179e\"],[0.4444444444444444,\"#bd3786\"],[0.5555555555555556,\"#d8576b\"],[0.6666666666666666,\"#ed7953\"],[0.7777777777777778,\"#fb9f3a\"],[0.8888888888888888,\"#fdca26\"],[1.0,\"#f0f921\"]]}],\"surface\":[{\"type\":\"surface\",\"colorbar\":{\"outlinewidth\":0,\"ticks\":\"\"},\"colorscale\":[[0.0,\"#0d0887\"],[0.1111111111111111,\"#46039f\"],[0.2222222222222222,\"#7201a8\"],[0.3333333333333333,\"#9c179e\"],[0.4444444444444444,\"#bd3786\"],[0.5555555555555556,\"#d8576b\"],[0.6666666666666666,\"#ed7953\"],[0.7777777777777778,\"#fb9f3a\"],[0.8888888888888888,\"#fdca26\"],[1.0,\"#f0f921\"]]}],\"mesh3d\":[{\"type\":\"mesh3d\",\"colorbar\":{\"outlinewidth\":0,\"ticks\":\"\"}}],\"scatter\":[{\"fillpattern\":{\"fillmode\":\"overlay\",\"size\":10,\"solidity\":0.2},\"type\":\"scatter\"}],\"parcoords\":[{\"type\":\"parcoords\",\"line\":{\"colorbar\":{\"outlinewidth\":0,\"ticks\":\"\"}}}],\"scatterpolargl\":[{\"type\":\"scatterpolargl\",\"marker\":{\"colorbar\":{\"outlinewidth\":0,\"ticks\":\"\"}}}],\"bar\":[{\"error_x\":{\"color\":\"#2a3f5f\"},\"error_y\":{\"color\":\"#2a3f5f\"},\"marker\":{\"line\":{\"color\":\"#E5ECF6\",\"width\":0.5},\"pattern\":{\"fillmode\":\"overlay\",\"size\":10,\"solidity\":0.2}},\"type\":\"bar\"}],\"scattergeo\":[{\"type\":\"scattergeo\",\"marker\":{\"colorbar\":{\"outlinewidth\":0,\"ticks\":\"\"}}}],\"scatterpolar\":[{\"type\":\"scatterpolar\",\"marker\":{\"colorbar\":{\"outlinewidth\":0,\"ticks\":\"\"}}}],\"histogram\":[{\"marker\":{\"pattern\":{\"fillmode\":\"overlay\",\"size\":10,\"solidity\":0.2}},\"type\":\"histogram\"}],\"scattergl\":[{\"type\":\"scattergl\",\"marker\":{\"colorbar\":{\"outlinewidth\":0,\"ticks\":\"\"}}}],\"scatter3d\":[{\"type\":\"scatter3d\",\"line\":{\"colorbar\":{\"outlinewidth\":0,\"ticks\":\"\"}},\"marker\":{\"colorbar\":{\"outlinewidth\":0,\"ticks\":\"\"}}}],\"scattermapbox\":[{\"type\":\"scattermapbox\",\"marker\":{\"colorbar\":{\"outlinewidth\":0,\"ticks\":\"\"}}}],\"scatterternary\":[{\"type\":\"scatterternary\",\"marker\":{\"colorbar\":{\"outlinewidth\":0,\"ticks\":\"\"}}}],\"scattercarpet\":[{\"type\":\"scattercarpet\",\"marker\":{\"colorbar\":{\"outlinewidth\":0,\"ticks\":\"\"}}}],\"carpet\":[{\"aaxis\":{\"endlinecolor\":\"#2a3f5f\",\"gridcolor\":\"white\",\"linecolor\":\"white\",\"minorgridcolor\":\"white\",\"startlinecolor\":\"#2a3f5f\"},\"baxis\":{\"endlinecolor\":\"#2a3f5f\",\"gridcolor\":\"white\",\"linecolor\":\"white\",\"minorgridcolor\":\"white\",\"startlinecolor\":\"#2a3f5f\"},\"type\":\"carpet\"}],\"table\":[{\"cells\":{\"fill\":{\"color\":\"#EBF0F8\"},\"line\":{\"color\":\"white\"}},\"header\":{\"fill\":{\"color\":\"#C8D4E3\"},\"line\":{\"color\":\"white\"}},\"type\":\"table\"}],\"barpolar\":[{\"marker\":{\"line\":{\"color\":\"#E5ECF6\",\"width\":0.5},\"pattern\":{\"fillmode\":\"overlay\",\"size\":10,\"solidity\":0.2}},\"type\":\"barpolar\"}],\"pie\":[{\"automargin\":true,\"type\":\"pie\"}]},\"layout\":{\"autotypenumbers\":\"strict\",\"colorway\":[\"#636efa\",\"#EF553B\",\"#00cc96\",\"#ab63fa\",\"#FFA15A\",\"#19d3f3\",\"#FF6692\",\"#B6E880\",\"#FF97FF\",\"#FECB52\"],\"font\":{\"color\":\"#2a3f5f\"},\"hovermode\":\"closest\",\"hoverlabel\":{\"align\":\"left\"},\"paper_bgcolor\":\"white\",\"plot_bgcolor\":\"#E5ECF6\",\"polar\":{\"bgcolor\":\"#E5ECF6\",\"angularaxis\":{\"gridcolor\":\"white\",\"linecolor\":\"white\",\"ticks\":\"\"},\"radialaxis\":{\"gridcolor\":\"white\",\"linecolor\":\"white\",\"ticks\":\"\"}},\"ternary\":{\"bgcolor\":\"#E5ECF6\",\"aaxis\":{\"gridcolor\":\"white\",\"linecolor\":\"white\",\"ticks\":\"\"},\"baxis\":{\"gridcolor\":\"white\",\"linecolor\":\"white\",\"ticks\":\"\"},\"caxis\":{\"gridcolor\":\"white\",\"linecolor\":\"white\",\"ticks\":\"\"}},\"coloraxis\":{\"colorbar\":{\"outlinewidth\":0,\"ticks\":\"\"}},\"colorscale\":{\"sequential\":[[0.0,\"#0d0887\"],[0.1111111111111111,\"#46039f\"],[0.2222222222222222,\"#7201a8\"],[0.3333333333333333,\"#9c179e\"],[0.4444444444444444,\"#bd3786\"],[0.5555555555555556,\"#d8576b\"],[0.6666666666666666,\"#ed7953\"],[0.7777777777777778,\"#fb9f3a\"],[0.8888888888888888,\"#fdca26\"],[1.0,\"#f0f921\"]],\"sequentialminus\":[[0.0,\"#0d0887\"],[0.1111111111111111,\"#46039f\"],[0.2222222222222222,\"#7201a8\"],[0.3333333333333333,\"#9c179e\"],[0.4444444444444444,\"#bd3786\"],[0.5555555555555556,\"#d8576b\"],[0.6666666666666666,\"#ed7953\"],[0.7777777777777778,\"#fb9f3a\"],[0.8888888888888888,\"#fdca26\"],[1.0,\"#f0f921\"]],\"diverging\":[[0,\"#8e0152\"],[0.1,\"#c51b7d\"],[0.2,\"#de77ae\"],[0.3,\"#f1b6da\"],[0.4,\"#fde0ef\"],[0.5,\"#f7f7f7\"],[0.6,\"#e6f5d0\"],[0.7,\"#b8e186\"],[0.8,\"#7fbc41\"],[0.9,\"#4d9221\"],[1,\"#276419\"]]},\"xaxis\":{\"gridcolor\":\"white\",\"linecolor\":\"white\",\"ticks\":\"\",\"title\":{\"standoff\":15},\"zerolinecolor\":\"white\",\"automargin\":true,\"zerolinewidth\":2},\"yaxis\":{\"gridcolor\":\"white\",\"linecolor\":\"white\",\"ticks\":\"\",\"title\":{\"standoff\":15},\"zerolinecolor\":\"white\",\"automargin\":true,\"zerolinewidth\":2},\"scene\":{\"xaxis\":{\"backgroundcolor\":\"#E5ECF6\",\"gridcolor\":\"white\",\"linecolor\":\"white\",\"showbackground\":true,\"ticks\":\"\",\"zerolinecolor\":\"white\",\"gridwidth\":2},\"yaxis\":{\"backgroundcolor\":\"#E5ECF6\",\"gridcolor\":\"white\",\"linecolor\":\"white\",\"showbackground\":true,\"ticks\":\"\",\"zerolinecolor\":\"white\",\"gridwidth\":2},\"zaxis\":{\"backgroundcolor\":\"#E5ECF6\",\"gridcolor\":\"white\",\"linecolor\":\"white\",\"showbackground\":true,\"ticks\":\"\",\"zerolinecolor\":\"white\",\"gridwidth\":2}},\"shapedefaults\":{\"line\":{\"color\":\"#2a3f5f\"}},\"annotationdefaults\":{\"arrowcolor\":\"#2a3f5f\",\"arrowhead\":0,\"arrowwidth\":1},\"geo\":{\"bgcolor\":\"white\",\"landcolor\":\"#E5ECF6\",\"subunitcolor\":\"white\",\"showland\":true,\"showlakes\":true,\"lakecolor\":\"white\"},\"title\":{\"x\":0.05},\"mapbox\":{\"style\":\"light\"}}}},                        {\"responsive\": true}                    ).then(function(){\n",
       "                            \n",
       "var gd = document.getElementById('24f390dc-a3b9-48a4-bd2e-0e8aa80a7921');\n",
       "var x = new MutationObserver(function (mutations, observer) {{\n",
       "        var display = window.getComputedStyle(gd).display;\n",
       "        if (!display || display === 'none') {{\n",
       "            console.log([gd, 'removed!']);\n",
       "            Plotly.purge(gd);\n",
       "            observer.disconnect();\n",
       "        }}\n",
       "}});\n",
       "\n",
       "// Listen for the removal of the full notebook cells\n",
       "var notebookContainer = gd.closest('#notebook-container');\n",
       "if (notebookContainer) {{\n",
       "    x.observe(notebookContainer, {childList: true});\n",
       "}}\n",
       "\n",
       "// Listen for the clearing of the current output cell\n",
       "var outputEl = gd.closest('.output');\n",
       "if (outputEl) {{\n",
       "    x.observe(outputEl, {childList: true});\n",
       "}}\n",
       "\n",
       "                        })                };                });            </script>        </div>"
      ]
     },
     "metadata": {},
     "output_type": "display_data"
    }
   ],
   "source": [
    "fig = go.Figure(\n",
    "    data=[\n",
    "        go.Line(x=BD_carga['Fecha'][0:12*75],\n",
    "                y=BD_carga['Potencia'][0:12*75], name=\"Power\")\n",
    "    ],\n",
    "    layout=go.Layout(\n",
    "        title=dict(text='Potencia RMS Hervidor Eléctrico: 20h;AguaFría;700ml'),\n",
    "        xaxis=dict(title='Hora'),\n",
    "        yaxis=dict(title='Potencia [W]')\n",
    "    )\n",
    ")\n",
    "fig.show()\n",
    "        \n",
    "        "
   ]
  }
 ],
 "metadata": {
  "kernelspec": {
   "display_name": "Python 3 (ipykernel)",
   "language": "python",
   "name": "python3"
  },
  "language_info": {
   "codemirror_mode": {
    "name": "ipython",
    "version": 3
   },
   "file_extension": ".py",
   "mimetype": "text/x-python",
   "name": "python",
   "nbconvert_exporter": "python",
   "pygments_lexer": "ipython3",
   "version": "3.9.7"
  }
 },
 "nbformat": 4,
 "nbformat_minor": 5
}
